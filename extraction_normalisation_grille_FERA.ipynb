{
 "cells": [
  {
   "cell_type": "markdown",
   "id": "80a43f7d",
   "metadata": {},
   "source": [
    "## Import librairies"
   ]
  },
  {
   "cell_type": "code",
   "execution_count": 2,
   "id": "e8e7725e",
   "metadata": {},
   "outputs": [
    {
     "name": "stderr",
     "output_type": "stream",
     "text": [
      "/home/gcortal/anaconda3/envs/M2_syntactic_analysis/lib/python3.7/site-packages/tqdm/auto.py:22: TqdmWarning: IProgress not found. Please update jupyter and ipywidgets. See https://ipywidgets.readthedocs.io/en/stable/user_install.html\n",
      "  from .autonotebook import tqdm as notebook_tqdm\n"
     ]
    }
   ],
   "source": [
    "import spacy\n",
    "import spacy_transformers\n",
    "from spacy import displacy\n",
    "import fr_dep_news_trf\n",
    "nlp = fr_dep_news_trf.load()\n",
    "spacy.require_cpu() \n",
    "\n",
    "from docx.api import Document\n",
    "\n",
    "import pandas as pd\n",
    "import random\n",
    "import glob\n",
    "import subprocess\n",
    "import re\n",
    "import os\n",
    "import shutil\n",
    "import itertools\n",
    "from collections import Counter\n",
    "from pathlib import Path"
   ]
  },
  {
   "cell_type": "markdown",
   "id": "df9f39bb",
   "metadata": {},
   "source": [
    "## Functions"
   ]
  },
  {
   "cell_type": "code",
   "execution_count": 3,
   "id": "bcebdcf8",
   "metadata": {},
   "outputs": [],
   "source": [
    "def MAPA(text):\n",
    "    \"\"\"Disidentify a text using MAPA tool.\"\"\"\n",
    "    return text"
   ]
  },
  {
   "cell_type": "code",
   "execution_count": 4,
   "id": "d96fd029",
   "metadata": {},
   "outputs": [],
   "source": [
    "def tokenize(text):\n",
    "    \"\"\"Return a tokenized text.\"\"\"\n",
    "    doc = nlp(text)\n",
    "    return [token for token in doc]"
   ]
  },
  {
   "cell_type": "code",
   "execution_count": 5,
   "id": "fd5f2e89",
   "metadata": {},
   "outputs": [],
   "source": [
    "def doc_to_docx():\n",
    "    \"\"\"Convert from doc to docx extension.\"\"\"\n",
    "    for doc in glob.iglob(\"*.doc\"):\n",
    "        subprocess.call(['soffice', '--convert-to', 'docx', doc])"
   ]
  },
  {
   "cell_type": "code",
   "execution_count": 6,
   "id": "9dc3776a",
   "metadata": {},
   "outputs": [],
   "source": [
    "def fast_scandir(dirname):\n",
    "    \"\"\"Return subfolders of a directory (recursive).\"\"\"\n",
    "    subfolders= [f.path for f in os.scandir(dirname) if f.is_dir()]\n",
    "    for dirname in list(subfolders):\n",
    "        subfolders.extend(fast_scandir(dirname))\n",
    "    return subfolders"
   ]
  },
  {
   "cell_type": "code",
   "execution_count": 7,
   "id": "7656936d",
   "metadata": {},
   "outputs": [],
   "source": [
    "def deidentify(filename):\n",
    "    \"\"\"Disidentify a docx document.\"\"\"\n",
    "    document = Document(filename)\n",
    "    \n",
    "    for table in document.tables:\n",
    "        for row in table.rows:\n",
    "            for cell in row.cells:\n",
    "                for paragraph in cell.paragraphs:\n",
    "                    paragraph.text = MAPA(paragraph.text)\n",
    "\n",
    "    for paragraph in document.paragraphs:\n",
    "        paragraph.text = MAPA(paragraph.text)\n",
    "\n",
    "    for section in document.sections:\n",
    "        section.header.is_linked_to_previous = True\n",
    "        section.footer.is_linked_to_previous = True\n",
    "    \n",
    "    document.save(filename)"
   ]
  },
  {
   "cell_type": "code",
   "execution_count": 8,
   "id": "9c09e4dd",
   "metadata": {},
   "outputs": [],
   "source": [
    "def get_nb_paragraph(document):\n",
    "    \"\"\"Return number of paragraphs and text length.\"\"\"\n",
    "    try:\n",
    "        count = 0\n",
    "        text_length = 0\n",
    "        for p in document.paragraphs:\n",
    "            if len(p.text) != 0:\n",
    "                count = count + 1\n",
    "                text_length = text_length + len(p.text)\n",
    "                #print(p.text)\n",
    "        #print(count)\n",
    "        #print(text_length)\n",
    "    except:\n",
    "        return 0, 0\n",
    "    return count, text_length"
   ]
  },
  {
   "cell_type": "code",
   "execution_count": 9,
   "id": "656fbad1",
   "metadata": {},
   "outputs": [],
   "source": [
    "def table_to_df(document):\n",
    "    \"\"\"Convert the first table of a document to a DataFrame.\"\"\"\n",
    "    table = document.tables[0]\n",
    "\n",
    "    data = []\n",
    "\n",
    "    keys = None\n",
    "    for i, row in enumerate(table.rows):\n",
    "        text = (cell.text for cell in row.cells)\n",
    "\n",
    "        if i == 0:\n",
    "            keys = tuple(text)\n",
    "            continue\n",
    "        row_data = dict(zip(keys, text))\n",
    "        data.append(row_data)\n",
    "\n",
    "\n",
    "    return pd.DataFrame(data)"
   ]
  },
  {
   "cell_type": "code",
   "execution_count": 10,
   "id": "a06aa77c",
   "metadata": {},
   "outputs": [],
   "source": [
    "def get_stats(document):\n",
    "    \"\"\"Return number of paragraphs, tables, rows, columns, sections.\"\"\"\n",
    "    try:\n",
    "        nb_table = len(document.tables)\n",
    "        df = table_to_df(document)\n",
    "        nb_row = df.shape[0]\n",
    "        nb_col = df.shape[1]\n",
    "    except:\n",
    "        nb_table = 0\n",
    "        nb_row = 0\n",
    "        nb_col = 0\n",
    "    try:\n",
    "        nb_section = len(document.sections)\n",
    "    except:\n",
    "        nb_section = 0\n",
    "    nb_paragraph, text_length = get_nb_paragraph(document)\n",
    "    return [nb_table, nb_row, nb_col, nb_section, nb_paragraph]"
   ]
  },
  {
   "cell_type": "code",
   "execution_count": 11,
   "id": "94405d21",
   "metadata": {},
   "outputs": [],
   "source": [
    "def tokenize_document(document):\n",
    "    \"\"\"Return table and paragraph tokens.\"\"\"\n",
    "    table_tokens = list()\n",
    "    paragraph_tokens = list()\n",
    "\n",
    "    for table in document.tables:\n",
    "        for row in table.rows:\n",
    "            for cell in row.cells:\n",
    "                for paragraph in cell.paragraphs:\n",
    "                    table_tokens.append(tokenize(paragraph.text))\n",
    "\n",
    "    for paragraph in document.paragraphs:\n",
    "        paragraph_tokens.append(tokenize(paragraph.text))\n",
    "\n",
    "    return [table_tokens, paragraph_tokens]"
   ]
  },
  {
   "cell_type": "code",
   "execution_count": 12,
   "id": "0f4fd8a3",
   "metadata": {},
   "outputs": [],
   "source": [
    "def get_text(document):\n",
    "    \"\"\"Return text in the last column of document tables (corresponding to author answers).\"\"\"\n",
    "    sentence_l = list()\n",
    "    \n",
    "    try:\n",
    "\n",
    "    \n",
    "        for table in document.tables:\n",
    "            data = list()\n",
    "\n",
    "            keys = None\n",
    "            for i, row in enumerate(table.rows):\n",
    "                text = (cell.text for cell in row.cells)\n",
    "\n",
    "                if i == 0:\n",
    "                    keys = tuple(text)\n",
    "                    continue\n",
    "                row_data = dict(zip(keys, text))\n",
    "                data.append(row_data)\n",
    "\n",
    "            df = pd.DataFrame(data)\n",
    "\n",
    "            try:\n",
    "                sentence = df.iloc[: , -1]\n",
    "\n",
    "                sentence = df.columns[-1] + \" \" + \" \".join(list(df.iloc[: , -1]))\n",
    "                sentence = \" \".join(sentence.split())\n",
    "                sentence_l.append(sentence)\n",
    "            except:\n",
    "                sentence_l.append(\"\")\n",
    "    except:\n",
    "        return \"\"\n",
    "    \n",
    "    #return \" \".join(sentence_l)\n",
    "    return sentence_l"
   ]
  },
  {
   "cell_type": "markdown",
   "id": "ee40462e",
   "metadata": {},
   "source": [
    "## Extract and disidentify FERA grids"
   ]
  },
  {
   "cell_type": "code",
   "execution_count": null,
   "id": "afd1439c",
   "metadata": {},
   "outputs": [],
   "source": [
    "for folder in fast_scandir(\"/home/gcortal/Documents/M2/grille\"):\n",
    "    os.chdir(folder)\n",
    "    doc_to_docx()\n",
    "    \n",
    "i = 0\n",
    "for folder in fast_scandir(\"/home/gcortal/Documents/M2/grille\"):\n",
    "    os.chdir(folder)\n",
    "    for doc in glob.iglob(\"*.docx\"):\n",
    "        i = i + 1\n",
    "        shutil.move(doc, f\"/home/gcortal/Documents/M2/grille_processed/{i}.docx\")\n",
    "        \n",
    "for doc in glob.iglob(\"/home/gcortal/Documents/M2/grille_processed/*.docx\"):\n",
    "    print(doc)\n",
    "    try:\n",
    "        deidentify(doc)\n",
    "    except:\n",
    "        print(\"Format non supporté\")"
   ]
  },
  {
   "cell_type": "markdown",
   "id": "432b9e3a",
   "metadata": {},
   "source": [
    "## CELLS FOR TESTING"
   ]
  },
  {
   "cell_type": "code",
   "execution_count": 47,
   "id": "2deb9bff",
   "metadata": {},
   "outputs": [],
   "source": [
    "path = Path(f'/home/gcortal/Documents/M2/grille_processed/{random.randint(1,598)}.docx')\n",
    "document = Document(path)\n",
    "#document = Document('/home/gcortal/Documents/M2/grille_modele/2013/EMOTIONS-nouvelle-nov-2013.docx')\n",
    "table = document.tables[0]\n",
    "\n",
    "data = []\n",
    "\n",
    "keys = None\n",
    "for i, row in enumerate(table.rows):\n",
    "    text = (cell.text for cell in row.cells)\n",
    "\n",
    "    if i == 0:\n",
    "        keys = tuple(text)\n",
    "        continue\n",
    "    row_data = dict(zip(keys, text))\n",
    "    data.append(row_data)\n",
    "#print (data)\n",
    "\n",
    "\n",
    "df = pd.DataFrame(data)"
   ]
  },
  {
   "cell_type": "code",
   "execution_count": 48,
   "id": "ec3dc1ad",
   "metadata": {},
   "outputs": [
    {
     "data": {
      "text/html": [
       "<div>\n",
       "<style scoped>\n",
       "    .dataframe tbody tr th:only-of-type {\n",
       "        vertical-align: middle;\n",
       "    }\n",
       "\n",
       "    .dataframe tbody tr th {\n",
       "        vertical-align: top;\n",
       "    }\n",
       "\n",
       "    .dataframe thead th {\n",
       "        text-align: right;\n",
       "    }\n",
       "</style>\n",
       "<table border=\"1\" class=\"dataframe\">\n",
       "  <thead>\n",
       "    <tr style=\"text-align: right;\">\n",
       "      <th></th>\n",
       "      <th>FAITS</th>\n",
       "      <th>EXTÉRIEURS</th>\n",
       "      <th>\\nLe contexte : lieu, temps, personnes, situation, actions…</th>\n",
       "      <th>Je suis au cabinet, seul, nous sommes lundi et demain, je retourne à l’école pour donner cours après 15 jours de vacances scolaires.\\nJ’appréhende de me retrouver face au coordinateur clinique avec qui j’ai eu une altercation avant les vacances au sujet de mon retard de 20 min un samedi matin.</th>\n",
       "    </tr>\n",
       "  </thead>\n",
       "  <tbody>\n",
       "    <tr>\n",
       "      <th>0</th>\n",
       "      <td>FAITS</td>\n",
       "      <td>INTÉRIEURS</td>\n",
       "      <td>Mes ressentis physiques :\\nlocalisations et pr...</td>\n",
       "      <td>J’ai une sensation d’oppression dans le thorax...</td>\n",
       "    </tr>\n",
       "    <tr>\n",
       "      <th>1</th>\n",
       "      <td>FAITS</td>\n",
       "      <td>INTÉRIEURS</td>\n",
       "      <td>Le film de mes pensées :\\n images, sons, mots …</td>\n",
       "      <td>A chaque fois que je pense à cette situation e...</td>\n",
       "    </tr>\n",
       "    <tr>\n",
       "      <th>2</th>\n",
       "      <td></td>\n",
       "      <td>Vérification des faits</td>\n",
       "      <td>Contexte et ressentis \\nsont-ils exprimés fact...</td>\n",
       "      <td>Contexte : exprimé factuellement\\nRessentis : ...</td>\n",
       "    </tr>\n",
       "    <tr>\n",
       "      <th>3</th>\n",
       "      <td></td>\n",
       "      <td>Identification de l’émotion</td>\n",
       "      <td>Une ou plusieurs ?\\nLaquelle est traitée ici ?</td>\n",
       "      <td>Peur/ dégoût</td>\n",
       "    </tr>\n",
       "    <tr>\n",
       "      <th>4</th>\n",
       "      <td>RAISONS</td>\n",
       "      <td>colère/peur</td>\n",
       "      <td>Quel «territoire» attaqué?\\nPar qui/quoi ?</td>\n",
       "      <td>Le territoire attaqué est mon territoire de co...</td>\n",
       "    </tr>\n",
       "    <tr>\n",
       "      <th>5</th>\n",
       "      <td>RAISONS</td>\n",
       "      <td>Vérifications\\ncolère/peur</td>\n",
       "      <td>Le territoire est-il à moi ?\\nL’attaque est ex...</td>\n",
       "      <td>Il s’agit bien de mon territoire, l’attaque es...</td>\n",
       "    </tr>\n",
       "    <tr>\n",
       "      <th>6</th>\n",
       "      <td></td>\n",
       "      <td></td>\n",
       "      <td>Ce que m’apporte cette analyse au moment de l’...</td>\n",
       "      <td>Rien, car je suis dans l’attente et dans l’exp...</td>\n",
       "    </tr>\n",
       "    <tr>\n",
       "      <th>7</th>\n",
       "      <td>ACTIONS</td>\n",
       "      <td>INTÉRIEURES</td>\n",
       "      <td>Mes actions\\n intérieures \\n qui ont permis de...</td>\n",
       "      <td>L’émotion n’est pas diminuée dans le sens où i...</td>\n",
       "    </tr>\n",
       "    <tr>\n",
       "      <th>8</th>\n",
       "      <td>ACTIONS</td>\n",
       "      <td>EXTÉRIEURES</td>\n",
       "      <td>Mes actions\\nextérieures \\n qui ont permis de ...</td>\n",
       "      <td>Le seul moyen de stopper l’attaque est la fuit...</td>\n",
       "    </tr>\n",
       "  </tbody>\n",
       "</table>\n",
       "</div>"
      ],
      "text/plain": [
       "     FAITS                   EXTÉRIEURS  \\\n",
       "0    FAITS                   INTÉRIEURS   \n",
       "1    FAITS                   INTÉRIEURS   \n",
       "2               Vérification des faits    \n",
       "3           Identification de l’émotion   \n",
       "4  RAISONS                  colère/peur   \n",
       "5  RAISONS   Vérifications\\ncolère/peur   \n",
       "6                                         \n",
       "7  ACTIONS                  INTÉRIEURES   \n",
       "8  ACTIONS                  EXTÉRIEURES   \n",
       "\n",
       "  \\nLe contexte : lieu, temps, personnes, situation, actions…  \\\n",
       "0  Mes ressentis physiques :\\nlocalisations et pr...            \n",
       "1    Le film de mes pensées :\\n images, sons, mots …            \n",
       "2  Contexte et ressentis \\nsont-ils exprimés fact...            \n",
       "3     Une ou plusieurs ?\\nLaquelle est traitée ici ?            \n",
       "4         Quel «territoire» attaqué?\\nPar qui/quoi ?            \n",
       "5  Le territoire est-il à moi ?\\nL’attaque est ex...            \n",
       "6  Ce que m’apporte cette analyse au moment de l’...            \n",
       "7  Mes actions\\n intérieures \\n qui ont permis de...            \n",
       "8  Mes actions\\nextérieures \\n qui ont permis de ...            \n",
       "\n",
       "  Je suis au cabinet, seul, nous sommes lundi et demain, je retourne à l’école pour donner cours après 15 jours de vacances scolaires.\\nJ’appréhende de me retrouver face au coordinateur clinique avec qui j’ai eu une altercation avant les vacances au sujet de mon retard de 20 min un samedi matin.  \n",
       "0  J’ai une sensation d’oppression dans le thorax...                                                                                                                                                                                                                                                      \n",
       "1  A chaque fois que je pense à cette situation e...                                                                                                                                                                                                                                                      \n",
       "2  Contexte : exprimé factuellement\\nRessentis : ...                                                                                                                                                                                                                                                      \n",
       "3                                      Peur/ dégoût                                                                                                                                                                                                                                                       \n",
       "4  Le territoire attaqué est mon territoire de co...                                                                                                                                                                                                                                                      \n",
       "5  Il s’agit bien de mon territoire, l’attaque es...                                                                                                                                                                                                                                                      \n",
       "6  Rien, car je suis dans l’attente et dans l’exp...                                                                                                                                                                                                                                                      \n",
       "7  L’émotion n’est pas diminuée dans le sens où i...                                                                                                                                                                                                                                                      \n",
       "8  Le seul moyen de stopper l’attaque est la fuit...                                                                                                                                                                                                                                                      "
      ]
     },
     "execution_count": 48,
     "metadata": {},
     "output_type": "execute_result"
    }
   ],
   "source": [
    "df"
   ]
  },
  {
   "cell_type": "code",
   "execution_count": 52,
   "id": "4a6fcac7",
   "metadata": {
    "collapsed": true
   },
   "outputs": [
    {
     "name": "stdout",
     "output_type": "stream",
     "text": [
      "\\begin{tabular}{lll}\n",
      "\\toprule\n",
      "  FAITS &                  EXTÉRIEURS & \\textbackslash nLe contexte : lieu, temps, personnes, situation, actions… \\\\\n",
      "\\midrule\n",
      "  FAITS &                  INTÉRIEURS & Mes ressentis physiques :\\textbackslash nlocalisations et pré... \\\\\n",
      "  FAITS &                  INTÉRIEURS &    Le film de mes pensées :\\textbackslash n images, sons, mots … \\\\\n",
      "        &     Vérification des faits  & Contexte et ressentis \\textbackslash nsont-ils exprimés factu... \\\\\n",
      "        & Identification de l’émotion &     Une ou plusieurs ?\\textbackslash nLaquelle est traitée ici ? \\\\\n",
      "RAISONS &                 colère/peur &         Quel «territoire» attaqué?\\textbackslash nPar qui/quoi ? \\\\\n",
      "RAISONS &  Vérifications\\textbackslash ncolère/peur & Le territoire est-il à moi ?\\textbackslash nL’attaque est ext... \\\\\n",
      "        &                             & Ce que m’apporte cette analyse au moment de l’é... \\\\\n",
      "ACTIONS &                 INTÉRIEURES & Mes actions\\textbackslash n intérieures \\textbackslash n qui ont permis de ... \\\\\n",
      "ACTIONS &                 EXTÉRIEURES & Mes actions\\textbackslash nextérieures \\textbackslash n qui ont permis de s... \\\\\n",
      "\\bottomrule\n",
      "\\end{tabular}\n",
      "\n"
     ]
    }
   ],
   "source": [
    "#print(df.iloc[:, :-1].to_latex(index=False))  "
   ]
  },
  {
   "cell_type": "code",
   "execution_count": 53,
   "id": "832804de",
   "metadata": {
    "collapsed": true
   },
   "outputs": [
    {
     "name": "stdout",
     "output_type": "stream",
     "text": [
      "\\begin{tabular}{l}\n",
      "\\toprule\n",
      "Je suis au cabinet, seul, nous sommes lundi et demain, je retourne à l’école pour donner cours après 15 jours de vacances scolaires.\\textbackslash nJ’appréhende de me retrouver face au coordinateur clinique avec qui j’ai eu une altercation avant les vacances au sujet de mon retard de 20 min un samedi matin. \\\\\n",
      "\\midrule\n",
      "J’ai une sensation d’oppression dans le thorax,... \\\\\n",
      "A chaque fois que je pense à cette situation et... \\\\\n",
      "Contexte : exprimé factuellement\\textbackslash nRessentis : f... \\\\\n",
      "                                     Peur/ dégoût  \\\\\n",
      "Le territoire attaqué est mon territoire de con... \\\\\n",
      "Il s’agit bien de mon territoire, l’attaque est... \\\\\n",
      "Rien, car je suis dans l’attente et dans l’expe... \\\\\n",
      "L’émotion n’est pas diminuée dans le sens où il... \\\\\n",
      "Le seul moyen de stopper l’attaque est la fuite... \\\\\n",
      "\\bottomrule\n",
      "\\end{tabular}\n",
      "\n"
     ]
    }
   ],
   "source": [
    "#print(df.iloc[:, -1].to_latex(index=False))  "
   ]
  },
  {
   "cell_type": "code",
   "execution_count": 13,
   "id": "7d99d63c",
   "metadata": {},
   "outputs": [],
   "source": [
    "def get_category(text):\n",
    "    \n",
    "    text = re.sub(\"\\n\", \" \", text)\n",
    "    text = \" \".join(text.split())\n",
    "    \n",
    "    text_origin = text\n",
    "    \n",
    "    text = text.lower()\n",
    "\n",
    "    if re.search(r\"(^| )fait\", text) and not re.search(\"ACTION\", text_origin) and not re.search(\"vérification\", text) and not re.search(\"raison\", text):\n",
    "\n",
    "        if re.search(\"extérieur\", text):\n",
    "            \n",
    "            return \"fait extérieur\"\n",
    "\n",
    "        elif re.search(\"intérieur\", text):\n",
    "\n",
    "            if re.search(\"physique\", text) or re.search(\"(ressenti|ressens)\", text):\n",
    "                \n",
    "                return \"fait intérieur ressentis\"\n",
    "\n",
    "            elif re.search(r\"(^| )(pensée|pense)\", text):\n",
    "                \n",
    "                return \"fait intérieur pensées\"\n",
    "\n",
    "            else:\n",
    "                \n",
    "                return \"fait intérieur\"\n",
    "\n",
    "        else:\n",
    "            \n",
    "            #return \"fait\"\n",
    "            return get_category_flexible(text_origin)\n",
    "\n",
    "    elif re.search(\"raison\", text) and not re.search(r\"(^| )fait\", text) and not re.search(\"vérification\", text) and not re.search(r\"(^| )action\", text):\n",
    "\n",
    "        if re.search(\"identification\", text) and re.search(\"émotion\", text):\n",
    "            \n",
    "            return \"identification émotion\"\n",
    "        \n",
    "        elif re.search(\"territoire\", text):\n",
    "            \n",
    "            return \"territoire (colère/peur)\"\n",
    "\n",
    "        else:\n",
    "            \n",
    "            return \"territoire (tristesse/joie)\"\n",
    "\n",
    "    elif re.search(r\"(^| )action\", text) and not re.search(\"FAIT\", text_origin):\n",
    "\n",
    "        if re.search(\"extérieur\", text):\n",
    "            \n",
    "            return \"action extérieur\"\n",
    "\n",
    "        elif re.search(\"intérieur\", text):\n",
    "            \n",
    "            return \"action intérieur\"\n",
    "\n",
    "        elif re.search(\"test\", text):\n",
    "            \n",
    "            return \"action test\"\n",
    "\n",
    "        else:\n",
    "            \n",
    "            return \"action\"\n",
    "\n",
    "    elif re.search(\"vérification\", text):\n",
    "\n",
    "        if re.search(\"fait\", text):\n",
    "            \n",
    "            return \"vérification fait\"\n",
    "\n",
    "        elif re.search(\"(colère|tristesse|joie|peur)\", text):\n",
    "            \n",
    "            return \"vérification émotion\"\n",
    "            \n",
    "        else:\n",
    "            \n",
    "            return \"vérification\"\n",
    "            \n",
    "    else:\n",
    "        \n",
    "        return get_category_flexible(text_origin)\n",
    "        "
   ]
  },
  {
   "cell_type": "code",
   "execution_count": 14,
   "id": "6673b47d",
   "metadata": {},
   "outputs": [],
   "source": [
    "def get_category_flexible(text):\n",
    "    \n",
    "    text_origin = text\n",
    "    \n",
    "    text = text.lower()\n",
    "    \n",
    "\n",
    "    if re.search(\"identification\", text) and re.search(\"émotion\", text):\n",
    "        \n",
    "        return \"identification émotion\"\n",
    "        \n",
    "    elif re.search(\"physique\", text) or re.search(\"(ressenti|ressens)\", text):\n",
    "        \n",
    "        return \"fait intérieur ressentis\"\n",
    "\n",
    "    elif re.search(r\"(^| )(pensée|pense)\", text):\n",
    "        \n",
    "        return \"fait intérieur pensées\"\n",
    "    \n",
    "    elif re.search(r\"(^| )(factuel|contexte)\", text):\n",
    "        \n",
    "        return \"fait extérieur\"\n",
    "        \n",
    "    elif re.search(\"besoin\", text):\n",
    "        \n",
    "        return \"besoin\"\n",
    "        \n",
    "    elif re.search(\"si (colère|peur)\", text):\n",
    "        \n",
    "        return \"territoire (colère/peur)\"\n",
    "    \n",
    "    elif re.search(\"(si (tristesse|joie)|objet aimé)\", text):\n",
    "    \n",
    "        return \"territoire (tristesse/joie)\"\n",
    "        \n",
    "    elif re.search(\"territoire\", text):\n",
    "\n",
    "        return \"territoire\"\n",
    "    \n",
    "    elif text == \"\":\n",
    "        \n",
    "        return \"identification émotion\"\n",
    "    \n",
    "    elif re.search(\"lieu\", text) and re.search(\"temps\", text):\n",
    "        \n",
    "        return \"fait extérieur\"\n",
    "    \n",
    "    #En relisant les faits, l’autre voulait-il m’attaquer ou est-ce un interprétation ? \n",
    "    \n",
    "    elif re.search(\"interprétation\", text):\n",
    "        \n",
    "        return \"interprétation\"\n",
    "    \n",
    "    elif re.search(\"m’apporte\", text):\n",
    "        \n",
    "        return \"apport analyse\"\n",
    "    \n",
    "    elif re.search(\"repères mentaux\", text):\n",
    "        \n",
    "        return \"repères mentaux\"\n",
    "    \n",
    "    elif re.search(\"repères corporels\", text):\n",
    "        \n",
    "        return \"repères corporels\"\n",
    "\n",
    "    else:\n",
    "\n",
    "        return \"rien\"\n",
    "        "
   ]
  },
  {
   "cell_type": "code",
   "execution_count": 15,
   "id": "09717c59",
   "metadata": {},
   "outputs": [],
   "source": [
    "def extract_table(table):\n",
    "\n",
    "    data = []\n",
    "\n",
    "    keys = None\n",
    "    for i, row in enumerate(table.rows):\n",
    "        text = (cell.text for cell in row.cells)\n",
    "\n",
    "        if i == 0:\n",
    "            keys = tuple(text)\n",
    "            continue\n",
    "        row_data = dict(zip(keys, text))\n",
    "        data.append(row_data)\n",
    "\n",
    "\n",
    "    return pd.DataFrame(data)"
   ]
  },
  {
   "cell_type": "code",
   "execution_count": 16,
   "id": "921db8c1",
   "metadata": {},
   "outputs": [],
   "source": [
    "def normalize(df):\n",
    "    \n",
    "    ndata_l = list()\n",
    "\n",
    "    ndata_l.append([\" \".join(list(df.columns[:-1])), df.columns[-1:][0]])\n",
    "\n",
    "    for i in range(len(df)):\n",
    "        ndata_l.append([\" \".join(list(df.iloc[i, :-1])), df.iloc[i, -1]])\n",
    "        \n",
    "    return ndata_l , pd.DataFrame(ndata_l, columns=[\"category\", \"answers\"])"
   ]
  },
  {
   "cell_type": "code",
   "execution_count": 17,
   "id": "86739521",
   "metadata": {},
   "outputs": [],
   "source": [
    "def extract_label(data_l):\n",
    "    \n",
    "    category_l = list()\n",
    "\n",
    "    for text in data_l:\n",
    "        \n",
    "        category_l.append(get_category(text[0]))\n",
    "    \n",
    "    for i, data in enumerate(data_l):\n",
    "        data.append(category_l[i])\n",
    "    \n",
    "    return data_l, pd.DataFrame(data_l, columns=[\"category\", \"answers\", \"label\"])\n",
    "    "
   ]
  },
  {
   "cell_type": "code",
   "execution_count": 18,
   "id": "71410eee",
   "metadata": {},
   "outputs": [],
   "source": [
    "def categorize(path):\n",
    "\n",
    "    document = Document(path)\n",
    "    \n",
    "    df_total = pd.DataFrame(columns=[\"category\", \"answers\", \"label\"])\n",
    "    \n",
    "    for i, table in enumerate(document.tables):\n",
    "\n",
    "        df = extract_table(table)\n",
    "\n",
    "        ndata_l, df_normalized = normalize(df)\n",
    "        \n",
    "        ndata_l, df_label = extract_label(ndata_l)\n",
    "\n",
    "        df_label['grille'] = i + 1\n",
    "        df_total = df_total.append(df_label, ignore_index=True)\n",
    "\n",
    "    df_total['name'] = path.name\n",
    "    \n",
    "    return df_total"
   ]
  },
  {
   "cell_type": "code",
   "execution_count": 19,
   "id": "4a5f9119",
   "metadata": {},
   "outputs": [
    {
     "name": "stdout",
     "output_type": "stream",
     "text": [
      "/home/gcortal/Documents/M2/grille_processed/597.docx\n",
      "/home/gcortal/Documents/M2/grille_processed/526.docx\n",
      "/home/gcortal/Documents/M2/grille_processed/576.docx\n",
      "/home/gcortal/Documents/M2/grille_processed/561.docx\n",
      "/home/gcortal/Documents/M2/grille_processed/559.docx\n",
      "/home/gcortal/Documents/M2/grille_processed/193.docx\n",
      "/home/gcortal/Documents/M2/grille_processed/570.docx\n",
      "/home/gcortal/Documents/M2/grille_processed/587.docx\n",
      "/home/gcortal/Documents/M2/grille_processed/535.docx\n",
      "/home/gcortal/Documents/M2/grille_processed/35.docx\n",
      "/home/gcortal/Documents/M2/grille_processed/590.docx\n",
      "/home/gcortal/Documents/M2/grille_processed/555.docx\n",
      "/home/gcortal/Documents/M2/grille_processed/575.docx\n",
      "/home/gcortal/Documents/M2/grille_processed/549.docx\n",
      "/home/gcortal/Documents/M2/grille_processed/596.docx\n",
      "/home/gcortal/Documents/M2/grille_processed/545.docx\n",
      "/home/gcortal/Documents/M2/grille_processed/532.docx\n",
      "/home/gcortal/Documents/M2/grille_processed/592.docx\n",
      "/home/gcortal/Documents/M2/grille_processed/563.docx\n",
      "/home/gcortal/Documents/M2/grille_processed/529.docx\n",
      "/home/gcortal/Documents/M2/grille_processed/589.docx\n",
      "/home/gcortal/Documents/M2/grille_processed/582.docx\n",
      "/home/gcortal/Documents/M2/grille_processed/551.docx\n",
      "/home/gcortal/Documents/M2/grille_processed/546.docx\n"
     ]
    }
   ],
   "source": [
    "df_total = pd.DataFrame(columns=[\"category\", \"answers\", \"label\", \"grille\", \"name\"])\n",
    "docs = glob.iglob('/home/gcortal/Documents/M2/grille_processed/*.docx')\n",
    "for doc in docs:\n",
    "    path = Path(doc)\n",
    "    try:\n",
    "        df_doc = categorize(path)\n",
    "    \n",
    "        df_total = df_total.append(df_doc, ignore_index = True)\n",
    "    except:\n",
    "        print(doc)"
   ]
  },
  {
   "cell_type": "code",
   "execution_count": 20,
   "id": "3003fa1c",
   "metadata": {},
   "outputs": [
    {
     "data": {
      "text/html": [
       "<div>\n",
       "<style scoped>\n",
       "    .dataframe tbody tr th:only-of-type {\n",
       "        vertical-align: middle;\n",
       "    }\n",
       "\n",
       "    .dataframe tbody tr th {\n",
       "        vertical-align: top;\n",
       "    }\n",
       "\n",
       "    .dataframe thead th {\n",
       "        text-align: right;\n",
       "    }\n",
       "</style>\n",
       "<table border=\"1\" class=\"dataframe\">\n",
       "  <thead>\n",
       "    <tr style=\"text-align: right;\">\n",
       "      <th></th>\n",
       "      <th>category</th>\n",
       "      <th>answers</th>\n",
       "      <th>label</th>\n",
       "      <th>grille</th>\n",
       "      <th>name</th>\n",
       "    </tr>\n",
       "  </thead>\n",
       "  <tbody>\n",
       "    <tr>\n",
       "      <th>0</th>\n",
       "      <td>FAITS EXTÉRIEURS Le contexte : lieu, temps, pe...</td>\n",
       "      <td>Aéroport lors du passage de la sécurité, la pe...</td>\n",
       "      <td>fait extérieur</td>\n",
       "      <td>1.0</td>\n",
       "      <td>142.docx</td>\n",
       "    </tr>\n",
       "    <tr>\n",
       "      <th>1</th>\n",
       "      <td>FAITS INTÉRIEURS Mes ressentis physiques :\\nlo...</td>\n",
       "      <td>Serre les dents, les mains et temperature qui ...</td>\n",
       "      <td>fait intérieur ressentis</td>\n",
       "      <td>1.0</td>\n",
       "      <td>142.docx</td>\n",
       "    </tr>\n",
       "    <tr>\n",
       "      <th>2</th>\n",
       "      <td>FAITS INTÉRIEURS Le film de mes pensées :\\nima...</td>\n",
       "      <td>mots : Il est con ou il fait exprès (pensées a...</td>\n",
       "      <td>fait intérieur pensées</td>\n",
       "      <td>1.0</td>\n",
       "      <td>142.docx</td>\n",
       "    </tr>\n",
       "    <tr>\n",
       "      <th>3</th>\n",
       "      <td>RAISONS colère Quel «territoire» attaqué?\\n\\nP...</td>\n",
       "      <td>territoire attaqué : pensées  tes affaires\\npa...</td>\n",
       "      <td>territoire (colère/peur)</td>\n",
       "      <td>1.0</td>\n",
       "      <td>142.docx</td>\n",
       "    </tr>\n",
       "    <tr>\n",
       "      <th>4</th>\n",
       "      <td>RAISONS Vérifications\\ncolère Le territoire es...</td>\n",
       "      <td>le territoire est à moi et l’attaque ext.</td>\n",
       "      <td>vérification émotion</td>\n",
       "      <td>1.0</td>\n",
       "      <td>142.docx</td>\n",
       "    </tr>\n",
       "    <tr>\n",
       "      <th>...</th>\n",
       "      <td>...</td>\n",
       "      <td>...</td>\n",
       "      <td>...</td>\n",
       "      <td>...</td>\n",
       "      <td>...</td>\n",
       "    </tr>\n",
       "    <tr>\n",
       "      <th>11003</th>\n",
       "      <td>Identification de l’émotion Une ou plusieurs ...</td>\n",
       "      <td>la peur. Mais plusieurs peurs : une peur pour...</td>\n",
       "      <td>identification émotion</td>\n",
       "      <td>4.0</td>\n",
       "      <td>276.docx</td>\n",
       "    </tr>\n",
       "    <tr>\n",
       "      <th>11004</th>\n",
       "      <td>RAISONS Si colère/peur Quel «territoire» attaq...</td>\n",
       "      <td></td>\n",
       "      <td>territoire (colère/peur)</td>\n",
       "      <td>4.0</td>\n",
       "      <td>276.docx</td>\n",
       "    </tr>\n",
       "    <tr>\n",
       "      <th>11005</th>\n",
       "      <td>Vérifications\\ncolère/peur Le territoire est-...</td>\n",
       "      <td>Non, ce n’est pas mon corps qui est attaqué. C...</td>\n",
       "      <td>vérification émotion</td>\n",
       "      <td>4.0</td>\n",
       "      <td>276.docx</td>\n",
       "    </tr>\n",
       "    <tr>\n",
       "      <th>11006</th>\n",
       "      <td>ACTIONS INTÉRIEURES</td>\n",
       "      <td>\\nJe me persuade de convaincre d’autres client...</td>\n",
       "      <td>action intérieur</td>\n",
       "      <td>4.0</td>\n",
       "      <td>276.docx</td>\n",
       "    </tr>\n",
       "    <tr>\n",
       "      <th>11007</th>\n",
       "      <td>ACTIONS EXTÉRIEURES</td>\n",
       "      <td>J’appelle la police. Je dissipe le groupe qui ...</td>\n",
       "      <td>action extérieur</td>\n",
       "      <td>4.0</td>\n",
       "      <td>276.docx</td>\n",
       "    </tr>\n",
       "  </tbody>\n",
       "</table>\n",
       "<p>11008 rows × 5 columns</p>\n",
       "</div>"
      ],
      "text/plain": [
       "                                                category  \\\n",
       "0      FAITS EXTÉRIEURS Le contexte : lieu, temps, pe...   \n",
       "1      FAITS INTÉRIEURS Mes ressentis physiques :\\nlo...   \n",
       "2      FAITS INTÉRIEURS Le film de mes pensées :\\nima...   \n",
       "3      RAISONS colère Quel «territoire» attaqué?\\n\\nP...   \n",
       "4      RAISONS Vérifications\\ncolère Le territoire es...   \n",
       "...                                                  ...   \n",
       "11003   Identification de l’émotion Une ou plusieurs ...   \n",
       "11004  RAISONS Si colère/peur Quel «territoire» attaq...   \n",
       "11005   Vérifications\\ncolère/peur Le territoire est-...   \n",
       "11006                               ACTIONS INTÉRIEURES    \n",
       "11007                               ACTIONS EXTÉRIEURES    \n",
       "\n",
       "                                                 answers  \\\n",
       "0      Aéroport lors du passage de la sécurité, la pe...   \n",
       "1      Serre les dents, les mains et temperature qui ...   \n",
       "2      mots : Il est con ou il fait exprès (pensées a...   \n",
       "3      territoire attaqué : pensées  tes affaires\\npa...   \n",
       "4              le territoire est à moi et l’attaque ext.   \n",
       "...                                                  ...   \n",
       "11003   la peur. Mais plusieurs peurs : une peur pour...   \n",
       "11004                                                      \n",
       "11005  Non, ce n’est pas mon corps qui est attaqué. C...   \n",
       "11006  \\nJe me persuade de convaincre d’autres client...   \n",
       "11007  J’appelle la police. Je dissipe le groupe qui ...   \n",
       "\n",
       "                          label  grille      name  \n",
       "0                fait extérieur     1.0  142.docx  \n",
       "1      fait intérieur ressentis     1.0  142.docx  \n",
       "2        fait intérieur pensées     1.0  142.docx  \n",
       "3      territoire (colère/peur)     1.0  142.docx  \n",
       "4          vérification émotion     1.0  142.docx  \n",
       "...                         ...     ...       ...  \n",
       "11003    identification émotion     4.0  276.docx  \n",
       "11004  territoire (colère/peur)     4.0  276.docx  \n",
       "11005      vérification émotion     4.0  276.docx  \n",
       "11006          action intérieur     4.0  276.docx  \n",
       "11007          action extérieur     4.0  276.docx  \n",
       "\n",
       "[11008 rows x 5 columns]"
      ]
     },
     "execution_count": 20,
     "metadata": {},
     "output_type": "execute_result"
    }
   ],
   "source": [
    "df_total"
   ]
  },
  {
   "cell_type": "code",
   "execution_count": 86,
   "id": "6cbfdcd3",
   "metadata": {},
   "outputs": [
    {
     "data": {
      "text/html": [
       "<div>\n",
       "<style scoped>\n",
       "    .dataframe tbody tr th:only-of-type {\n",
       "        vertical-align: middle;\n",
       "    }\n",
       "\n",
       "    .dataframe tbody tr th {\n",
       "        vertical-align: top;\n",
       "    }\n",
       "\n",
       "    .dataframe thead th {\n",
       "        text-align: right;\n",
       "    }\n",
       "</style>\n",
       "<table border=\"1\" class=\"dataframe\">\n",
       "  <thead>\n",
       "    <tr style=\"text-align: right;\">\n",
       "      <th></th>\n",
       "      <th>category</th>\n",
       "      <th>answers</th>\n",
       "      <th>label</th>\n",
       "      <th>grille</th>\n",
       "      <th>name</th>\n",
       "    </tr>\n",
       "  </thead>\n",
       "  <tbody>\n",
       "    <tr>\n",
       "      <th>149</th>\n",
       "      <td>Ce que m’apporte cette analyse au moment de ...</td>\n",
       "      <td>Sans la grille FRA, j’aurais sans doute exprim...</td>\n",
       "      <td>apport analyse</td>\n",
       "      <td>1.0</td>\n",
       "      <td>297.docx</td>\n",
       "    </tr>\n",
       "    <tr>\n",
       "      <th>203</th>\n",
       "      <td>Ce que m’apporte cette analyse au moment de ...</td>\n",
       "      <td>En réalisant l’émotion qui me submerge, j’ai p...</td>\n",
       "      <td>apport analyse</td>\n",
       "      <td>1.0</td>\n",
       "      <td>249.docx</td>\n",
       "    </tr>\n",
       "    <tr>\n",
       "      <th>248</th>\n",
       "      <td>Ce que m’apporte, pendant l’émotion, cette rel...</td>\n",
       "      <td>Un sourire ! je me dis que je ne suis pas enco...</td>\n",
       "      <td>apport analyse</td>\n",
       "      <td>1.0</td>\n",
       "      <td>356.docx</td>\n",
       "    </tr>\n",
       "    <tr>\n",
       "      <th>257</th>\n",
       "      <td>Ce que m’apporte cette analyse au moment de ...</td>\n",
       "      <td>Cette analyse me permet de relativiser la situ...</td>\n",
       "      <td>apport analyse</td>\n",
       "      <td>1.0</td>\n",
       "      <td>124.docx</td>\n",
       "    </tr>\n",
       "    <tr>\n",
       "      <th>267</th>\n",
       "      <td>Ce que m’apporte cette analyse au moment de ...</td>\n",
       "      <td>Je fais cette analyse a posteriori car je n’ai...</td>\n",
       "      <td>apport analyse</td>\n",
       "      <td>2.0</td>\n",
       "      <td>124.docx</td>\n",
       "    </tr>\n",
       "    <tr>\n",
       "      <th>...</th>\n",
       "      <td>...</td>\n",
       "      <td>...</td>\n",
       "      <td>...</td>\n",
       "      <td>...</td>\n",
       "      <td>...</td>\n",
       "    </tr>\n",
       "    <tr>\n",
       "      <th>10852</th>\n",
       "      <td>Ce que m’apporte, pendant l’émotion, cette rel...</td>\n",
       "      <td>Je me suis calmée rapidement, soulagement.</td>\n",
       "      <td>apport analyse</td>\n",
       "      <td>1.0</td>\n",
       "      <td>361.docx</td>\n",
       "    </tr>\n",
       "    <tr>\n",
       "      <th>10876</th>\n",
       "      <td>Ce que m’apporte cette analyse au moment de ...</td>\n",
       "      <td></td>\n",
       "      <td>apport analyse</td>\n",
       "      <td>1.0</td>\n",
       "      <td>224.docx</td>\n",
       "    </tr>\n",
       "    <tr>\n",
       "      <th>10886</th>\n",
       "      <td>Ce que m’apporte cette analyse au moment de ...</td>\n",
       "      <td>Cette analyse m’a permis d’éviter une joute ve...</td>\n",
       "      <td>apport analyse</td>\n",
       "      <td>1.0</td>\n",
       "      <td>213.docx</td>\n",
       "    </tr>\n",
       "    <tr>\n",
       "      <th>10921</th>\n",
       "      <td>Ce que m’apporte cette analyse au moment de ...</td>\n",
       "      <td>J’ai très vite analysé ma colère, ce qui m’a é...</td>\n",
       "      <td>apport analyse</td>\n",
       "      <td>1.0</td>\n",
       "      <td>371.docx</td>\n",
       "    </tr>\n",
       "    <tr>\n",
       "      <th>10931</th>\n",
       "      <td>Ce que m’apporte cette analyse au moment de ...</td>\n",
       "      <td>Le fait d’analyser cette émotion m’a peut-être...</td>\n",
       "      <td>apport analyse</td>\n",
       "      <td>2.0</td>\n",
       "      <td>371.docx</td>\n",
       "    </tr>\n",
       "  </tbody>\n",
       "</table>\n",
       "<p>124 rows × 5 columns</p>\n",
       "</div>"
      ],
      "text/plain": [
       "                                                category  \\\n",
       "149      Ce que m’apporte cette analyse au moment de ...   \n",
       "203      Ce que m’apporte cette analyse au moment de ...   \n",
       "248    Ce que m’apporte, pendant l’émotion, cette rel...   \n",
       "257      Ce que m’apporte cette analyse au moment de ...   \n",
       "267      Ce que m’apporte cette analyse au moment de ...   \n",
       "...                                                  ...   \n",
       "10852  Ce que m’apporte, pendant l’émotion, cette rel...   \n",
       "10876    Ce que m’apporte cette analyse au moment de ...   \n",
       "10886    Ce que m’apporte cette analyse au moment de ...   \n",
       "10921    Ce que m’apporte cette analyse au moment de ...   \n",
       "10931    Ce que m’apporte cette analyse au moment de ...   \n",
       "\n",
       "                                                 answers           label  \\\n",
       "149    Sans la grille FRA, j’aurais sans doute exprim...  apport analyse   \n",
       "203    En réalisant l’émotion qui me submerge, j’ai p...  apport analyse   \n",
       "248    Un sourire ! je me dis que je ne suis pas enco...  apport analyse   \n",
       "257    Cette analyse me permet de relativiser la situ...  apport analyse   \n",
       "267    Je fais cette analyse a posteriori car je n’ai...  apport analyse   \n",
       "...                                                  ...             ...   \n",
       "10852         Je me suis calmée rapidement, soulagement.  apport analyse   \n",
       "10876                                                     apport analyse   \n",
       "10886  Cette analyse m’a permis d’éviter une joute ve...  apport analyse   \n",
       "10921  J’ai très vite analysé ma colère, ce qui m’a é...  apport analyse   \n",
       "10931  Le fait d’analyser cette émotion m’a peut-être...  apport analyse   \n",
       "\n",
       "       grille      name  \n",
       "149       1.0  297.docx  \n",
       "203       1.0  249.docx  \n",
       "248       1.0  356.docx  \n",
       "257       1.0  124.docx  \n",
       "267       2.0  124.docx  \n",
       "...       ...       ...  \n",
       "10852     1.0  361.docx  \n",
       "10876     1.0  224.docx  \n",
       "10886     1.0  213.docx  \n",
       "10921     1.0  371.docx  \n",
       "10931     2.0  371.docx  \n",
       "\n",
       "[124 rows x 5 columns]"
      ]
     },
     "execution_count": 86,
     "metadata": {},
     "output_type": "execute_result"
    }
   ],
   "source": [
    "df_total.query(\"label == 'apport analyse'\")"
   ]
  },
  {
   "cell_type": "code",
   "execution_count": 29,
   "id": "90c09783",
   "metadata": {},
   "outputs": [
    {
     "data": {
      "text/html": [
       "<div>\n",
       "<style scoped>\n",
       "    .dataframe tbody tr th:only-of-type {\n",
       "        vertical-align: middle;\n",
       "    }\n",
       "\n",
       "    .dataframe tbody tr th {\n",
       "        vertical-align: top;\n",
       "    }\n",
       "\n",
       "    .dataframe thead th {\n",
       "        text-align: right;\n",
       "    }\n",
       "</style>\n",
       "<table border=\"1\" class=\"dataframe\">\n",
       "  <thead>\n",
       "    <tr style=\"text-align: right;\">\n",
       "      <th></th>\n",
       "      <th>category</th>\n",
       "      <th>answers</th>\n",
       "      <th>label</th>\n",
       "      <th>grille</th>\n",
       "      <th>name</th>\n",
       "    </tr>\n",
       "  </thead>\n",
       "  <tbody>\n",
       "    <tr>\n",
       "      <th>41</th>\n",
       "      <td></td>\n",
       "      <td>Colère</td>\n",
       "      <td>identification émotion</td>\n",
       "      <td>1.0</td>\n",
       "      <td>168.docx</td>\n",
       "    </tr>\n",
       "    <tr>\n",
       "      <th>50</th>\n",
       "      <td></td>\n",
       "      <td>Peur</td>\n",
       "      <td>identification émotion</td>\n",
       "      <td>2.0</td>\n",
       "      <td>168.docx</td>\n",
       "    </tr>\n",
       "    <tr>\n",
       "      <th>224</th>\n",
       "      <td></td>\n",
       "      <td>Colère</td>\n",
       "      <td>identification émotion</td>\n",
       "      <td>1.0</td>\n",
       "      <td>91.docx</td>\n",
       "    </tr>\n",
       "    <tr>\n",
       "      <th>233</th>\n",
       "      <td></td>\n",
       "      <td>Peur</td>\n",
       "      <td>identification émotion</td>\n",
       "      <td>2.0</td>\n",
       "      <td>91.docx</td>\n",
       "    </tr>\n",
       "    <tr>\n",
       "      <th>241</th>\n",
       "      <td></td>\n",
       "      <td>Emotion (colère)</td>\n",
       "      <td>identification émotion</td>\n",
       "      <td>1.0</td>\n",
       "      <td>356.docx</td>\n",
       "    </tr>\n",
       "    <tr>\n",
       "      <th>...</th>\n",
       "      <td>...</td>\n",
       "      <td>...</td>\n",
       "      <td>...</td>\n",
       "      <td>...</td>\n",
       "      <td>...</td>\n",
       "    </tr>\n",
       "    <tr>\n",
       "      <th>10758</th>\n",
       "      <td></td>\n",
       "      <td>Colère</td>\n",
       "      <td>identification émotion</td>\n",
       "      <td>1.0</td>\n",
       "      <td>77.docx</td>\n",
       "    </tr>\n",
       "    <tr>\n",
       "      <th>10767</th>\n",
       "      <td></td>\n",
       "      <td>Peur</td>\n",
       "      <td>identification émotion</td>\n",
       "      <td>2.0</td>\n",
       "      <td>77.docx</td>\n",
       "    </tr>\n",
       "    <tr>\n",
       "      <th>10845</th>\n",
       "      <td></td>\n",
       "      <td>Emotion (colère)</td>\n",
       "      <td>identification émotion</td>\n",
       "      <td>1.0</td>\n",
       "      <td>361.docx</td>\n",
       "    </tr>\n",
       "    <tr>\n",
       "      <th>10934</th>\n",
       "      <td></td>\n",
       "      <td>Colère</td>\n",
       "      <td>identification émotion</td>\n",
       "      <td>1.0</td>\n",
       "      <td>147.docx</td>\n",
       "    </tr>\n",
       "    <tr>\n",
       "      <th>10943</th>\n",
       "      <td></td>\n",
       "      <td>Peur</td>\n",
       "      <td>identification émotion</td>\n",
       "      <td>2.0</td>\n",
       "      <td>147.docx</td>\n",
       "    </tr>\n",
       "  </tbody>\n",
       "</table>\n",
       "<p>252 rows × 5 columns</p>\n",
       "</div>"
      ],
      "text/plain": [
       "      category           answers                   label  grille      name\n",
       "41                       Colère   identification émotion     1.0  168.docx\n",
       "50                         Peur   identification émotion     2.0  168.docx\n",
       "224                      Colère   identification émotion     1.0   91.docx\n",
       "233                        Peur   identification émotion     2.0   91.docx\n",
       "241             Emotion (colère)  identification émotion     1.0  356.docx\n",
       "...        ...               ...                     ...     ...       ...\n",
       "10758                    Colère   identification émotion     1.0   77.docx\n",
       "10767                      Peur   identification émotion     2.0   77.docx\n",
       "10845           Emotion (colère)  identification émotion     1.0  361.docx\n",
       "10934                    Colère   identification émotion     1.0  147.docx\n",
       "10943                      Peur   identification émotion     2.0  147.docx\n",
       "\n",
       "[252 rows x 5 columns]"
      ]
     },
     "execution_count": 29,
     "metadata": {},
     "output_type": "execute_result"
    }
   ],
   "source": [
    "df_total.query(\"category == ''\")"
   ]
  },
  {
   "cell_type": "code",
   "execution_count": 21,
   "id": "250bfc82",
   "metadata": {},
   "outputs": [
    {
     "data": {
      "text/html": [
       "<div>\n",
       "<style scoped>\n",
       "    .dataframe tbody tr th:only-of-type {\n",
       "        vertical-align: middle;\n",
       "    }\n",
       "\n",
       "    .dataframe tbody tr th {\n",
       "        vertical-align: top;\n",
       "    }\n",
       "\n",
       "    .dataframe thead th {\n",
       "        text-align: right;\n",
       "    }\n",
       "</style>\n",
       "<table border=\"1\" class=\"dataframe\">\n",
       "  <thead>\n",
       "    <tr style=\"text-align: right;\">\n",
       "      <th></th>\n",
       "      <th>category</th>\n",
       "      <th>answers</th>\n",
       "      <th>label</th>\n",
       "      <th>grille</th>\n",
       "      <th>name</th>\n",
       "    </tr>\n",
       "  </thead>\n",
       "  <tbody>\n",
       "    <tr>\n",
       "      <th>28</th>\n",
       "      <td>+ Etat final :</td>\n",
       "      <td>Mais moi je me dis alors que j'en ai fait trop...</td>\n",
       "      <td>rien</td>\n",
       "      <td>1.0</td>\n",
       "      <td>432.docx</td>\n",
       "    </tr>\n",
       "    <tr>\n",
       "      <th>746</th>\n",
       "      <td>L’objet dont je suis séparé ?\\nPar qui/quoi ?</td>\n",
       "      <td>Je suis séparé d’un bon repas (complet), par m...</td>\n",
       "      <td>rien</td>\n",
       "      <td>3.0</td>\n",
       "      <td>313.docx</td>\n",
       "    </tr>\n",
       "    <tr>\n",
       "      <th>994</th>\n",
       "      <td>FAITS  Mon commentaire</td>\n",
       "      <td>sans doute de façon trop peu discrète pour ell...</td>\n",
       "      <td>rien</td>\n",
       "      <td>1.0</td>\n",
       "      <td>498.docx</td>\n",
       "    </tr>\n",
       "    <tr>\n",
       "      <th>1353</th>\n",
       "      <td>AC\\nTIONS INTÉRIEURES</td>\n",
       "      <td>Cette case sera faite pendant le module 2</td>\n",
       "      <td>rien</td>\n",
       "      <td>1.0</td>\n",
       "      <td>519.docx</td>\n",
       "    </tr>\n",
       "    <tr>\n",
       "      <th>1355</th>\n",
       "      <td>AC\\nTIONS EXTÉRIEURES</td>\n",
       "      <td>Cette case sera faite pendant le module 2</td>\n",
       "      <td>rien</td>\n",
       "      <td>1.0</td>\n",
       "      <td>519.docx</td>\n",
       "    </tr>\n",
       "    <tr>\n",
       "      <th>...</th>\n",
       "      <td>...</td>\n",
       "      <td>...</td>\n",
       "      <td>...</td>\n",
       "      <td>...</td>\n",
       "      <td>...</td>\n",
       "    </tr>\n",
       "    <tr>\n",
       "      <th>9820</th>\n",
       "      <td>+ Etat final :</td>\n",
       "      <td>Mais moi je me dis alors que j'en ai fait trop...</td>\n",
       "      <td>rien</td>\n",
       "      <td>1.0</td>\n",
       "      <td>440.docx</td>\n",
       "    </tr>\n",
       "    <tr>\n",
       "      <th>10167</th>\n",
       "      <td>FAITS EXTÉRIEURS \\nAu travail, des clients son...</td>\n",
       "      <td>Tous pressés car le travail est en retard et l...</td>\n",
       "      <td>rien</td>\n",
       "      <td>1.0</td>\n",
       "      <td>136.docx</td>\n",
       "    </tr>\n",
       "    <tr>\n",
       "      <th>10380</th>\n",
       "      <td>FAITS  Mon commentaire</td>\n",
       "      <td>sans doute de façon trop peu discrète pour ell...</td>\n",
       "      <td>rien</td>\n",
       "      <td>1.0</td>\n",
       "      <td>509.docx</td>\n",
       "    </tr>\n",
       "    <tr>\n",
       "      <th>10432</th>\n",
       "      <td>EXTÉRIEURES Demande possible, …</td>\n",
       "      <td>La prochaine fois je prouverai que ma solution...</td>\n",
       "      <td>rien</td>\n",
       "      <td>1.0</td>\n",
       "      <td>150.docx</td>\n",
       "    </tr>\n",
       "    <tr>\n",
       "      <th>10902</th>\n",
       "      <td>FAITS</td>\n",
       "      <td>pour le reste. Ok pour Nicolas sur mon heure. ...</td>\n",
       "      <td>rien</td>\n",
       "      <td>2.0</td>\n",
       "      <td>453.docx</td>\n",
       "    </tr>\n",
       "  </tbody>\n",
       "</table>\n",
       "<p>65 rows × 5 columns</p>\n",
       "</div>"
      ],
      "text/plain": [
       "                                                category  \\\n",
       "28                                      + Etat final :     \n",
       "746        L’objet dont je suis séparé ?\\nPar qui/quoi ?   \n",
       "994                               FAITS  Mon commentaire   \n",
       "1353                              AC\\nTIONS INTÉRIEURES    \n",
       "1355                              AC\\nTIONS EXTÉRIEURES    \n",
       "...                                                  ...   \n",
       "9820                                    + Etat final :     \n",
       "10167  FAITS EXTÉRIEURS \\nAu travail, des clients son...   \n",
       "10380                             FAITS  Mon commentaire   \n",
       "10432                    EXTÉRIEURES Demande possible, …   \n",
       "10902                                            FAITS     \n",
       "\n",
       "                                                 answers label  grille  \\\n",
       "28     Mais moi je me dis alors que j'en ai fait trop...  rien     1.0   \n",
       "746    Je suis séparé d’un bon repas (complet), par m...  rien     3.0   \n",
       "994    sans doute de façon trop peu discrète pour ell...  rien     1.0   \n",
       "1353           Cette case sera faite pendant le module 2  rien     1.0   \n",
       "1355           Cette case sera faite pendant le module 2  rien     1.0   \n",
       "...                                                  ...   ...     ...   \n",
       "9820   Mais moi je me dis alors que j'en ai fait trop...  rien     1.0   \n",
       "10167  Tous pressés car le travail est en retard et l...  rien     1.0   \n",
       "10380  sans doute de façon trop peu discrète pour ell...  rien     1.0   \n",
       "10432  La prochaine fois je prouverai que ma solution...  rien     1.0   \n",
       "10902  pour le reste. Ok pour Nicolas sur mon heure. ...  rien     2.0   \n",
       "\n",
       "           name  \n",
       "28     432.docx  \n",
       "746    313.docx  \n",
       "994    498.docx  \n",
       "1353   519.docx  \n",
       "1355   519.docx  \n",
       "...         ...  \n",
       "9820   440.docx  \n",
       "10167  136.docx  \n",
       "10380  509.docx  \n",
       "10432  150.docx  \n",
       "10902  453.docx  \n",
       "\n",
       "[65 rows x 5 columns]"
      ]
     },
     "execution_count": 21,
     "metadata": {},
     "output_type": "execute_result"
    }
   ],
   "source": [
    "df_total.query(\"label == 'rien' & answers != ''\")"
   ]
  },
  {
   "cell_type": "code",
   "execution_count": 22,
   "id": "c47cfd28",
   "metadata": {},
   "outputs": [
    {
     "data": {
      "text/plain": [
       "39"
      ]
     },
     "execution_count": 22,
     "metadata": {},
     "output_type": "execute_result"
    }
   ],
   "source": [
    "len(set(list(df_total.query(\"label == 'rien' & answers != ''\")['name'])))"
   ]
  },
  {
   "cell_type": "code",
   "execution_count": 26,
   "id": "9eaade32",
   "metadata": {},
   "outputs": [],
   "source": [
    "df_total['label'] = df_total['label'].astype(\"category\")"
   ]
  },
  {
   "cell_type": "code",
   "execution_count": 28,
   "id": "8e53459a",
   "metadata": {},
   "outputs": [
    {
     "data": {
      "text/plain": [
       "count              11008\n",
       "unique                21\n",
       "top       fait extérieur\n",
       "freq                1250\n",
       "Name: label, dtype: object"
      ]
     },
     "execution_count": 28,
     "metadata": {},
     "output_type": "execute_result"
    }
   ],
   "source": [
    "df_total['label'].describe()"
   ]
  },
  {
   "cell_type": "code",
   "execution_count": 77,
   "id": "220ae16a",
   "metadata": {
    "collapsed": true
   },
   "outputs": [
    {
     "data": {
      "text/plain": [
       "fait extérieur                 1250\n",
       "fait intérieur pensées         1214\n",
       "fait intérieur ressentis       1213\n",
       "identification émotion         1140\n",
       "vérification émotion           1041\n",
       "action extérieur                973\n",
       "action intérieur                877\n",
       "vérification fait               796\n",
       "territoire (colère/peur)        771\n",
       "territoire (tristesse/joie)     513\n",
       "action test                     408\n",
       "besoin                          219\n",
       "territoire                      126\n",
       "apport analyse                  124\n",
       "interprétation                  123\n",
       "rien                            102\n",
       "repères corporels                47\n",
       "repères mentaux                  47\n",
       "action                           21\n",
       "fait intérieur                    2\n",
       "vérification                      1\n",
       "Name: label, dtype: int64"
      ]
     },
     "execution_count": 77,
     "metadata": {},
     "output_type": "execute_result"
    }
   ],
   "source": [
    "pd.value_counts(df_total['label'])"
   ]
  },
  {
   "cell_type": "code",
   "execution_count": 78,
   "id": "de6c2189",
   "metadata": {
    "collapsed": true
   },
   "outputs": [
    {
     "name": "stdout",
     "output_type": "stream",
     "text": [
      "\\begin{tabular}{lr}\n",
      "\\toprule\n",
      "{} &  label \\\\\n",
      "\\midrule\n",
      "fait extérieur              &   1250 \\\\\n",
      "fait intérieur pensées      &   1214 \\\\\n",
      "fait intérieur ressentis    &   1213 \\\\\n",
      "identification émotion      &   1140 \\\\\n",
      "vérification émotion        &   1041 \\\\\n",
      "action extérieur            &    973 \\\\\n",
      "action intérieur            &    877 \\\\\n",
      "vérification fait           &    796 \\\\\n",
      "territoire (colère/peur)    &    771 \\\\\n",
      "territoire (tristesse/joie) &    513 \\\\\n",
      "action test                 &    408 \\\\\n",
      "besoin                      &    219 \\\\\n",
      "territoire                  &    126 \\\\\n",
      "apport analyse              &    124 \\\\\n",
      "interprétation              &    123 \\\\\n",
      "rien                        &    102 \\\\\n",
      "repères corporels           &     47 \\\\\n",
      "repères mentaux             &     47 \\\\\n",
      "action                      &     21 \\\\\n",
      "fait intérieur              &      2 \\\\\n",
      "vérification                &      1 \\\\\n",
      "\\bottomrule\n",
      "\\end{tabular}\n",
      "\n"
     ]
    }
   ],
   "source": [
    "print(pd.value_counts(df_total['label']).to_latex(index=True))"
   ]
  },
  {
   "cell_type": "code",
   "execution_count": 37,
   "id": "220cb9e3",
   "metadata": {},
   "outputs": [
    {
     "data": {
      "text/plain": [
       "array([ 6,  9,  8, ..., 20,  2,  1], dtype=int8)"
      ]
     },
     "execution_count": 37,
     "metadata": {},
     "output_type": "execute_result"
    }
   ],
   "source": [
    "df_total['label'].values.codes"
   ]
  },
  {
   "cell_type": "code",
   "execution_count": 44,
   "id": "4e6700d4",
   "metadata": {},
   "outputs": [
    {
     "data": {
      "text/plain": [
       "'En relisant les faits, l’autre voulait-il m’attaquer ou est-ce un interprétation\\xa0?'"
      ]
     },
     "execution_count": 44,
     "metadata": {},
     "output_type": "execute_result"
    }
   ],
   "source": [
    "df_total.iloc[46]['category'] #En relisant les faits, l’autre voulait-il m’attaquer ou est-ce un interprétation\\xa0?"
   ]
  },
  {
   "cell_type": "code",
   "execution_count": 45,
   "id": "b6da6fc2",
   "metadata": {},
   "outputs": [
    {
     "data": {
      "text/plain": [
       "'  Ce que m’apporte cette analyse au moment de l’émotion '"
      ]
     },
     "execution_count": 45,
     "metadata": {},
     "output_type": "execute_result"
    }
   ],
   "source": [
    "df_total.iloc[149]['category'] #Ce que m’apporte cette analyse au moment de l’émotion"
   ]
  },
  {
   "cell_type": "markdown",
   "id": "b5494e6e",
   "metadata": {},
   "source": [
    "### Steps"
   ]
  },
  {
   "cell_type": "code",
   "execution_count": 59,
   "id": "a1bc396d",
   "metadata": {},
   "outputs": [],
   "source": [
    "ndata_l, df_normalized = normalize(df)"
   ]
  },
  {
   "cell_type": "code",
   "execution_count": 60,
   "id": "ddfce474",
   "metadata": {},
   "outputs": [
    {
     "data": {
      "text/html": [
       "<div>\n",
       "<style scoped>\n",
       "    .dataframe tbody tr th:only-of-type {\n",
       "        vertical-align: middle;\n",
       "    }\n",
       "\n",
       "    .dataframe tbody tr th {\n",
       "        vertical-align: top;\n",
       "    }\n",
       "\n",
       "    .dataframe thead th {\n",
       "        text-align: right;\n",
       "    }\n",
       "</style>\n",
       "<table border=\"1\" class=\"dataframe\">\n",
       "  <thead>\n",
       "    <tr style=\"text-align: right;\">\n",
       "      <th></th>\n",
       "      <th>category</th>\n",
       "      <th>answers</th>\n",
       "    </tr>\n",
       "  </thead>\n",
       "  <tbody>\n",
       "    <tr>\n",
       "      <th>0</th>\n",
       "      <td>FAITS EXTÉRIEURS \\nLe contexte : lieu, temps, ...</td>\n",
       "      <td>Je suis au cabinet, seul, nous sommes lundi et...</td>\n",
       "    </tr>\n",
       "    <tr>\n",
       "      <th>1</th>\n",
       "      <td>FAITS INTÉRIEURS Mes ressentis physiques :\\nlo...</td>\n",
       "      <td>J’ai une sensation d’oppression dans le thorax...</td>\n",
       "    </tr>\n",
       "    <tr>\n",
       "      <th>2</th>\n",
       "      <td>FAITS INTÉRIEURS Le film de mes pensées :\\n im...</td>\n",
       "      <td>A chaque fois que je pense à cette situation e...</td>\n",
       "    </tr>\n",
       "    <tr>\n",
       "      <th>3</th>\n",
       "      <td>Vérification des faits  Contexte et ressentis...</td>\n",
       "      <td>Contexte : exprimé factuellement\\nRessentis : ...</td>\n",
       "    </tr>\n",
       "    <tr>\n",
       "      <th>4</th>\n",
       "      <td>Identification de l’émotion Une ou plusieurs ...</td>\n",
       "      <td>Peur/ dégoût</td>\n",
       "    </tr>\n",
       "    <tr>\n",
       "      <th>5</th>\n",
       "      <td>RAISONS colère/peur Quel «territoire» attaqué?...</td>\n",
       "      <td>Le territoire attaqué est mon territoire de co...</td>\n",
       "    </tr>\n",
       "    <tr>\n",
       "      <th>6</th>\n",
       "      <td>RAISONS Vérifications\\ncolère/peur Le territoi...</td>\n",
       "      <td>Il s’agit bien de mon territoire, l’attaque es...</td>\n",
       "    </tr>\n",
       "    <tr>\n",
       "      <th>7</th>\n",
       "      <td>Ce que m’apporte cette analyse au moment de ...</td>\n",
       "      <td>Rien, car je suis dans l’attente et dans l’exp...</td>\n",
       "    </tr>\n",
       "    <tr>\n",
       "      <th>8</th>\n",
       "      <td>ACTIONS INTÉRIEURES Mes actions\\n intérieures ...</td>\n",
       "      <td>L’émotion n’est pas diminuée dans le sens où i...</td>\n",
       "    </tr>\n",
       "    <tr>\n",
       "      <th>9</th>\n",
       "      <td>ACTIONS EXTÉRIEURES Mes actions\\nextérieures \\...</td>\n",
       "      <td>Le seul moyen de stopper l’attaque est la fuit...</td>\n",
       "    </tr>\n",
       "  </tbody>\n",
       "</table>\n",
       "</div>"
      ],
      "text/plain": [
       "                                            category  \\\n",
       "0  FAITS EXTÉRIEURS \\nLe contexte : lieu, temps, ...   \n",
       "1  FAITS INTÉRIEURS Mes ressentis physiques :\\nlo...   \n",
       "2  FAITS INTÉRIEURS Le film de mes pensées :\\n im...   \n",
       "3   Vérification des faits  Contexte et ressentis...   \n",
       "4   Identification de l’émotion Une ou plusieurs ...   \n",
       "5  RAISONS colère/peur Quel «territoire» attaqué?...   \n",
       "6  RAISONS Vérifications\\ncolère/peur Le territoi...   \n",
       "7    Ce que m’apporte cette analyse au moment de ...   \n",
       "8  ACTIONS INTÉRIEURES Mes actions\\n intérieures ...   \n",
       "9  ACTIONS EXTÉRIEURES Mes actions\\nextérieures \\...   \n",
       "\n",
       "                                             answers  \n",
       "0  Je suis au cabinet, seul, nous sommes lundi et...  \n",
       "1  J’ai une sensation d’oppression dans le thorax...  \n",
       "2  A chaque fois que je pense à cette situation e...  \n",
       "3  Contexte : exprimé factuellement\\nRessentis : ...  \n",
       "4                                      Peur/ dégoût   \n",
       "5  Le territoire attaqué est mon territoire de co...  \n",
       "6  Il s’agit bien de mon territoire, l’attaque es...  \n",
       "7  Rien, car je suis dans l’attente et dans l’exp...  \n",
       "8  L’émotion n’est pas diminuée dans le sens où i...  \n",
       "9  Le seul moyen de stopper l’attaque est la fuit...  "
      ]
     },
     "execution_count": 60,
     "metadata": {},
     "output_type": "execute_result"
    }
   ],
   "source": [
    "df_normalized"
   ]
  },
  {
   "cell_type": "code",
   "execution_count": 63,
   "id": "5d7b5153",
   "metadata": {
    "collapsed": true
   },
   "outputs": [
    {
     "name": "stdout",
     "output_type": "stream",
     "text": [
      "\\begin{tabular}{ll}\n",
      "\\toprule\n",
      "                                          category &                                            answers \\\\\n",
      "\\midrule\n",
      "FAITS EXTÉRIEURS \\textbackslash nLe contexte : lieu, temps, p... & Je suis au cabinet, seul, nous sommes lundi et ... \\\\\n",
      "FAITS INTÉRIEURS Mes ressentis physiques :\\textbackslash nloc... & J’ai une sensation d’oppression dans le thorax,... \\\\\n",
      "FAITS INTÉRIEURS Le film de mes pensées :\\textbackslash n ima... & A chaque fois que je pense à cette situation et... \\\\\n",
      " Vérification des faits  Contexte et ressentis ... & Contexte : exprimé factuellement\\textbackslash nRessentis : f... \\\\\n",
      " Identification de l’émotion Une ou plusieurs ?... &                                      Peur/ dégoût  \\\\\n",
      "RAISONS colère/peur Quel «territoire» attaqué?\\textbackslash ... & Le territoire attaqué est mon territoire de con... \\\\\n",
      "RAISONS Vérifications\\textbackslash ncolère/peur Le territoir... & Il s’agit bien de mon territoire, l’attaque est... \\\\\n",
      "  Ce que m’apporte cette analyse au moment de l... & Rien, car je suis dans l’attente et dans l’expe... \\\\\n",
      "ACTIONS INTÉRIEURES Mes actions\\textbackslash n intérieures \\textbackslash ... & L’émotion n’est pas diminuée dans le sens où il... \\\\\n",
      "ACTIONS EXTÉRIEURES Mes actions\\textbackslash nextérieures \\textbackslash n... & Le seul moyen de stopper l’attaque est la fuite... \\\\\n",
      "\\bottomrule\n",
      "\\end{tabular}\n",
      "\n"
     ]
    }
   ],
   "source": [
    "print(df_normalized.to_latex(index=False))"
   ]
  },
  {
   "cell_type": "code",
   "execution_count": 61,
   "id": "da8d6173",
   "metadata": {},
   "outputs": [],
   "source": [
    "ndata_l, df_label = extract_label(ndata_l)"
   ]
  },
  {
   "cell_type": "code",
   "execution_count": 72,
   "id": "4d274ecd",
   "metadata": {
    "collapsed": true
   },
   "outputs": [
    {
     "name": "stdout",
     "output_type": "stream",
     "text": [
      "\\begin{tabular}{ll}\n",
      "\\toprule\n",
      "                   label &                                            answers \\\\\n",
      "\\midrule\n",
      "          fait extérieur & Je suis au cabinet, seul, nous sommes lundi et ... \\\\\n",
      "fait intérieur ressentis & J’ai une sensation d’oppression dans le thorax,... \\\\\n",
      "  fait intérieur pensées & A chaque fois que je pense à cette situation et... \\\\\n",
      "       vérification fait & Contexte : exprimé factuellement\\textbackslash nRessentis : f... \\\\\n",
      "  identification émotion &                                      Peur/ dégoût  \\\\\n",
      "territoire (colère/peur) & Le territoire attaqué est mon territoire de con... \\\\\n",
      "    vérification émotion & Il s’agit bien de mon territoire, l’attaque est... \\\\\n",
      "          apport analyse & Rien, car je suis dans l’attente et dans l’expe... \\\\\n",
      "        action intérieur & L’émotion n’est pas diminuée dans le sens où il... \\\\\n",
      "        action extérieur & Le seul moyen de stopper l’attaque est la fuite... \\\\\n",
      "\\bottomrule\n",
      "\\end{tabular}\n",
      "\n"
     ]
    }
   ],
   "source": [
    "print(df_label.to_latex(index=False))"
   ]
  },
  {
   "cell_type": "code",
   "execution_count": 69,
   "id": "9258b266",
   "metadata": {},
   "outputs": [],
   "source": [
    "columns_titles = [\"label\",\"answers\"]\n",
    "df_label=df_label.reindex(columns=columns_titles)"
   ]
  },
  {
   "cell_type": "code",
   "execution_count": 71,
   "id": "f0d37564",
   "metadata": {},
   "outputs": [
    {
     "data": {
      "text/html": [
       "<div>\n",
       "<style scoped>\n",
       "    .dataframe tbody tr th:only-of-type {\n",
       "        vertical-align: middle;\n",
       "    }\n",
       "\n",
       "    .dataframe tbody tr th {\n",
       "        vertical-align: top;\n",
       "    }\n",
       "\n",
       "    .dataframe thead th {\n",
       "        text-align: right;\n",
       "    }\n",
       "</style>\n",
       "<table border=\"1\" class=\"dataframe\">\n",
       "  <thead>\n",
       "    <tr style=\"text-align: right;\">\n",
       "      <th></th>\n",
       "      <th>label</th>\n",
       "      <th>answers</th>\n",
       "    </tr>\n",
       "  </thead>\n",
       "  <tbody>\n",
       "    <tr>\n",
       "      <th>0</th>\n",
       "      <td>fait extérieur</td>\n",
       "      <td>Je suis au cabinet, seul, nous sommes lundi et...</td>\n",
       "    </tr>\n",
       "    <tr>\n",
       "      <th>1</th>\n",
       "      <td>fait intérieur ressentis</td>\n",
       "      <td>J’ai une sensation d’oppression dans le thorax...</td>\n",
       "    </tr>\n",
       "    <tr>\n",
       "      <th>2</th>\n",
       "      <td>fait intérieur pensées</td>\n",
       "      <td>A chaque fois que je pense à cette situation e...</td>\n",
       "    </tr>\n",
       "    <tr>\n",
       "      <th>3</th>\n",
       "      <td>vérification fait</td>\n",
       "      <td>Contexte : exprimé factuellement\\nRessentis : ...</td>\n",
       "    </tr>\n",
       "    <tr>\n",
       "      <th>4</th>\n",
       "      <td>identification émotion</td>\n",
       "      <td>Peur/ dégoût</td>\n",
       "    </tr>\n",
       "    <tr>\n",
       "      <th>5</th>\n",
       "      <td>territoire (colère/peur)</td>\n",
       "      <td>Le territoire attaqué est mon territoire de co...</td>\n",
       "    </tr>\n",
       "    <tr>\n",
       "      <th>6</th>\n",
       "      <td>vérification émotion</td>\n",
       "      <td>Il s’agit bien de mon territoire, l’attaque es...</td>\n",
       "    </tr>\n",
       "    <tr>\n",
       "      <th>7</th>\n",
       "      <td>apport analyse</td>\n",
       "      <td>Rien, car je suis dans l’attente et dans l’exp...</td>\n",
       "    </tr>\n",
       "    <tr>\n",
       "      <th>8</th>\n",
       "      <td>action intérieur</td>\n",
       "      <td>L’émotion n’est pas diminuée dans le sens où i...</td>\n",
       "    </tr>\n",
       "    <tr>\n",
       "      <th>9</th>\n",
       "      <td>action extérieur</td>\n",
       "      <td>Le seul moyen de stopper l’attaque est la fuit...</td>\n",
       "    </tr>\n",
       "  </tbody>\n",
       "</table>\n",
       "</div>"
      ],
      "text/plain": [
       "                      label                                            answers\n",
       "0            fait extérieur  Je suis au cabinet, seul, nous sommes lundi et...\n",
       "1  fait intérieur ressentis  J’ai une sensation d’oppression dans le thorax...\n",
       "2    fait intérieur pensées  A chaque fois que je pense à cette situation e...\n",
       "3         vérification fait  Contexte : exprimé factuellement\\nRessentis : ...\n",
       "4    identification émotion                                      Peur/ dégoût \n",
       "5  territoire (colère/peur)  Le territoire attaqué est mon territoire de co...\n",
       "6      vérification émotion  Il s’agit bien de mon territoire, l’attaque es...\n",
       "7            apport analyse  Rien, car je suis dans l’attente et dans l’exp...\n",
       "8          action intérieur  L’émotion n’est pas diminuée dans le sens où i...\n",
       "9          action extérieur  Le seul moyen de stopper l’attaque est la fuit..."
      ]
     },
     "execution_count": 71,
     "metadata": {},
     "output_type": "execute_result"
    }
   ],
   "source": [
    "df_label"
   ]
  },
  {
   "cell_type": "code",
   "execution_count": null,
   "id": "12d792d6",
   "metadata": {},
   "outputs": [],
   "source": [
    "get_stats(document)"
   ]
  },
  {
   "cell_type": "markdown",
   "id": "7e7dee5d",
   "metadata": {},
   "source": [
    "## Create a DataFrame containing statistics and text"
   ]
  },
  {
   "cell_type": "code",
   "execution_count": 80,
   "id": "9f2252a6",
   "metadata": {},
   "outputs": [
    {
     "name": "stdout",
     "output_type": "stream",
     "text": [
      "/home/gcortal/Documents/M2/grille_processed/142.docx\n",
      "/home/gcortal/Documents/M2/grille_processed/432.docx\n",
      "/home/gcortal/Documents/M2/grille_processed/168.docx\n",
      "/home/gcortal/Documents/M2/grille_processed/558.docx\n",
      "/home/gcortal/Documents/M2/grille_processed/481.docx\n",
      "/home/gcortal/Documents/M2/grille_processed/504.docx\n",
      "/home/gcortal/Documents/M2/grille_processed/297.docx\n",
      "/home/gcortal/Documents/M2/grille_processed/525.docx\n",
      "/home/gcortal/Documents/M2/grille_processed/33.docx\n",
      "/home/gcortal/Documents/M2/grille_processed/249.docx\n",
      "/home/gcortal/Documents/M2/grille_processed/496.docx\n",
      "/home/gcortal/Documents/M2/grille_processed/91.docx\n",
      "/home/gcortal/Documents/M2/grille_processed/356.docx\n",
      "/home/gcortal/Documents/M2/grille_processed/124.docx\n",
      "/home/gcortal/Documents/M2/grille_processed/376.docx\n",
      "/home/gcortal/Documents/M2/grille_processed/74.docx\n",
      "/home/gcortal/Documents/M2/grille_processed/350.docx\n",
      "/home/gcortal/Documents/M2/grille_processed/59.docx\n",
      "/home/gcortal/Documents/M2/grille_processed/28.docx\n",
      "/home/gcortal/Documents/M2/grille_processed/45.docx\n",
      "/home/gcortal/Documents/M2/grille_processed/159.docx\n",
      "/home/gcortal/Documents/M2/grille_processed/176.docx\n",
      "/home/gcortal/Documents/M2/grille_processed/368.docx\n",
      "/home/gcortal/Documents/M2/grille_processed/41.docx\n",
      "/home/gcortal/Documents/M2/grille_processed/286.docx\n",
      "/home/gcortal/Documents/M2/grille_processed/583.docx\n",
      "/home/gcortal/Documents/M2/grille_processed/458.docx\n",
      "/home/gcortal/Documents/M2/grille_processed/275.docx\n",
      "/home/gcortal/Documents/M2/grille_processed/580.docx\n",
      "/home/gcortal/Documents/M2/grille_processed/29.docx\n",
      "/home/gcortal/Documents/M2/grille_processed/269.docx\n",
      "/home/gcortal/Documents/M2/grille_processed/82.docx\n",
      "/home/gcortal/Documents/M2/grille_processed/357.docx\n",
      "/home/gcortal/Documents/M2/grille_processed/530.docx\n",
      "/home/gcortal/Documents/M2/grille_processed/157.docx\n",
      "/home/gcortal/Documents/M2/grille_processed/114.docx\n",
      "/home/gcortal/Documents/M2/grille_processed/188.docx\n",
      "/home/gcortal/Documents/M2/grille_processed/542.docx\n",
      "/home/gcortal/Documents/M2/grille_processed/313.docx\n",
      "/home/gcortal/Documents/M2/grille_processed/232.docx\n",
      "/home/gcortal/Documents/M2/grille_processed/2.docx\n",
      "/home/gcortal/Documents/M2/grille_processed/156.docx\n",
      "/home/gcortal/Documents/M2/grille_processed/320.docx\n",
      "/home/gcortal/Documents/M2/grille_processed/520.docx\n",
      "/home/gcortal/Documents/M2/grille_processed/597.docx\n",
      "/home/gcortal/Documents/M2/grille_processed/207.docx\n",
      "/home/gcortal/Documents/M2/grille_processed/226.docx\n",
      "/home/gcortal/Documents/M2/grille_processed/424.docx\n",
      "/home/gcortal/Documents/M2/grille_processed/266.docx\n",
      "/home/gcortal/Documents/M2/grille_processed/104.docx\n",
      "/home/gcortal/Documents/M2/grille_processed/462.docx\n",
      "/home/gcortal/Documents/M2/grille_processed/315.docx\n",
      "/home/gcortal/Documents/M2/grille_processed/498.docx\n",
      "/home/gcortal/Documents/M2/grille_processed/354.docx\n",
      "/home/gcortal/Documents/M2/grille_processed/310.docx\n",
      "/home/gcortal/Documents/M2/grille_processed/538.docx\n",
      "/home/gcortal/Documents/M2/grille_processed/180.docx\n",
      "/home/gcortal/Documents/M2/grille_processed/239.docx\n",
      "/home/gcortal/Documents/M2/grille_processed/13.docx\n",
      "/home/gcortal/Documents/M2/grille_processed/108.docx\n",
      "/home/gcortal/Documents/M2/grille_processed/5.docx\n",
      "/home/gcortal/Documents/M2/grille_processed/78.docx\n",
      "/home/gcortal/Documents/M2/grille_processed/285.docx\n",
      "/home/gcortal/Documents/M2/grille_processed/210.docx\n",
      "/home/gcortal/Documents/M2/grille_processed/392.docx\n",
      "/home/gcortal/Documents/M2/grille_processed/118.docx\n",
      "/home/gcortal/Documents/M2/grille_processed/503.docx\n",
      "/home/gcortal/Documents/M2/grille_processed/309.docx\n",
      "/home/gcortal/Documents/M2/grille_processed/293.docx\n",
      "/home/gcortal/Documents/M2/grille_processed/270.docx\n",
      "/home/gcortal/Documents/M2/grille_processed/519.docx\n",
      "/home/gcortal/Documents/M2/grille_processed/121.docx\n",
      "/home/gcortal/Documents/M2/grille_processed/217.docx\n",
      "/home/gcortal/Documents/M2/grille_processed/421.docx\n",
      "/home/gcortal/Documents/M2/grille_processed/423.docx\n",
      "/home/gcortal/Documents/M2/grille_processed/25.docx\n",
      "/home/gcortal/Documents/M2/grille_processed/264.docx\n",
      "/home/gcortal/Documents/M2/grille_processed/127.docx\n",
      "/home/gcortal/Documents/M2/grille_processed/295.docx\n",
      "/home/gcortal/Documents/M2/grille_processed/234.docx\n",
      "/home/gcortal/Documents/M2/grille_processed/557.docx\n",
      "/home/gcortal/Documents/M2/grille_processed/395.docx\n",
      "/home/gcortal/Documents/M2/grille_processed/358.docx\n",
      "/home/gcortal/Documents/M2/grille_processed/506.docx\n",
      "/home/gcortal/Documents/M2/grille_processed/526.docx\n",
      "/home/gcortal/Documents/M2/grille_processed/152.docx\n",
      "/home/gcortal/Documents/M2/grille_processed/365.docx\n",
      "/home/gcortal/Documents/M2/grille_processed/490.docx\n",
      "/home/gcortal/Documents/M2/grille_processed/343.docx\n",
      "/home/gcortal/Documents/M2/grille_processed/479.docx\n",
      "/home/gcortal/Documents/M2/grille_processed/177.docx\n",
      "/home/gcortal/Documents/M2/grille_processed/263.docx\n",
      "/home/gcortal/Documents/M2/grille_processed/489.docx\n",
      "/home/gcortal/Documents/M2/grille_processed/533.docx\n",
      "/home/gcortal/Documents/M2/grille_processed/493.docx\n",
      "/home/gcortal/Documents/M2/grille_processed/155.docx\n",
      "/home/gcortal/Documents/M2/grille_processed/289.docx\n",
      "/home/gcortal/Documents/M2/grille_processed/23.docx\n",
      "/home/gcortal/Documents/M2/grille_processed/242.docx\n",
      "/home/gcortal/Documents/M2/grille_processed/507.docx\n",
      "/home/gcortal/Documents/M2/grille_processed/162.docx\n",
      "/home/gcortal/Documents/M2/grille_processed/531.docx\n",
      "/home/gcortal/Documents/M2/grille_processed/547.docx\n",
      "/home/gcortal/Documents/M2/grille_processed/51.docx\n",
      "/home/gcortal/Documents/M2/grille_processed/253.docx\n",
      "/home/gcortal/Documents/M2/grille_processed/488.docx\n",
      "/home/gcortal/Documents/M2/grille_processed/24.docx\n",
      "/home/gcortal/Documents/M2/grille_processed/491.docx\n",
      "/home/gcortal/Documents/M2/grille_processed/394.docx\n",
      "/home/gcortal/Documents/M2/grille_processed/443.docx\n",
      "/home/gcortal/Documents/M2/grille_processed/384.docx\n",
      "/home/gcortal/Documents/M2/grille_processed/120.docx\n",
      "/home/gcortal/Documents/M2/grille_processed/212.docx\n",
      "/home/gcortal/Documents/M2/grille_processed/511.docx\n",
      "/home/gcortal/Documents/M2/grille_processed/576.docx\n",
      "/home/gcortal/Documents/M2/grille_processed/375.docx\n",
      "/home/gcortal/Documents/M2/grille_processed/598.docx\n",
      "/home/gcortal/Documents/M2/grille_processed/237.docx\n",
      "/home/gcortal/Documents/M2/grille_processed/346.docx\n",
      "/home/gcortal/Documents/M2/grille_processed/186.docx\n",
      "/home/gcortal/Documents/M2/grille_processed/539.docx\n",
      "/home/gcortal/Documents/M2/grille_processed/83.docx\n",
      "/home/gcortal/Documents/M2/grille_processed/257.docx\n",
      "/home/gcortal/Documents/M2/grille_processed/433.docx\n",
      "/home/gcortal/Documents/M2/grille_processed/340.docx\n",
      "/home/gcortal/Documents/M2/grille_processed/268.docx\n",
      "/home/gcortal/Documents/M2/grille_processed/98.docx\n",
      "/home/gcortal/Documents/M2/grille_processed/416.docx\n",
      "/home/gcortal/Documents/M2/grille_processed/174.docx\n",
      "/home/gcortal/Documents/M2/grille_processed/471.docx\n",
      "/home/gcortal/Documents/M2/grille_processed/457.docx\n",
      "/home/gcortal/Documents/M2/grille_processed/72.docx\n",
      "/home/gcortal/Documents/M2/grille_processed/15.docx\n",
      "/home/gcortal/Documents/M2/grille_processed/429.docx\n",
      "/home/gcortal/Documents/M2/grille_processed/218.docx\n",
      "/home/gcortal/Documents/M2/grille_processed/38.docx\n",
      "/home/gcortal/Documents/M2/grille_processed/464.docx\n",
      "/home/gcortal/Documents/M2/grille_processed/169.docx\n",
      "/home/gcortal/Documents/M2/grille_processed/523.docx\n",
      "/home/gcortal/Documents/M2/grille_processed/245.docx\n",
      "/home/gcortal/Documents/M2/grille_processed/317.docx\n",
      "/home/gcortal/Documents/M2/grille_processed/79.docx\n",
      "/home/gcortal/Documents/M2/grille_processed/238.docx\n",
      "/home/gcortal/Documents/M2/grille_processed/377.docx\n",
      "/home/gcortal/Documents/M2/grille_processed/478.docx\n",
      "/home/gcortal/Documents/M2/grille_processed/69.docx\n",
      "/home/gcortal/Documents/M2/grille_processed/461.docx\n",
      "/home/gcortal/Documents/M2/grille_processed/515.docx\n",
      "/home/gcortal/Documents/M2/grille_processed/190.docx\n",
      "/home/gcortal/Documents/M2/grille_processed/329.docx\n",
      "/home/gcortal/Documents/M2/grille_processed/11.docx\n",
      "/home/gcortal/Documents/M2/grille_processed/431.docx\n",
      "/home/gcortal/Documents/M2/grille_processed/543.docx\n",
      "/home/gcortal/Documents/M2/grille_processed/561.docx\n",
      "/home/gcortal/Documents/M2/grille_processed/31.docx\n",
      "/home/gcortal/Documents/M2/grille_processed/486.docx\n",
      "/home/gcortal/Documents/M2/grille_processed/194.docx\n",
      "/home/gcortal/Documents/M2/grille_processed/116.docx\n",
      "/home/gcortal/Documents/M2/grille_processed/115.docx\n",
      "/home/gcortal/Documents/M2/grille_processed/348.docx\n",
      "/home/gcortal/Documents/M2/grille_processed/544.docx\n"
     ]
    },
    {
     "name": "stdout",
     "output_type": "stream",
     "text": [
      "/home/gcortal/Documents/M2/grille_processed/410.docx\n",
      "/home/gcortal/Documents/M2/grille_processed/372.docx\n",
      "/home/gcortal/Documents/M2/grille_processed/390.docx\n",
      "/home/gcortal/Documents/M2/grille_processed/468.docx\n",
      "/home/gcortal/Documents/M2/grille_processed/456.docx\n",
      "/home/gcortal/Documents/M2/grille_processed/449.docx\n",
      "/home/gcortal/Documents/M2/grille_processed/172.docx\n",
      "/home/gcortal/Documents/M2/grille_processed/181.docx\n",
      "/home/gcortal/Documents/M2/grille_processed/482.docx\n",
      "/home/gcortal/Documents/M2/grille_processed/46.docx\n",
      "/home/gcortal/Documents/M2/grille_processed/559.docx\n",
      "/home/gcortal/Documents/M2/grille_processed/19.docx\n",
      "/home/gcortal/Documents/M2/grille_processed/427.docx\n",
      "/home/gcortal/Documents/M2/grille_processed/193.docx\n",
      "/home/gcortal/Documents/M2/grille_processed/512.docx\n",
      "/home/gcortal/Documents/M2/grille_processed/311.docx\n",
      "/home/gcortal/Documents/M2/grille_processed/373.docx\n",
      "/home/gcortal/Documents/M2/grille_processed/84.docx\n",
      "/home/gcortal/Documents/M2/grille_processed/572.docx\n",
      "/home/gcortal/Documents/M2/grille_processed/521.docx\n",
      "/home/gcortal/Documents/M2/grille_processed/335.docx\n",
      "/home/gcortal/Documents/M2/grille_processed/536.docx\n",
      "/home/gcortal/Documents/M2/grille_processed/570.docx\n",
      "/home/gcortal/Documents/M2/grille_processed/281.docx\n",
      "/home/gcortal/Documents/M2/grille_processed/380.docx\n",
      "/home/gcortal/Documents/M2/grille_processed/442.docx\n",
      "/home/gcortal/Documents/M2/grille_processed/322.docx\n",
      "/home/gcortal/Documents/M2/grille_processed/290.docx\n",
      "/home/gcortal/Documents/M2/grille_processed/325.docx\n",
      "/home/gcortal/Documents/M2/grille_processed/296.docx\n",
      "/home/gcortal/Documents/M2/grille_processed/129.docx\n",
      "/home/gcortal/Documents/M2/grille_processed/90.docx\n",
      "/home/gcortal/Documents/M2/grille_processed/153.docx\n",
      "/home/gcortal/Documents/M2/grille_processed/587.docx\n",
      "/home/gcortal/Documents/M2/grille_processed/244.docx\n",
      "/home/gcortal/Documents/M2/grille_processed/252.docx\n",
      "/home/gcortal/Documents/M2/grille_processed/280.docx\n",
      "/home/gcortal/Documents/M2/grille_processed/228.docx\n",
      "/home/gcortal/Documents/M2/grille_processed/34.docx\n",
      "/home/gcortal/Documents/M2/grille_processed/117.docx\n",
      "/home/gcortal/Documents/M2/grille_processed/534.docx\n",
      "/home/gcortal/Documents/M2/grille_processed/307.docx\n",
      "/home/gcortal/Documents/M2/grille_processed/565.docx\n",
      "/home/gcortal/Documents/M2/grille_processed/312.docx\n",
      "/home/gcortal/Documents/M2/grille_processed/279.docx\n",
      "/home/gcortal/Documents/M2/grille_processed/537.docx\n",
      "/home/gcortal/Documents/M2/grille_processed/43.docx\n",
      "/home/gcortal/Documents/M2/grille_processed/298.docx\n",
      "/home/gcortal/Documents/M2/grille_processed/291.docx\n",
      "/home/gcortal/Documents/M2/grille_processed/475.docx\n",
      "/home/gcortal/Documents/M2/grille_processed/197.docx\n",
      "/home/gcortal/Documents/M2/grille_processed/171.docx\n",
      "/home/gcortal/Documents/M2/grille_processed/93.docx\n",
      "/home/gcortal/Documents/M2/grille_processed/439.docx\n",
      "/home/gcortal/Documents/M2/grille_processed/408.docx\n",
      "/home/gcortal/Documents/M2/grille_processed/569.docx\n",
      "/home/gcortal/Documents/M2/grille_processed/328.docx\n",
      "/home/gcortal/Documents/M2/grille_processed/422.docx\n",
      "/home/gcortal/Documents/M2/grille_processed/554.docx\n",
      "/home/gcortal/Documents/M2/grille_processed/106.docx\n",
      "/home/gcortal/Documents/M2/grille_processed/306.docx\n",
      "/home/gcortal/Documents/M2/grille_processed/451.docx\n",
      "/home/gcortal/Documents/M2/grille_processed/574.docx\n",
      "/home/gcortal/Documents/M2/grille_processed/406.docx\n",
      "/home/gcortal/Documents/M2/grille_processed/553.docx\n",
      "/home/gcortal/Documents/M2/grille_processed/465.docx\n",
      "/home/gcortal/Documents/M2/grille_processed/403.docx\n",
      "/home/gcortal/Documents/M2/grille_processed/294.docx\n",
      "/home/gcortal/Documents/M2/grille_processed/438.docx\n",
      "/home/gcortal/Documents/M2/grille_processed/63.docx\n",
      "/home/gcortal/Documents/M2/grille_processed/131.docx\n",
      "/home/gcortal/Documents/M2/grille_processed/75.docx\n",
      "/home/gcortal/Documents/M2/grille_processed/308.docx\n",
      "/home/gcortal/Documents/M2/grille_processed/20.docx\n",
      "/home/gcortal/Documents/M2/grille_processed/247.docx\n",
      "/home/gcortal/Documents/M2/grille_processed/95.docx\n",
      "/home/gcortal/Documents/M2/grille_processed/128.docx\n",
      "/home/gcortal/Documents/M2/grille_processed/327.docx\n",
      "/home/gcortal/Documents/M2/grille_processed/216.docx\n",
      "/home/gcortal/Documents/M2/grille_processed/535.docx\n",
      "/home/gcortal/Documents/M2/grille_processed/262.docx\n",
      "/home/gcortal/Documents/M2/grille_processed/85.docx\n",
      "/home/gcortal/Documents/M2/grille_processed/428.docx\n",
      "/home/gcortal/Documents/M2/grille_processed/363.docx\n",
      "/home/gcortal/Documents/M2/grille_processed/192.docx\n",
      "/home/gcortal/Documents/M2/grille_processed/415.docx\n",
      "/home/gcortal/Documents/M2/grille_processed/522.docx\n",
      "/home/gcortal/Documents/M2/grille_processed/411.docx\n",
      "/home/gcortal/Documents/M2/grille_processed/418.docx\n",
      "/home/gcortal/Documents/M2/grille_processed/387.docx\n",
      "/home/gcortal/Documents/M2/grille_processed/318.docx\n",
      "/home/gcortal/Documents/M2/grille_processed/56.docx\n",
      "/home/gcortal/Documents/M2/grille_processed/35.docx\n",
      "/home/gcortal/Documents/M2/grille_processed/459.docx\n",
      "/home/gcortal/Documents/M2/grille_processed/540.docx\n",
      "/home/gcortal/Documents/M2/grille_processed/469.docx\n",
      "/home/gcortal/Documents/M2/grille_processed/49.docx\n",
      "/home/gcortal/Documents/M2/grille_processed/564.docx\n",
      "/home/gcortal/Documents/M2/grille_processed/61.docx\n",
      "/home/gcortal/Documents/M2/grille_processed/138.docx\n",
      "/home/gcortal/Documents/M2/grille_processed/374.docx\n",
      "/home/gcortal/Documents/M2/grille_processed/301.docx\n",
      "/home/gcortal/Documents/M2/grille_processed/6.docx\n",
      "/home/gcortal/Documents/M2/grille_processed/100.docx\n",
      "/home/gcortal/Documents/M2/grille_processed/330.docx\n",
      "/home/gcortal/Documents/M2/grille_processed/590.docx\n",
      "/home/gcortal/Documents/M2/grille_processed/326.docx\n",
      "/home/gcortal/Documents/M2/grille_processed/89.docx\n",
      "/home/gcortal/Documents/M2/grille_processed/351.docx\n",
      "/home/gcortal/Documents/M2/grille_processed/1.docx\n",
      "/home/gcortal/Documents/M2/grille_processed/139.docx\n",
      "/home/gcortal/Documents/M2/grille_processed/393.docx\n",
      "/home/gcortal/Documents/M2/grille_processed/160.docx\n",
      "/home/gcortal/Documents/M2/grille_processed/274.docx\n",
      "/home/gcortal/Documents/M2/grille_processed/555.docx\n",
      "/home/gcortal/Documents/M2/grille_processed/102.docx\n",
      "/home/gcortal/Documents/M2/grille_processed/173.docx\n",
      "/home/gcortal/Documents/M2/grille_processed/65.docx\n",
      "/home/gcortal/Documents/M2/grille_processed/195.docx\n",
      "/home/gcortal/Documents/M2/grille_processed/499.docx\n",
      "/home/gcortal/Documents/M2/grille_processed/110.docx\n",
      "/home/gcortal/Documents/M2/grille_processed/9.docx\n",
      "/home/gcortal/Documents/M2/grille_processed/364.docx\n",
      "/home/gcortal/Documents/M2/grille_processed/163.docx\n",
      "/home/gcortal/Documents/M2/grille_processed/80.docx\n",
      "/home/gcortal/Documents/M2/grille_processed/575.docx\n",
      "/home/gcortal/Documents/M2/grille_processed/560.docx\n",
      "/home/gcortal/Documents/M2/grille_processed/400.docx\n",
      "/home/gcortal/Documents/M2/grille_processed/420.docx\n",
      "/home/gcortal/Documents/M2/grille_processed/8.docx\n",
      "/home/gcortal/Documents/M2/grille_processed/64.docx\n",
      "/home/gcortal/Documents/M2/grille_processed/508.docx\n",
      "/home/gcortal/Documents/M2/grille_processed/39.docx\n",
      "/home/gcortal/Documents/M2/grille_processed/595.docx\n",
      "/home/gcortal/Documents/M2/grille_processed/355.docx\n",
      "/home/gcortal/Documents/M2/grille_processed/514.docx\n",
      "/home/gcortal/Documents/M2/grille_processed/577.docx\n",
      "/home/gcortal/Documents/M2/grille_processed/337.docx\n",
      "/home/gcortal/Documents/M2/grille_processed/161.docx\n",
      "/home/gcortal/Documents/M2/grille_processed/594.docx\n",
      "/home/gcortal/Documents/M2/grille_processed/579.docx\n",
      "/home/gcortal/Documents/M2/grille_processed/304.docx\n",
      "/home/gcortal/Documents/M2/grille_processed/223.docx\n",
      "/home/gcortal/Documents/M2/grille_processed/154.docx\n",
      "/home/gcortal/Documents/M2/grille_processed/202.docx\n",
      "/home/gcortal/Documents/M2/grille_processed/527.docx\n",
      "/home/gcortal/Documents/M2/grille_processed/591.docx\n",
      "/home/gcortal/Documents/M2/grille_processed/70.docx\n",
      "/home/gcortal/Documents/M2/grille_processed/243.docx\n",
      "/home/gcortal/Documents/M2/grille_processed/419.docx\n",
      "/home/gcortal/Documents/M2/grille_processed/199.docx\n",
      "/home/gcortal/Documents/M2/grille_processed/54.docx\n",
      "/home/gcortal/Documents/M2/grille_processed/4.docx\n",
      "/home/gcortal/Documents/M2/grille_processed/48.docx\n",
      "/home/gcortal/Documents/M2/grille_processed/151.docx\n",
      "/home/gcortal/Documents/M2/grille_processed/549.docx\n",
      "/home/gcortal/Documents/M2/grille_processed/463.docx\n",
      "/home/gcortal/Documents/M2/grille_processed/445.docx\n",
      "/home/gcortal/Documents/M2/grille_processed/86.docx\n"
     ]
    },
    {
     "name": "stdout",
     "output_type": "stream",
     "text": [
      "/home/gcortal/Documents/M2/grille_processed/447.docx\n",
      "/home/gcortal/Documents/M2/grille_processed/97.docx\n",
      "/home/gcortal/Documents/M2/grille_processed/220.docx\n",
      "/home/gcortal/Documents/M2/grille_processed/585.docx\n",
      "/home/gcortal/Documents/M2/grille_processed/378.docx\n",
      "/home/gcortal/Documents/M2/grille_processed/596.docx\n",
      "/home/gcortal/Documents/M2/grille_processed/144.docx\n",
      "/home/gcortal/Documents/M2/grille_processed/271.docx\n",
      "/home/gcortal/Documents/M2/grille_processed/7.docx\n",
      "/home/gcortal/Documents/M2/grille_processed/96.docx\n",
      "/home/gcortal/Documents/M2/grille_processed/76.docx\n",
      "/home/gcortal/Documents/M2/grille_processed/545.docx\n",
      "/home/gcortal/Documents/M2/grille_processed/494.docx\n",
      "/home/gcortal/Documents/M2/grille_processed/314.docx\n",
      "/home/gcortal/Documents/M2/grille_processed/316.docx\n",
      "/home/gcortal/Documents/M2/grille_processed/198.docx\n",
      "/home/gcortal/Documents/M2/grille_processed/532.docx\n",
      "/home/gcortal/Documents/M2/grille_processed/248.docx\n",
      "/home/gcortal/Documents/M2/grille_processed/219.docx\n",
      "/home/gcortal/Documents/M2/grille_processed/66.docx\n",
      "/home/gcortal/Documents/M2/grille_processed/435.docx\n",
      "/home/gcortal/Documents/M2/grille_processed/344.docx\n",
      "/home/gcortal/Documents/M2/grille_processed/30.docx\n",
      "/home/gcortal/Documents/M2/grille_processed/470.docx\n",
      "/home/gcortal/Documents/M2/grille_processed/87.docx\n",
      "/home/gcortal/Documents/M2/grille_processed/405.docx\n",
      "/home/gcortal/Documents/M2/grille_processed/437.docx\n",
      "/home/gcortal/Documents/M2/grille_processed/50.docx\n",
      "/home/gcortal/Documents/M2/grille_processed/388.docx\n",
      "/home/gcortal/Documents/M2/grille_processed/487.docx\n",
      "/home/gcortal/Documents/M2/grille_processed/592.docx\n",
      "/home/gcortal/Documents/M2/grille_processed/133.docx\n",
      "/home/gcortal/Documents/M2/grille_processed/167.docx\n",
      "/home/gcortal/Documents/M2/grille_processed/336.docx\n",
      "/home/gcortal/Documents/M2/grille_processed/62.docx\n",
      "/home/gcortal/Documents/M2/grille_processed/178.docx\n",
      "/home/gcortal/Documents/M2/grille_processed/134.docx\n",
      "/home/gcortal/Documents/M2/grille_processed/586.docx\n",
      "/home/gcortal/Documents/M2/grille_processed/185.docx\n",
      "/home/gcortal/Documents/M2/grille_processed/593.docx\n",
      "/home/gcortal/Documents/M2/grille_processed/556.docx\n",
      "/home/gcortal/Documents/M2/grille_processed/305.docx\n",
      "/home/gcortal/Documents/M2/grille_processed/259.docx\n",
      "/home/gcortal/Documents/M2/grille_processed/397.docx\n",
      "/home/gcortal/Documents/M2/grille_processed/367.docx\n",
      "/home/gcortal/Documents/M2/grille_processed/566.docx\n",
      "/home/gcortal/Documents/M2/grille_processed/563.docx\n",
      "/home/gcortal/Documents/M2/grille_processed/57.docx\n",
      "/home/gcortal/Documents/M2/grille_processed/541.docx\n",
      "/home/gcortal/Documents/M2/grille_processed/170.docx\n",
      "/home/gcortal/Documents/M2/grille_processed/441.docx\n",
      "/home/gcortal/Documents/M2/grille_processed/446.docx\n",
      "/home/gcortal/Documents/M2/grille_processed/113.docx\n",
      "/home/gcortal/Documents/M2/grille_processed/99.docx\n",
      "/home/gcortal/Documents/M2/grille_processed/362.docx\n",
      "/home/gcortal/Documents/M2/grille_processed/250.docx\n",
      "/home/gcortal/Documents/M2/grille_processed/211.docx\n",
      "/home/gcortal/Documents/M2/grille_processed/342.docx\n",
      "/home/gcortal/Documents/M2/grille_processed/187.docx\n",
      "/home/gcortal/Documents/M2/grille_processed/140.docx\n",
      "/home/gcortal/Documents/M2/grille_processed/235.docx\n",
      "/home/gcortal/Documents/M2/grille_processed/122.docx\n",
      "/home/gcortal/Documents/M2/grille_processed/184.docx\n",
      "/home/gcortal/Documents/M2/grille_processed/360.docx\n",
      "/home/gcortal/Documents/M2/grille_processed/260.docx\n",
      "/home/gcortal/Documents/M2/grille_processed/386.docx\n",
      "/home/gcortal/Documents/M2/grille_processed/55.docx\n",
      "/home/gcortal/Documents/M2/grille_processed/480.docx\n",
      "/home/gcortal/Documents/M2/grille_processed/109.docx\n",
      "/home/gcortal/Documents/M2/grille_processed/333.docx\n",
      "/home/gcortal/Documents/M2/grille_processed/383.docx\n",
      "/home/gcortal/Documents/M2/grille_processed/492.docx\n",
      "/home/gcortal/Documents/M2/grille_processed/183.docx\n",
      "/home/gcortal/Documents/M2/grille_processed/321.docx\n",
      "/home/gcortal/Documents/M2/grille_processed/230.docx\n",
      "/home/gcortal/Documents/M2/grille_processed/584.docx\n",
      "/home/gcortal/Documents/M2/grille_processed/370.docx\n",
      "/home/gcortal/Documents/M2/grille_processed/529.docx\n",
      "/home/gcortal/Documents/M2/grille_processed/473.docx\n",
      "/home/gcortal/Documents/M2/grille_processed/466.docx\n",
      "/home/gcortal/Documents/M2/grille_processed/474.docx\n",
      "/home/gcortal/Documents/M2/grille_processed/382.docx\n",
      "/home/gcortal/Documents/M2/grille_processed/391.docx\n",
      "/home/gcortal/Documents/M2/grille_processed/214.docx\n",
      "/home/gcortal/Documents/M2/grille_processed/426.docx\n",
      "/home/gcortal/Documents/M2/grille_processed/567.docx\n",
      "/home/gcortal/Documents/M2/grille_processed/111.docx\n",
      "/home/gcortal/Documents/M2/grille_processed/145.docx\n",
      "/home/gcortal/Documents/M2/grille_processed/581.docx\n",
      "/home/gcortal/Documents/M2/grille_processed/225.docx\n",
      "/home/gcortal/Documents/M2/grille_processed/22.docx\n",
      "/home/gcortal/Documents/M2/grille_processed/44.docx\n",
      "/home/gcortal/Documents/M2/grille_processed/251.docx\n",
      "/home/gcortal/Documents/M2/grille_processed/26.docx\n",
      "/home/gcortal/Documents/M2/grille_processed/240.docx\n",
      "/home/gcortal/Documents/M2/grille_processed/412.docx\n",
      "/home/gcortal/Documents/M2/grille_processed/452.docx\n",
      "/home/gcortal/Documents/M2/grille_processed/258.docx\n",
      "/home/gcortal/Documents/M2/grille_processed/407.docx\n",
      "/home/gcortal/Documents/M2/grille_processed/256.docx\n",
      "/home/gcortal/Documents/M2/grille_processed/562.docx\n",
      "/home/gcortal/Documents/M2/grille_processed/143.docx\n",
      "/home/gcortal/Documents/M2/grille_processed/528.docx\n",
      "/home/gcortal/Documents/M2/grille_processed/349.docx\n",
      "/home/gcortal/Documents/M2/grille_processed/221.docx\n",
      "/home/gcortal/Documents/M2/grille_processed/204.docx\n",
      "/home/gcortal/Documents/M2/grille_processed/73.docx\n",
      "/home/gcortal/Documents/M2/grille_processed/589.docx\n",
      "/home/gcortal/Documents/M2/grille_processed/485.docx\n",
      "/home/gcortal/Documents/M2/grille_processed/14.docx\n",
      "/home/gcortal/Documents/M2/grille_processed/126.docx\n",
      "/home/gcortal/Documents/M2/grille_processed/130.docx\n",
      "/home/gcortal/Documents/M2/grille_processed/282.docx\n",
      "/home/gcortal/Documents/M2/grille_processed/341.docx\n",
      "/home/gcortal/Documents/M2/grille_processed/501.docx\n",
      "/home/gcortal/Documents/M2/grille_processed/476.docx\n",
      "/home/gcortal/Documents/M2/grille_processed/53.docx\n",
      "/home/gcortal/Documents/M2/grille_processed/324.docx\n",
      "/home/gcortal/Documents/M2/grille_processed/450.docx\n",
      "/home/gcortal/Documents/M2/grille_processed/112.docx\n",
      "/home/gcortal/Documents/M2/grille_processed/42.docx\n",
      "/home/gcortal/Documents/M2/grille_processed/215.docx\n",
      "/home/gcortal/Documents/M2/grille_processed/164.docx\n",
      "/home/gcortal/Documents/M2/grille_processed/430.docx\n",
      "/home/gcortal/Documents/M2/grille_processed/502.docx\n",
      "/home/gcortal/Documents/M2/grille_processed/206.docx\n",
      "/home/gcortal/Documents/M2/grille_processed/273.docx\n",
      "/home/gcortal/Documents/M2/grille_processed/191.docx\n",
      "/home/gcortal/Documents/M2/grille_processed/401.docx\n",
      "/home/gcortal/Documents/M2/grille_processed/175.docx\n",
      "/home/gcortal/Documents/M2/grille_processed/413.docx\n",
      "/home/gcortal/Documents/M2/grille_processed/292.docx\n",
      "/home/gcortal/Documents/M2/grille_processed/94.docx\n",
      "/home/gcortal/Documents/M2/grille_processed/205.docx\n",
      "/home/gcortal/Documents/M2/grille_processed/497.docx\n",
      "/home/gcortal/Documents/M2/grille_processed/227.docx\n",
      "/home/gcortal/Documents/M2/grille_processed/68.docx\n",
      "/home/gcortal/Documents/M2/grille_processed/434.docx\n",
      "/home/gcortal/Documents/M2/grille_processed/510.docx\n",
      "/home/gcortal/Documents/M2/grille_processed/37.docx\n",
      "/home/gcortal/Documents/M2/grille_processed/189.docx\n",
      "/home/gcortal/Documents/M2/grille_processed/166.docx\n",
      "/home/gcortal/Documents/M2/grille_processed/484.docx\n",
      "/home/gcortal/Documents/M2/grille_processed/103.docx\n",
      "/home/gcortal/Documents/M2/grille_processed/21.docx\n",
      "/home/gcortal/Documents/M2/grille_processed/299.docx\n",
      "/home/gcortal/Documents/M2/grille_processed/513.docx\n",
      "/home/gcortal/Documents/M2/grille_processed/571.docx\n",
      "/home/gcortal/Documents/M2/grille_processed/141.docx\n",
      "/home/gcortal/Documents/M2/grille_processed/255.docx\n",
      "/home/gcortal/Documents/M2/grille_processed/158.docx\n",
      "/home/gcortal/Documents/M2/grille_processed/334.docx\n",
      "/home/gcortal/Documents/M2/grille_processed/409.docx\n",
      "/home/gcortal/Documents/M2/grille_processed/254.docx\n",
      "/home/gcortal/Documents/M2/grille_processed/417.docx\n",
      "/home/gcortal/Documents/M2/grille_processed/483.docx\n",
      "/home/gcortal/Documents/M2/grille_processed/588.docx\n"
     ]
    },
    {
     "name": "stdout",
     "output_type": "stream",
     "text": [
      "/home/gcortal/Documents/M2/grille_processed/209.docx\n",
      "/home/gcortal/Documents/M2/grille_processed/231.docx\n",
      "/home/gcortal/Documents/M2/grille_processed/265.docx\n",
      "/home/gcortal/Documents/M2/grille_processed/272.docx\n",
      "/home/gcortal/Documents/M2/grille_processed/107.docx\n",
      "/home/gcortal/Documents/M2/grille_processed/52.docx\n",
      "/home/gcortal/Documents/M2/grille_processed/58.docx\n",
      "/home/gcortal/Documents/M2/grille_processed/71.docx\n",
      "/home/gcortal/Documents/M2/grille_processed/347.docx\n",
      "/home/gcortal/Documents/M2/grille_processed/10.docx\n",
      "/home/gcortal/Documents/M2/grille_processed/573.docx\n",
      "/home/gcortal/Documents/M2/grille_processed/389.docx\n",
      "/home/gcortal/Documents/M2/grille_processed/550.docx\n",
      "/home/gcortal/Documents/M2/grille_processed/436.docx\n",
      "/home/gcortal/Documents/M2/grille_processed/236.docx\n",
      "/home/gcortal/Documents/M2/grille_processed/359.docx\n",
      "/home/gcortal/Documents/M2/grille_processed/582.docx\n",
      "/home/gcortal/Documents/M2/grille_processed/551.docx\n",
      "/home/gcortal/Documents/M2/grille_processed/472.docx\n",
      "/home/gcortal/Documents/M2/grille_processed/454.docx\n",
      "/home/gcortal/Documents/M2/grille_processed/60.docx\n",
      "/home/gcortal/Documents/M2/grille_processed/339.docx\n",
      "/home/gcortal/Documents/M2/grille_processed/518.docx\n",
      "/home/gcortal/Documents/M2/grille_processed/287.docx\n",
      "/home/gcortal/Documents/M2/grille_processed/369.docx\n",
      "/home/gcortal/Documents/M2/grille_processed/278.docx\n",
      "/home/gcortal/Documents/M2/grille_processed/399.docx\n",
      "/home/gcortal/Documents/M2/grille_processed/379.docx\n",
      "/home/gcortal/Documents/M2/grille_processed/366.docx\n",
      "/home/gcortal/Documents/M2/grille_processed/67.docx\n",
      "/home/gcortal/Documents/M2/grille_processed/267.docx\n",
      "/home/gcortal/Documents/M2/grille_processed/302.docx\n",
      "/home/gcortal/Documents/M2/grille_processed/398.docx\n",
      "/home/gcortal/Documents/M2/grille_processed/208.docx\n",
      "/home/gcortal/Documents/M2/grille_processed/552.docx\n",
      "/home/gcortal/Documents/M2/grille_processed/284.docx\n",
      "/home/gcortal/Documents/M2/grille_processed/495.docx\n",
      "/home/gcortal/Documents/M2/grille_processed/517.docx\n",
      "/home/gcortal/Documents/M2/grille_processed/288.docx\n",
      "/home/gcortal/Documents/M2/grille_processed/92.docx\n",
      "/home/gcortal/Documents/M2/grille_processed/455.docx\n",
      "/home/gcortal/Documents/M2/grille_processed/345.docx\n",
      "/home/gcortal/Documents/M2/grille_processed/331.docx\n",
      "/home/gcortal/Documents/M2/grille_processed/477.docx\n",
      "/home/gcortal/Documents/M2/grille_processed/241.docx\n",
      "/home/gcortal/Documents/M2/grille_processed/229.docx\n",
      "/home/gcortal/Documents/M2/grille_processed/132.docx\n",
      "/home/gcortal/Documents/M2/grille_processed/524.docx\n",
      "/home/gcortal/Documents/M2/grille_processed/17.docx\n",
      "/home/gcortal/Documents/M2/grille_processed/319.docx\n",
      "/home/gcortal/Documents/M2/grille_processed/440.docx\n",
      "/home/gcortal/Documents/M2/grille_processed/182.docx\n",
      "/home/gcortal/Documents/M2/grille_processed/300.docx\n",
      "/home/gcortal/Documents/M2/grille_processed/125.docx\n",
      "/home/gcortal/Documents/M2/grille_processed/222.docx\n",
      "/home/gcortal/Documents/M2/grille_processed/165.docx\n",
      "/home/gcortal/Documents/M2/grille_processed/146.docx\n",
      "/home/gcortal/Documents/M2/grille_processed/303.docx\n",
      "/home/gcortal/Documents/M2/grille_processed/200.docx\n",
      "/home/gcortal/Documents/M2/grille_processed/404.docx\n",
      "/home/gcortal/Documents/M2/grille_processed/148.docx\n",
      "/home/gcortal/Documents/M2/grille_processed/323.docx\n",
      "/home/gcortal/Documents/M2/grille_processed/47.docx\n",
      "/home/gcortal/Documents/M2/grille_processed/135.docx\n",
      "/home/gcortal/Documents/M2/grille_processed/233.docx\n",
      "/home/gcortal/Documents/M2/grille_processed/40.docx\n",
      "/home/gcortal/Documents/M2/grille_processed/27.docx\n",
      "/home/gcortal/Documents/M2/grille_processed/460.docx\n",
      "/home/gcortal/Documents/M2/grille_processed/381.docx\n",
      "/home/gcortal/Documents/M2/grille_processed/3.docx\n",
      "/home/gcortal/Documents/M2/grille_processed/448.docx\n",
      "/home/gcortal/Documents/M2/grille_processed/18.docx\n",
      "/home/gcortal/Documents/M2/grille_processed/353.docx\n",
      "/home/gcortal/Documents/M2/grille_processed/12.docx\n",
      "/home/gcortal/Documents/M2/grille_processed/136.docx\n",
      "/home/gcortal/Documents/M2/grille_processed/402.docx\n",
      "/home/gcortal/Documents/M2/grille_processed/101.docx\n",
      "/home/gcortal/Documents/M2/grille_processed/578.docx\n",
      "/home/gcortal/Documents/M2/grille_processed/277.docx\n",
      "/home/gcortal/Documents/M2/grille_processed/201.docx\n",
      "/home/gcortal/Documents/M2/grille_processed/444.docx\n",
      "/home/gcortal/Documents/M2/grille_processed/414.docx\n",
      "/home/gcortal/Documents/M2/grille_processed/509.docx\n",
      "/home/gcortal/Documents/M2/grille_processed/467.docx\n",
      "/home/gcortal/Documents/M2/grille_processed/119.docx\n",
      "/home/gcortal/Documents/M2/grille_processed/150.docx\n",
      "/home/gcortal/Documents/M2/grille_processed/36.docx\n",
      "/home/gcortal/Documents/M2/grille_processed/352.docx\n",
      "/home/gcortal/Documents/M2/grille_processed/505.docx\n",
      "/home/gcortal/Documents/M2/grille_processed/332.docx\n",
      "/home/gcortal/Documents/M2/grille_processed/516.docx\n",
      "/home/gcortal/Documents/M2/grille_processed/123.docx\n",
      "/home/gcortal/Documents/M2/grille_processed/548.docx\n",
      "/home/gcortal/Documents/M2/grille_processed/88.docx\n",
      "/home/gcortal/Documents/M2/grille_processed/338.docx\n",
      "/home/gcortal/Documents/M2/grille_processed/385.docx\n",
      "/home/gcortal/Documents/M2/grille_processed/179.docx\n",
      "/home/gcortal/Documents/M2/grille_processed/246.docx\n",
      "/home/gcortal/Documents/M2/grille_processed/283.docx\n",
      "/home/gcortal/Documents/M2/grille_processed/137.docx\n",
      "/home/gcortal/Documents/M2/grille_processed/32.docx\n",
      "/home/gcortal/Documents/M2/grille_processed/203.docx\n",
      "/home/gcortal/Documents/M2/grille_processed/16.docx\n",
      "/home/gcortal/Documents/M2/grille_processed/425.docx\n",
      "/home/gcortal/Documents/M2/grille_processed/546.docx\n",
      "/home/gcortal/Documents/M2/grille_processed/500.docx\n",
      "/home/gcortal/Documents/M2/grille_processed/77.docx\n",
      "/home/gcortal/Documents/M2/grille_processed/105.docx\n",
      "/home/gcortal/Documents/M2/grille_processed/196.docx\n",
      "/home/gcortal/Documents/M2/grille_processed/568.docx\n",
      "/home/gcortal/Documents/M2/grille_processed/361.docx\n",
      "/home/gcortal/Documents/M2/grille_processed/261.docx\n",
      "/home/gcortal/Documents/M2/grille_processed/149.docx\n",
      "/home/gcortal/Documents/M2/grille_processed/224.docx\n",
      "/home/gcortal/Documents/M2/grille_processed/213.docx\n",
      "/home/gcortal/Documents/M2/grille_processed/453.docx\n",
      "/home/gcortal/Documents/M2/grille_processed/81.docx\n",
      "/home/gcortal/Documents/M2/grille_processed/371.docx\n",
      "/home/gcortal/Documents/M2/grille_processed/147.docx\n",
      "/home/gcortal/Documents/M2/grille_processed/396.docx\n",
      "/home/gcortal/Documents/M2/grille_processed/276.docx\n"
     ]
    }
   ],
   "source": [
    "data = list()\n",
    "docs = glob.iglob('/home/gcortal/Documents/M2/grille_processed/*.docx')\n",
    "for doc in docs:\n",
    "    print(doc)\n",
    "    path = Path(doc)\n",
    "    document = Document(doc)\n",
    "    text = get_text(document)\n",
    "    data.append([path.name] + get_stats(document) + [text])"
   ]
  },
  {
   "cell_type": "code",
   "execution_count": 81,
   "id": "8733f0f5",
   "metadata": {},
   "outputs": [],
   "source": [
    "grille_df = pd.DataFrame(data, columns = ['name', 'nb_table', 'nb_row', 'nb_col', 'nb_section', 'nb_paragraph', 'text'])"
   ]
  },
  {
   "cell_type": "code",
   "execution_count": 82,
   "id": "b8df8be4",
   "metadata": {},
   "outputs": [
    {
     "data": {
      "text/html": [
       "<div>\n",
       "<style scoped>\n",
       "    .dataframe tbody tr th:only-of-type {\n",
       "        vertical-align: middle;\n",
       "    }\n",
       "\n",
       "    .dataframe tbody tr th {\n",
       "        vertical-align: top;\n",
       "    }\n",
       "\n",
       "    .dataframe thead th {\n",
       "        text-align: right;\n",
       "    }\n",
       "</style>\n",
       "<table border=\"1\" class=\"dataframe\">\n",
       "  <thead>\n",
       "    <tr style=\"text-align: right;\">\n",
       "      <th></th>\n",
       "      <th>name</th>\n",
       "      <th>nb_table</th>\n",
       "      <th>nb_row</th>\n",
       "      <th>nb_col</th>\n",
       "      <th>nb_section</th>\n",
       "      <th>nb_paragraph</th>\n",
       "      <th>text</th>\n",
       "    </tr>\n",
       "  </thead>\n",
       "  <tbody>\n",
       "    <tr>\n",
       "      <th>0</th>\n",
       "      <td>142.docx</td>\n",
       "      <td>2</td>\n",
       "      <td>7</td>\n",
       "      <td>4</td>\n",
       "      <td>1</td>\n",
       "      <td>6</td>\n",
       "      <td>[Aéroport lors du passage de la sécurité, la p...</td>\n",
       "    </tr>\n",
       "    <tr>\n",
       "      <th>1</th>\n",
       "      <td>432.docx</td>\n",
       "      <td>2</td>\n",
       "      <td>12</td>\n",
       "      <td>4</td>\n",
       "      <td>1</td>\n",
       "      <td>5</td>\n",
       "      <td>[Vendredi dernier au bureau. Nous sommes 5 dan...</td>\n",
       "    </tr>\n",
       "    <tr>\n",
       "      <th>2</th>\n",
       "      <td>168.docx</td>\n",
       "      <td>2</td>\n",
       "      <td>8</td>\n",
       "      <td>2</td>\n",
       "      <td>1</td>\n",
       "      <td>1</td>\n",
       "      <td>[Colère L’examen du permis de conduire. Cet ex...</td>\n",
       "    </tr>\n",
       "    <tr>\n",
       "      <th>3</th>\n",
       "      <td>558.docx</td>\n",
       "      <td>4</td>\n",
       "      <td>11</td>\n",
       "      <td>4</td>\n",
       "      <td>1</td>\n",
       "      <td>11</td>\n",
       "      <td>[Un matin, j’arrive au travail, je croise une ...</td>\n",
       "    </tr>\n",
       "    <tr>\n",
       "      <th>4</th>\n",
       "      <td>481.docx</td>\n",
       "      <td>2</td>\n",
       "      <td>8</td>\n",
       "      <td>4</td>\n",
       "      <td>1</td>\n",
       "      <td>5</td>\n",
       "      <td>[Un vendredi après-midi, je fais passer un par...</td>\n",
       "    </tr>\n",
       "    <tr>\n",
       "      <th>...</th>\n",
       "      <td>...</td>\n",
       "      <td>...</td>\n",
       "      <td>...</td>\n",
       "      <td>...</td>\n",
       "      <td>...</td>\n",
       "      <td>...</td>\n",
       "      <td>...</td>\n",
       "    </tr>\n",
       "    <tr>\n",
       "      <th>593</th>\n",
       "      <td>81.docx</td>\n",
       "      <td>0</td>\n",
       "      <td>0</td>\n",
       "      <td>0</td>\n",
       "      <td>1</td>\n",
       "      <td>25</td>\n",
       "      <td>[]</td>\n",
       "    </tr>\n",
       "    <tr>\n",
       "      <th>594</th>\n",
       "      <td>371.docx</td>\n",
       "      <td>2</td>\n",
       "      <td>9</td>\n",
       "      <td>4</td>\n",
       "      <td>1</td>\n",
       "      <td>3</td>\n",
       "      <td>[Il y a 3 semaines, la fille de mon ami est ve...</td>\n",
       "    </tr>\n",
       "    <tr>\n",
       "      <th>595</th>\n",
       "      <td>147.docx</td>\n",
       "      <td>2</td>\n",
       "      <td>8</td>\n",
       "      <td>2</td>\n",
       "      <td>1</td>\n",
       "      <td>1</td>\n",
       "      <td>[Colère Les faits se sont passés un samedi soi...</td>\n",
       "    </tr>\n",
       "    <tr>\n",
       "      <th>596</th>\n",
       "      <td>396.docx</td>\n",
       "      <td>2</td>\n",
       "      <td>11</td>\n",
       "      <td>4</td>\n",
       "      <td>1</td>\n",
       "      <td>5</td>\n",
       "      <td>[Formation Acta. Alain fait un tour de table p...</td>\n",
       "    </tr>\n",
       "    <tr>\n",
       "      <th>597</th>\n",
       "      <td>276.docx</td>\n",
       "      <td>4</td>\n",
       "      <td>5</td>\n",
       "      <td>4</td>\n",
       "      <td>1</td>\n",
       "      <td>2</td>\n",
       "      <td>[Mardi dernier, j’ai retrouvé dans le restaura...</td>\n",
       "    </tr>\n",
       "  </tbody>\n",
       "</table>\n",
       "<p>598 rows × 7 columns</p>\n",
       "</div>"
      ],
      "text/plain": [
       "         name  nb_table  nb_row  nb_col  nb_section  nb_paragraph  \\\n",
       "0    142.docx         2       7       4           1             6   \n",
       "1    432.docx         2      12       4           1             5   \n",
       "2    168.docx         2       8       2           1             1   \n",
       "3    558.docx         4      11       4           1            11   \n",
       "4    481.docx         2       8       4           1             5   \n",
       "..        ...       ...     ...     ...         ...           ...   \n",
       "593   81.docx         0       0       0           1            25   \n",
       "594  371.docx         2       9       4           1             3   \n",
       "595  147.docx         2       8       2           1             1   \n",
       "596  396.docx         2      11       4           1             5   \n",
       "597  276.docx         4       5       4           1             2   \n",
       "\n",
       "                                                  text  \n",
       "0    [Aéroport lors du passage de la sécurité, la p...  \n",
       "1    [Vendredi dernier au bureau. Nous sommes 5 dan...  \n",
       "2    [Colère L’examen du permis de conduire. Cet ex...  \n",
       "3    [Un matin, j’arrive au travail, je croise une ...  \n",
       "4    [Un vendredi après-midi, je fais passer un par...  \n",
       "..                                                 ...  \n",
       "593                                                 []  \n",
       "594  [Il y a 3 semaines, la fille de mon ami est ve...  \n",
       "595  [Colère Les faits se sont passés un samedi soi...  \n",
       "596  [Formation Acta. Alain fait un tour de table p...  \n",
       "597  [Mardi dernier, j’ai retrouvé dans le restaura...  \n",
       "\n",
       "[598 rows x 7 columns]"
      ]
     },
     "execution_count": 82,
     "metadata": {},
     "output_type": "execute_result"
    }
   ],
   "source": [
    "grille_df"
   ]
  },
  {
   "cell_type": "code",
   "execution_count": 83,
   "id": "01e4c64a",
   "metadata": {},
   "outputs": [
    {
     "name": "stdout",
     "output_type": "stream",
     "text": [
      "\\begin{tabular}{lrrrrrl}\n",
      "\\toprule\n",
      "    name &  nb\\_table &  nb\\_row &  nb\\_col &  nb\\_section &  nb\\_paragraph &                                               text \\\\\n",
      "\\midrule\n",
      "142.docx &         2 &       7 &       4 &           1 &             6 & [Aéroport lors du passage de la sécurité, la pe... \\\\\n",
      "432.docx &         2 &      12 &       4 &           1 &             5 & [Vendredi dernier au bureau. Nous sommes 5 dans... \\\\\n",
      "168.docx &         2 &       8 &       2 &           1 &             1 & [Colère L’examen du permis de conduire. Cet exa... \\\\\n",
      "558.docx &         4 &      11 &       4 &           1 &            11 & [Un matin, j’arrive au travail, je croise une c... \\\\\n",
      "481.docx &         2 &       8 &       4 &           1 &             5 & [Un vendredi après-midi, je fais passer un part... \\\\\n",
      "504.docx &         2 &       8 &       4 &           1 &             5 & [Un lundi matin, j’arrive dans le service de ma... \\\\\n",
      "297.docx &         1 &       9 &       4 &           1 &             1 & [Le lundi 3 mai, je devais me rendre à un collo... \\\\\n",
      "525.docx &         4 &       8 &       4 &           1 &             7 & [Salle de cours de l’ESO le lundi 2 mars 09 l’a... \\\\\n",
      " 33.docx &         1 &       7 &       4 &           1 &             1 & [Mon frère m’a lancé un défi parce qu’il me jug... \\\\\n",
      "249.docx &         1 &       9 &       4 &           1 &            12 & [Mardi dernier en fin d’après-midi, je patiente... \\\\\n",
      "496.docx &         2 &       8 &       4 &           1 &             5 & [En avril 2012, j’ai fait une conférence à un f... \\\\\n",
      " 91.docx &         2 &       8 &       2 &           1 &             2 & [Colère Au retour du repas, tous les fichiers q... \\\\\n",
      "356.docx &         1 &       8 &       2 &           1 &             0 & [Emotion (colère) Je marche rapidement dans la ... \\\\\n",
      "124.docx &         2 &       9 &       4 &           1 &             3 & [A mon bureau au travail, peu avant la pause dé... \\\\\n",
      "376.docx &         2 &      11 &       4 &           1 &             5 & [J’étais au laboratoire. Je m’aperçois qu’il me... \\\\\n",
      " 74.docx &         0 &       0 &       0 &           1 &            28 &                                                 [] \\\\\n",
      "350.docx &         2 &       7 &       2 &           1 &             4 & [Emotion (colère) Il y a quelques temps, j'entr... \\\\\n",
      " 59.docx &         2 &       9 &       4 &           1 &             3 & [Au Quick, vers 16 heures alors que je n’avais ... \\\\\n",
      " 28.docx &         4 &       8 &       4 &           1 &            11 & [Une pause pour une récupération : dans le maga... \\\\\n",
      " 45.docx &         4 &       8 &       4 &           1 &             7 & [Cela s’est passé le samedi 14 mars, un week-en... \\\\\n",
      "159.docx &         2 &       6 &       4 &           1 &             5 & [Dans le cadre de mon travail en entreprise, j'... \\\\\n",
      "176.docx &         2 &       7 &       4 &           1 &             7 & [Lieu de travail (entreprise) En matinée autour... \\\\\n",
      "368.docx &         3 &       6 &       2 &           1 &            11 & [Emotion (colère) Je suis assistante dans le ca... \\\\\n",
      " 41.docx &         2 &       6 &       4 &           1 &             6 & [Le matin en arrivant au travail mon patron m’a... \\\\\n",
      "286.docx &         1 &       3 &       2 &           1 &             1 &                                                 [] \\\\\n",
      "583.docx &         4 &       6 &       4 &           1 &             1 & [Lieu : Ecole Supérieure d’Ostéopathie. Temps :... \\\\\n",
      "458.docx &         1 &       3 &       4 &           1 &             1 & [J’apprends jeudi dernier à 14H30 par Mme X, ma... \\\\\n",
      "275.docx &         4 &       8 &       4 &           1 &             7 & [J’ai passé une semaine de vacances chez ma mèr... \\\\\n",
      "580.docx &         1 &      11 &       4 &           1 &             1 &                                                 [] \\\\\n",
      " 29.docx &         2 &       8 &       4 &           1 &             7 & [Secrétariat de mon entreprise – Moi et la secr... \\\\\n",
      "269.docx &         1 &       9 &       4 &           1 &             1 & [Mercredi matin, il est 8H, je suis à mon burea... \\\\\n",
      " 82.docx &         2 &       9 &       4 &           1 &             3 & [Nous sommes le vendredi 8 avril 2011. Je dois ... \\\\\n",
      "357.docx &         2 &       7 &       2 &           1 &             7 & [Emotion (colère) Un inspecteur veut encore ven... \\\\\n",
      "530.docx &         4 &       8 &       4 &           1 &             4 & [Une après midi, à mon labo, pendant une discus... \\\\\n",
      "157.docx &         0 &       0 &       0 &           1 &            61 &                                                 [] \\\\\n",
      "114.docx &         2 &       6 &       4 &           1 &             5 & [Je devais intégrer un mail pour un client qui ... \\\\\n",
      "188.docx &         2 &       7 &       4 &           1 &             4 & [Lieu : dans le train Temps : dans la soirée Pe... \\\\\n",
      "542.docx &         8 &       8 &       4 &           1 &             7 & [Un peu avant 8 heures, quelques minutes avant ... \\\\\n",
      "313.docx &         3 &       9 &       2 &           1 &             6 & [Colère En moto, à Lyon. J’essaie de me faufile... \\\\\n",
      "232.docx &         4 &       6 &       4 &           1 &             0 & [La réunion pédagogique vient de se terminer, j... \\\\\n",
      "  2.docx &         2 &       7 &       4 &           1 &            10 & [Lundi, mon collègue ostéo m'annonce qu'il va p... \\\\\n",
      "156.docx &         2 &       8 &       2 &           1 &             2 & [Colère Je suis rentré chez moi le dimanche mat... \\\\\n",
      "320.docx &         2 &       8 &       2 &           1 &             3 & [Colère Je suis directeur adjoins sur un centre... \\\\\n",
      "520.docx &         2 &       3 &       4 &           1 &             3 & [Chez mes beaux parents, au mois de janvier 201... \\\\\n",
      "597.docx &         8 &       8 &       4 &           1 &             8 & [Jeudi 19 mars 2009, aujourd’hui je suis en grè... \\\\\n",
      "207.docx &         6 &       7 &       4 &           1 &             9 & [La semaine dernière à cause d’un virus j’ai dû... \\\\\n",
      "226.docx &         1 &       8 &       4 &           1 &             1 & [- Le jeudi matin débutait la formation ACTA. P... \\\\\n",
      "424.docx &         1 &      11 &       4 &           1 &             4 & [Au téléphone, un soir, avec ma mère, la conver... \\\\\n",
      "266.docx &         4 &      10 &       4 &           1 &             8 & [Il y a deux semaines lors d'un séminaire de li... \\\\\n",
      "104.docx &         1 &       7 &       4 &           1 &             4 & [Au travail Mon tuteur Il m’a accusé de mentir:... \\\\\n",
      "462.docx &         2 &       8 &       4 &           1 &             5 & [Alors que j'étais à ACTA (en Décembre), j'ai a... \\\\\n",
      "315.docx &         2 &       9 &       2 &           1 &             4 & [Colère Je donne un cours en amphi un vendredi ... \\\\\n",
      "498.docx &         2 &      10 &       4 &           1 &             7 & [Au lycée, devant la machine à café, à la récré... \\\\\n",
      "354.docx &         1 &       8 &       2 &           1 &             1 & [Emotion (colère) J’ai oublié mon chargeur de t... \\\\\n",
      "310.docx &         2 &       8 &       2 &           1 &             7 & [Colère Je suis dans ma chambre, au téléphone a... \\\\\n",
      "538.docx &         4 &       8 &       4 &           1 &             7 & [Lieu : vestiaire de l'équipe de rugby de bobig... \\\\\n",
      "180.docx &         4 &       4 &       2 &           1 &             3 & [Colère Cette émotion c’est passé à la gare. Il... \\\\\n",
      "239.docx &         1 &       9 &       4 &           1 &             1 & [Je suis au cabinet, seul, nous sommes lundi et... \\\\\n",
      " 13.docx &         1 &       8 &       2 &           1 &             0 & [Emotion (colère) Nous sommes partis en week-en... \\\\\n",
      "108.docx &         2 &       7 &       4 &           1 &             8 & [Chez moi dans l’après-midi au téléphone à mon ... \\\\\n",
      "  5.docx &         2 &       7 &       4 &           1 &             9 & [Dimanche 2 avril, belle journée ensoleillée, b... \\\\\n",
      " 78.docx &         4 &       7 &       4 &           1 &             9 & [Lieu : Je venais de quitter mon cours, et je m... \\\\\n",
      "285.docx &         1 &       7 &       4 &           2 &            12 & [Je me suis portée volontaire d'une opération m... \\\\\n",
      "210.docx &         1 &       8 &       4 &           1 &             3 & [Annonce d’une grève des contrôleurs aériens Dé... \\\\\n",
      "392.docx &         3 &      11 &       4 &           1 &            10 & [Discussion au coin café, le matin. Un collègue... \\\\\n",
      "118.docx &         1 &       7 &       4 &           1 &             4 & [Ce dimanche, ma copine a écourté son séjour ch... \\\\\n",
      "503.docx &         3 &       3 &       4 &           1 &             5 & [J’ai reçu un courriel d’un étudiant le 02 déce... \\\\\n",
      "309.docx &         3 &       6 &       2 &           1 &             1 & [Emotion (colère, peur, tristesse, joie) Au lab... \\\\\n",
      "293.docx &         4 &       5 &       4 &           1 &             1 & [Mardi dernier, j’ai retrouvé dans le restauran... \\\\\n",
      "270.docx &         4 &       6 &       4 &           1 &             0 & [La réunion pédagogique vient de se terminer, j... \\\\\n",
      "519.docx &         1 &      11 &       4 &           1 &             1 & [Samedi soir aux 60 ans du père d’une de mes me... \\\\\n",
      "121.docx &         6 &       7 &       4 &           1 &             9 & [Vendredi 2 avril, une amie m’annonce que mon c... \\\\\n",
      "217.docx &         1 &       9 &       4 &           1 &             1 & [J’étais à un séminaire de recherche auquel je ... \\\\\n",
      "421.docx &         2 &      11 &       4 &           1 &             5 & [Un dimanche matin au centre équestre, nous som... \\\\\n",
      "423.docx &         2 &       9 &       4 &           1 &             3 & [Il y a 3 semaines, la fille de mon ami est ven... \\\\\n",
      " 25.docx &         2 &       8 &       4 &           1 &             3 & [Il est 17h55, l’action se passe dans un train ... \\\\\n",
      "264.docx &         1 &       4 &       2 &           1 &             1 &                                                 [] \\\\\n",
      "127.docx &         2 &       7 &       4 &           1 &             6 & [Un soir, dans ma chambre, je m’énerve contre m... \\\\\n",
      "295.docx &         4 &       8 &       4 &           1 &             4 & [Au cours de la soirée du réveillon 2010, un am... \\\\\n",
      "234.docx &         1 &       9 &       4 &           1 &             1 & [Je suis dans une boutique de téléphonie mobile... \\\\\n",
      "557.docx &         4 &      11 &       4 &           1 &             4 & [Sur le chemin de la fac, 8h45, avant d'aller e... \\\\\n",
      "395.docx &         2 &      11 &       4 &           1 &             6 & [Ayant reçu une demande de stage non obligatoir... \\\\\n",
      "358.docx &         3 &       6 &       2 &           1 &             6 & [Emotion : peur Je dois appeller un responsable... \\\\\n",
      "506.docx &         4 &       3 &       4 &           1 &             8 & [Mercredi, 12H07, devant l'école primaire. Je v... \\\\\n",
      "526.docx &         6 &       8 &       4 &           1 &             7 & [J’indique à la secrétaire du département que j... \\\\\n",
      "152.docx &         2 &       7 &       4 &           1 &             6 & [Mon patron me reproche d’avoir perdu trop de t... \\\\\n",
      "365.docx &         3 &       6 &       2 &           1 &             5 & [Emotion (colère, peur, tristesse, joie), Emoti... \\\\\n",
      "490.docx &         1 &       8 &       4 &           1 &             4 & [Il est 20h, nous dinons au restaurant avec 3 a... \\\\\n",
      "343.docx &         2 &       8 &       2 &           1 &             3 & [Colère En classe, travaux dirigés, j’explique ... \\\\\n",
      "479.docx &         1 &       3 &       4 &           1 &             1 & [Samedi, après le spectacle d’Antigone à la com... \\\\\n",
      "177.docx &         2 &       6 &       4 &           1 &             5 & [Durant la semaine d’absence de Marc, j’ai comm... \\\\\n",
      "263.docx &         1 &       8 &       4 &           1 &             1 & [J’étais en réunion pédagogique du secteur clin... \\\\\n",
      "489.docx &         2 &       8 &       4 &           1 &             5 & [Le réveil sonne. Je demande à Philippe, mon ma... \\\\\n",
      "533.docx &         4 &       8 &       4 &           1 &             5 & [Un peu avant 8 heures, quelques minutes avant ... \\\\\n",
      "493.docx &         3 &       3 &       4 &           1 &             3 & [Je sors d’une réunion professionnelle, jeudi 2... \\\\\n",
      "155.docx &         2 &       5 &       4 &           1 &             1 & [Turbulence en plein au milieu de l’océan : un ... \\\\\n",
      "289.docx &         2 &       6 &       4 &           1 &             1 & [J’étais chez moi, assise à mon bureau. C’était... \\\\\n",
      " 23.docx &         2 &       6 &       4 &           1 &             5 & [Une cliente envoie un mail disant qu’elle n’a ... \\\\\n",
      "242.docx &         1 &       4 &       2 &           1 &             0 &                                                 [] \\\\\n",
      "507.docx &         2 &       8 &       4 &           1 &             5 & [Au lycée, devant la machine à café, à la récré... \\\\\n",
      "162.docx &         4 &       8 &       4 &           1 &             7 & [Cela s’est passé le samedi 14 mars, un week-en... \\\\\n",
      "531.docx &         4 &       8 &       4 &           1 &             7 & [J'ai l'impression que ma voisine de bureau (un... \\\\\n",
      "547.docx &         4 &       6 &       4 &           1 &             5 & [Lieu : mon cabinet. Je suis assise à mon burea... \\\\\n",
      " 51.docx &         2 &       7 &       4 &           1 &             4 & [Un collègue m’agace lui ne fait rien, c’est to... \\\\\n",
      "253.docx &         1 &      10 &       4 &           1 &             2 & [Hier, j’appelle un ami chez qui je dois aller ... \\\\\n",
      "488.docx &         3 &       3 &       4 &           1 &             3 & [J’ai reçu un courriel d’un étudiant le 02 déce... \\\\\n",
      " 24.docx &         6 &       7 &       4 &           1 &             9 & [Vendredi 2 avril, une amie m’annonce que mon c... \\\\\n",
      "491.docx &         2 &       8 &       4 &           1 &             9 & [Mon réseau électrique est vétuste et ce qui de... \\\\\n",
      "394.docx &         2 &      11 &       4 &           1 &             7 & [TD avec 28 étudiants de L3 biologie. Les étudi... \\\\\n",
      "443.docx &         2 &      11 &       4 &           1 &             3 & [Lors de la réunion parents –professeurs fin ja... \\\\\n",
      "384.docx &         2 &       6 &       4 &           1 &             4 & [Un dimanche matin au centre équestre, nous som... \\\\\n",
      "120.docx &         1 &       5 &       4 &           1 &             1 & [Le 13 janvier 2012 vers 13 heures, moi et quat... \\\\\n",
      "212.docx &         4 &       8 &       4 &           1 &             7 & [J’ai passé une semaine de vacances chez ma mèr... \\\\\n",
      "511.docx &         2 &       8 &       4 &           1 &             5 &                                               [, ] \\\\\n",
      "576.docx &         8 &       8 &       4 &           1 &             8 & [Jeudi 19 mars 2009, aujourd’hui je suis en grè... \\\\\n",
      "375.docx &         2 &       3 &       4 &           1 &             3 & [Il y a quatre mois, après une journée de trava... \\\\\n",
      "598.docx &         4 &       8 &       4 &           1 &             4 & [Il y a quelques mois la personne chargée de la... \\\\\n",
      "237.docx &         1 &       9 &       4 &           1 &            12 & [Je suis en conférence jeudi dernier à Rome. Da... \\\\\n",
      "346.docx &         3 &       6 &       2 &           1 &             8 & [Emotion (colère, peur, tristesse, joie) Après ... \\\\\n",
      "186.docx &         2 &       6 &       4 &           1 &             5 & [Quand je suis arrivée au travail un matin je n... \\\\\n",
      "539.docx &         8 &       8 &       4 &           1 &             7 & [Un peu avant 8 heures, quelques minutes avant ... \\\\\n",
      " 83.docx &         4 &       4 &       2 &           1 &             3 & [Colère Le banquier m’appelle pour me dire qu’i... \\\\\n",
      "257.docx &         1 &       8 &       4 &           1 &             1 & [Je suis sur la dernière piste de ski du séjour... \\\\\n",
      "433.docx &         2 &      11 &       4 &           1 &             5 & [J’étais au laboratoire et j’avais besoin d’uti... \\\\\n",
      "340.docx &         3 &       9 &       2 &           1 &             5 & [Peur Je suis sur le quai de la gare, il fait t... \\\\\n",
      "268.docx &         1 &       7 &       4 &           2 &            12 & [Je me suis portée volontaire d'une opération m... \\\\\n",
      " 98.docx &         4 &       8 &       4 &           1 &            11 & [Au cours d'un week-end à Amsterdam avec des am... \\\\\n",
      "416.docx &         3 &       3 &       4 &           1 &             4 & [A la maison, un matin, il y a une quinzaine de... \\\\\n",
      "174.docx &         0 &       0 &       0 &           1 &            51 &                                                 [] \\\\\n",
      "471.docx &         2 &       3 &       4 &           1 &             2 & [Nous sommes un jeudi matin pendant une séance ... \\\\\n",
      "457.docx &         4 &      11 &       4 &           1 &            10 & [x x x x x x x x, x x x x x x x x, x x x x x x ... \\\\\n",
      " 72.docx &         4 &       8 &       4 &           1 &             9 & [Mardi 07 mai 2013. Le market et les commerciau... \\\\\n",
      " 15.docx &         0 &       0 &       0 &           1 &             3 &                                                 [] \\\\\n",
      "429.docx &         2 &       9 &       4 &           1 &             2 & [Lundi 14h après le repas ; lecture d’un sms d’... \\\\\n",
      "218.docx &         4 &      10 &       4 &           1 &             5 & [Lundi matin, 10H30, j’anime le tutorat cliniqu... \\\\\n",
      " 38.docx &         2 &       8 &       2 &           1 &             1 & [Colère Chez moi, en fin de journée, je venais ... \\\\\n",
      "464.docx &         2 &       8 &       4 &           1 &             4 & [Le réveil sonne samedi matin. Je demande à Phi... \\\\\n",
      "169.docx &         2 &       8 &       4 &           1 &             7 & [J’attendais mon bus un lundi matin pour aller ... \\\\\n",
      "523.docx &         2 &       8 &       4 &           1 &             3 & [Je suis au cabinet et en ce moment l’activité ... \\\\\n",
      "245.docx &         1 &      10 &       4 &           1 &             2 & [Je viens de signer l’achat des murs du cabinet... \\\\\n",
      "317.docx &         2 &       8 &       2 &           1 &             3 &                                     [Colère, Peur] \\\\\n",
      " 79.docx &         1 &       4 &       5 &           1 &             2 & [Joie Un jour un collègue que j’appréciais tout... \\\\\n",
      "238.docx &         1 &       9 &       4 &           1 &             1 & [Mercredi matin, il est 8H, je suis à mon burea... \\\\\n",
      "377.docx &         4 &      11 &       4 &           1 &            10 & [Un vendredi soir, à 17h, le jour des vacances ... \\\\\n",
      "478.docx &         3 &       8 &       4 &           1 &             5 & [A la clinique lors de mon opération des dents ... \\\\\n",
      " 69.docx &         2 &       8 &       4 &           1 &             7 & [Au bureau avec mon collègue développeur, une s... \\\\\n",
      "461.docx &         1 &       8 &       4 &           1 &             4 & [Le réveil sonne samedi matin. Je demande à Phi... \\\\\n",
      "515.docx &         2 &       3 &       4 &           1 &             2 & [Je suis dans le métro avec ma grosse valise un... \\\\\n",
      "190.docx &         4 &       7 &       4 &           1 &             9 & [Un soir de semaine, je me rends à la pizzeria.... \\\\\n",
      "329.docx &         3 &       6 &       2 &           1 &             4 & [Emotion (colère, peur, tristesse, joie) A la s... \\\\\n",
      " 11.docx &         2 &       7 &       4 &           1 &            14 & [Contexte : Nous avons toujours eu l’intention ... \\\\\n",
      "431.docx &         2 &       6 &       4 &           1 &             2 & [Dans une salle de laboratoire, la semaine dern... \\\\\n",
      "543.docx &         5 &       7 &       4 &           1 &             5 & [Bureau,10h du matin, moi, Lecture du mail dans... \\\\\n",
      "561.docx &         6 &       8 &       4 &           1 &            12 & [Vendredi dernier (20 mars) je devais préparer ... \\\\\n",
      " 31.docx &         1 &       7 &       4 &           1 &             2 & [Il y a 2 jours, après une journée de cours je ... \\\\\n",
      "486.docx &         3 &       8 &       4 &           1 &             5 & [Mercredi 12h00 à l’école, jury pour toute la j... \\\\\n",
      "194.docx &         4 &       8 &       4 &           1 &             7 & [Sur autoroute A104 ma moto est tombe’ en panne... \\\\\n",
      "116.docx &         2 &       7 &       4 &           1 &             4 & [Journée de travail où il y a un projet à rendr... \\\\\n",
      "115.docx &         4 &       8 &       4 &           1 &            11 & [Je devais rendre mon devoir de français il y a... \\\\\n",
      "348.docx &         1 &       6 &       2 &           1 &             6 & [Emotion (colère, peur, tristesse, joie) Un ami... \\\\\n",
      "544.docx &         1 &       8 &       4 &           1 &             5 & [Il y a trois semaines (et depuis quelques mois... \\\\\n",
      "410.docx &         2 &      11 &       4 &           1 &             5 & [Si joie : ø Si joie : ø, Si joie : ø Si joie : ø] \\\\\n",
      "372.docx &         2 &      11 &       4 &           1 &             5 & [J’étais au laboratoire. Je m’aperçois qu’il me... \\\\\n",
      "390.docx &         2 &       7 &       4 &           1 &             2 & [Lors de la réunion parents –professeurs fin ja... \\\\\n",
      "468.docx &         2 &       8 &       4 &           1 &            13 & [Cachan, module ACTA n°3, pendant le cours. J’e... \\\\\n",
      "456.docx &         2 &      11 &       4 &           1 &             5 & [Je vois ma mère entrain de bricoler. Ces soupi... \\\\\n",
      "449.docx &         2 &       6 &       4 &           1 &             5 & [Pour comprendre ce qu’il s’est passé, il faut ... \\\\\n",
      "172.docx &         4 &       7 &       4 &           1 &             9 & [En ce moment je suis colère car le travail que... \\\\\n",
      "181.docx &         1 &       8 &       2 &           1 &             0 & [Colère Lors de mon congé maternité en 2005, j’... \\\\\n",
      "482.docx &         2 &       8 &       4 &           1 &             9 & [Salle café du laboratoire, heure du repas. Nou... \\\\\n",
      " 46.docx &         0 &       0 &       0 &           1 &            62 &                                                 [] \\\\\n",
      "559.docx &         6 &       8 &       4 &           1 &             7 & [Je suis au volant de ma voiture. Devant moi il... \\\\\n",
      " 19.docx &         1 &       4 &       5 &           1 &             2 &                                             [Joie] \\\\\n",
      "427.docx &         2 &       9 &       4 &           1 &             5 & [J’étais au laboratoire et j’avais besoin d’uti... \\\\\n",
      "193.docx &         0 &       0 &       0 &           1 &             9 &                                                    \\\\\n",
      "512.docx &         2 &       8 &       4 &           1 &             5 & [Je suis au cabinet et en ce moment l’activité ... \\\\\n",
      "311.docx &         2 &       8 &       2 &           1 &             2 & [Colère On est dimanche soir vers 19h. Je suis ... \\\\\n",
      "373.docx &         1 &       9 &       4 &           1 &             0 & [Fabrice et moi sommes dans le jardin ; il est ... \\\\\n",
      " 84.docx &         2 &       9 &       4 &           1 &             3 & [Lors de mon dernier entraînement de badminton,... \\\\\n",
      "572.docx &         2 &      11 &       4 &           1 &             3 & [Un peu avant 8 heures, quelques minutes avant ... \\\\\n",
      "521.docx &         4 &      11 &       4 &           1 &            10 & [Depuis deux ans, je suis un patient pour des c... \\\\\n",
      "335.docx &         3 &       6 &       2 &           1 &             0 & [Colère (et peur en fait) Discussion avec mes c... \\\\\n",
      "536.docx &         4 &       6 &       4 &           1 &             1 & [Lieu : Ecole Supérieure d’Ostéopathie. Temps :... \\\\\n",
      "570.docx &         6 &       8 &       4 &           1 &             7 & [Il ya deux mois, dans un supermarché, je faisa... \\\\\n",
      "281.docx &         1 &       9 &       4 &           1 &             1 & [J’étais à un séminaire de recherche auquel je ... \\\\\n",
      "380.docx &         2 &       6 &       4 &           1 &             2 & [J’apporte lundi à 8h ma voiture chez le garagi... \\\\\n",
      "442.docx &         1 &       9 &       4 &           1 &             1 & [Alain parle à Chantal. Il lui fait une remarqu... \\\\\n",
      "322.docx &         3 &       9 &       2 &           1 &             6 & [Colère Je me trouve dans un bus avec beaucoup ... \\\\\n",
      "290.docx &         1 &       8 &       4 &           1 &             1 & [Il y 2 semaines, un professeur avec qui je doi... \\\\\n",
      "325.docx &         3 &       9 &       2 &           1 &             2 & [Colère Je suis dans ma voiture, je suis arrêté... \\\\\n",
      "296.docx &         4 &       5 &       4 &           1 &             1 & [Mardi dernier, j’ai retrouvé dans le restauran... \\\\\n",
      "129.docx &         2 &       6 &       4 &           1 &             9 &                                               [, ] \\\\\n",
      " 90.docx &         2 &       6 &       4 &           1 &             5 & [A une demie heure de la fin de ma journée, mon... \\\\\n",
      "153.docx &         4 &       8 &       4 &           1 &            11 & [Il y a 3 semaines je finis un gros projet de r... \\\\\n",
      "587.docx &         2 &       8 &       4 &           1 &             2 & [Situation qui se déroule sur un marché de mon ... \\\\\n",
      "244.docx &         1 &       9 &       4 &           1 &             1 & [Je rentre d’un week-end dans le sud le trajet ... \\\\\n",
      "252.docx &         1 &       9 &       4 &           1 &             1 & [Le lundi 29 mars, j’avais l’obligation d’assis... \\\\\n",
      "280.docx &         5 &       6 &       4 &           1 &             4 & [Il y a un mois, j’arrive à l’ENS et je me prés... \\\\\n",
      "228.docx &         1 &       8 &       4 &           1 &             1 & [J’étais en réunion pédagogique du secteur clin... \\\\\n",
      " 34.docx &         6 &       7 &       4 &           1 &             9 & [Un collègue pendant le stage m’as dit que je n... \\\\\n",
      "117.docx &         4 &       8 &       4 &           1 &             5 & [A chaque fois que j’apperçois la gardienne de ... \\\\\n",
      "534.docx &         4 &       8 &       4 &           1 &             7 & [L’année dernière j’ai prété mon cahier de cour... \\\\\n",
      "307.docx &         3 &       9 &       2 &           1 &             7 & [Colère Dans le train en rentrant du troisième ... \\\\\n",
      "565.docx &         4 &      11 &       4 &           1 &             1 & [Chez moi, un soir, peu de temps après être ren... \\\\\n",
      "312.docx &         2 &       7 &       2 &           1 &             4 & [Emotion (colère) Dimanche matin, ayant mis mon... \\\\\n",
      "279.docx &         1 &      10 &       4 &           1 &             2 & [Je viens de signer l’achat des murs du cabinet... \\\\\n",
      "537.docx &         4 &       6 &       4 &           1 &            11 & [Un matin, j’arrive au travail, je croise une c... \\\\\n",
      " 43.docx &         4 &       8 &       4 &           1 &            11 & [J’ai ressenti une petite colère durant la dern... \\\\\n",
      "298.docx &         1 &       9 &       4 &           1 &             1 & [Je suis devant le banquier, il me demande ENCO... \\\\\n",
      "291.docx &         1 &       8 &       4 &           1 &             1 & [Il y 2 semaines, un professeur avec qui je doi... \\\\\n",
      "475.docx &         4 &       3 &       4 &           1 &             8 & [Mercredi, 12H07, devant l'école primaire. Je v... \\\\\n",
      "197.docx &         4 &       8 &       4 &           1 &             7 & [Dans le RER, je m’apprêtais à entrer dans le t... \\\\\n",
      "171.docx &         2 &       8 &       2 &           1 &             2 & [Colère Je suis rentré chez moi le dimanche mat... \\\\\n",
      " 93.docx &         4 &       7 &       4 &           1 &             9 & [Le RER fonctionne au ralenti, s’arrête entre l... \\\\\n",
      "439.docx &         2 &       6 &       4 &           1 &             2 & [A la bibliothèque d'Italie, ce samedi. La dame... \\\\\n",
      "408.docx &         2 &       3 &       4 &           1 &             6 & [Un vendredi soir, à 17h, le jour des vacances ... \\\\\n",
      "569.docx &         3 &       9 &       4 &           1 &             8 & [Dimanche dernier en fin de journée je prépare ... \\\\\n",
      "328.docx &         2 &       8 &       2 &           1 &             3 & [Colère Centre d’examen du permis moto. Avec pl... \\\\\n",
      "422.docx &         2 &       9 &       4 &           1 &             2 & [Durant les vacances de février, Fabrice et moi... \\\\\n",
      "554.docx &         4 &       8 &       4 &           1 &             7 & [Je suis a Dublin, je viens d’arriver a l’hôtel... \\\\\n",
      "106.docx &         4 &       7 &       4 &           1 &             9 & [C’était à la fin de mes deux premières semaine... \\\\\n",
      "306.docx &         3 &       6 &       2 &           1 &             1 & [Emotion (colère, peur, tristesse, joie) Assis ... \\\\\n",
      "451.docx &         1 &       3 &       4 &           1 &             2 & [A la maison, mon mari, qui est le beau-père de... \\\\\n",
      "574.docx &         4 &      11 &       4 &           1 &             2 & [D’habitude je me lève avant mon mari. Quand il... \\\\\n",
      "406.docx &         4 &      11 &       4 &           1 &             7 & [Dans une salle de laboratoire, la semaine dern... \\\\\n",
      "553.docx &         4 &       8 &       4 &           1 &             7 &                                        [, , , / /] \\\\\n",
      "465.docx &         2 &       8 &       4 &           1 &             5 & [Une amie juriste m’a demandé mes notes prises ... \\\\\n",
      "403.docx &         4 &      11 &       4 &           1 &            10 & [A la maison, mon mari, qui est le beau-père de... \\\\\n",
      "294.docx &         1 &       8 &       4 &           1 &            13 & [J’ai pris rendez-vous début janvier chez l’oph... \\\\\n",
      "438.docx &         2 &      11 &       4 &           1 &             5 &                             [x x x x x, x x x x x] \\\\\n",
      " 63.docx &         4 &       7 &       4 &           1 &            10 & [Au travail, je devais m’occuper de l’intégrati... \\\\\n",
      "131.docx &         1 &       7 &       4 &           1 &             1 & [Lieu : Salle de cours à Jussieu. Date : Mercre... \\\\\n",
      " 75.docx &         2 &       5 &       4 &           1 &             1 & [Turbulence en plein au milieu de l’océan : un ... \\\\\n",
      "308.docx &         3 &       6 &       2 &           1 &             2 & [colère Salle de TD, les étudiants font des exe... \\\\\n",
      " 20.docx &         2 &       9 &       4 &           1 &             3 & [Mercredi matin à 10h30 je reçois un appel en a... \\\\\n",
      "247.docx &         1 &       8 &       4 &           1 &             1 & [Je suis assis à la table d’un café. A 100 mètr... \\\\\n",
      " 95.docx &         0 &       0 &       0 &           1 &            26 &                                                 [] \\\\\n",
      "128.docx &         4 &       4 &       2 &           1 &             3 & [Colère J'étais dans le bureau de ma boss en fi... \\\\\n",
      "327.docx &         2 &       8 &       2 &           1 &             2 & [Colère Le week-end dernier, je suis rentré che... \\\\\n",
      "216.docx &         4 &      10 &       4 &           1 &            12 & [Mardi dernier, j’ai retrouvé dans le restauran... \\\\\n",
      "535.docx &         2 &       8 &       4 &           1 &             1 & [Le 15 juin 2009. Je suis convoquée à Valence p... \\\\\n",
      "262.docx &         1 &       9 &       4 &           1 &             1 & [Je rentre d’un week-end dans le sud le trajet ... \\\\\n",
      " 85.docx &         4 &       4 &       2 &           1 &             4 &                    [Colère, Peur, Tristesse, Joie] \\\\\n",
      "428.docx &         2 &      11 &       4 &           1 &             6 & [Au téléphone, un soir, avec ma mère, la conver... \\\\\n",
      "363.docx &         1 &       8 &       2 &           1 &             0 & [Emotion (colère) Nous sommes partis en week-en... \\\\\n",
      "192.docx &         1 &       7 &       4 &           1 &             1 & [Au téléphone, le soir juste avant de se couche... \\\\\n",
      "415.docx &         2 &       6 &       4 &           1 &             4 & [Un dimanche matin au centre équestre, nous som... \\\\\n",
      "522.docx &         3 &       3 &       4 &           1 &             3 & [J’ai reçu un courriel d’un étudiant le 02 déce... \\\\\n",
      "411.docx &         1 &       3 &       4 &           1 &             4 & [Il y a une semaine environ, Alex, un collègue,... \\\\\n",
      "418.docx &         1 &       9 &       4 &           1 &             1 & [Alain parle à Chantal. Il lui fait une remarqu... \\\\\n",
      "387.docx &         2 &       9 &       4 &           1 &             2 & [Formation Acta. Alain fait un tour de table po... \\\\\n",
      "318.docx &         3 &       9 &       2 &           1 &             6 & [Colère Je travaille sur PC et sur Mac. Ma clef... \\\\\n",
      " 56.docx &         4 &       7 &       4 &           1 &             9 & [En se moment je suis colère car le travail que... \\\\\n",
      " 35.docx &         0 &       0 &       0 &           1 &             9 &                                                    \\\\\n",
      "459.docx &         3 &       3 &       4 &           1 &             3 & [Je sors d’une réunion professionnelle, jeudi 2... \\\\\n",
      "540.docx &         4 &       8 &       4 &           1 &             7 & [Salle de cours de l’ESO le lundi 2 mars 09 l’a... \\\\\n",
      "469.docx &         2 &       8 &       4 &           1 &            10 &                                               [, ] \\\\\n",
      " 49.docx &         0 &       0 &       0 &           1 &            26 &                                                 [] \\\\\n",
      "564.docx &         4 &       6 &       4 &           1 &             2 & [D’habitude je me lève avant mon mari. Quand il... \\\\\n",
      " 61.docx &         4 &       8 &       4 &           1 &             7 & [Il est 17h55, l’action se passe dans un train ... \\\\\n",
      "138.docx &         1 &       7 &       4 &           1 &             1 & [L’histoire se déroule dans un bar que je fréqu... \\\\\n",
      "374.docx &         1 &      40 &       3 &           1 &            11 & [Mes commentaires sur mes questions Question ou... \\\\\n",
      "301.docx &         1 &       9 &       4 &           1 &             1 & [Une amie devait venir de Paris à Lyon. Elle av... \\\\\n",
      "  6.docx &         2 &       7 &       4 &           1 &             9 & [J’étais à un pot de départ d’une laborantine q... \\\\\n",
      "100.docx &         2 &       7 &       4 &           1 &             6 & [Secrétariat, Lundi matin durant la pause, j’ai... \\\\\n",
      "330.docx &         3 &       9 &       2 &           1 &             7 & [Colère Il y a 3 jours, vers 13H30 a mon cabine... \\\\\n",
      "590.docx &         6 &       8 &       4 &           1 &            11 & [Vendredi dernier (20 mars) je devais préparer ... \\\\\n",
      "326.docx &         1 &       9 &       2 &           1 &             3 & [Colère Dans le train en rentrant du troisième ... \\\\\n",
      " 89.docx &         1 &       4 &       5 &           1 &             2 & [Joie J’ai passé une bonne soirée avec des amis... \\\\\n",
      "351.docx &         2 &       7 &       2 &           1 &             5 &                 [Emotion (colère), Emotion (peur)] \\\\\n",
      "  1.docx &         1 &       8 &       2 &           1 &             0 & [Emotion (colère) Il est 17 h, j’ai un rendez-v... \\\\\n",
      "139.docx &         6 &       4 &       2 &           1 &             3 & [Colère Lors d’une journée de stage dans la soc... \\\\\n",
      "393.docx &         2 &      11 &       4 &           1 &             5 & [Ambassade de Russie, il y a quinze jours, deux... \\\\\n",
      "160.docx &         2 &       8 &       2 &           1 &             3 & [Colère Au retour du repas, tous les fichiers q... \\\\\n",
      "274.docx &         1 &       8 &       4 &           1 &             1 & [Il y a un mois je suis retournée dans un endro... \\\\\n",
      "555.docx &         2 &       8 &       4 &           1 &             1 & [Le 15 juin 2009. Je suis convoquée à Valence p... \\\\\n",
      "102.docx &         2 &       6 &       4 &           1 &             5 & [Nous travaillons en équipe sur notre site, de ... \\\\\n",
      "173.docx &         2 &       8 &       2 &           1 &             1 & [Colère Chez moi, en fin de journée, je venais ... \\\\\n",
      " 65.docx &         2 &       7 &       4 &           1 &             6 & [J'ai fais une commande sur internet, et après ... \\\\\n",
      "195.docx &         4 &       8 &       4 &           1 &            11 & [Mon collègue responsable d'un projet. Il me fa... \\\\\n",
      "499.docx &         4 &      11 &       4 &           1 &            10 & [Chez mes beaux parents, au mois de janvier 201... \\\\\n",
      "110.docx &         1 &       7 &       4 &           1 &             5 & [Je ne trouvais pas de sujet pour le devoir de ... \\\\\n",
      "  9.docx &         1 &       8 &       2 &           1 &             0 & [Emotion (colère) Je marche rapidement dans la ... \\\\\n",
      "364.docx &         3 &       6 &       2 &           1 &             6 & [Emotion (colère, peur, tristesse, joie) Je doi... \\\\\n",
      "163.docx &         2 &       7 &       4 &           1 &             6 & [A L’UPMC bâtiment 14.15 salle 108, le jeudi 23... \\\\\n",
      " 80.docx &         2 &       7 &       4 &           1 &             6 & [Mon moment de colère s’est passé au travail av... \\\\\n",
      "575.docx &         6 &       8 &       4 &           1 &             7 & [Il ya deux mois, dans un supermarché, je faisa... \\\\\n",
      "560.docx &         4 &      11 &       4 &           1 &             5 & [Lieu : mon cabinet. Je suis assise à mon burea... \\\\\n",
      "400.docx &         2 &       9 &       4 &           1 &             5 & [Ambassade de Russie, il y a quinze jours, deux... \\\\\n",
      "420.docx &         2 &       9 &       4 &           1 &             2 & [Lors d'un entretien avec mon référent et la co... \\\\\n",
      "  8.docx &         1 &       8 &       2 &           1 &             1 & [Emotion (colère) J’ai oublié mon chargeur de t... \\\\\n",
      " 64.docx &         2 &       6 &       4 &           1 &             5 & [Un développeur stagiaire m’a demandé pourquoi ... \\\\\n",
      "508.docx &         2 &       3 &       4 &           1 &             2 & [Chez moi devant mon ordi, je consulte mes mail... \\\\\n",
      " 39.docx &         4 &       4 &       2 &           1 &             3 & [Colère Au restaurant (11/02/08 – 20h30), avec ... \\\\\n",
      "595.docx &         1 &       8 &       4 &           1 &             5 & [Il y a trois semaines (et depuis quelques mois... \\\\\n",
      "355.docx &         3 &       6 &       2 &           1 &             5 & [Emotion : colère C’est la fin d’un cours, en s... \\\\\n",
      "514.docx &         4 &      11 &       4 &           1 &            10 & [Lors d’une consultation, je suis venue cherche... \\\\\n",
      "577.docx &         3 &       9 &       4 &           1 &             8 & [École supérieure d'ostéopathie, lundi dernier,... \\\\\n",
      "337.docx &         2 &       8 &       2 &           1 &             2 & [Colère A mon domicile, il y une semaine. A l’i... \\\\\n",
      "161.docx &         1 &       4 &       5 &           1 &             2 & [Joie Chez moi. Une amie, moi. Une amie qui a f... \\\\\n",
      "594.docx &         4 &       8 &       4 &           1 &             7 & [L’année dernière j’ai prêté mon cahier de cour... \\\\\n",
      "579.docx &         3 &       9 &       4 &           1 &             7 & [Dimanche dernier en fin de journée je prépare ... \\\\\n",
      "304.docx &         3 &       6 &       2 &           1 &             1 & [Emotion (colère, peur, tristesse, joie) Au lab... \\\\\n",
      "223.docx &         1 &      10 &       4 &           1 &             2 & [Hier, j’appelle un ami chez qui je dois aller ... \\\\\n",
      "154.docx &         0 &       0 &       0 &           1 &            69 &                                                 [] \\\\\n",
      "202.docx &         3 &       8 &       4 &           1 &             7 & [Au travail, avec des collègues, lorsque l’on m... \\\\\n",
      "527.docx &         3 &       7 &       4 &           1 &             3 & [Sur le chemin de la fac, 8h45, avant d'aller e... \\\\\n",
      "591.docx &         3 &       9 &       4 &           1 &             8 & [Un mercredi après-midi, cours de pratique P1. ... \\\\\n",
      " 70.docx &         2 &       7 &       4 &           1 &             6 & [Travail, ma chef me demande de rester plus lon... \\\\\n",
      "243.docx &         4 &      10 &       4 &           1 &             4 & [En faisant les courses le samedi matin, mon ma... \\\\\n",
      "419.docx &         2 &       6 &       4 &           1 &             2 & [Un collègue m’informe que ma chef voudrait me ... \\\\\n",
      "199.docx &         2 &       6 &       4 &           1 &             5 & [En rentrant du travail, je m’installe conforta... \\\\\n",
      " 54.docx &         0 &       0 &       0 &           1 &            36 &                                                 [] \\\\\n",
      "  4.docx &         1 &       8 &       2 &           1 &             4 &                                 [Emotion (colère)] \\\\\n",
      " 48.docx &         0 &       0 &       0 &           1 &            31 &                                                 [] \\\\\n",
      "151.docx &         2 &       8 &       2 &           1 &             1 & [Colère Les faits se sont passés un samedi soir... \\\\\n",
      "549.docx &         4 &       9 &       4 &           1 &             8 & [École supérieure d'ostéopathie, lundi dernier,... \\\\\n",
      "463.docx &         2 &       8 &       4 &           1 &            11 & [La semaine dernière, vendredi, je demande à Ba... \\\\\n",
      "445.docx &         1 &       6 &       4 &           1 &             2 & [Ayant reçu une demande de stage non obligatoir... \\\\\n",
      " 86.docx &         2 &       6 &       4 &           1 &             5 & [Un chef de projet demande aux alternants de tr... \\\\\n",
      "447.docx &         2 &       9 &       4 &           1 &             2 & [Lors d’une pause de cours pendant la formation... \\\\\n",
      " 97.docx &         1 &       7 &       4 &           1 &             1 & [Le mercredi 07 mars 2012, j’ai eu un rattrapag... \\\\\n",
      "220.docx &         1 &       4 &       2 &           1 &             1 &                                                 [] \\\\\n",
      "585.docx &         3 &       9 &       4 &           1 &             8 & [Un mercredi après-midi, cours de pratique P1. ... \\\\\n",
      "378.docx &         4 &      11 &       4 &           1 &            10 & [A la maison, dimanche dernier après-midi. Nous... \\\\\n",
      "596.docx &         8 &       0 &       0 &           1 &             5 & [, Je suis dans le train et j’ai décidé de term... \\\\\n",
      "144.docx &         6 &       7 &       4 &           1 &             9 & [Après avoir raccompagné un collègue de travail... \\\\\n",
      "271.docx &         1 &       4 &       2 &           1 &             0 &                                                 [] \\\\\n",
      "  7.docx &         2 &       7 &       4 &           1 &             8 & [J’etais au bureau de Representation de Taiwan ... \\\\\n",
      " 96.docx &         0 &       0 &       0 &           1 &            70 &                                                 [] \\\\\n",
      " 76.docx &         0 &       0 &       0 &           1 &            28 &                                                 [] \\\\\n",
      "545.docx &         6 &       8 &       4 &           1 &             7 & [Je suis au volant de ma voiture. Devant moi il... \\\\\n",
      "494.docx &         2 &       3 &       4 &           1 &             3 & [Une petite colère. Je suis au restaurant de l’... \\\\\n",
      "314.docx &         2 &       8 &       2 &           1 &             2 & [Colère Le week-end dernier, je suis rentré che... \\\\\n",
      "316.docx &         3 &       6 &       2 &           1 &             3 & [Peur En voiture sur le chemin du lycée , un ma... \\\\\n",
      "198.docx &         2 &       6 &       4 &           1 &             5 & [Une collègue nous a fait un retour d'un bug qu... \\\\\n",
      "532.docx &         8 &       8 &       4 &           1 &             8 & [Jeudi 19 mars 2009, aujourd’hui je suis en grè... \\\\\n",
      "248.docx &         1 &       3 &       2 &           1 &             1 &                                                 [] \\\\\n",
      "219.docx &         1 &       9 &       4 &           1 &             1 & [Je suis en conférence jeudi dernier à Rome. Da... \\\\\n",
      " 66.docx &         2 &       7 &       4 &           1 &             3 & [Un collègue m’agace un peu par son comportemen... \\\\\n",
      "435.docx &         2 &       9 &       4 &           1 &             5 & [Le labo, il y a une semaine. Je suis avec un c... \\\\\n",
      "344.docx &         1 &       8 &       2 &           1 &             0 & [Emotion (colère) Il est 17 h, j’ai un rendez-v... \\\\\n",
      " 30.docx &         6 &       7 &       4 &           1 &             9 & [Un rendez vous avec quelqu’un un mardi matin, ... \\\\\n",
      "470.docx &         2 &       8 &       4 &           1 &            16 & [Aujourd’hui, lundi 19 janvier, je suis sur mon... \\\\\n",
      " 87.docx &         0 &       0 &       0 &           1 &            37 &                                                 [] \\\\\n",
      "405.docx &         5 &      11 &       4 &           1 &            12 & [Il y a 3 ans, j’effectuais chez moi des démarc... \\\\\n",
      "437.docx &         2 &       6 &       4 &           1 &             4 & [Un dimanche matin au centre équestre, nous som... \\\\\n",
      " 50.docx &         4 &       8 &       4 &           1 &             7 & [Lors d'un salon où j'étais exposant, mon stand... \\\\\n",
      "388.docx &         4 &      11 &       4 &           1 &            10 & [Dans une salle de laboratoire, la semaine dern... \\\\\n",
      "487.docx &         1 &      11 &       4 &           1 &             1 & [Samedi soir aux 60 ans du père d’une de mes me... \\\\\n",
      "592.docx &         6 &       0 &       0 &           1 &             7 & [, Un soir, je suis fatiguée, et mon mari veut ... \\\\\n",
      "133.docx &         0 &       0 &       0 &           1 &            32 &                                                 [] \\\\\n",
      "167.docx &         0 &       0 &       0 &           1 &            37 &                                                 [] \\\\\n",
      "336.docx &         3 &       9 &       2 &           1 &             6 & [Colère En moto, à Lyon. J’essaie de me faufile... \\\\\n",
      " 62.docx &         4 &       8 &       4 &           1 &             7 & [Lors d'un salon où j'étais exposant, mon stand... \\\\\n",
      "178.docx &         1 &       7 &       4 &           1 &             4 & [J’ai rendez-vous avec un ami le vendredi à 19h... \\\\\n",
      "134.docx &         4 &       8 &       4 &           1 &             7 & [(Cela succède à la grille Tristesse) On est le... \\\\\n",
      "586.docx &         4 &       8 &       4 &           1 &             7 & [Nous sommes avec un groupe de copains. Mon mar... \\\\\n",
      "185.docx &         2 &       7 &       4 &           1 &             6 & [Lors d’une soirée dans un bar avec des amis, j... \\\\\n",
      "593.docx &         4 &       8 &       4 &           1 &             7 & [Je suis a Dublin, je viens d’arriver a l’hôtel... \\\\\n",
      "556.docx &         4 &       8 &       4 &           1 &             4 & [Une après midi, à mon labo, pendant une discus... \\\\\n",
      "305.docx &         3 &       9 &       2 &           1 &             7 & [Colère Il y a 3 jours, vers 13H30 a mon cabine... \\\\\n",
      "259.docx &         1 &       6 &       4 &           2 &            13 & [Je suis chez moi. J’ouvre une enveloppe qui es... \\\\\n",
      "397.docx &         2 &      10 &       4 &           1 &             2 & [Fabrice et moi sommes dans le jardin ; il est ... \\\\\n",
      "367.docx &         1 &       8 &       2 &           1 &             0 & [Emotion (colère) Je suis actif au sein d’un le... \\\\\n",
      "566.docx &         4 &       8 &       4 &           1 &             4 & [Il y a quelques mois la personne chargée de la... \\\\\n",
      "563.docx &         6 &       8 &       4 &           1 &             6 & [Conversation téléphonique avec une collègue en... \\\\\n",
      " 57.docx &         2 &       9 &       4 &           1 &             4 & [Les faits se sont déroulés à l’aéroport Roissy... \\\\\n",
      "541.docx &         4 &       8 &       4 &           1 &             7 & [Lieu : vestiaire de l'équipe de rugby de bobig... \\\\\n",
      "170.docx &         2 &       7 &       4 &           1 &             6 & [, A la suite des résultats du premier tour des... \\\\\n",
      "441.docx &         2 &      11 &       4 &           1 &             5 & [J’étais au laboratoire. Je m’aperçois qu’il me... \\\\\n",
      "446.docx &         3 &       9 &       4 &           1 &             7 & [Discussion au coin café, le matin. Un collègue... \\\\\n",
      "113.docx &         2 &       7 &       4 &           1 &             6 & [Je devais me rendre à une école d’ingénieur af... \\\\\n",
      " 99.docx &         2 &       9 &       4 &           1 &             3 & [Le vendredi 18 mars 2011, vers 15h.J’ai reçu u... \\\\\n",
      "362.docx &         2 &       7 &       2 &           1 &             5 & [Emotion (colère) Conférence de l’AFGC sur géni... \\\\\n",
      "250.docx &         1 &       8 &       4 &           1 &             1 & [Il y 2 semaines, un professeur avec qui je doi... \\\\\n",
      "211.docx &         5 &       8 &       4 &           1 &             4 & [Il y a un mois, j’arrive à l’ENS et je me prés... \\\\\n",
      "342.docx &         3 &       6 &       2 &           1 &             1 & [Emotion (colère, peur, tristesse, joie) Samedi... \\\\\n",
      "187.docx &         4 &       8 &       4 &           1 &             7 & [Dans l’entreprise où j’effectue mon stage, j’a... \\\\\n",
      "140.docx &         2 &       9 &       4 &           1 &             3 & [Je suis allée faire les courses et je souhaita... \\\\\n",
      "235.docx &         1 &       6 &       4 &           1 &             4 & [Je suis chez moi. J’ouvre une enveloppe qui es... \\\\\n",
      "122.docx &         4 &       8 &       4 &           1 &             7 & [J’ai promis à mon colocataire de lui préter mo... \\\\\n",
      "184.docx &         4 &       8 &       4 &           1 &            10 & [Mon collègue responsable d'un projet. Il me fa... \\\\\n",
      "360.docx &         2 &       7 &       2 &           1 &             5 & [Emotion (colère) A la fin de mes courses au su... \\\\\n",
      "260.docx &         1 &       9 &       4 &           1 &             1 & [Fin Mars, je profite de quelques jours de vaca... \\\\\n",
      "386.docx &         2 &      11 &       4 &           1 &             7 & [TD avec 28 étudiants de L3 biologie. Les étudi... \\\\\n",
      " 55.docx &         2 &       7 &       4 &           1 &            10 & [Cela se passe chez moi en fin de soirée. Mon f... \\\\\n",
      "480.docx &         2 &       8 &       4 &           1 &             4 & [Une formation a été organisée sur 1 jour et de... \\\\\n",
      "109.docx &         0 &       0 &       0 &           1 &            57 &                                                 [] \\\\\n",
      "333.docx &         2 &       8 &       2 &           1 &             2 & [Colère A mon bureau, un jeudi en fin d’après –... \\\\\n",
      "383.docx &         2 &       9 &       4 &           1 &             5 & [J’étais au laboratoire et j’avais besoin d’uti... \\\\\n",
      "492.docx &         2 &       8 &       4 &           1 &             7 & [Je me rends dans un laboratoire de recherche à... \\\\\n",
      "183.docx &         0 &       0 &       0 &           1 &            38 &                                                 [] \\\\\n",
      "321.docx &         2 &       7 &       2 &           1 &             5 & [Emotion (colère) Dimanche matin, ayant mis mon... \\\\\n",
      "230.docx &         1 &       9 &       4 &           1 &             1 & [Samedi dans la nuit, 2H du matin, chez moi. J’... \\\\\n",
      "584.docx &         4 &       8 &       4 &           1 &             6 & [J'ai l'impression que ma voisine de bureau (un... \\\\\n",
      "370.docx &         2 &       6 &       4 &           1 &             2 & [A la bibliothèque d'Italie, ce samedi. La dame... \\\\\n",
      "529.docx &         6 &       0 &       0 &           1 &             6 & [, Un soir, je suis fatiguée, et mon mari veut ... \\\\\n",
      "473.docx &         3 &       3 &       4 &           1 &             5 & [J’ai reçu un courriel d’un étudiant le 02 déce... \\\\\n",
      "466.docx &         2 &       8 &       4 &           1 &            23 & [Le jour de la rentrée, arrivé la veille du Mex... \\\\\n",
      "474.docx &         2 &       8 &       4 &           1 &             2 & [Mardi 30 décembre, j’ai rendez-vous à 12h30 av... \\\\\n",
      "382.docx &         1 &       6 &       4 &           1 &             1 & [J’accompagne, en voiture, ma fille à la gare. ... \\\\\n",
      "391.docx &         4 &      11 &       4 &           1 &            11 & [A la 1ere séance de formation ACTA, je suis ar... \\\\\n",
      "214.docx &         1 &       9 &       4 &           1 &             1 & [Je suis devant le banquier, il me demande ENCO... \\\\\n",
      "426.docx &         2 &       9 &       4 &           1 &             2 & [Formation Acta. Alain fait un tour de table po... \\\\\n",
      "567.docx &         4 &       8 &       4 &           1 &             4 & [Année dernière, c l’hiver, période de vacances... \\\\\n",
      "111.docx &         1 &       8 &       4 &           1 &             6 & [Au travail, lors de ma pause-café, je vois tou... \\\\\n",
      "145.docx &         1 &       7 &       4 &           1 &             4 & [Aéroport lors du passage de la sécurité, la pe... \\\\\n",
      "581.docx &         4 &      11 &       4 &           1 &             4 & [Il y a quelques mois la personne chargée de la... \\\\\n",
      "225.docx &         4 &      10 &       4 &           1 &             7 & [Au cours de la soirée du réveillon 2010, un am... \\\\\n",
      " 22.docx &         0 &       0 &       0 &           1 &            61 &                                                 [] \\\\\n",
      " 44.docx &         4 &       8 &       4 &           1 &             7 & [(Cela succède à la grille Tristesse) On est le... \\\\\n",
      "251.docx &         4 &       8 &       4 &           1 &             7 & [J’ai passé une semaine de vacances chez ma mèr... \\\\\n",
      " 26.docx &         6 &       7 &       4 &           1 &             9 & [Un collègue pendant le stage m’a dit que je ne... \\\\\n",
      "240.docx &         1 &       8 &       4 &           1 &             1 & [Nous sommes dimanche matin, je suis en train d... \\\\\n",
      "412.docx &         2 &      11 &       4 &           1 &             6 & [J’arrive dans mon bureau à la fac un mardi mat... \\\\\n",
      "452.docx &         4 &      11 &       4 &           1 &            10 & [A la maison, un matin, il y a une quinzaine de... \\\\\n",
      "258.docx &         4 &      10 &       4 &           1 &             7 & [Au cours de la soirée du réveillon 2010, un am... \\\\\n",
      "407.docx &         2 &       9 &       4 &           1 &             5 & [Lors d’une pause de cours pendant la formation... \\\\\n",
      "256.docx &         1 &       9 &       4 &           1 &             0 & [C’est le soir, je suis dans mon lit. Je n’arri... \\\\\n",
      "562.docx &         4 &       8 &       4 &           1 &             7 & [Nous sommes avec un groupe de copains. Mon mar... \\\\\n",
      "143.docx &         2 &       7 &       4 &           1 &             5 & [Le RER fonctionne au ralenti, s’arrête entre l... \\\\\n",
      "528.docx &         4 &       8 &       4 &           1 &             4 & [Il y a quelques mois la personne chargée de la... \\\\\n",
      "349.docx &         3 &       6 &       2 &           1 &             5 & [Emotion (colère, peur, tristesse, joie) Je gar... \\\\\n",
      "221.docx &         1 &       9 &       4 &           1 &             1 & [Une amie devait venir de Paris à Lyon. Elle av... \\\\\n",
      "204.docx &         6 &       7 &       4 &           1 &             9 & [Un rendez vous avec quelqu’un un mardi matin, ... \\\\\n",
      " 73.docx &         1 &       7 &       4 &           1 &             0 & [Étant membre d’une communauté de joueur (jeux ... \\\\\n",
      "589.docx &         6 &       8 &       4 &           1 &             6 & [Conversation téléphonique avec une collègue en... \\\\\n",
      "485.docx &         3 &       3 &       4 &           1 &             3 & [Salle d’examen, début de l’épreuve que je dois... \\\\\n",
      " 14.docx &         2 &       7 &       4 &           1 &            10 & [J’étais à un pot de départ d’une laborantine q... \\\\\n",
      "126.docx &         2 &       7 &       4 &           1 &             6 & [Chez moi, à 21h, avec ma famille, des invités ... \\\\\n",
      "130.docx &         0 &       0 &       0 &           1 &            27 &                                                 [] \\\\\n",
      "282.docx &         1 &       8 &       4 &           1 &             2 & [La scène se situe chez un notaire, en début d’... \\\\\n",
      "341.docx &         3 &       9 &       2 &           1 &             7 & [Colère Je me trouve dans un bus avec beaucoup ... \\\\\n",
      "501.docx &         2 &       3 &       4 &           1 &             2 & [Nous sommes un jeudi matin pendant une séance ... \\\\\n",
      "476.docx &         2 &       3 &       4 &           1 &             2 & [Chez moi devant mon ordi, je consulte mes mail... \\\\\n",
      " 53.docx &         6 &       7 &       4 &           1 &             9 & [Après avoir raccompagné un collègue de travail... \\\\\n",
      "324.docx &         2 &       8 &       2 &           1 &             4 & [Colère Je suis dans ma chambre, au téléphone a... \\\\\n",
      "450.docx &         1 &       6 &       4 &           1 &             1 & [J’accompagne, en voiture, ma fille à la gare. ... \\\\\n",
      "112.docx &         1 &       8 &       4 &           1 &             2 & [Echanges de mails avec mon directeur de thèse ... \\\\\n",
      " 42.docx &         6 &       4 &       2 &           1 &             3 & [Colère Lors d’une journée de stage dans la soc... \\\\\n",
      "215.docx &         1 &       9 &       4 &           1 &             1 & [Le lundi 3 mai, je devais me rendre à un collo... \\\\\n",
      "164.docx &         1 &       9 &       4 &           1 &             1 & [La situation se passe dans un parc d’attractio... \\\\\n",
      "430.docx &         2 &       6 &       4 &           1 &             2 & [Un collègue m’informe que ma chef voudrait me ... \\\\\n",
      "502.docx &         2 &       3 &       4 &           1 &             2 & [Chez mes beaux parents, au mois de janvier 201... \\\\\n",
      "206.docx &         4 &       7 &       4 &           1 &             9 & [Au travail, je devais m’occuper de l’intégrati... \\\\\n",
      "273.docx &         3 &       5 &       4 &           1 &             4 & [Il y a deux semaines lors d'un séminaire de li... \\\\\n",
      "191.docx &         1 &       4 &       5 &           1 &             2 & [Joie Un jour un collègue que j’appréciais tout... \\\\\n",
      "401.docx &         2 &       9 &       4 &           1 &             2 & [Lors d'un entretien avec mon référent et la co... \\\\\n",
      "175.docx &         0 &       0 &       0 &           1 &            29 &                                                 [] \\\\\n",
      "413.docx &         4 &      11 &       4 &           1 &            10 & [A la maison, dimanche dernier après-midi. Nous... \\\\\n",
      "292.docx &         1 &       9 &       4 &           1 &             2 & [C’est un vendredi matin, je me suis garé à che... \\\\\n",
      " 94.docx &         2 &       8 &       4 &           1 &             3 & [Au bureau, vendredi, le dernier jour en entrep... \\\\\n",
      "205.docx &         2 &       6 &       4 &           1 &             6 & [Mes collègues et moi avons reçu une contre inf... \\\\\n",
      "497.docx &         2 &      11 &       4 &           1 &             3 & [Je suis chez moi. Je téléphone à une amie pour... \\\\\n",
      "227.docx &         4 &      10 &       4 &           1 &             5 & [Lundi matin, 10H30, j’anime le tutorat cliniqu... \\\\\n",
      " 68.docx &         2 &       7 &       4 &           1 &             6 & [Un collègue à reproché quelque chose à un autr... \\\\\n",
      "434.docx &         1 &      11 &       4 &           1 &             4 & [Ayant reçu une demande de stage non obligatoir... \\\\\n",
      "510.docx &         1 &       3 &       4 &           1 &             1 & [Samedi, après le spectacle d’Antigone à la com... \\\\\n",
      " 37.docx &         0 &       0 &       0 &           1 &            42 &                                                 [] \\\\\n",
      "189.docx &         2 &       6 &       4 &           1 &             5 & [Pensant venir travailler vendredi, on me dit q... \\\\\n",
      "166.docx &         4 &       7 &       4 &           1 &             9 &                [, , , On ne fait rien, on profite] \\\\\n",
      "484.docx &         2 &       3 &       4 &           1 &             2 & [Je suis dans le métro avec ma grosse valise un... \\\\\n",
      "103.docx &         2 &       7 &       4 &           1 &             6 & [Dans un train sncf pour rentrer chez moi, un c... \\\\\n",
      " 21.docx &         6 &       7 &       4 &           1 &             9 & [(révision d’une croyance, image de soi, du mon... \\\\\n",
      "299.docx &         1 &       8 &       4 &           1 &             1 & [Mercredi matin, je suis dans ma voiture, il ne... \\\\\n",
      "513.docx &         4 &       3 &       4 &           1 &             7 & [J'animais un atelier autour de la parentalité ... \\\\\n",
      "571.docx &         4 &       8 &       4 &           1 &             4 & [Il y a quelques mois la personne chargée de la... \\\\\n",
      "141.docx &         1 &       7 &       4 &           1 &             4 & [Travail, ma chef me demande de rester plus lon... \\\\\n",
      "255.docx &         1 &       8 &       4 &           1 &             1 & [Il y a un mois je suis retournée dans un endro... \\\\\n",
      "158.docx &         2 &       6 &       4 &           1 &            11 & [En entreprise je travaille et tout d’un coup l... \\\\\n",
      "334.docx &         2 &      13 &       2 &           1 &             0 & [Emotion (colère) J’arrive chez moi, le soir, a... \\\\\n",
      "409.docx &         2 &       9 &       4 &           1 &             2 & [Durant les vacances de février, Fabrice et moi... \\\\\n",
      "254.docx &         1 &       9 &       4 &           1 &             2 & [Ma mère est venue passer quelques jours à la m... \\\\\n",
      "417.docx &         2 &      11 &       4 &           1 &             5 & [Le labo, il y a une semaine. Je suis avec un c... \\\\\n",
      "483.docx &         4 &       3 &       4 &           1 &             7 & [J'animais un atelier autour de la parentalité ... \\\\\n",
      "588.docx &         4 &       6 &       4 &           1 &             2 & [Chez moi, un soir, peu de temps après être ren... \\\\\n",
      "209.docx &         0 &       0 &       0 &           1 &            66 &                                                 [] \\\\\n",
      "231.docx &         1 &       9 &       4 &           1 &            12 & [Mardi dernier en fin d’après-midi, je patiente... \\\\\n",
      "265.docx &         1 &       9 &       4 &           1 &             1 & [Un dimanche matin, je vais chercher une tenue ... \\\\\n",
      "272.docx &         4 &       9 &       4 &           1 &             6 & [En faisant les courses le samedi matin, mon ma... \\\\\n",
      "107.docx &         0 &       0 &       0 &           1 &            28 &                                                 [] \\\\\n",
      " 52.docx &         2 &       6 &       4 &           2 &             4 & [Mon tuteur m'a donné un projet assez difficile... \\\\\n",
      " 58.docx &         2 &       7 &       4 &           1 &             5 & [La scène se déroule à la mairie de Houilles à ... \\\\\n",
      " 71.docx &         0 &       0 &       0 &           1 &            26 &                                                 [] \\\\\n",
      "347.docx &         1 &       8 &       2 &           1 &             4 &                                 [Emotion (colère)] \\\\\n",
      " 10.docx &         2 &       7 &       4 &           1 &             8 & [J’étais au cabinet à attendre une patiente qui... \\\\\n",
      "573.docx &         4 &       6 &       4 &           1 &             5 & [Année dernière, c l’hiver, période de vacances... \\\\\n",
      "389.docx &         4 &      11 &       4 &           1 &             7 & [Dans une salle de laboratoire, la semaine dern... \\\\\n",
      "550.docx &         2 &       8 &       4 &           1 &             4 & [Un peu avant 8 heures, quelques minutes avant ... \\\\\n",
      "436.docx &         2 &       6 &       4 &           1 &             7 & [Pour comprendre ce qu’il s’est passé, il faut ... \\\\\n",
      "236.docx &         1 &       6 &       4 &           1 &             1 & [Je suis chez moi. J’ouvre une enveloppe qui es... \\\\\n",
      "359.docx &         2 &       7 &       2 &           1 &             5 & [Emotion (colère) Dans Paris, j’avais rendez-vo... \\\\\n",
      "582.docx &         6 &       8 &       4 &           1 &             7 & [Situation qui se déroule sur un marché de mon ... \\\\\n",
      "551.docx &         6 &       8 &       4 &           1 &             6 & [J’indique à la secrétaire du département que j... \\\\\n",
      "472.docx &         2 &       8 &       4 &           1 &             7 & [Mercredi matin 28 février, en comité d’évaluat... \\\\\n",
      "454.docx &         1 &       9 &       4 &           1 &             1 & [Alain parle à Chantal. Il lui fait une remarqu... \\\\\n",
      " 60.docx &         4 &       4 &       2 &           1 &             3 & [Colère J'étais dans le bureau de ma boss en fi... \\\\\n",
      "339.docx &         3 &       9 &       2 &           1 &             6 & [Colère Je travaille sur PC et sur Mac. Ma clef... \\\\\n",
      "518.docx &         3 &       3 &       4 &           1 &             3 & [Salle d’examen, début de l’épreuve que je dois... \\\\\n",
      "287.docx &         1 &       9 &       4 &           1 &             1 & [Je suis au cabinet, seul, nous sommes lundi et... \\\\\n",
      "369.docx &         3 &       6 &       2 &           1 &             5 & [Emotion : colère Nous sommes en salle des prof... \\\\\n",
      "278.docx &         1 &       9 &       4 &           1 &            12 & [Mardi dernier en fin d’après-midi, je patiente... \\\\\n",
      "399.docx &         4 &      11 &       4 &           1 &            11 & [A la 1ere séance de formation ACTA, je suis ar... \\\\\n",
      "379.docx &         5 &       3 &       4 &           1 &             6 & [Il y a 3 ans, j’effectuais chez moi des démarc... \\\\\n",
      "366.docx &         2 &       7 &       2 &           1 &             4 & [Emotion (colère) Quelqu’un s’assoie à coté de ... \\\\\n",
      " 67.docx &         2 &       8 &       2 &           1 &             2 & [Colère L’examen du permis de conduire. Cet exa... \\\\\n",
      "267.docx &         1 &       9 &       4 &           1 &             1 & [C’est un vendredi matin, je me suis garé à che... \\\\\n",
      "302.docx &         1 &       3 &       2 &           1 &             1 &                                                 [] \\\\\n",
      "398.docx &         2 &       6 &       4 &           1 &             3 & [A la bibliothèque d'Italie, ce samedi. La dame... \\\\\n",
      "208.docx &         2 &       9 &       4 &           1 &             3 & [Aujourd’hui à la fac, nous débutons un nouveau... \\\\\n",
      "552.docx &         3 &       9 &       4 &           1 &             8 & [Dimanche dernier en fin de journée je prépare ... \\\\\n",
      "284.docx &         1 &       9 &       4 &           1 &             1 & [Le lundi 29 mars, j’avais l’obligation d’assis... \\\\\n",
      "495.docx &         2 &       8 &       4 &           1 &             5 & [Un lundi matin, j’arrive dans le service de ma... \\\\\n",
      "517.docx &         4 &      11 &       4 &           1 &            11 & [C‘était le mardi 8 janvier 2013 à l’heure de l... \\\\\n",
      "288.docx &         1 &       9 &       4 &           1 &             1 & [Je reçois un appelle téléphonique du responsab... \\\\\n",
      " 92.docx &         2 &       9 &       4 &           1 &             4 & [J’étais sur une manip avec un collègue. Celle-... \\\\\n",
      "455.docx &         2 &       6 &       4 &           1 &             7 & [TD avec 28 étudiants de L3 biologie. Les étudi... \\\\\n",
      "345.docx &         2 &       7 &       2 &           1 &             5 & [Emotion (colère) Je suis en train de manger av... \\\\\n",
      "331.docx &         2 &       8 &       2 &           1 &             3 & [Colère Assis en terrasse d’un restaurant avec ... \\\\\n",
      "477.docx &         2 &       8 &       4 &           1 &             9 & [Le jeudi matin, lorsque je suis disponible, de... \\\\\n",
      "241.docx &         1 &       8 &       4 &           1 &             1 & [J’ai pris rendez-vous début janvier chez l’oph... \\\\\n",
      "229.docx &         1 &       4 &       2 &           1 &             0 &                                                 [] \\\\\n",
      "132.docx &         1 &       7 &       4 &           1 &             4 & [J'avais une après-midi de libre, je voulais tr... \\\\\n",
      "524.docx &         4 &      11 &       4 &           1 &            10 & [x x x x x x x x, x x x x x x x x, x x x x x x ... \\\\\n",
      " 17.docx &         1 &       8 &       2 &           1 &             0 & [Emotion (colère) Je suis actif au sein d’un le... \\\\\n",
      "319.docx &         2 &       8 &       2 &           1 &             2 & [Colère Je suis à mon appartement, assis face à... \\\\\n",
      "440.docx &         2 &      10 &       4 &           1 &             5 & [Vendredi dernier au bureau. Nous sommes 5 dans... \\\\\n",
      "182.docx &         1 &       7 &       4 &           1 &             1 & [En voiture, je suis fatigué et j'ai envie de m... \\\\\n",
      "300.docx &         1 &      10 &       4 &           1 &             2 & [Il est 7h25, j’arrive devant l’école en voitur... \\\\\n",
      "125.docx &         1 &       7 &       4 &           1 &             1 & [Dans mon entreprise, mon patron, températures ... \\\\\n",
      "222.docx &         1 &       9 &       4 &           1 &            24 & [Mardi dernier en fin d’après-midi, je patiente... \\\\\n",
      "165.docx &         2 &       7 &       4 &           1 &             6 & [Un soir de semaine, je me rends à la pizzeria.... \\\\\n",
      "146.docx &         2 &       9 &       4 &           1 &             3 & [J'étais dans le magasin Surcouf en train de ro... \\\\\n",
      "303.docx &         0 &       0 &       0 &           1 &            11 &                                                 [] \\\\\n",
      "200.docx &         2 &       7 &       4 &           1 &             4 & [Lors d’un workshop censé durer 3h, celui-ci a ... \\\\\n",
      "404.docx &         2 &       6 &       4 &           1 &             4 & [Je vois ma mère entrain de bricoler. Ces soupi... \\\\\n",
      "148.docx &         1 &       7 &       4 &           1 &             1 & [Il y a 5 mois, mon copain m’avait dit qu’il vo... \\\\\n",
      "323.docx &         2 &       8 &       2 &           1 &             2 & [Colère A mon domicile, il y une semaine. A l’i... \\\\\n",
      " 47.docx &         3 &       7 &       4 &           1 &             7 & [C’était à la fin de mes deux premières semaine... \\\\\n",
      "135.docx &         2 &       7 &       4 &           1 &             4 & [Une discussion avec une développeuse de l’équi... \\\\\n",
      "233.docx &         1 &       6 &       4 &           2 &            12 & [Je me suis portée volontaire d'une opération m... \\\\\n",
      " 40.docx &         4 &       8 &       4 &           1 &             7 & [C’était récemment alors que j’avais des problè... \\\\\n",
      " 27.docx &         4 &       8 &       4 &           1 &             7 & [Dans le RER, je m’apprêtais à entrer dans le t... \\\\\n",
      "460.docx &         2 &       8 &       4 &           1 &             8 & [Conseil d’enseignant pour la validation du sem... \\\\\n",
      "381.docx &         2 &       6 &       4 &           1 &             3 & [Dans une salle de laboratoire, la semaine dern... \\\\\n",
      "  3.docx &         2 &       7 &       4 &           1 &            11 & [J’étais à un pot de départ d’une laborantine q... \\\\\n",
      "448.docx &         1 &       3 &       4 &           1 &             2 & [A la maison, mon mari, qui est le beau-père de... \\\\\n",
      " 18.docx &         3 &       4 &       2 &           1 &             3 & [Colère Demande de faire un PowerPoint pour une... \\\\\n",
      "353.docx &         2 &       7 &       2 &           1 &             5 & [Emotion (colère) Les assistants font le cours.... \\\\\n",
      " 12.docx &         1 &       8 &       2 &           1 &             4 & [Emotion (colère) Le travail (toujours ;)), lor... \\\\\n",
      "136.docx &         2 &      11 &       4 &           1 &            14 & [Tous pressés car le travail est en retard et l... \\\\\n",
      "402.docx &         2 &      11 &       4 &           1 &             5 & [Lors d’une pause de cours pendant la formation... \\\\\n",
      "101.docx &         3 &       4 &       2 &           1 &             3 & [Colère Demande de faire un PowerPoint pour une... \\\\\n",
      "578.docx &         4 &       8 &       4 &           1 &             7 & [Un peu avant 8 heures, quelques minutes avant ... \\\\\n",
      "277.docx &         1 &       8 &       4 &           1 &             1 & [J’étais chez moi, assise à mon bureau. C’était... \\\\\n",
      "201.docx &         4 &       8 &       4 &           1 &             7 & [Dans l’entreprise où j’effectue mon stage, j’a... \\\\\n",
      "444.docx &         2 &       6 &       4 &           1 &             5 & [Pour comprendre ce qu’il s’est passé, il faut ... \\\\\n",
      "414.docx &         4 &      11 &       4 &           1 &            10 & [Au lycée durant un conseil de classe dont je s... \\\\\n",
      "509.docx &         2 &      10 &       4 &           1 &             5 & [Au lycée, devant la machine à café, à la récré... \\\\\n",
      "467.docx &         2 &       8 &       4 &           1 &             3 & [Salle de réunion, vendredi 12h avec 3 collègue... \\\\\n",
      "119.docx &         1 &       7 &       4 &           1 &             1 & [A la Poste, il y a environs deux mois, dans l’... \\\\\n",
      "150.docx &         1 &       7 &       4 &           1 &             2 & [Au travail, mon chef de projet m’a dit de cont... \\\\\n",
      " 36.docx &         1 &       8 &       4 &           1 &             2 & [1) Au self, hier lors de la pause déjeuner, un... \\\\\n",
      "352.docx &         3 &       6 &       2 &           1 &            19 & [Emotion (colère, peur, tristesse, joie) Lieu :... \\\\\n",
      "505.docx &         2 &       8 &       4 &           1 &             3 & [Je suis au cabinet et en ce moment l’activité ... \\\\\n",
      "332.docx &         3 &       6 &       2 &           1 &             0 & [Emotion identifiée : colère Je dois organiser ... \\\\\n",
      "516.docx &         4 &      11 &       4 &           1 &             9 & [Je suis chez moi. Je téléphone à une amie pour... \\\\\n",
      "123.docx &         1 &       1 &       4 &           1 &             1 & [Après réflexion, je pense toujours que mon ter... \\\\\n",
      "548.docx &         1 &       8 &       4 &           1 &             5 & [Il y a trois semaines (et depuis quelques mois... \\\\\n",
      " 88.docx &         6 &       7 &       4 &           1 &             9 & [La semaine dernière à cause d’un virus j’ai du... \\\\\n",
      "338.docx &         3 &       6 &       2 &           1 &             0 & [Emotion : « petite joie » (colère, peur, trist... \\\\\n",
      "385.docx &         0 &       0 &       0 &           1 &            24 &                                                 [] \\\\\n",
      "179.docx &         2 &       6 &       4 &           1 &             5 & [Nous avons fait une recherche marchée par visi... \\\\\n",
      "246.docx &         1 &       8 &       4 &           1 &             2 & [La scène se situe chez un notaire, en début d’... \\\\\n",
      "283.docx &         1 &       8 &       4 &           1 &             1 & [- Le jeudi matin débutait la formation ACTA. P... \\\\\n",
      "137.docx &         1 &       7 &       4 &           1 &             2 &                             [1) 2) 3) Vérifier 1)] \\\\\n",
      " 32.docx &         2 &       7 &       4 &           1 &             5 & [Après deux semaines de travail et la fin du mo... \\\\\n",
      "203.docx &         2 &       7 &       4 &           1 &             6 &                                               [, ] \\\\\n",
      " 16.docx &         2 &       7 &       4 &           1 &             8 & [Dimanche 2 avril, belle journée ensoleillée, b... \\\\\n",
      "425.docx &         2 &       6 &       4 &           1 &             2 & [J’apporte lundi à 8h ma voiture chez le garagi... \\\\\n",
      "546.docx &         8 &       0 &       0 &           1 &             7 & [, Je suis dans le train et j’ai décidé de term... \\\\\n",
      "500.docx &         4 &      11 &       4 &           1 &            10 & [Depuis deux ans, je suis un patient pour des c... \\\\\n",
      " 77.docx &         2 &       8 &       2 &           1 &             2 &                                     [Colère, Peur] \\\\\n",
      "105.docx &         0 &       0 &       0 &           1 &            56 &                                                 [] \\\\\n",
      "196.docx &         2 &       6 &       4 &           1 &             5 & [Toute la semaine, j’ai travaillé très dur sur ... \\\\\n",
      "568.docx &         5 &      11 &       4 &           1 &             6 & [Bureau,10h du matin, moi, Lecture du mail dans... \\\\\n",
      "361.docx &         1 &       8 &       2 &           1 &             4 & [Emotion (colère) Le travail (toujours ;)), lor... \\\\\n",
      "261.docx &         1 &       6 &       4 &           1 &             1 & [Je suis chez moi. J’ouvre une enveloppe qui es... \\\\\n",
      "149.docx &         1 &       7 &       4 &           1 &             1 & [Fait : Énervement dans une boutique : Lieu : E... \\\\\n",
      "224.docx &         1 &       9 &       4 &           1 &             1 & [(révision d’une croyance, image de soi, du mon... \\\\\n",
      "213.docx &         1 &       9 &       4 &           1 &             2 & [Ma mère est venue passer quelques jours à la m... \\\\\n",
      "453.docx &         2 &      11 &       4 &           1 &             5 & [Durant les vacances de février, Fabrice et moi... \\\\\n",
      " 81.docx &         0 &       0 &       0 &           1 &            25 &                                                 [] \\\\\n",
      "371.docx &         2 &       9 &       4 &           1 &             3 & [Il y a 3 semaines, la fille de mon ami est ven... \\\\\n",
      "147.docx &         2 &       8 &       2 &           1 &             1 & [Colère Les faits se sont passés un samedi soir... \\\\\n",
      "396.docx &         2 &      11 &       4 &           1 &             5 & [Formation Acta. Alain fait un tour de table po... \\\\\n",
      "276.docx &         4 &       5 &       4 &           1 &             2 & [Mardi dernier, j’ai retrouvé dans le restauran... \\\\\n",
      "\\bottomrule\n",
      "\\end{tabular}\n",
      "\n"
     ]
    }
   ],
   "source": [
    "print(grille_df.to_latex(index=False))  "
   ]
  },
  {
   "cell_type": "markdown",
   "id": "07183fb2",
   "metadata": {},
   "source": [
    "## Tokenization, lemmatization"
   ]
  },
  {
   "cell_type": "code",
   "execution_count": 407,
   "id": "d71c7fc5",
   "metadata": {},
   "outputs": [],
   "source": [
    "def get_lemma(tokens):\n",
    "    return [token.lemma_ for token in tokens]\n",
    "\n",
    "def get_lower(tokens):\n",
    "    return [token.lower_ for token in tokens]\n",
    "\n",
    "def get_relevant_tokens(tokens):\n",
    "    return [token.lower_ for token in tokens if not token.is_stop and not token.is_punct]\n",
    "\n",
    "def get_relevant_lemma(tokens):\n",
    "    return [token.lemma_ for token in tokens if not token.is_stop and not token.is_punct]"
   ]
  },
  {
   "cell_type": "code",
   "execution_count": 415,
   "id": "78ebb88d",
   "metadata": {},
   "outputs": [],
   "source": [
    "grille_df = grille_df.explode('text')"
   ]
  },
  {
   "cell_type": "code",
   "execution_count": 419,
   "id": "9e2f4c57",
   "metadata": {},
   "outputs": [],
   "source": [
    "grille_df = grille_df.query(\"text !=''\")"
   ]
  },
  {
   "cell_type": "code",
   "execution_count": 423,
   "id": "fbb419b2",
   "metadata": {},
   "outputs": [],
   "source": [
    "grille_df['text'] = grille_df['text'].astype(str)"
   ]
  },
  {
   "cell_type": "code",
   "execution_count": 375,
   "id": "89358afb",
   "metadata": {},
   "outputs": [],
   "source": [
    "#grille_df['text_merged'] = grille_df['text'].apply(lambda x: \" \".join(x))"
   ]
  },
  {
   "cell_type": "code",
   "execution_count": 376,
   "id": "9f0f7856",
   "metadata": {},
   "outputs": [],
   "source": [
    "#grille_df['tokens'] = grille_df['text_merged'].apply(lambda x: tokenize(x))"
   ]
  },
  {
   "cell_type": "code",
   "execution_count": 424,
   "id": "c34cddb3",
   "metadata": {},
   "outputs": [],
   "source": [
    "grille_df['tokens'] = grille_df['text'].apply(lambda x: tokenize(x))"
   ]
  },
  {
   "cell_type": "code",
   "execution_count": 425,
   "id": "2da3bc94",
   "metadata": {},
   "outputs": [],
   "source": [
    "grille_df['text_lowered'] = grille_df['tokens'].apply(lambda x: get_lower(x))"
   ]
  },
  {
   "cell_type": "code",
   "execution_count": 426,
   "id": "878a032e",
   "metadata": {},
   "outputs": [],
   "source": [
    "grille_df['relevant_tokens'] = grille_df['tokens'].apply(lambda x: get_relevant_tokens(x))"
   ]
  },
  {
   "cell_type": "code",
   "execution_count": 427,
   "id": "167e0f8c",
   "metadata": {},
   "outputs": [],
   "source": [
    "grille_df['relevant_lemma'] = grille_df['tokens'].apply(lambda x: get_relevant_lemma(x))"
   ]
  },
  {
   "cell_type": "code",
   "execution_count": 428,
   "id": "dfb38bdb",
   "metadata": {},
   "outputs": [],
   "source": [
    "grille_df['lemma'] = grille_df['tokens'].apply(lambda x: get_lemma(x))"
   ]
  },
  {
   "cell_type": "code",
   "execution_count": 429,
   "id": "c31b1f4e",
   "metadata": {},
   "outputs": [],
   "source": [
    "grille_df['nb_tokens'] = grille_df['tokens'].apply(lambda x: len(x))"
   ]
  },
  {
   "cell_type": "code",
   "execution_count": 430,
   "id": "7b6a4aab",
   "metadata": {},
   "outputs": [
    {
     "data": {
      "text/html": [
       "<div>\n",
       "<style scoped>\n",
       "    .dataframe tbody tr th:only-of-type {\n",
       "        vertical-align: middle;\n",
       "    }\n",
       "\n",
       "    .dataframe tbody tr th {\n",
       "        vertical-align: top;\n",
       "    }\n",
       "\n",
       "    .dataframe thead th {\n",
       "        text-align: right;\n",
       "    }\n",
       "</style>\n",
       "<table border=\"1\" class=\"dataframe\">\n",
       "  <thead>\n",
       "    <tr style=\"text-align: right;\">\n",
       "      <th></th>\n",
       "      <th>nb_table</th>\n",
       "      <th>nb_row</th>\n",
       "      <th>nb_col</th>\n",
       "      <th>nb_section</th>\n",
       "      <th>nb_paragraph</th>\n",
       "      <th>nb_tokens</th>\n",
       "    </tr>\n",
       "  </thead>\n",
       "  <tbody>\n",
       "    <tr>\n",
       "      <th>count</th>\n",
       "      <td>1372.000000</td>\n",
       "      <td>1372.000000</td>\n",
       "      <td>1372.000000</td>\n",
       "      <td>1372.000000</td>\n",
       "      <td>1372.000000</td>\n",
       "      <td>1372.000000</td>\n",
       "    </tr>\n",
       "    <tr>\n",
       "      <th>mean</th>\n",
       "      <td>3.212099</td>\n",
       "      <td>7.429300</td>\n",
       "      <td>3.552478</td>\n",
       "      <td>1.004373</td>\n",
       "      <td>6.275510</td>\n",
       "      <td>269.749271</td>\n",
       "    </tr>\n",
       "    <tr>\n",
       "      <th>std</th>\n",
       "      <td>1.663808</td>\n",
       "      <td>2.551032</td>\n",
       "      <td>0.974968</td>\n",
       "      <td>0.066009</td>\n",
       "      <td>6.220942</td>\n",
       "      <td>219.341372</td>\n",
       "    </tr>\n",
       "    <tr>\n",
       "      <th>min</th>\n",
       "      <td>0.000000</td>\n",
       "      <td>0.000000</td>\n",
       "      <td>0.000000</td>\n",
       "      <td>1.000000</td>\n",
       "      <td>0.000000</td>\n",
       "      <td>1.000000</td>\n",
       "    </tr>\n",
       "    <tr>\n",
       "      <th>25%</th>\n",
       "      <td>2.000000</td>\n",
       "      <td>6.000000</td>\n",
       "      <td>4.000000</td>\n",
       "      <td>1.000000</td>\n",
       "      <td>3.000000</td>\n",
       "      <td>116.750000</td>\n",
       "    </tr>\n",
       "    <tr>\n",
       "      <th>50%</th>\n",
       "      <td>3.000000</td>\n",
       "      <td>8.000000</td>\n",
       "      <td>4.000000</td>\n",
       "      <td>1.000000</td>\n",
       "      <td>5.000000</td>\n",
       "      <td>222.000000</td>\n",
       "    </tr>\n",
       "    <tr>\n",
       "      <th>75%</th>\n",
       "      <td>4.000000</td>\n",
       "      <td>9.000000</td>\n",
       "      <td>4.000000</td>\n",
       "      <td>1.000000</td>\n",
       "      <td>8.000000</td>\n",
       "      <td>364.500000</td>\n",
       "    </tr>\n",
       "    <tr>\n",
       "      <th>max</th>\n",
       "      <td>8.000000</td>\n",
       "      <td>40.000000</td>\n",
       "      <td>5.000000</td>\n",
       "      <td>2.000000</td>\n",
       "      <td>70.000000</td>\n",
       "      <td>1519.000000</td>\n",
       "    </tr>\n",
       "  </tbody>\n",
       "</table>\n",
       "</div>"
      ],
      "text/plain": [
       "          nb_table       nb_row       nb_col   nb_section  nb_paragraph  \\\n",
       "count  1372.000000  1372.000000  1372.000000  1372.000000   1372.000000   \n",
       "mean      3.212099     7.429300     3.552478     1.004373      6.275510   \n",
       "std       1.663808     2.551032     0.974968     0.066009      6.220942   \n",
       "min       0.000000     0.000000     0.000000     1.000000      0.000000   \n",
       "25%       2.000000     6.000000     4.000000     1.000000      3.000000   \n",
       "50%       3.000000     8.000000     4.000000     1.000000      5.000000   \n",
       "75%       4.000000     9.000000     4.000000     1.000000      8.000000   \n",
       "max       8.000000    40.000000     5.000000     2.000000     70.000000   \n",
       "\n",
       "         nb_tokens  \n",
       "count  1372.000000  \n",
       "mean    269.749271  \n",
       "std     219.341372  \n",
       "min       1.000000  \n",
       "25%     116.750000  \n",
       "50%     222.000000  \n",
       "75%     364.500000  \n",
       "max    1519.000000  "
      ]
     },
     "execution_count": 430,
     "metadata": {},
     "output_type": "execute_result"
    }
   ],
   "source": [
    "grille_df.query(\"nb_tokens > 0\").describe()"
   ]
  },
  {
   "cell_type": "code",
   "execution_count": 499,
   "id": "fe28a479",
   "metadata": {},
   "outputs": [
    {
     "data": {
      "text/html": [
       "<div>\n",
       "<style scoped>\n",
       "    .dataframe tbody tr th:only-of-type {\n",
       "        vertical-align: middle;\n",
       "    }\n",
       "\n",
       "    .dataframe tbody tr th {\n",
       "        vertical-align: top;\n",
       "    }\n",
       "\n",
       "    .dataframe thead th {\n",
       "        text-align: right;\n",
       "    }\n",
       "</style>\n",
       "<table border=\"1\" class=\"dataframe\">\n",
       "  <thead>\n",
       "    <tr style=\"text-align: right;\">\n",
       "      <th></th>\n",
       "      <th>name</th>\n",
       "      <th>nb_table</th>\n",
       "      <th>nb_row</th>\n",
       "      <th>nb_col</th>\n",
       "      <th>nb_section</th>\n",
       "      <th>nb_paragraph</th>\n",
       "      <th>text</th>\n",
       "      <th>tokens</th>\n",
       "      <th>text_lowered</th>\n",
       "      <th>relevant_tokens</th>\n",
       "      <th>relevant_lemma</th>\n",
       "      <th>lemma</th>\n",
       "      <th>nb_tokens</th>\n",
       "    </tr>\n",
       "  </thead>\n",
       "  <tbody>\n",
       "    <tr>\n",
       "      <th>0</th>\n",
       "      <td>142.docx</td>\n",
       "      <td>2</td>\n",
       "      <td>7</td>\n",
       "      <td>4</td>\n",
       "      <td>1</td>\n",
       "      <td>6</td>\n",
       "      <td>Aéroport lors du passage de la sécurité, la pe...</td>\n",
       "      <td>[Aéroport, lors, du, passage, de, la, sécurité...</td>\n",
       "      <td>[aéroport, lors, du, passage, de, la, sécurité...</td>\n",
       "      <td>[aéroport, passage, sécurité, contrôlant, sacs...</td>\n",
       "      <td>[aéroport, passage, sécurité, contrôler, sac, ...</td>\n",
       "      <td>[aéroport, lors, de, passage, de, le, sécurité...</td>\n",
       "      <td>141</td>\n",
       "    </tr>\n",
       "    <tr>\n",
       "      <th>0</th>\n",
       "      <td>142.docx</td>\n",
       "      <td>2</td>\n",
       "      <td>7</td>\n",
       "      <td>4</td>\n",
       "      <td>1</td>\n",
       "      <td>6</td>\n",
       "      <td>Futur de mon parcours scolaire ou professionne...</td>\n",
       "      <td>[Futur, de, mon, parcours, scolaire, ou, profe...</td>\n",
       "      <td>[futur, de, mon, parcours, scolaire, ou, profe...</td>\n",
       "      <td>[futur, parcours, scolaire, professionnelle, b...</td>\n",
       "      <td>[futur, parcours, scolaire, professionnel, bou...</td>\n",
       "      <td>[futur, de, mon, parcours, scolaire, ou, profe...</td>\n",
       "      <td>128</td>\n",
       "    </tr>\n",
       "    <tr>\n",
       "      <th>1</th>\n",
       "      <td>432.docx</td>\n",
       "      <td>2</td>\n",
       "      <td>12</td>\n",
       "      <td>4</td>\n",
       "      <td>1</td>\n",
       "      <td>5</td>\n",
       "      <td>Vendredi dernier au bureau. Nous sommes 5 dans...</td>\n",
       "      <td>[Vendredi, dernier, au, bureau, ., Nous, somme...</td>\n",
       "      <td>[vendredi, dernier, au, bureau, ., nous, somme...</td>\n",
       "      <td>[vendredi, dernier, bureau, sommes, 5, bureaux...</td>\n",
       "      <td>[vendredi, dernier, bureau, être, 5, bureau, o...</td>\n",
       "      <td>[vendredi, dernier, au, bureau, ., nous, être,...</td>\n",
       "      <td>840</td>\n",
       "    </tr>\n",
       "    <tr>\n",
       "      <th>1</th>\n",
       "      <td>432.docx</td>\n",
       "      <td>2</td>\n",
       "      <td>12</td>\n",
       "      <td>4</td>\n",
       "      <td>1</td>\n",
       "      <td>5</td>\n",
       "      <td>Samedi midi, lors d'une journée de conférences...</td>\n",
       "      <td>[Samedi, midi, ,, lors, d', une, journée, de, ...</td>\n",
       "      <td>[samedi, midi, ,, lors, d', une, journée, de, ...</td>\n",
       "      <td>[samedi, midi, journée, conférences, organisée...</td>\n",
       "      <td>[samedi, midi, journée, conférence, organiser,...</td>\n",
       "      <td>[samedi, midi, ,, lors, de, un, journée, de, c...</td>\n",
       "      <td>330</td>\n",
       "    </tr>\n",
       "    <tr>\n",
       "      <th>2</th>\n",
       "      <td>168.docx</td>\n",
       "      <td>2</td>\n",
       "      <td>8</td>\n",
       "      <td>2</td>\n",
       "      <td>1</td>\n",
       "      <td>1</td>\n",
       "      <td>Colère L’examen du permis de conduire. Cet exa...</td>\n",
       "      <td>[Colère, L’, examen, du, permis, de, conduire,...</td>\n",
       "      <td>[colère, l’, examen, du, permis, de, conduire,...</td>\n",
       "      <td>[colère, examen, permis, conduire, examen, dér...</td>\n",
       "      <td>[colère, examen, permis, conduire, examen, dér...</td>\n",
       "      <td>[colère, l’, examen, de, permis, de, conduire,...</td>\n",
       "      <td>189</td>\n",
       "    </tr>\n",
       "    <tr>\n",
       "      <th>...</th>\n",
       "      <td>...</td>\n",
       "      <td>...</td>\n",
       "      <td>...</td>\n",
       "      <td>...</td>\n",
       "      <td>...</td>\n",
       "      <td>...</td>\n",
       "      <td>...</td>\n",
       "      <td>...</td>\n",
       "      <td>...</td>\n",
       "      <td>...</td>\n",
       "      <td>...</td>\n",
       "      <td>...</td>\n",
       "      <td>...</td>\n",
       "    </tr>\n",
       "    <tr>\n",
       "      <th>596</th>\n",
       "      <td>396.docx</td>\n",
       "      <td>2</td>\n",
       "      <td>11</td>\n",
       "      <td>4</td>\n",
       "      <td>1</td>\n",
       "      <td>5</td>\n",
       "      <td>Je suis chez moi au téléphone avec monsieur S…...</td>\n",
       "      <td>[Je, suis, chez, moi, au, téléphone, avec, mon...</td>\n",
       "      <td>[je, suis, chez, moi, au, téléphone, avec, mon...</td>\n",
       "      <td>[téléphone, monsieur, s, directeur, associatio...</td>\n",
       "      <td>[téléphone, Monsieur, S, directeur, associatio...</td>\n",
       "      <td>[je, suivre, chez, moi, au, téléphone, avec, M...</td>\n",
       "      <td>347</td>\n",
       "    </tr>\n",
       "    <tr>\n",
       "      <th>597</th>\n",
       "      <td>276.docx</td>\n",
       "      <td>4</td>\n",
       "      <td>5</td>\n",
       "      <td>4</td>\n",
       "      <td>1</td>\n",
       "      <td>2</td>\n",
       "      <td>Mardi dernier, j’ai retrouvé dans le restauran...</td>\n",
       "      <td>[Mardi, dernier, ,, j’, ai, retrouvé, dans, le...</td>\n",
       "      <td>[mardi, dernier, ,, j’, ai, retrouvé, dans, le...</td>\n",
       "      <td>[mardi, dernier, retrouvé, restaurant, bistrot...</td>\n",
       "      <td>[mardi, dernier, retrouver, restaurant, bistro...</td>\n",
       "      <td>[mardi, dernier, ,, j’, avoir, retrouver, dans...</td>\n",
       "      <td>141</td>\n",
       "    </tr>\n",
       "    <tr>\n",
       "      <th>597</th>\n",
       "      <td>276.docx</td>\n",
       "      <td>4</td>\n",
       "      <td>5</td>\n",
       "      <td>4</td>\n",
       "      <td>1</td>\n",
       "      <td>2</td>\n",
       "      <td>Le weekend dernier, j’ai beaucoup de travail q...</td>\n",
       "      <td>[Le, weekend, dernier, ,, j’, ai, beaucoup, de...</td>\n",
       "      <td>[le, weekend, dernier, ,, j’, ai, beaucoup, de...</td>\n",
       "      <td>[weekend, dernier, beaucoup, travail, greffe, ...</td>\n",
       "      <td>[weekend, dernier, beaucoup, travail, greffe, ...</td>\n",
       "      <td>[le, weekend, dernier, ,, j’, avoir, beaucoup,...</td>\n",
       "      <td>200</td>\n",
       "    </tr>\n",
       "    <tr>\n",
       "      <th>597</th>\n",
       "      <td>276.docx</td>\n",
       "      <td>4</td>\n",
       "      <td>5</td>\n",
       "      <td>4</td>\n",
       "      <td>1</td>\n",
       "      <td>2</td>\n",
       "      <td>Je suis dans le fast food tenu par un ami. Il ...</td>\n",
       "      <td>[Je, suis, dans, le, fast, food, tenu, par, un...</td>\n",
       "      <td>[je, suis, dans, le, fast, food, tenu, par, un...</td>\n",
       "      <td>[fast, food, tenu, ami, neigé, soirée, étudian...</td>\n",
       "      <td>[fast, food, tenir, ami, neiger, soirée, étudi...</td>\n",
       "      <td>[je, suivre, dans, le, fast, food, tenir, par,...</td>\n",
       "      <td>196</td>\n",
       "    </tr>\n",
       "    <tr>\n",
       "      <th>597</th>\n",
       "      <td>276.docx</td>\n",
       "      <td>4</td>\n",
       "      <td>5</td>\n",
       "      <td>4</td>\n",
       "      <td>1</td>\n",
       "      <td>2</td>\n",
       "      <td>Je suis en train de me restaurer dans un resta...</td>\n",
       "      <td>[Je, suis, en, train, de, me, restaurer, dans,...</td>\n",
       "      <td>[je, suis, en, train, de, me, restaurer, dans,...</td>\n",
       "      <td>[train, restaurer, restaurant, rapide, bande, ...</td>\n",
       "      <td>[train, restaurer, restaurant, rapide, bande, ...</td>\n",
       "      <td>[je, être, en, train, de, me, restaurer, dans,...</td>\n",
       "      <td>208</td>\n",
       "    </tr>\n",
       "  </tbody>\n",
       "</table>\n",
       "<p>1372 rows × 13 columns</p>\n",
       "</div>"
      ],
      "text/plain": [
       "         name  nb_table  nb_row  nb_col  nb_section  nb_paragraph  \\\n",
       "0    142.docx         2       7       4           1             6   \n",
       "0    142.docx         2       7       4           1             6   \n",
       "1    432.docx         2      12       4           1             5   \n",
       "1    432.docx         2      12       4           1             5   \n",
       "2    168.docx         2       8       2           1             1   \n",
       "..        ...       ...     ...     ...         ...           ...   \n",
       "596  396.docx         2      11       4           1             5   \n",
       "597  276.docx         4       5       4           1             2   \n",
       "597  276.docx         4       5       4           1             2   \n",
       "597  276.docx         4       5       4           1             2   \n",
       "597  276.docx         4       5       4           1             2   \n",
       "\n",
       "                                                  text  \\\n",
       "0    Aéroport lors du passage de la sécurité, la pe...   \n",
       "0    Futur de mon parcours scolaire ou professionne...   \n",
       "1    Vendredi dernier au bureau. Nous sommes 5 dans...   \n",
       "1    Samedi midi, lors d'une journée de conférences...   \n",
       "2    Colère L’examen du permis de conduire. Cet exa...   \n",
       "..                                                 ...   \n",
       "596  Je suis chez moi au téléphone avec monsieur S…...   \n",
       "597  Mardi dernier, j’ai retrouvé dans le restauran...   \n",
       "597  Le weekend dernier, j’ai beaucoup de travail q...   \n",
       "597  Je suis dans le fast food tenu par un ami. Il ...   \n",
       "597  Je suis en train de me restaurer dans un resta...   \n",
       "\n",
       "                                                tokens  \\\n",
       "0    [Aéroport, lors, du, passage, de, la, sécurité...   \n",
       "0    [Futur, de, mon, parcours, scolaire, ou, profe...   \n",
       "1    [Vendredi, dernier, au, bureau, ., Nous, somme...   \n",
       "1    [Samedi, midi, ,, lors, d', une, journée, de, ...   \n",
       "2    [Colère, L’, examen, du, permis, de, conduire,...   \n",
       "..                                                 ...   \n",
       "596  [Je, suis, chez, moi, au, téléphone, avec, mon...   \n",
       "597  [Mardi, dernier, ,, j’, ai, retrouvé, dans, le...   \n",
       "597  [Le, weekend, dernier, ,, j’, ai, beaucoup, de...   \n",
       "597  [Je, suis, dans, le, fast, food, tenu, par, un...   \n",
       "597  [Je, suis, en, train, de, me, restaurer, dans,...   \n",
       "\n",
       "                                          text_lowered  \\\n",
       "0    [aéroport, lors, du, passage, de, la, sécurité...   \n",
       "0    [futur, de, mon, parcours, scolaire, ou, profe...   \n",
       "1    [vendredi, dernier, au, bureau, ., nous, somme...   \n",
       "1    [samedi, midi, ,, lors, d', une, journée, de, ...   \n",
       "2    [colère, l’, examen, du, permis, de, conduire,...   \n",
       "..                                                 ...   \n",
       "596  [je, suis, chez, moi, au, téléphone, avec, mon...   \n",
       "597  [mardi, dernier, ,, j’, ai, retrouvé, dans, le...   \n",
       "597  [le, weekend, dernier, ,, j’, ai, beaucoup, de...   \n",
       "597  [je, suis, dans, le, fast, food, tenu, par, un...   \n",
       "597  [je, suis, en, train, de, me, restaurer, dans,...   \n",
       "\n",
       "                                       relevant_tokens  \\\n",
       "0    [aéroport, passage, sécurité, contrôlant, sacs...   \n",
       "0    [futur, parcours, scolaire, professionnelle, b...   \n",
       "1    [vendredi, dernier, bureau, sommes, 5, bureaux...   \n",
       "1    [samedi, midi, journée, conférences, organisée...   \n",
       "2    [colère, examen, permis, conduire, examen, dér...   \n",
       "..                                                 ...   \n",
       "596  [téléphone, monsieur, s, directeur, associatio...   \n",
       "597  [mardi, dernier, retrouvé, restaurant, bistrot...   \n",
       "597  [weekend, dernier, beaucoup, travail, greffe, ...   \n",
       "597  [fast, food, tenu, ami, neigé, soirée, étudian...   \n",
       "597  [train, restaurer, restaurant, rapide, bande, ...   \n",
       "\n",
       "                                        relevant_lemma  \\\n",
       "0    [aéroport, passage, sécurité, contrôler, sac, ...   \n",
       "0    [futur, parcours, scolaire, professionnel, bou...   \n",
       "1    [vendredi, dernier, bureau, être, 5, bureau, o...   \n",
       "1    [samedi, midi, journée, conférence, organiser,...   \n",
       "2    [colère, examen, permis, conduire, examen, dér...   \n",
       "..                                                 ...   \n",
       "596  [téléphone, Monsieur, S, directeur, associatio...   \n",
       "597  [mardi, dernier, retrouver, restaurant, bistro...   \n",
       "597  [weekend, dernier, beaucoup, travail, greffe, ...   \n",
       "597  [fast, food, tenir, ami, neiger, soirée, étudi...   \n",
       "597  [train, restaurer, restaurant, rapide, bande, ...   \n",
       "\n",
       "                                                 lemma  nb_tokens  \n",
       "0    [aéroport, lors, de, passage, de, le, sécurité...        141  \n",
       "0    [futur, de, mon, parcours, scolaire, ou, profe...        128  \n",
       "1    [vendredi, dernier, au, bureau, ., nous, être,...        840  \n",
       "1    [samedi, midi, ,, lors, de, un, journée, de, c...        330  \n",
       "2    [colère, l’, examen, de, permis, de, conduire,...        189  \n",
       "..                                                 ...        ...  \n",
       "596  [je, suivre, chez, moi, au, téléphone, avec, M...        347  \n",
       "597  [mardi, dernier, ,, j’, avoir, retrouver, dans...        141  \n",
       "597  [le, weekend, dernier, ,, j’, avoir, beaucoup,...        200  \n",
       "597  [je, suivre, dans, le, fast, food, tenir, par,...        196  \n",
       "597  [je, être, en, train, de, me, restaurer, dans,...        208  \n",
       "\n",
       "[1372 rows x 13 columns]"
      ]
     },
     "execution_count": 499,
     "metadata": {},
     "output_type": "execute_result"
    }
   ],
   "source": [
    "grille_df"
   ]
  },
  {
   "cell_type": "code",
   "execution_count": 17,
   "id": "7713e298",
   "metadata": {},
   "outputs": [
    {
     "data": {
      "text/html": [
       "<div>\n",
       "<style scoped>\n",
       "    .dataframe tbody tr th:only-of-type {\n",
       "        vertical-align: middle;\n",
       "    }\n",
       "\n",
       "    .dataframe tbody tr th {\n",
       "        vertical-align: top;\n",
       "    }\n",
       "\n",
       "    .dataframe thead th {\n",
       "        text-align: right;\n",
       "    }\n",
       "</style>\n",
       "<table border=\"1\" class=\"dataframe\">\n",
       "  <thead>\n",
       "    <tr style=\"text-align: right;\">\n",
       "      <th></th>\n",
       "      <th>name</th>\n",
       "      <th>nb_table</th>\n",
       "      <th>nb_row</th>\n",
       "      <th>nb_col</th>\n",
       "      <th>nb_section</th>\n",
       "      <th>nb_paragraph</th>\n",
       "      <th>text</th>\n",
       "    </tr>\n",
       "  </thead>\n",
       "  <tbody>\n",
       "    <tr>\n",
       "      <th>0</th>\n",
       "      <td>142.docx</td>\n",
       "      <td>2</td>\n",
       "      <td>7</td>\n",
       "      <td>4</td>\n",
       "      <td>1</td>\n",
       "      <td>6</td>\n",
       "      <td>[Aéroport lors du passage de la sécurité, la p...</td>\n",
       "    </tr>\n",
       "    <tr>\n",
       "      <th>8</th>\n",
       "      <td>33.docx</td>\n",
       "      <td>1</td>\n",
       "      <td>7</td>\n",
       "      <td>4</td>\n",
       "      <td>1</td>\n",
       "      <td>1</td>\n",
       "      <td>[Mon frère m’a lancé un défi parce qu’il me ju...</td>\n",
       "    </tr>\n",
       "    <tr>\n",
       "      <th>21</th>\n",
       "      <td>176.docx</td>\n",
       "      <td>2</td>\n",
       "      <td>7</td>\n",
       "      <td>4</td>\n",
       "      <td>1</td>\n",
       "      <td>7</td>\n",
       "      <td>[Lieu de travail (entreprise) En matinée autou...</td>\n",
       "    </tr>\n",
       "    <tr>\n",
       "      <th>36</th>\n",
       "      <td>188.docx</td>\n",
       "      <td>2</td>\n",
       "      <td>7</td>\n",
       "      <td>4</td>\n",
       "      <td>1</td>\n",
       "      <td>4</td>\n",
       "      <td>[Lieu : dans le train Temps : dans la soirée P...</td>\n",
       "    </tr>\n",
       "    <tr>\n",
       "      <th>40</th>\n",
       "      <td>2.docx</td>\n",
       "      <td>2</td>\n",
       "      <td>7</td>\n",
       "      <td>4</td>\n",
       "      <td>1</td>\n",
       "      <td>10</td>\n",
       "      <td>[Lundi, mon collègue ostéo m'annonce qu'il va ...</td>\n",
       "    </tr>\n",
       "    <tr>\n",
       "      <th>...</th>\n",
       "      <td>...</td>\n",
       "      <td>...</td>\n",
       "      <td>...</td>\n",
       "      <td>...</td>\n",
       "      <td>...</td>\n",
       "      <td>...</td>\n",
       "      <td>...</td>\n",
       "    </tr>\n",
       "    <tr>\n",
       "      <th>576</th>\n",
       "      <td>137.docx</td>\n",
       "      <td>1</td>\n",
       "      <td>7</td>\n",
       "      <td>4</td>\n",
       "      <td>1</td>\n",
       "      <td>2</td>\n",
       "      <td>[1) 2) 3) Vérifier 1)]</td>\n",
       "    </tr>\n",
       "    <tr>\n",
       "      <th>577</th>\n",
       "      <td>32.docx</td>\n",
       "      <td>2</td>\n",
       "      <td>7</td>\n",
       "      <td>4</td>\n",
       "      <td>1</td>\n",
       "      <td>5</td>\n",
       "      <td>[Après deux semaines de travail et la fin du m...</td>\n",
       "    </tr>\n",
       "    <tr>\n",
       "      <th>578</th>\n",
       "      <td>203.docx</td>\n",
       "      <td>2</td>\n",
       "      <td>7</td>\n",
       "      <td>4</td>\n",
       "      <td>1</td>\n",
       "      <td>6</td>\n",
       "      <td>[, ]</td>\n",
       "    </tr>\n",
       "    <tr>\n",
       "      <th>579</th>\n",
       "      <td>16.docx</td>\n",
       "      <td>2</td>\n",
       "      <td>7</td>\n",
       "      <td>4</td>\n",
       "      <td>1</td>\n",
       "      <td>8</td>\n",
       "      <td>[Dimanche 2 avril, belle journée ensoleillée, ...</td>\n",
       "    </tr>\n",
       "    <tr>\n",
       "      <th>589</th>\n",
       "      <td>149.docx</td>\n",
       "      <td>1</td>\n",
       "      <td>7</td>\n",
       "      <td>4</td>\n",
       "      <td>1</td>\n",
       "      <td>1</td>\n",
       "      <td>[Fait : Énervement dans une boutique : Lieu : ...</td>\n",
       "    </tr>\n",
       "  </tbody>\n",
       "</table>\n",
       "<p>84 rows × 7 columns</p>\n",
       "</div>"
      ],
      "text/plain": [
       "         name  nb_table  nb_row  nb_col  nb_section  nb_paragraph  \\\n",
       "0    142.docx         2       7       4           1             6   \n",
       "8     33.docx         1       7       4           1             1   \n",
       "21   176.docx         2       7       4           1             7   \n",
       "36   188.docx         2       7       4           1             4   \n",
       "40     2.docx         2       7       4           1            10   \n",
       "..        ...       ...     ...     ...         ...           ...   \n",
       "576  137.docx         1       7       4           1             2   \n",
       "577   32.docx         2       7       4           1             5   \n",
       "578  203.docx         2       7       4           1             6   \n",
       "579   16.docx         2       7       4           1             8   \n",
       "589  149.docx         1       7       4           1             1   \n",
       "\n",
       "                                                  text  \n",
       "0    [Aéroport lors du passage de la sécurité, la p...  \n",
       "8    [Mon frère m’a lancé un défi parce qu’il me ju...  \n",
       "21   [Lieu de travail (entreprise) En matinée autou...  \n",
       "36   [Lieu : dans le train Temps : dans la soirée P...  \n",
       "40   [Lundi, mon collègue ostéo m'annonce qu'il va ...  \n",
       "..                                                 ...  \n",
       "576                             [1) 2) 3) Vérifier 1)]  \n",
       "577  [Après deux semaines de travail et la fin du m...  \n",
       "578                                               [, ]  \n",
       "579  [Dimanche 2 avril, belle journée ensoleillée, ...  \n",
       "589  [Fait : Énervement dans une boutique : Lieu : ...  \n",
       "\n",
       "[84 rows x 7 columns]"
      ]
     },
     "execution_count": 17,
     "metadata": {},
     "output_type": "execute_result"
    }
   ],
   "source": [
    "grille_df.query(\"nb_row == 11\") #nb_col == 5 # grille_émotion 2013 \n",
    "grille_df.query(\"nb_row == 8 & nb_col == 4\") # grille_émotion 2014, 2015, 2017 (même format ?)\n",
    "grille_df.query(\"nb_row == 7 & nb_col == 4\") # grille émotion 2019"
   ]
  },
  {
   "cell_type": "code",
   "execution_count": 66,
   "id": "d896f3c4",
   "metadata": {
    "collapsed": true
   },
   "outputs": [
    {
     "data": {
      "text/html": [
       "<div>\n",
       "<style scoped>\n",
       "    .dataframe tbody tr th:only-of-type {\n",
       "        vertical-align: middle;\n",
       "    }\n",
       "\n",
       "    .dataframe tbody tr th {\n",
       "        vertical-align: top;\n",
       "    }\n",
       "\n",
       "    .dataframe thead th {\n",
       "        text-align: right;\n",
       "    }\n",
       "</style>\n",
       "<table border=\"1\" class=\"dataframe\">\n",
       "  <thead>\n",
       "    <tr style=\"text-align: right;\">\n",
       "      <th></th>\n",
       "      <th>name</th>\n",
       "      <th>nb_table</th>\n",
       "      <th>nb_row</th>\n",
       "      <th>nb_col</th>\n",
       "      <th>nb_section</th>\n",
       "      <th>nb_paragraph</th>\n",
       "    </tr>\n",
       "  </thead>\n",
       "  <tbody>\n",
       "    <tr>\n",
       "      <th>6</th>\n",
       "      <td>297.docx</td>\n",
       "      <td>1</td>\n",
       "      <td>9</td>\n",
       "      <td>4</td>\n",
       "      <td>1</td>\n",
       "      <td>1</td>\n",
       "    </tr>\n",
       "    <tr>\n",
       "      <th>9</th>\n",
       "      <td>249.docx</td>\n",
       "      <td>1</td>\n",
       "      <td>9</td>\n",
       "      <td>4</td>\n",
       "      <td>1</td>\n",
       "      <td>12</td>\n",
       "    </tr>\n",
       "    <tr>\n",
       "      <th>13</th>\n",
       "      <td>124.docx</td>\n",
       "      <td>2</td>\n",
       "      <td>9</td>\n",
       "      <td>4</td>\n",
       "      <td>1</td>\n",
       "      <td>3</td>\n",
       "    </tr>\n",
       "    <tr>\n",
       "      <th>17</th>\n",
       "      <td>59.docx</td>\n",
       "      <td>2</td>\n",
       "      <td>9</td>\n",
       "      <td>4</td>\n",
       "      <td>1</td>\n",
       "      <td>3</td>\n",
       "    </tr>\n",
       "    <tr>\n",
       "      <th>30</th>\n",
       "      <td>269.docx</td>\n",
       "      <td>1</td>\n",
       "      <td>9</td>\n",
       "      <td>4</td>\n",
       "      <td>1</td>\n",
       "      <td>1</td>\n",
       "    </tr>\n",
       "    <tr>\n",
       "      <th>...</th>\n",
       "      <td>...</td>\n",
       "      <td>...</td>\n",
       "      <td>...</td>\n",
       "      <td>...</td>\n",
       "      <td>...</td>\n",
       "      <td>...</td>\n",
       "    </tr>\n",
       "    <tr>\n",
       "      <th>531</th>\n",
       "      <td>222.docx</td>\n",
       "      <td>1</td>\n",
       "      <td>9</td>\n",
       "      <td>4</td>\n",
       "      <td>1</td>\n",
       "      <td>24</td>\n",
       "    </tr>\n",
       "    <tr>\n",
       "      <th>533</th>\n",
       "      <td>146.docx</td>\n",
       "      <td>2</td>\n",
       "      <td>9</td>\n",
       "      <td>4</td>\n",
       "      <td>1</td>\n",
       "      <td>3</td>\n",
       "    </tr>\n",
       "    <tr>\n",
       "      <th>590</th>\n",
       "      <td>224.docx</td>\n",
       "      <td>1</td>\n",
       "      <td>9</td>\n",
       "      <td>4</td>\n",
       "      <td>1</td>\n",
       "      <td>1</td>\n",
       "    </tr>\n",
       "    <tr>\n",
       "      <th>591</th>\n",
       "      <td>213.docx</td>\n",
       "      <td>1</td>\n",
       "      <td>9</td>\n",
       "      <td>4</td>\n",
       "      <td>1</td>\n",
       "      <td>2</td>\n",
       "    </tr>\n",
       "    <tr>\n",
       "      <th>594</th>\n",
       "      <td>371.docx</td>\n",
       "      <td>2</td>\n",
       "      <td>9</td>\n",
       "      <td>4</td>\n",
       "      <td>1</td>\n",
       "      <td>3</td>\n",
       "    </tr>\n",
       "  </tbody>\n",
       "</table>\n",
       "<p>86 rows × 6 columns</p>\n",
       "</div>"
      ],
      "text/plain": [
       "         name  nb_table  nb_row  nb_col  nb_section  nb_paragraph\n",
       "6    297.docx         1       9       4           1             1\n",
       "9    249.docx         1       9       4           1            12\n",
       "13   124.docx         2       9       4           1             3\n",
       "17    59.docx         2       9       4           1             3\n",
       "30   269.docx         1       9       4           1             1\n",
       "..        ...       ...     ...     ...         ...           ...\n",
       "531  222.docx         1       9       4           1            24\n",
       "533  146.docx         2       9       4           1             3\n",
       "590  224.docx         1       9       4           1             1\n",
       "591  213.docx         1       9       4           1             2\n",
       "594  371.docx         2       9       4           1             3\n",
       "\n",
       "[86 rows x 6 columns]"
      ]
     },
     "execution_count": 66,
     "metadata": {},
     "output_type": "execute_result"
    }
   ],
   "source": [
    "grille_df.query(\"nb_row == 3 & nb_col == 4\") # fait int et ext + vérifications des faits\n",
    "grille_df.query(\"nb_row == 0\") # pas de tableaux, que du texte\n",
    "grille_df.query(\"nb_row == 4\") # fait int et ext + besoins à satisfaire. quand nb_col == 2 \n",
    "#chaque tableau est une grille liée à une émotion\n",
    "# si nb_col == 5 un tableau est plusieurs grilles avec plusieurs émotions\n",
    "grille_df.query(\"nb_row == 6 & nb_col == 4\")\n",
    "grille_df.query(\"nb_row == 9\")"
   ]
  },
  {
   "cell_type": "code",
   "execution_count": 153,
   "id": "861ad10a",
   "metadata": {
    "collapsed": true
   },
   "outputs": [
    {
     "data": {
      "text/html": [
       "<div>\n",
       "<style scoped>\n",
       "    .dataframe tbody tr th:only-of-type {\n",
       "        vertical-align: middle;\n",
       "    }\n",
       "\n",
       "    .dataframe tbody tr th {\n",
       "        vertical-align: top;\n",
       "    }\n",
       "\n",
       "    .dataframe thead th {\n",
       "        text-align: right;\n",
       "    }\n",
       "</style>\n",
       "<table border=\"1\" class=\"dataframe\">\n",
       "  <thead>\n",
       "    <tr style=\"text-align: right;\">\n",
       "      <th></th>\n",
       "      <th>name</th>\n",
       "      <th>nb_table</th>\n",
       "      <th>nb_row</th>\n",
       "      <th>nb_col</th>\n",
       "      <th>nb_section</th>\n",
       "      <th>nb_paragraph</th>\n",
       "    </tr>\n",
       "  </thead>\n",
       "  <tbody>\n",
       "    <tr>\n",
       "      <th>37</th>\n",
       "      <td>542.docx</td>\n",
       "      <td>8</td>\n",
       "      <td>8</td>\n",
       "      <td>4</td>\n",
       "      <td>1</td>\n",
       "      <td>7</td>\n",
       "    </tr>\n",
       "    <tr>\n",
       "      <th>44</th>\n",
       "      <td>597.docx</td>\n",
       "      <td>8</td>\n",
       "      <td>8</td>\n",
       "      <td>4</td>\n",
       "      <td>1</td>\n",
       "      <td>8</td>\n",
       "    </tr>\n",
       "    <tr>\n",
       "      <th>114</th>\n",
       "      <td>576.docx</td>\n",
       "      <td>8</td>\n",
       "      <td>8</td>\n",
       "      <td>4</td>\n",
       "      <td>1</td>\n",
       "      <td>8</td>\n",
       "    </tr>\n",
       "    <tr>\n",
       "      <th>120</th>\n",
       "      <td>539.docx</td>\n",
       "      <td>8</td>\n",
       "      <td>8</td>\n",
       "      <td>4</td>\n",
       "      <td>1</td>\n",
       "      <td>7</td>\n",
       "    </tr>\n",
       "    <tr>\n",
       "      <th>325</th>\n",
       "      <td>596.docx</td>\n",
       "      <td>8</td>\n",
       "      <td>0</td>\n",
       "      <td>0</td>\n",
       "      <td>1</td>\n",
       "      <td>5</td>\n",
       "    </tr>\n",
       "    <tr>\n",
       "      <th>336</th>\n",
       "      <td>532.docx</td>\n",
       "      <td>8</td>\n",
       "      <td>8</td>\n",
       "      <td>4</td>\n",
       "      <td>1</td>\n",
       "      <td>8</td>\n",
       "    </tr>\n",
       "    <tr>\n",
       "      <th>581</th>\n",
       "      <td>546.docx</td>\n",
       "      <td>8</td>\n",
       "      <td>0</td>\n",
       "      <td>0</td>\n",
       "      <td>1</td>\n",
       "      <td>7</td>\n",
       "    </tr>\n",
       "  </tbody>\n",
       "</table>\n",
       "</div>"
      ],
      "text/plain": [
       "         name  nb_table  nb_row  nb_col  nb_section  nb_paragraph\n",
       "37   542.docx         8       8       4           1             7\n",
       "44   597.docx         8       8       4           1             8\n",
       "114  576.docx         8       8       4           1             8\n",
       "120  539.docx         8       8       4           1             7\n",
       "325  596.docx         8       0       0           1             5\n",
       "336  532.docx         8       8       4           1             8\n",
       "581  546.docx         8       0       0           1             7"
      ]
     },
     "execution_count": 153,
     "metadata": {},
     "output_type": "execute_result"
    }
   ],
   "source": [
    "grille_df.query('nb_table == 0') # 30\n",
    "grille_df.query('nb_table == 1') # 145\n",
    "grille_df.query('nb_table == 2') # 215\n",
    "grille_df.query('nb_table == 3') # 55\n",
    "grille_df.query('nb_table == 4') # 114\n",
    "grille_df.query('nb_table == 5') # 6\n",
    "grille_df.query('nb_table == 6') # 26\n",
    "grille_df.query('nb_table == 7') # 0\n",
    "grille_df.query('nb_table == 8') # 7"
   ]
  },
  {
   "cell_type": "code",
   "execution_count": 106,
   "id": "e3fe3f25",
   "metadata": {},
   "outputs": [
    {
     "data": {
      "text/html": [
       "<div>\n",
       "<style scoped>\n",
       "    .dataframe tbody tr th:only-of-type {\n",
       "        vertical-align: middle;\n",
       "    }\n",
       "\n",
       "    .dataframe tbody tr th {\n",
       "        vertical-align: top;\n",
       "    }\n",
       "\n",
       "    .dataframe thead th {\n",
       "        text-align: right;\n",
       "    }\n",
       "</style>\n",
       "<table border=\"1\" class=\"dataframe\">\n",
       "  <thead>\n",
       "    <tr style=\"text-align: right;\">\n",
       "      <th></th>\n",
       "      <th>name</th>\n",
       "      <th>nb_table</th>\n",
       "      <th>nb_row</th>\n",
       "      <th>nb_col</th>\n",
       "      <th>nb_section</th>\n",
       "      <th>nb_paragraph</th>\n",
       "    </tr>\n",
       "  </thead>\n",
       "  <tbody>\n",
       "  </tbody>\n",
       "</table>\n",
       "</div>"
      ],
      "text/plain": [
       "Empty DataFrame\n",
       "Columns: [name, nb_table, nb_row, nb_col, nb_section, nb_paragraph]\n",
       "Index: []"
      ]
     },
     "execution_count": 106,
     "metadata": {},
     "output_type": "execute_result"
    }
   ],
   "source": [
    "grille_df.query('nb_col == 1') # 0\n",
    "grille_df.query('nb_col == 2') # 103\n",
    "grille_df.query('nb_col == 3') # 1\n",
    "grille_df.query('nb_col == 4') # 455\n",
    "grille_df.query('nb_col == 5') # 5\n",
    "grille_df.query('nb_col >= 6') # 0"
   ]
  },
  {
   "cell_type": "code",
   "execution_count": 518,
   "id": "e7f85b4e",
   "metadata": {
    "scrolled": true
   },
   "outputs": [
    {
     "data": {
      "text/plain": [
       "[('faire', 1336),\n",
       " ('colère', 1130),\n",
       " ('territoire', 985),\n",
       " ('peur', 900),\n",
       " ('attaque', 892),\n",
       " ('dire', 889),\n",
       " ('oui', 825),\n",
       " ('x', 804),\n",
       " ('voir', 753),\n",
       " ('être', 715),\n",
       " ('image', 684),\n",
       " ('bien', 680),\n",
       " ('devoir', 644),\n",
       " ('temps', 633),\n",
       " ('prendre', 629),\n",
       " ('travail', 590),\n",
       " ('attaquer', 581),\n",
       " ('vouloir', 568),\n",
       " ('passer', 553),\n",
       " ('savoir', 547),\n",
       " ('sentir', 517),\n",
       " ('collègue', 516),\n",
       " ('non', 491),\n",
       " ('venir', 479),\n",
       " ('étudiant', 470),\n",
       " ('chose', 455),\n",
       " ('demande', 453),\n",
       " ('intérieur', 432),\n",
       " ('aller', 428),\n",
       " ('moment', 424),\n",
       " ('fois', 424),\n",
       " ('rien', 418),\n",
       " ('besoin', 408),\n",
       " ('cours', 400),\n",
       " ('extérieur', 397),\n",
       " ('mettre', 397),\n",
       " ('répondre', 380),\n",
       " ('penser', 380),\n",
       " ('émotion', 375),\n",
       " ('falloir', 365),\n",
       " ('bon', 357),\n",
       " ('ressentir', 347),\n",
       " ('tristesse', 346),\n",
       " ('situation', 344),\n",
       " ('avoir', 340),\n",
       " ('demander', 336),\n",
       " ('question', 332),\n",
       " ('tête', 328),\n",
       " ('2', 321),\n",
       " ('petit', 317),\n",
       " ('dernier', 316),\n",
       " ('arriver', 312),\n",
       " ('pouvoir', 310),\n",
       " ('jour', 305),\n",
       " ('joie', 304),\n",
       " ('heure', 302),\n",
       " ('envie', 302),\n",
       " ('semaine', 288),\n",
       " ('comprendre', 285),\n",
       " ('mal', 285),\n",
       " ('ok', 278),\n",
       " ('ami', 271),\n",
       " ('trop', 269),\n",
       " ('croyance', 265),\n",
       " ('ici', 263),\n",
       " ('salle', 260),\n",
       " ('partir', 259),\n",
       " ('objet', 258),\n",
       " ('vrai', 258),\n",
       " ('entendre', 254),\n",
       " ('physique', 253),\n",
       " ('commencer', 252),\n",
       " ('ressenti', 252),\n",
       " ('fille', 250),\n",
       " ('factuel', 247),\n",
       " ('monde', 247),\n",
       " ('main', 236),\n",
       " ('année', 233),\n",
       " ('impression', 232),\n",
       " ('action', 230),\n",
       " ('voiture', 227),\n",
       " ('attendre', 225),\n",
       " ('train', 222),\n",
       " ('pensée', 221),\n",
       " ('essayer', 221),\n",
       " ('groupe', 220),\n",
       " ('donner', 219),\n",
       " ('sensation', 214),\n",
       " ('vraiment', 211),\n",
       " ('arrive', 210),\n",
       " ('agir', 208),\n",
       " ('problème', 207),\n",
       " ('travailler', 205),\n",
       " ('trouver', 205),\n",
       " ('an', 203),\n",
       " ('matin', 203),\n",
       " ('beaucoup', 202),\n",
       " ('sortir', 199),\n",
       " ('mère', 198),\n",
       " ('grand', 198)]"
      ]
     },
     "execution_count": 518,
     "metadata": {},
     "output_type": "execute_result"
    }
   ],
   "source": [
    "Counter(list(itertools.chain.from_iterable(grille_df['relevant_lemma']))).most_common(100)"
   ]
  },
  {
   "cell_type": "markdown",
   "id": "7da01a15",
   "metadata": {},
   "source": [
    "## Topic modelling using Transformers"
   ]
  },
  {
   "cell_type": "code",
   "execution_count": 193,
   "id": "f2972b77",
   "metadata": {
    "collapsed": true
   },
   "outputs": [
    {
     "name": "stdout",
     "output_type": "stream",
     "text": [
      "huggingface/tokenizers: The current process just got forked, after parallelism has already been used. Disabling parallelism to avoid deadlocks...\n",
      "To disable this warning, you can either:\n",
      "\t- Avoid using `tokenizers` before the fork if possible\n",
      "\t- Explicitly set the environment variable TOKENIZERS_PARALLELISM=(true | false)\n",
      "Collecting bertopic\n",
      "  Downloading bertopic-0.10.0-py2.py3-none-any.whl (58 kB)\n",
      "\u001b[K     |████████████████████████████████| 58 kB 6.6 MB/s eta 0:00:01\n",
      "\u001b[?25hRequirement already satisfied: scikit-learn>=0.22.2.post1 in /home/gcortal/anaconda3/envs/M2_syntactic_analysis/lib/python3.7/site-packages (from bertopic) (1.0.2)\n",
      "Requirement already satisfied: tqdm>=4.41.1 in /home/gcortal/anaconda3/envs/M2_syntactic_analysis/lib/python3.7/site-packages (from bertopic) (4.63.1)\n",
      "Collecting plotly>=4.7.0\n",
      "  Downloading plotly-5.7.0-py2.py3-none-any.whl (28.8 MB)\n",
      "\u001b[K     |████████████████████████████████| 28.8 MB 9.5 MB/s eta 0:00:011\n",
      "\u001b[?25hCollecting hdbscan>=0.8.28\n",
      "  Downloading hdbscan-0.8.28.tar.gz (5.2 MB)\n",
      "\u001b[K     |████████████████████████████████| 5.2 MB 9.1 MB/s eta 0:00:01\n",
      "\u001b[?25h  Installing build dependencies ... \u001b[?25ldone\n",
      "\u001b[?25h  Getting requirements to build wheel ... \u001b[?25ldone\n",
      "\u001b[?25h    Preparing wheel metadata ... \u001b[?25ldone\n",
      "\u001b[?25hRequirement already satisfied: numpy>=1.20.0 in /home/gcortal/anaconda3/envs/M2_syntactic_analysis/lib/python3.7/site-packages (from bertopic) (1.21.5)\n",
      "Collecting umap-learn>=0.5.0\n",
      "  Downloading umap-learn-0.5.3.tar.gz (88 kB)\n",
      "\u001b[K     |████████████████████████████████| 88 kB 9.0 MB/s  eta 0:00:01\n",
      "\u001b[?25hRequirement already satisfied: pandas>=1.1.5 in /home/gcortal/anaconda3/envs/M2_syntactic_analysis/lib/python3.7/site-packages (from bertopic) (1.3.5)\n",
      "Collecting sentence-transformers>=0.4.1\n",
      "  Downloading sentence-transformers-2.2.0.tar.gz (79 kB)\n",
      "\u001b[K     |████████████████████████████████| 79 kB 12.3 MB/s eta 0:00:01\n",
      "\u001b[?25hCollecting pyyaml<6.0\n",
      "  Downloading PyYAML-5.4.1-cp37-cp37m-manylinux1_x86_64.whl (636 kB)\n",
      "\u001b[K     |████████████████████████████████| 636 kB 10.3 MB/s eta 0:00:01\n",
      "\u001b[?25hRequirement already satisfied: scipy>=1.0 in /home/gcortal/anaconda3/envs/M2_syntactic_analysis/lib/python3.7/site-packages (from hdbscan>=0.8.28->bertopic) (1.7.3)\n",
      "Collecting cython>=0.27\n",
      "  Using cached Cython-0.29.28-cp37-cp37m-manylinux_2_17_x86_64.manylinux2014_x86_64.manylinux_2_24_x86_64.whl (1.9 MB)\n",
      "Requirement already satisfied: joblib>=1.0 in /home/gcortal/anaconda3/envs/M2_syntactic_analysis/lib/python3.7/site-packages (from hdbscan>=0.8.28->bertopic) (1.1.0)\n",
      "Requirement already satisfied: pytz>=2017.3 in /home/gcortal/anaconda3/envs/M2_syntactic_analysis/lib/python3.7/site-packages (from pandas>=1.1.5->bertopic) (2022.1)\n",
      "Requirement already satisfied: python-dateutil>=2.7.3 in /home/gcortal/anaconda3/envs/M2_syntactic_analysis/lib/python3.7/site-packages (from pandas>=1.1.5->bertopic) (2.8.2)\n",
      "Collecting tenacity>=6.2.0\n",
      "  Downloading tenacity-8.0.1-py3-none-any.whl (24 kB)\n",
      "Requirement already satisfied: six in /home/gcortal/anaconda3/envs/M2_syntactic_analysis/lib/python3.7/site-packages (from plotly>=4.7.0->bertopic) (1.16.0)\n",
      "Requirement already satisfied: threadpoolctl>=2.0.0 in /home/gcortal/anaconda3/envs/M2_syntactic_analysis/lib/python3.7/site-packages (from scikit-learn>=0.22.2.post1->bertopic) (3.1.0)\n",
      "Requirement already satisfied: transformers<5.0.0,>=4.6.0 in /home/gcortal/anaconda3/envs/M2_syntactic_analysis/lib/python3.7/site-packages (from sentence-transformers>=0.4.1->bertopic) (4.17.0)\n",
      "Requirement already satisfied: torch>=1.6.0 in /home/gcortal/anaconda3/envs/M2_syntactic_analysis/lib/python3.7/site-packages (from sentence-transformers>=0.4.1->bertopic) (1.11.0)\n",
      "Collecting torchvision\n",
      "  Downloading torchvision-0.12.0-cp37-cp37m-manylinux1_x86_64.whl (21.0 MB)\n",
      "\u001b[K     |████████████████████████████████| 21.0 MB 22.0 MB/s eta 0:00:01\n",
      "\u001b[?25hCollecting nltk\n",
      "  Downloading nltk-3.7-py3-none-any.whl (1.5 MB)\n",
      "\u001b[K     |████████████████████████████████| 1.5 MB 11.2 MB/s eta 0:00:01\n",
      "\u001b[?25hRequirement already satisfied: sentencepiece in /home/gcortal/anaconda3/envs/M2_syntactic_analysis/lib/python3.7/site-packages (from sentence-transformers>=0.4.1->bertopic) (0.1.96)\n",
      "Requirement already satisfied: huggingface-hub in /home/gcortal/anaconda3/envs/M2_syntactic_analysis/lib/python3.7/site-packages (from sentence-transformers>=0.4.1->bertopic) (0.4.0)\n",
      "Requirement already satisfied: typing-extensions in /home/gcortal/anaconda3/envs/M2_syntactic_analysis/lib/python3.7/site-packages (from torch>=1.6.0->sentence-transformers>=0.4.1->bertopic) (3.10.0.2)\n",
      "Requirement already satisfied: tokenizers!=0.11.3,>=0.11.1 in /home/gcortal/anaconda3/envs/M2_syntactic_analysis/lib/python3.7/site-packages (from transformers<5.0.0,>=4.6.0->sentence-transformers>=0.4.1->bertopic) (0.11.6)\n",
      "Requirement already satisfied: sacremoses in /home/gcortal/anaconda3/envs/M2_syntactic_analysis/lib/python3.7/site-packages (from transformers<5.0.0,>=4.6.0->sentence-transformers>=0.4.1->bertopic) (0.0.49)\n",
      "Requirement already satisfied: requests in /home/gcortal/anaconda3/envs/M2_syntactic_analysis/lib/python3.7/site-packages (from transformers<5.0.0,>=4.6.0->sentence-transformers>=0.4.1->bertopic) (2.27.1)\n",
      "Requirement already satisfied: importlib-metadata in /home/gcortal/anaconda3/envs/M2_syntactic_analysis/lib/python3.7/site-packages (from transformers<5.0.0,>=4.6.0->sentence-transformers>=0.4.1->bertopic) (4.11.3)\n",
      "Requirement already satisfied: filelock in /home/gcortal/anaconda3/envs/M2_syntactic_analysis/lib/python3.7/site-packages (from transformers<5.0.0,>=4.6.0->sentence-transformers>=0.4.1->bertopic) (3.6.0)\n",
      "Requirement already satisfied: regex!=2019.12.17 in /home/gcortal/anaconda3/envs/M2_syntactic_analysis/lib/python3.7/site-packages (from transformers<5.0.0,>=4.6.0->sentence-transformers>=0.4.1->bertopic) (2022.3.15)\n",
      "Requirement already satisfied: packaging>=20.0 in /home/gcortal/anaconda3/envs/M2_syntactic_analysis/lib/python3.7/site-packages (from transformers<5.0.0,>=4.6.0->sentence-transformers>=0.4.1->bertopic) (21.3)\n",
      "Requirement already satisfied: pyparsing!=3.0.5,>=2.0.2 in /home/gcortal/anaconda3/envs/M2_syntactic_analysis/lib/python3.7/site-packages (from packaging>=20.0->transformers<5.0.0,>=4.6.0->sentence-transformers>=0.4.1->bertopic) (3.0.7)\n",
      "Collecting numba>=0.49\n",
      "  Downloading numba-0.55.1-1-cp37-cp37m-manylinux2014_x86_64.manylinux_2_17_x86_64.whl (3.3 MB)\n",
      "\u001b[K     |████████████████████████████████| 3.3 MB 15.5 MB/s eta 0:00:01\n",
      "\u001b[?25hCollecting pynndescent>=0.5\n",
      "  Downloading pynndescent-0.5.6.tar.gz (1.1 MB)\n",
      "\u001b[K     |████████████████████████████████| 1.1 MB 12.5 MB/s eta 0:00:01\n",
      "\u001b[?25hRequirement already satisfied: setuptools in /home/gcortal/anaconda3/envs/M2_syntactic_analysis/lib/python3.7/site-packages (from numba>=0.49->umap-learn>=0.5.0->bertopic) (58.0.4)\n",
      "Collecting llvmlite<0.39,>=0.38.0rc1\n",
      "  Downloading llvmlite-0.38.0-cp37-cp37m-manylinux_2_17_x86_64.manylinux2014_x86_64.whl (34.5 MB)\n",
      "\u001b[K     |████████████████████████████████| 34.5 MB 11.0 MB/s eta 0:00:01\n",
      "\u001b[?25hRequirement already satisfied: zipp>=0.5 in /home/gcortal/anaconda3/envs/M2_syntactic_analysis/lib/python3.7/site-packages (from importlib-metadata->transformers<5.0.0,>=4.6.0->sentence-transformers>=0.4.1->bertopic) (3.7.0)\n",
      "Requirement already satisfied: click in /home/gcortal/anaconda3/envs/M2_syntactic_analysis/lib/python3.7/site-packages (from nltk->sentence-transformers>=0.4.1->bertopic) (8.0.4)\n",
      "Requirement already satisfied: certifi>=2017.4.17 in /home/gcortal/anaconda3/envs/M2_syntactic_analysis/lib/python3.7/site-packages (from requests->transformers<5.0.0,>=4.6.0->sentence-transformers>=0.4.1->bertopic) (2021.10.8)\n",
      "Requirement already satisfied: charset-normalizer~=2.0.0 in /home/gcortal/anaconda3/envs/M2_syntactic_analysis/lib/python3.7/site-packages (from requests->transformers<5.0.0,>=4.6.0->sentence-transformers>=0.4.1->bertopic) (2.0.12)\n",
      "Requirement already satisfied: urllib3<1.27,>=1.21.1 in /home/gcortal/anaconda3/envs/M2_syntactic_analysis/lib/python3.7/site-packages (from requests->transformers<5.0.0,>=4.6.0->sentence-transformers>=0.4.1->bertopic) (1.26.9)\n",
      "Requirement already satisfied: idna<4,>=2.5 in /home/gcortal/anaconda3/envs/M2_syntactic_analysis/lib/python3.7/site-packages (from requests->transformers<5.0.0,>=4.6.0->sentence-transformers>=0.4.1->bertopic) (3.3)\n"
     ]
    },
    {
     "name": "stdout",
     "output_type": "stream",
     "text": [
      "Requirement already satisfied: pillow!=8.3.*,>=5.3.0 in /home/gcortal/anaconda3/envs/M2_syntactic_analysis/lib/python3.7/site-packages (from torchvision->sentence-transformers>=0.4.1->bertopic) (9.1.0)\n",
      "Building wheels for collected packages: hdbscan, sentence-transformers, umap-learn, pynndescent\n",
      "  Building wheel for hdbscan (PEP 517) ... \u001b[?25ldone\n",
      "\u001b[?25h  Created wheel for hdbscan: filename=hdbscan-0.8.28-cp37-cp37m-linux_x86_64.whl size=3414745 sha256=cbcefd1893e0fedfd7e5925982c91ae5fc2868e6a3f37a92fb322dab5afbafdf\n",
      "  Stored in directory: /home/gcortal/.cache/pip/wheels/6e/7a/5e/259ccc841c085fc41b99ef4a71e896b62f5161f2bc8a14c97a\n",
      "  Building wheel for sentence-transformers (setup.py) ... \u001b[?25ldone\n",
      "\u001b[?25h  Created wheel for sentence-transformers: filename=sentence_transformers-2.2.0-py3-none-any.whl size=120747 sha256=619e9550f5eae386e3a4224a9dfbeee668642eddee2bd05deaa3a23b50214968\n",
      "  Stored in directory: /home/gcortal/.cache/pip/wheels/83/c0/df/b6873ab7aac3f2465aa9144b6b4c41c4391cfecc027c8b07e7\n",
      "  Building wheel for umap-learn (setup.py) ... \u001b[?25ldone\n",
      "\u001b[?25h  Created wheel for umap-learn: filename=umap_learn-0.5.3-py3-none-any.whl size=82829 sha256=345474e429db34e6c9703cea4f570c7e1d56ecb27582e5a16b7e4d4b2c6ce3b1\n",
      "  Stored in directory: /home/gcortal/.cache/pip/wheels/b3/52/a5/1fd9e3e76a7ab34f134c07469cd6f16e27ef3a37aeff1fe821\n",
      "  Building wheel for pynndescent (setup.py) ... \u001b[?25ldone\n",
      "\u001b[?25h  Created wheel for pynndescent: filename=pynndescent-0.5.6-py3-none-any.whl size=53943 sha256=1c6001a00abcb1329c4d997829eb948b55e30610a782d57446ab5908bd6f48bb\n",
      "  Stored in directory: /home/gcortal/.cache/pip/wheels/03/f1/56/f80d72741e400345b5a5b50ec3d929aca581bf45e0225d5c50\n",
      "Successfully built hdbscan sentence-transformers umap-learn pynndescent\n",
      "Installing collected packages: pyyaml, llvmlite, numba, torchvision, tenacity, pynndescent, nltk, cython, umap-learn, sentence-transformers, plotly, hdbscan, bertopic\n",
      "  Attempting uninstall: pyyaml\n",
      "    Found existing installation: PyYAML 6.0\n",
      "    Uninstalling PyYAML-6.0:\n",
      "      Successfully uninstalled PyYAML-6.0\n",
      "Successfully installed bertopic-0.10.0 cython-0.29.28 hdbscan-0.8.28 llvmlite-0.38.0 nltk-3.7 numba-0.55.1 plotly-5.7.0 pynndescent-0.5.6 pyyaml-5.4.1 sentence-transformers-2.2.0 tenacity-8.0.1 torchvision-0.12.0 umap-learn-0.5.3\n"
     ]
    }
   ],
   "source": [
    "#!pip install bertopic\n",
    "#!pip install bertopic[flair]"
   ]
  },
  {
   "cell_type": "code",
   "execution_count": 392,
   "id": "9c71edb4",
   "metadata": {},
   "outputs": [],
   "source": [
    "from spacy.lang.fr.stop_words import STOP_WORDS as fr_stop"
   ]
  },
  {
   "cell_type": "code",
   "execution_count": 513,
   "id": "79323f71",
   "metadata": {},
   "outputs": [],
   "source": [
    "docs = list()\n",
    "\n",
    "for sentences in grille_df['text']:\n",
    "    for sentence in sentences:\n",
    "        docs.append(sentence)"
   ]
  },
  {
   "cell_type": "code",
   "execution_count": 519,
   "id": "ee2f653f",
   "metadata": {},
   "outputs": [],
   "source": [
    "docs = list()\n",
    "for doc in list(grille_df['relevant_lemma']):\n",
    "    docs.append(\" \".join(doc))"
   ]
  },
  {
   "cell_type": "code",
   "execution_count": 511,
   "id": "8c21b106",
   "metadata": {},
   "outputs": [
    {
     "data": {
      "text/plain": [
       "'Aéroport lors du passage de la sécurité, la personne contrôlant les sacs qui passent le détecteur s’empresse d’avancer le tapis alors que tout est bloqué ce qui amène à faire tomber des affaires Serre les dents, les mains et temperature qui monte mots : Il est con ou il fait exprès (pensées assez fortes car je lui ais poser la question) territoire attaqué : pensées tes affaires par rapport à la situation du au contrôleur le territoire est à moi et l’attaque ext. se contrôler, pensées à s’exprimer pour répondre en gardant son calme Non, j’ai juste réagi très rapidement, je n’ai pas pensé aux différentes actions que j’aurais pu avoir ne pas s’énerver et s’expliquer calmement sur la situation avec le principal intéressé'"
      ]
     },
     "execution_count": 511,
     "metadata": {},
     "output_type": "execute_result"
    }
   ],
   "source": [
    "grille_df.iloc[0]['text']"
   ]
  },
  {
   "cell_type": "code",
   "execution_count": null,
   "id": "9113e1bf",
   "metadata": {},
   "outputs": [],
   "source": [
    "grille_df"
   ]
  },
  {
   "cell_type": "code",
   "execution_count": 470,
   "id": "fa5d06c9",
   "metadata": {},
   "outputs": [
    {
     "name": "stdout",
     "output_type": "stream",
     "text": [
      "(1372, 7440)\n"
     ]
    }
   ],
   "source": [
    "print(embeddings.shape)"
   ]
  },
  {
   "cell_type": "code",
   "execution_count": 521,
   "id": "05a91e22",
   "metadata": {},
   "outputs": [
    {
     "name": "stderr",
     "output_type": "stream",
     "text": [
      "2022-05-06 13:54:16,428 - BERTopic - Reduced dimensionality\n",
      "2022-05-06 13:54:16,470 - BERTopic - Clustered reduced embeddings\n"
     ]
    }
   ],
   "source": [
    "from sklearn.feature_extraction.text import TfidfVectorizer, CountVectorizer\n",
    "\n",
    "embeddings = TfidfVectorizer().fit_transform(docs)\n",
    "topic_model = BERTopic()\n",
    "topics, probs = topic_model.fit_transform(docs, embeddings)"
   ]
  },
  {
   "cell_type": "code",
   "execution_count": 493,
   "id": "517aa4de",
   "metadata": {},
   "outputs": [
    {
     "name": "stderr",
     "output_type": "stream",
     "text": [
      "Batches: 100%|██████████| 43/43 [00:28<00:00,  1.50it/s]\n",
      "2022-05-04 14:53:56,351 - BERTopic - Transformed documents to Embeddings\n",
      "2022-05-04 14:53:59,377 - BERTopic - Reduced dimensionality\n",
      "2022-05-04 14:53:59,409 - BERTopic - Clustered reduced embeddings\n"
     ]
    }
   ],
   "source": [
    "from bertopic import BERTopic\n",
    "\n",
    "#topic_model = BERTopic(\"french\")\n",
    "topic_model = BERTopic(verbose = True, embedding_model=\"paraphrase-multilingual-MiniLM-L12-v2\")\n",
    "#topic_model = BERTopic(verbose = True, embedding_model=\"paraphrase-multilingual-mpnet-base-v2\")\n",
    "#topic_model = BERTopic(embedding_model=nlp)\n",
    "topics, probs = topic_model.fit_transform(docs)"
   ]
  },
  {
   "cell_type": "code",
   "execution_count": 522,
   "id": "29fd40cd",
   "metadata": {
    "collapsed": true
   },
   "outputs": [
    {
     "data": {
      "application/vnd.plotly.v1+json": {
       "config": {
        "plotlyServerURL": "https://plot.ly"
       },
       "data": [
        {
         "hoverinfo": "text",
         "marker": {
          "color": "rgb(0,116,217)"
         },
         "mode": "lines",
         "type": "scatter",
         "x": [
          0,
          1.064391554330798,
          1.064391554330798,
          0
         ],
         "xaxis": "x",
         "y": [
          -5,
          -5,
          -15,
          -15
         ],
         "yaxis": "y"
        },
        {
         "hoverinfo": "text",
         "marker": {
          "color": "rgb(0,116,217)"
         },
         "mode": "lines",
         "type": "scatter",
         "x": [
          0,
          1.0328646632964835,
          1.0328646632964835,
          0
         ],
         "xaxis": "x",
         "y": [
          -25,
          -25,
          -35,
          -35
         ],
         "yaxis": "y"
        },
        {
         "hoverinfo": "text",
         "marker": {
          "color": "rgb(61,153,112)"
         },
         "mode": "lines",
         "type": "scatter",
         "x": [
          0,
          0.9368213956429045,
          0.9368213956429045,
          0
         ],
         "xaxis": "x",
         "y": [
          -55,
          -55,
          -65,
          -65
         ],
         "yaxis": "y"
        },
        {
         "hoverinfo": "text",
         "marker": {
          "color": "rgb(0,116,217)"
         },
         "mode": "lines",
         "type": "scatter",
         "x": [
          0,
          1.0403629761273583,
          1.0403629761273583,
          0.9368213956429045
         ],
         "xaxis": "x",
         "y": [
          -45,
          -45,
          -60,
          -60
         ],
         "yaxis": "y"
        },
        {
         "hoverinfo": "text",
         "marker": {
          "color": "rgb(0,116,217)"
         },
         "mode": "lines",
         "type": "scatter",
         "x": [
          1.0328646632964835,
          1.0845451389478515,
          1.0845451389478515,
          1.0403629761273583
         ],
         "xaxis": "x",
         "y": [
          -30,
          -30,
          -52.5,
          -52.5
         ],
         "yaxis": "y"
        },
        {
         "hoverinfo": "text",
         "marker": {
          "color": "rgb(0,116,217)"
         },
         "mode": "lines",
         "type": "scatter",
         "x": [
          1.064391554330798,
          1.1867826255709955,
          1.1867826255709955,
          1.0845451389478515
         ],
         "xaxis": "x",
         "y": [
          -10,
          -10,
          -41.25,
          -41.25
         ],
         "yaxis": "y"
        },
        {
         "hoverinfo": "text",
         "marker": {
          "color": "rgb(0,116,217)"
         },
         "mode": "lines",
         "type": "scatter",
         "x": [
          0,
          1.0225774638883403,
          1.0225774638883403,
          0
         ],
         "xaxis": "x",
         "y": [
          -85,
          -85,
          -95,
          -95
         ],
         "yaxis": "y"
        },
        {
         "hoverinfo": "text",
         "marker": {
          "color": "rgb(0,116,217)"
         },
         "mode": "lines",
         "type": "scatter",
         "x": [
          0,
          1.1588940032265589,
          1.1588940032265589,
          1.0225774638883403
         ],
         "xaxis": "x",
         "y": [
          -75,
          -75,
          -90,
          -90
         ],
         "yaxis": "y"
        },
        {
         "hoverinfo": "text",
         "marker": {
          "color": "rgb(255,65,54)"
         },
         "mode": "lines",
         "type": "scatter",
         "x": [
          0,
          0.958549132554692,
          0.958549132554692,
          0
         ],
         "xaxis": "x",
         "y": [
          -105,
          -105,
          -115,
          -115
         ],
         "yaxis": "y"
        },
        {
         "hoverinfo": "text",
         "marker": {
          "color": "rgb(35,205,205)"
         },
         "mode": "lines",
         "type": "scatter",
         "x": [
          0,
          0.8721323867849137,
          0.8721323867849137,
          0
         ],
         "xaxis": "x",
         "y": [
          -125,
          -125,
          -135,
          -135
         ],
         "yaxis": "y"
        },
        {
         "hoverinfo": "text",
         "marker": {
          "color": "rgb(35,205,205)"
         },
         "mode": "lines",
         "type": "scatter",
         "x": [
          0,
          0.9113359299037829,
          0.9113359299037829,
          0
         ],
         "xaxis": "x",
         "y": [
          -145,
          -145,
          -155,
          -155
         ],
         "yaxis": "y"
        },
        {
         "hoverinfo": "text",
         "marker": {
          "color": "rgb(35,205,205)"
         },
         "mode": "lines",
         "type": "scatter",
         "x": [
          0.8721323867849137,
          0.9858149934775976,
          0.9858149934775976,
          0.9113359299037829
         ],
         "xaxis": "x",
         "y": [
          -130,
          -130,
          -150,
          -150
         ],
         "yaxis": "y"
        },
        {
         "hoverinfo": "text",
         "marker": {
          "color": "rgb(0,116,217)"
         },
         "mode": "lines",
         "type": "scatter",
         "x": [
          0.958549132554692,
          1.168508440883672,
          1.168508440883672,
          0.9858149934775976
         ],
         "xaxis": "x",
         "y": [
          -110,
          -110,
          -140,
          -140
         ],
         "yaxis": "y"
        },
        {
         "hoverinfo": "text",
         "marker": {
          "color": "rgb(0,116,217)"
         },
         "mode": "lines",
         "type": "scatter",
         "x": [
          1.1588940032265589,
          1.4079150613889946,
          1.4079150613889946,
          1.168508440883672
         ],
         "xaxis": "x",
         "y": [
          -82.5,
          -82.5,
          -125,
          -125
         ],
         "yaxis": "y"
        },
        {
         "hoverinfo": "text",
         "marker": {
          "color": "rgb(0,116,217)"
         },
         "mode": "lines",
         "type": "scatter",
         "x": [
          1.1867826255709955,
          1.4822108067142759,
          1.4822108067142759,
          1.4079150613889946
         ],
         "xaxis": "x",
         "y": [
          -25.625,
          -25.625,
          -103.75,
          -103.75
         ],
         "yaxis": "y"
        },
        {
         "hoverinfo": "text",
         "marker": {
          "color": "rgb(0,116,217)"
         },
         "mode": "lines",
         "type": "scatter",
         "x": [
          0,
          1.3122804403780919,
          1.3122804403780919,
          0
         ],
         "xaxis": "x",
         "y": [
          -175,
          -175,
          -185,
          -185
         ],
         "yaxis": "y"
        },
        {
         "hoverinfo": "text",
         "marker": {
          "color": "rgb(0,116,217)"
         },
         "mode": "lines",
         "type": "scatter",
         "x": [
          0,
          1.1664331330772764,
          1.1664331330772764,
          0
         ],
         "xaxis": "x",
         "y": [
          -205,
          -205,
          -215,
          -215
         ],
         "yaxis": "y"
        },
        {
         "hoverinfo": "text",
         "marker": {
          "color": "rgb(0,116,217)"
         },
         "mode": "lines",
         "type": "scatter",
         "x": [
          0,
          1.2832826033043196,
          1.2832826033043196,
          1.1664331330772764
         ],
         "xaxis": "x",
         "y": [
          -195,
          -195,
          -210,
          -210
         ],
         "yaxis": "y"
        },
        {
         "hoverinfo": "text",
         "marker": {
          "color": "rgb(0,116,217)"
         },
         "mode": "lines",
         "type": "scatter",
         "x": [
          0,
          1.0798859495964983,
          1.0798859495964983,
          0
         ],
         "xaxis": "x",
         "y": [
          -225,
          -225,
          -235,
          -235
         ],
         "yaxis": "y"
        },
        {
         "hoverinfo": "text",
         "marker": {
          "color": "rgb(0,116,217)"
         },
         "mode": "lines",
         "type": "scatter",
         "x": [
          0,
          1.1678408746235354,
          1.1678408746235354,
          0
         ],
         "xaxis": "x",
         "y": [
          -245,
          -245,
          -255,
          -255
         ],
         "yaxis": "y"
        },
        {
         "hoverinfo": "text",
         "marker": {
          "color": "rgb(0,116,217)"
         },
         "mode": "lines",
         "type": "scatter",
         "x": [
          1.0798859495964983,
          1.2792799121618161,
          1.2792799121618161,
          1.1678408746235354
         ],
         "xaxis": "x",
         "y": [
          -230,
          -230,
          -250,
          -250
         ],
         "yaxis": "y"
        },
        {
         "hoverinfo": "text",
         "marker": {
          "color": "rgb(0,116,217)"
         },
         "mode": "lines",
         "type": "scatter",
         "x": [
          0,
          1.2022665814653575,
          1.2022665814653575,
          0
         ],
         "xaxis": "x",
         "y": [
          -265,
          -265,
          -275,
          -275
         ],
         "yaxis": "y"
        },
        {
         "hoverinfo": "text",
         "marker": {
          "color": "rgb(0,116,217)"
         },
         "mode": "lines",
         "type": "scatter",
         "x": [
          0,
          1.1448742731697656,
          1.1448742731697656,
          0
         ],
         "xaxis": "x",
         "y": [
          -285,
          -285,
          -295,
          -295
         ],
         "yaxis": "y"
        },
        {
         "hoverinfo": "text",
         "marker": {
          "color": "rgb(0,116,217)"
         },
         "mode": "lines",
         "type": "scatter",
         "x": [
          0,
          1.1689417929565142,
          1.1689417929565142,
          0
         ],
         "xaxis": "x",
         "y": [
          -305,
          -305,
          -315,
          -315
         ],
         "yaxis": "y"
        },
        {
         "hoverinfo": "text",
         "marker": {
          "color": "rgb(0,116,217)"
         },
         "mode": "lines",
         "type": "scatter",
         "x": [
          0,
          1.2051707597492813,
          1.2051707597492813,
          0
         ],
         "xaxis": "x",
         "y": [
          -325,
          -325,
          -335,
          -335
         ],
         "yaxis": "y"
        },
        {
         "hoverinfo": "text",
         "marker": {
          "color": "rgb(0,116,217)"
         },
         "mode": "lines",
         "type": "scatter",
         "x": [
          1.1689417929565142,
          1.2325047323715408,
          1.2325047323715408,
          1.2051707597492813
         ],
         "xaxis": "x",
         "y": [
          -310,
          -310,
          -330,
          -330
         ],
         "yaxis": "y"
        },
        {
         "hoverinfo": "text",
         "marker": {
          "color": "rgb(0,116,217)"
         },
         "mode": "lines",
         "type": "scatter",
         "x": [
          1.1448742731697656,
          1.2623201538943463,
          1.2623201538943463,
          1.2325047323715408
         ],
         "xaxis": "x",
         "y": [
          -290,
          -290,
          -320,
          -320
         ],
         "yaxis": "y"
        },
        {
         "hoverinfo": "text",
         "marker": {
          "color": "rgb(0,116,217)"
         },
         "mode": "lines",
         "type": "scatter",
         "x": [
          1.2022665814653575,
          1.3012165338833295,
          1.3012165338833295,
          1.2623201538943463
         ],
         "xaxis": "x",
         "y": [
          -270,
          -270,
          -305,
          -305
         ],
         "yaxis": "y"
        },
        {
         "hoverinfo": "text",
         "marker": {
          "color": "rgb(0,116,217)"
         },
         "mode": "lines",
         "type": "scatter",
         "x": [
          1.2792799121618161,
          1.3551307204911658,
          1.3551307204911658,
          1.3012165338833295
         ],
         "xaxis": "x",
         "y": [
          -240,
          -240,
          -287.5,
          -287.5
         ],
         "yaxis": "y"
        },
        {
         "hoverinfo": "text",
         "marker": {
          "color": "rgb(0,116,217)"
         },
         "mode": "lines",
         "type": "scatter",
         "x": [
          1.2832826033043196,
          1.3929231220639595,
          1.3929231220639595,
          1.3551307204911658
         ],
         "xaxis": "x",
         "y": [
          -202.5,
          -202.5,
          -263.75,
          -263.75
         ],
         "yaxis": "y"
        },
        {
         "hoverinfo": "text",
         "marker": {
          "color": "rgb(0,116,217)"
         },
         "mode": "lines",
         "type": "scatter",
         "x": [
          1.3122804403780919,
          1.526455921332416,
          1.526455921332416,
          1.3929231220639595
         ],
         "xaxis": "x",
         "y": [
          -180,
          -180,
          -233.125,
          -233.125
         ],
         "yaxis": "y"
        },
        {
         "hoverinfo": "text",
         "marker": {
          "color": "rgb(0,116,217)"
         },
         "mode": "lines",
         "type": "scatter",
         "x": [
          0,
          1.8302078457104525,
          1.8302078457104525,
          1.526455921332416
         ],
         "xaxis": "x",
         "y": [
          -165,
          -165,
          -206.5625,
          -206.5625
         ],
         "yaxis": "y"
        },
        {
         "hoverinfo": "text",
         "marker": {
          "color": "rgb(0,116,217)"
         },
         "mode": "lines",
         "type": "scatter",
         "x": [
          1.4822108067142759,
          2.1942512083234256,
          2.1942512083234256,
          1.8302078457104525
         ],
         "xaxis": "x",
         "y": [
          -64.6875,
          -64.6875,
          -185.78125,
          -185.78125
         ],
         "yaxis": "y"
        }
       ],
       "layout": {
        "autosize": false,
        "height": 710,
        "hoverlabel": {
         "bgcolor": "white",
         "font": {
          "family": "Rockwell",
          "size": 16
         }
        },
        "hovermode": "closest",
        "plot_bgcolor": "#ECEFF1",
        "showlegend": false,
        "template": {
         "data": {
          "bar": [
           {
            "error_x": {
             "color": "#2a3f5f"
            },
            "error_y": {
             "color": "#2a3f5f"
            },
            "marker": {
             "line": {
              "color": "white",
              "width": 0.5
             },
             "pattern": {
              "fillmode": "overlay",
              "size": 10,
              "solidity": 0.2
             }
            },
            "type": "bar"
           }
          ],
          "barpolar": [
           {
            "marker": {
             "line": {
              "color": "white",
              "width": 0.5
             },
             "pattern": {
              "fillmode": "overlay",
              "size": 10,
              "solidity": 0.2
             }
            },
            "type": "barpolar"
           }
          ],
          "carpet": [
           {
            "aaxis": {
             "endlinecolor": "#2a3f5f",
             "gridcolor": "#C8D4E3",
             "linecolor": "#C8D4E3",
             "minorgridcolor": "#C8D4E3",
             "startlinecolor": "#2a3f5f"
            },
            "baxis": {
             "endlinecolor": "#2a3f5f",
             "gridcolor": "#C8D4E3",
             "linecolor": "#C8D4E3",
             "minorgridcolor": "#C8D4E3",
             "startlinecolor": "#2a3f5f"
            },
            "type": "carpet"
           }
          ],
          "choropleth": [
           {
            "colorbar": {
             "outlinewidth": 0,
             "ticks": ""
            },
            "type": "choropleth"
           }
          ],
          "contour": [
           {
            "colorbar": {
             "outlinewidth": 0,
             "ticks": ""
            },
            "colorscale": [
             [
              0,
              "#0d0887"
             ],
             [
              0.1111111111111111,
              "#46039f"
             ],
             [
              0.2222222222222222,
              "#7201a8"
             ],
             [
              0.3333333333333333,
              "#9c179e"
             ],
             [
              0.4444444444444444,
              "#bd3786"
             ],
             [
              0.5555555555555556,
              "#d8576b"
             ],
             [
              0.6666666666666666,
              "#ed7953"
             ],
             [
              0.7777777777777778,
              "#fb9f3a"
             ],
             [
              0.8888888888888888,
              "#fdca26"
             ],
             [
              1,
              "#f0f921"
             ]
            ],
            "type": "contour"
           }
          ],
          "contourcarpet": [
           {
            "colorbar": {
             "outlinewidth": 0,
             "ticks": ""
            },
            "type": "contourcarpet"
           }
          ],
          "heatmap": [
           {
            "colorbar": {
             "outlinewidth": 0,
             "ticks": ""
            },
            "colorscale": [
             [
              0,
              "#0d0887"
             ],
             [
              0.1111111111111111,
              "#46039f"
             ],
             [
              0.2222222222222222,
              "#7201a8"
             ],
             [
              0.3333333333333333,
              "#9c179e"
             ],
             [
              0.4444444444444444,
              "#bd3786"
             ],
             [
              0.5555555555555556,
              "#d8576b"
             ],
             [
              0.6666666666666666,
              "#ed7953"
             ],
             [
              0.7777777777777778,
              "#fb9f3a"
             ],
             [
              0.8888888888888888,
              "#fdca26"
             ],
             [
              1,
              "#f0f921"
             ]
            ],
            "type": "heatmap"
           }
          ],
          "heatmapgl": [
           {
            "colorbar": {
             "outlinewidth": 0,
             "ticks": ""
            },
            "colorscale": [
             [
              0,
              "#0d0887"
             ],
             [
              0.1111111111111111,
              "#46039f"
             ],
             [
              0.2222222222222222,
              "#7201a8"
             ],
             [
              0.3333333333333333,
              "#9c179e"
             ],
             [
              0.4444444444444444,
              "#bd3786"
             ],
             [
              0.5555555555555556,
              "#d8576b"
             ],
             [
              0.6666666666666666,
              "#ed7953"
             ],
             [
              0.7777777777777778,
              "#fb9f3a"
             ],
             [
              0.8888888888888888,
              "#fdca26"
             ],
             [
              1,
              "#f0f921"
             ]
            ],
            "type": "heatmapgl"
           }
          ],
          "histogram": [
           {
            "marker": {
             "pattern": {
              "fillmode": "overlay",
              "size": 10,
              "solidity": 0.2
             }
            },
            "type": "histogram"
           }
          ],
          "histogram2d": [
           {
            "colorbar": {
             "outlinewidth": 0,
             "ticks": ""
            },
            "colorscale": [
             [
              0,
              "#0d0887"
             ],
             [
              0.1111111111111111,
              "#46039f"
             ],
             [
              0.2222222222222222,
              "#7201a8"
             ],
             [
              0.3333333333333333,
              "#9c179e"
             ],
             [
              0.4444444444444444,
              "#bd3786"
             ],
             [
              0.5555555555555556,
              "#d8576b"
             ],
             [
              0.6666666666666666,
              "#ed7953"
             ],
             [
              0.7777777777777778,
              "#fb9f3a"
             ],
             [
              0.8888888888888888,
              "#fdca26"
             ],
             [
              1,
              "#f0f921"
             ]
            ],
            "type": "histogram2d"
           }
          ],
          "histogram2dcontour": [
           {
            "colorbar": {
             "outlinewidth": 0,
             "ticks": ""
            },
            "colorscale": [
             [
              0,
              "#0d0887"
             ],
             [
              0.1111111111111111,
              "#46039f"
             ],
             [
              0.2222222222222222,
              "#7201a8"
             ],
             [
              0.3333333333333333,
              "#9c179e"
             ],
             [
              0.4444444444444444,
              "#bd3786"
             ],
             [
              0.5555555555555556,
              "#d8576b"
             ],
             [
              0.6666666666666666,
              "#ed7953"
             ],
             [
              0.7777777777777778,
              "#fb9f3a"
             ],
             [
              0.8888888888888888,
              "#fdca26"
             ],
             [
              1,
              "#f0f921"
             ]
            ],
            "type": "histogram2dcontour"
           }
          ],
          "mesh3d": [
           {
            "colorbar": {
             "outlinewidth": 0,
             "ticks": ""
            },
            "type": "mesh3d"
           }
          ],
          "parcoords": [
           {
            "line": {
             "colorbar": {
              "outlinewidth": 0,
              "ticks": ""
             }
            },
            "type": "parcoords"
           }
          ],
          "pie": [
           {
            "automargin": true,
            "type": "pie"
           }
          ],
          "scatter": [
           {
            "fillpattern": {
             "fillmode": "overlay",
             "size": 10,
             "solidity": 0.2
            },
            "type": "scatter"
           }
          ],
          "scatter3d": [
           {
            "line": {
             "colorbar": {
              "outlinewidth": 0,
              "ticks": ""
             }
            },
            "marker": {
             "colorbar": {
              "outlinewidth": 0,
              "ticks": ""
             }
            },
            "type": "scatter3d"
           }
          ],
          "scattercarpet": [
           {
            "marker": {
             "colorbar": {
              "outlinewidth": 0,
              "ticks": ""
             }
            },
            "type": "scattercarpet"
           }
          ],
          "scattergeo": [
           {
            "marker": {
             "colorbar": {
              "outlinewidth": 0,
              "ticks": ""
             }
            },
            "type": "scattergeo"
           }
          ],
          "scattergl": [
           {
            "marker": {
             "colorbar": {
              "outlinewidth": 0,
              "ticks": ""
             }
            },
            "type": "scattergl"
           }
          ],
          "scattermapbox": [
           {
            "marker": {
             "colorbar": {
              "outlinewidth": 0,
              "ticks": ""
             }
            },
            "type": "scattermapbox"
           }
          ],
          "scatterpolar": [
           {
            "marker": {
             "colorbar": {
              "outlinewidth": 0,
              "ticks": ""
             }
            },
            "type": "scatterpolar"
           }
          ],
          "scatterpolargl": [
           {
            "marker": {
             "colorbar": {
              "outlinewidth": 0,
              "ticks": ""
             }
            },
            "type": "scatterpolargl"
           }
          ],
          "scatterternary": [
           {
            "marker": {
             "colorbar": {
              "outlinewidth": 0,
              "ticks": ""
             }
            },
            "type": "scatterternary"
           }
          ],
          "surface": [
           {
            "colorbar": {
             "outlinewidth": 0,
             "ticks": ""
            },
            "colorscale": [
             [
              0,
              "#0d0887"
             ],
             [
              0.1111111111111111,
              "#46039f"
             ],
             [
              0.2222222222222222,
              "#7201a8"
             ],
             [
              0.3333333333333333,
              "#9c179e"
             ],
             [
              0.4444444444444444,
              "#bd3786"
             ],
             [
              0.5555555555555556,
              "#d8576b"
             ],
             [
              0.6666666666666666,
              "#ed7953"
             ],
             [
              0.7777777777777778,
              "#fb9f3a"
             ],
             [
              0.8888888888888888,
              "#fdca26"
             ],
             [
              1,
              "#f0f921"
             ]
            ],
            "type": "surface"
           }
          ],
          "table": [
           {
            "cells": {
             "fill": {
              "color": "#EBF0F8"
             },
             "line": {
              "color": "white"
             }
            },
            "header": {
             "fill": {
              "color": "#C8D4E3"
             },
             "line": {
              "color": "white"
             }
            },
            "type": "table"
           }
          ]
         },
         "layout": {
          "annotationdefaults": {
           "arrowcolor": "#2a3f5f",
           "arrowhead": 0,
           "arrowwidth": 1
          },
          "autotypenumbers": "strict",
          "coloraxis": {
           "colorbar": {
            "outlinewidth": 0,
            "ticks": ""
           }
          },
          "colorscale": {
           "diverging": [
            [
             0,
             "#8e0152"
            ],
            [
             0.1,
             "#c51b7d"
            ],
            [
             0.2,
             "#de77ae"
            ],
            [
             0.3,
             "#f1b6da"
            ],
            [
             0.4,
             "#fde0ef"
            ],
            [
             0.5,
             "#f7f7f7"
            ],
            [
             0.6,
             "#e6f5d0"
            ],
            [
             0.7,
             "#b8e186"
            ],
            [
             0.8,
             "#7fbc41"
            ],
            [
             0.9,
             "#4d9221"
            ],
            [
             1,
             "#276419"
            ]
           ],
           "sequential": [
            [
             0,
             "#0d0887"
            ],
            [
             0.1111111111111111,
             "#46039f"
            ],
            [
             0.2222222222222222,
             "#7201a8"
            ],
            [
             0.3333333333333333,
             "#9c179e"
            ],
            [
             0.4444444444444444,
             "#bd3786"
            ],
            [
             0.5555555555555556,
             "#d8576b"
            ],
            [
             0.6666666666666666,
             "#ed7953"
            ],
            [
             0.7777777777777778,
             "#fb9f3a"
            ],
            [
             0.8888888888888888,
             "#fdca26"
            ],
            [
             1,
             "#f0f921"
            ]
           ],
           "sequentialminus": [
            [
             0,
             "#0d0887"
            ],
            [
             0.1111111111111111,
             "#46039f"
            ],
            [
             0.2222222222222222,
             "#7201a8"
            ],
            [
             0.3333333333333333,
             "#9c179e"
            ],
            [
             0.4444444444444444,
             "#bd3786"
            ],
            [
             0.5555555555555556,
             "#d8576b"
            ],
            [
             0.6666666666666666,
             "#ed7953"
            ],
            [
             0.7777777777777778,
             "#fb9f3a"
            ],
            [
             0.8888888888888888,
             "#fdca26"
            ],
            [
             1,
             "#f0f921"
            ]
           ]
          },
          "colorway": [
           "#636efa",
           "#EF553B",
           "#00cc96",
           "#ab63fa",
           "#FFA15A",
           "#19d3f3",
           "#FF6692",
           "#B6E880",
           "#FF97FF",
           "#FECB52"
          ],
          "font": {
           "color": "#2a3f5f"
          },
          "geo": {
           "bgcolor": "white",
           "lakecolor": "white",
           "landcolor": "white",
           "showlakes": true,
           "showland": true,
           "subunitcolor": "#C8D4E3"
          },
          "hoverlabel": {
           "align": "left"
          },
          "hovermode": "closest",
          "mapbox": {
           "style": "light"
          },
          "paper_bgcolor": "white",
          "plot_bgcolor": "white",
          "polar": {
           "angularaxis": {
            "gridcolor": "#EBF0F8",
            "linecolor": "#EBF0F8",
            "ticks": ""
           },
           "bgcolor": "white",
           "radialaxis": {
            "gridcolor": "#EBF0F8",
            "linecolor": "#EBF0F8",
            "ticks": ""
           }
          },
          "scene": {
           "xaxis": {
            "backgroundcolor": "white",
            "gridcolor": "#DFE8F3",
            "gridwidth": 2,
            "linecolor": "#EBF0F8",
            "showbackground": true,
            "ticks": "",
            "zerolinecolor": "#EBF0F8"
           },
           "yaxis": {
            "backgroundcolor": "white",
            "gridcolor": "#DFE8F3",
            "gridwidth": 2,
            "linecolor": "#EBF0F8",
            "showbackground": true,
            "ticks": "",
            "zerolinecolor": "#EBF0F8"
           },
           "zaxis": {
            "backgroundcolor": "white",
            "gridcolor": "#DFE8F3",
            "gridwidth": 2,
            "linecolor": "#EBF0F8",
            "showbackground": true,
            "ticks": "",
            "zerolinecolor": "#EBF0F8"
           }
          },
          "shapedefaults": {
           "line": {
            "color": "#2a3f5f"
           }
          },
          "ternary": {
           "aaxis": {
            "gridcolor": "#DFE8F3",
            "linecolor": "#A2B1C6",
            "ticks": ""
           },
           "baxis": {
            "gridcolor": "#DFE8F3",
            "linecolor": "#A2B1C6",
            "ticks": ""
           },
           "bgcolor": "white",
           "caxis": {
            "gridcolor": "#DFE8F3",
            "linecolor": "#A2B1C6",
            "ticks": ""
           }
          },
          "title": {
           "x": 0.05
          },
          "xaxis": {
           "automargin": true,
           "gridcolor": "#EBF0F8",
           "linecolor": "#EBF0F8",
           "ticks": "",
           "title": {
            "standoff": 15
           },
           "zerolinecolor": "#EBF0F8",
           "zerolinewidth": 2
          },
          "yaxis": {
           "automargin": true,
           "gridcolor": "#EBF0F8",
           "linecolor": "#EBF0F8",
           "ticks": "",
           "title": {
            "standoff": 15
           },
           "zerolinecolor": "#EBF0F8",
           "zerolinewidth": 2
          }
         }
        },
        "title": {
         "font": {
          "color": "Black",
          "size": 22
         },
         "text": "<b>Hierarchical Clustering",
         "x": 0.5,
         "xanchor": "center",
         "yanchor": "top"
        },
        "width": 1000,
        "xaxis": {
         "mirror": "allticks",
         "rangemode": "tozero",
         "showgrid": false,
         "showline": true,
         "showticklabels": true,
         "ticks": "outside",
         "type": "linear",
         "zeroline": false
        },
        "yaxis": {
         "mirror": "allticks",
         "range": [
          -340,
          0
         ],
         "rangemode": "tozero",
         "showgrid": false,
         "showline": true,
         "showticklabels": true,
         "tickmode": "array",
         "ticks": "outside",
         "ticktext": [
          "16_directeur_thse_marc",
          "21_runion_photothque_respon...",
          "7_prsentation_acteur_mdecin",
          "24_phrase_vouloir_grgory",
          "9_patient_rendezvous_cabinet",
          "1_projet_travail_chef",
          "3_tudiant_examen_enseignant",
          "13_groupe_course_rodolphe",
          "4_joie_match_sourire",
          "12_emotion_joie_tristesse",
          "8_voiture_vhicule_route",
          "10_peur_train_entrer",
          "5_triste_tristesse_sparer",
          "6_mre_fille_mari",
          "0_ami_vitrine_rveiller",
          "11_sur_pre_week",
          "14_nan_femme_moult",
          "22_courir_arbre_tailler",
          "33_rsultat_essai_anne",
          "32_avion_vol_aroport",
          "2_formation_confiance_porte...",
          "15_cl_carte_bernard",
          "23_cours_question_fin",
          "28_lve_classe_oral",
          "17_mmoire_froid_prsenter",
          "27_alain_christine_chantal",
          "18_donne_base_ordinateur",
          "26_jeune_police_musique",
          "25_amie_muriel_sminaire",
          "30_copine_cq_gare",
          "20_secrtaire_photocopie_ser...",
          "29_payer_euro_ticket",
          "19_rvision_croyance_monde",
          "31_retard_transport_sncf"
         ],
         "tickvals": [
          -5,
          -15,
          -25,
          -35,
          -45,
          -55,
          -65,
          -75,
          -85,
          -95,
          -105,
          -115,
          -125,
          -135,
          -145,
          -155,
          -165,
          -175,
          -185,
          -195,
          -205,
          -215,
          -225,
          -235,
          -245,
          -255,
          -265,
          -275,
          -285,
          -295,
          -305,
          -315,
          -325,
          -335
         ],
         "type": "linear",
         "zeroline": false
        }
       }
      },
      "text/html": [
       "<div>                            <div id=\"7e3ae0d3-23e8-4fb7-8782-e9bfd205945f\" class=\"plotly-graph-div\" style=\"height:710px; width:1000px;\"></div>            <script type=\"text/javascript\">                require([\"plotly\"], function(Plotly) {                    window.PLOTLYENV=window.PLOTLYENV || {};                                    if (document.getElementById(\"7e3ae0d3-23e8-4fb7-8782-e9bfd205945f\")) {                    Plotly.newPlot(                        \"7e3ae0d3-23e8-4fb7-8782-e9bfd205945f\",                        [{\"hoverinfo\":\"text\",\"marker\":{\"color\":\"rgb(0,116,217)\"},\"mode\":\"lines\",\"x\":[0.0,1.064391554330798,1.064391554330798,0.0],\"xaxis\":\"x\",\"y\":[-5.0,-5.0,-15.0,-15.0],\"yaxis\":\"y\",\"type\":\"scatter\"},{\"hoverinfo\":\"text\",\"marker\":{\"color\":\"rgb(0,116,217)\"},\"mode\":\"lines\",\"x\":[0.0,1.0328646632964835,1.0328646632964835,0.0],\"xaxis\":\"x\",\"y\":[-25.0,-25.0,-35.0,-35.0],\"yaxis\":\"y\",\"type\":\"scatter\"},{\"hoverinfo\":\"text\",\"marker\":{\"color\":\"rgb(61,153,112)\"},\"mode\":\"lines\",\"x\":[0.0,0.9368213956429045,0.9368213956429045,0.0],\"xaxis\":\"x\",\"y\":[-55.0,-55.0,-65.0,-65.0],\"yaxis\":\"y\",\"type\":\"scatter\"},{\"hoverinfo\":\"text\",\"marker\":{\"color\":\"rgb(0,116,217)\"},\"mode\":\"lines\",\"x\":[0.0,1.0403629761273583,1.0403629761273583,0.9368213956429045],\"xaxis\":\"x\",\"y\":[-45.0,-45.0,-60.0,-60.0],\"yaxis\":\"y\",\"type\":\"scatter\"},{\"hoverinfo\":\"text\",\"marker\":{\"color\":\"rgb(0,116,217)\"},\"mode\":\"lines\",\"x\":[1.0328646632964835,1.0845451389478515,1.0845451389478515,1.0403629761273583],\"xaxis\":\"x\",\"y\":[-30.0,-30.0,-52.5,-52.5],\"yaxis\":\"y\",\"type\":\"scatter\"},{\"hoverinfo\":\"text\",\"marker\":{\"color\":\"rgb(0,116,217)\"},\"mode\":\"lines\",\"x\":[1.064391554330798,1.1867826255709955,1.1867826255709955,1.0845451389478515],\"xaxis\":\"x\",\"y\":[-10.0,-10.0,-41.25,-41.25],\"yaxis\":\"y\",\"type\":\"scatter\"},{\"hoverinfo\":\"text\",\"marker\":{\"color\":\"rgb(0,116,217)\"},\"mode\":\"lines\",\"x\":[0.0,1.0225774638883403,1.0225774638883403,0.0],\"xaxis\":\"x\",\"y\":[-85.0,-85.0,-95.0,-95.0],\"yaxis\":\"y\",\"type\":\"scatter\"},{\"hoverinfo\":\"text\",\"marker\":{\"color\":\"rgb(0,116,217)\"},\"mode\":\"lines\",\"x\":[0.0,1.1588940032265589,1.1588940032265589,1.0225774638883403],\"xaxis\":\"x\",\"y\":[-75.0,-75.0,-90.0,-90.0],\"yaxis\":\"y\",\"type\":\"scatter\"},{\"hoverinfo\":\"text\",\"marker\":{\"color\":\"rgb(255,65,54)\"},\"mode\":\"lines\",\"x\":[0.0,0.958549132554692,0.958549132554692,0.0],\"xaxis\":\"x\",\"y\":[-105.0,-105.0,-115.0,-115.0],\"yaxis\":\"y\",\"type\":\"scatter\"},{\"hoverinfo\":\"text\",\"marker\":{\"color\":\"rgb(35,205,205)\"},\"mode\":\"lines\",\"x\":[0.0,0.8721323867849137,0.8721323867849137,0.0],\"xaxis\":\"x\",\"y\":[-125.0,-125.0,-135.0,-135.0],\"yaxis\":\"y\",\"type\":\"scatter\"},{\"hoverinfo\":\"text\",\"marker\":{\"color\":\"rgb(35,205,205)\"},\"mode\":\"lines\",\"x\":[0.0,0.9113359299037829,0.9113359299037829,0.0],\"xaxis\":\"x\",\"y\":[-145.0,-145.0,-155.0,-155.0],\"yaxis\":\"y\",\"type\":\"scatter\"},{\"hoverinfo\":\"text\",\"marker\":{\"color\":\"rgb(35,205,205)\"},\"mode\":\"lines\",\"x\":[0.8721323867849137,0.9858149934775976,0.9858149934775976,0.9113359299037829],\"xaxis\":\"x\",\"y\":[-130.0,-130.0,-150.0,-150.0],\"yaxis\":\"y\",\"type\":\"scatter\"},{\"hoverinfo\":\"text\",\"marker\":{\"color\":\"rgb(0,116,217)\"},\"mode\":\"lines\",\"x\":[0.958549132554692,1.168508440883672,1.168508440883672,0.9858149934775976],\"xaxis\":\"x\",\"y\":[-110.0,-110.0,-140.0,-140.0],\"yaxis\":\"y\",\"type\":\"scatter\"},{\"hoverinfo\":\"text\",\"marker\":{\"color\":\"rgb(0,116,217)\"},\"mode\":\"lines\",\"x\":[1.1588940032265589,1.4079150613889946,1.4079150613889946,1.168508440883672],\"xaxis\":\"x\",\"y\":[-82.5,-82.5,-125.0,-125.0],\"yaxis\":\"y\",\"type\":\"scatter\"},{\"hoverinfo\":\"text\",\"marker\":{\"color\":\"rgb(0,116,217)\"},\"mode\":\"lines\",\"x\":[1.1867826255709955,1.4822108067142759,1.4822108067142759,1.4079150613889946],\"xaxis\":\"x\",\"y\":[-25.625,-25.625,-103.75,-103.75],\"yaxis\":\"y\",\"type\":\"scatter\"},{\"hoverinfo\":\"text\",\"marker\":{\"color\":\"rgb(0,116,217)\"},\"mode\":\"lines\",\"x\":[0.0,1.3122804403780919,1.3122804403780919,0.0],\"xaxis\":\"x\",\"y\":[-175.0,-175.0,-185.0,-185.0],\"yaxis\":\"y\",\"type\":\"scatter\"},{\"hoverinfo\":\"text\",\"marker\":{\"color\":\"rgb(0,116,217)\"},\"mode\":\"lines\",\"x\":[0.0,1.1664331330772764,1.1664331330772764,0.0],\"xaxis\":\"x\",\"y\":[-205.0,-205.0,-215.0,-215.0],\"yaxis\":\"y\",\"type\":\"scatter\"},{\"hoverinfo\":\"text\",\"marker\":{\"color\":\"rgb(0,116,217)\"},\"mode\":\"lines\",\"x\":[0.0,1.2832826033043196,1.2832826033043196,1.1664331330772764],\"xaxis\":\"x\",\"y\":[-195.0,-195.0,-210.0,-210.0],\"yaxis\":\"y\",\"type\":\"scatter\"},{\"hoverinfo\":\"text\",\"marker\":{\"color\":\"rgb(0,116,217)\"},\"mode\":\"lines\",\"x\":[0.0,1.0798859495964983,1.0798859495964983,0.0],\"xaxis\":\"x\",\"y\":[-225.0,-225.0,-235.0,-235.0],\"yaxis\":\"y\",\"type\":\"scatter\"},{\"hoverinfo\":\"text\",\"marker\":{\"color\":\"rgb(0,116,217)\"},\"mode\":\"lines\",\"x\":[0.0,1.1678408746235354,1.1678408746235354,0.0],\"xaxis\":\"x\",\"y\":[-245.0,-245.0,-255.0,-255.0],\"yaxis\":\"y\",\"type\":\"scatter\"},{\"hoverinfo\":\"text\",\"marker\":{\"color\":\"rgb(0,116,217)\"},\"mode\":\"lines\",\"x\":[1.0798859495964983,1.2792799121618161,1.2792799121618161,1.1678408746235354],\"xaxis\":\"x\",\"y\":[-230.0,-230.0,-250.0,-250.0],\"yaxis\":\"y\",\"type\":\"scatter\"},{\"hoverinfo\":\"text\",\"marker\":{\"color\":\"rgb(0,116,217)\"},\"mode\":\"lines\",\"x\":[0.0,1.2022665814653575,1.2022665814653575,0.0],\"xaxis\":\"x\",\"y\":[-265.0,-265.0,-275.0,-275.0],\"yaxis\":\"y\",\"type\":\"scatter\"},{\"hoverinfo\":\"text\",\"marker\":{\"color\":\"rgb(0,116,217)\"},\"mode\":\"lines\",\"x\":[0.0,1.1448742731697656,1.1448742731697656,0.0],\"xaxis\":\"x\",\"y\":[-285.0,-285.0,-295.0,-295.0],\"yaxis\":\"y\",\"type\":\"scatter\"},{\"hoverinfo\":\"text\",\"marker\":{\"color\":\"rgb(0,116,217)\"},\"mode\":\"lines\",\"x\":[0.0,1.1689417929565142,1.1689417929565142,0.0],\"xaxis\":\"x\",\"y\":[-305.0,-305.0,-315.0,-315.0],\"yaxis\":\"y\",\"type\":\"scatter\"},{\"hoverinfo\":\"text\",\"marker\":{\"color\":\"rgb(0,116,217)\"},\"mode\":\"lines\",\"x\":[0.0,1.2051707597492813,1.2051707597492813,0.0],\"xaxis\":\"x\",\"y\":[-325.0,-325.0,-335.0,-335.0],\"yaxis\":\"y\",\"type\":\"scatter\"},{\"hoverinfo\":\"text\",\"marker\":{\"color\":\"rgb(0,116,217)\"},\"mode\":\"lines\",\"x\":[1.1689417929565142,1.2325047323715408,1.2325047323715408,1.2051707597492813],\"xaxis\":\"x\",\"y\":[-310.0,-310.0,-330.0,-330.0],\"yaxis\":\"y\",\"type\":\"scatter\"},{\"hoverinfo\":\"text\",\"marker\":{\"color\":\"rgb(0,116,217)\"},\"mode\":\"lines\",\"x\":[1.1448742731697656,1.2623201538943463,1.2623201538943463,1.2325047323715408],\"xaxis\":\"x\",\"y\":[-290.0,-290.0,-320.0,-320.0],\"yaxis\":\"y\",\"type\":\"scatter\"},{\"hoverinfo\":\"text\",\"marker\":{\"color\":\"rgb(0,116,217)\"},\"mode\":\"lines\",\"x\":[1.2022665814653575,1.3012165338833295,1.3012165338833295,1.2623201538943463],\"xaxis\":\"x\",\"y\":[-270.0,-270.0,-305.0,-305.0],\"yaxis\":\"y\",\"type\":\"scatter\"},{\"hoverinfo\":\"text\",\"marker\":{\"color\":\"rgb(0,116,217)\"},\"mode\":\"lines\",\"x\":[1.2792799121618161,1.3551307204911658,1.3551307204911658,1.3012165338833295],\"xaxis\":\"x\",\"y\":[-240.0,-240.0,-287.5,-287.5],\"yaxis\":\"y\",\"type\":\"scatter\"},{\"hoverinfo\":\"text\",\"marker\":{\"color\":\"rgb(0,116,217)\"},\"mode\":\"lines\",\"x\":[1.2832826033043196,1.3929231220639595,1.3929231220639595,1.3551307204911658],\"xaxis\":\"x\",\"y\":[-202.5,-202.5,-263.75,-263.75],\"yaxis\":\"y\",\"type\":\"scatter\"},{\"hoverinfo\":\"text\",\"marker\":{\"color\":\"rgb(0,116,217)\"},\"mode\":\"lines\",\"x\":[1.3122804403780919,1.526455921332416,1.526455921332416,1.3929231220639595],\"xaxis\":\"x\",\"y\":[-180.0,-180.0,-233.125,-233.125],\"yaxis\":\"y\",\"type\":\"scatter\"},{\"hoverinfo\":\"text\",\"marker\":{\"color\":\"rgb(0,116,217)\"},\"mode\":\"lines\",\"x\":[0.0,1.8302078457104525,1.8302078457104525,1.526455921332416],\"xaxis\":\"x\",\"y\":[-165.0,-165.0,-206.5625,-206.5625],\"yaxis\":\"y\",\"type\":\"scatter\"},{\"hoverinfo\":\"text\",\"marker\":{\"color\":\"rgb(0,116,217)\"},\"mode\":\"lines\",\"x\":[1.4822108067142759,2.1942512083234256,2.1942512083234256,1.8302078457104525],\"xaxis\":\"x\",\"y\":[-64.6875,-64.6875,-185.78125,-185.78125],\"yaxis\":\"y\",\"type\":\"scatter\"}],                        {\"autosize\":false,\"height\":710,\"hovermode\":\"closest\",\"showlegend\":false,\"width\":1000,\"xaxis\":{\"mirror\":\"allticks\",\"rangemode\":\"tozero\",\"showgrid\":false,\"showline\":true,\"showticklabels\":true,\"ticks\":\"outside\",\"type\":\"linear\",\"zeroline\":false},\"yaxis\":{\"mirror\":\"allticks\",\"rangemode\":\"tozero\",\"showgrid\":false,\"showline\":true,\"showticklabels\":true,\"tickmode\":\"array\",\"ticks\":\"outside\",\"ticktext\":[\"16_directeur_thse_marc\",\"21_runion_photothque_respon...\",\"7_prsentation_acteur_mdecin\",\"24_phrase_vouloir_grgory\",\"9_patient_rendezvous_cabinet\",\"1_projet_travail_chef\",\"3_tudiant_examen_enseignant\",\"13_groupe_course_rodolphe\",\"4_joie_match_sourire\",\"12_emotion_joie_tristesse\",\"8_voiture_vhicule_route\",\"10_peur_train_entrer\",\"5_triste_tristesse_sparer\",\"6_mre_fille_mari\",\"0_ami_vitrine_rveiller\",\"11_sur_pre_week\",\"14_nan_femme_moult\",\"22_courir_arbre_tailler\",\"33_rsultat_essai_anne\",\"32_avion_vol_aroport\",\"2_formation_confiance_porte...\",\"15_cl_carte_bernard\",\"23_cours_question_fin\",\"28_lve_classe_oral\",\"17_mmoire_froid_prsenter\",\"27_alain_christine_chantal\",\"18_donne_base_ordinateur\",\"26_jeune_police_musique\",\"25_amie_muriel_sminaire\",\"30_copine_cq_gare\",\"20_secrtaire_photocopie_ser...\",\"29_payer_euro_ticket\",\"19_rvision_croyance_monde\",\"31_retard_transport_sncf\"],\"tickvals\":[-5.0,-15.0,-25.0,-35.0,-45.0,-55.0,-65.0,-75.0,-85.0,-95.0,-105.0,-115.0,-125.0,-135.0,-145.0,-155.0,-165.0,-175.0,-185.0,-195.0,-205.0,-215.0,-225.0,-235.0,-245.0,-255.0,-265.0,-275.0,-285.0,-295.0,-305.0,-315.0,-325.0,-335.0],\"type\":\"linear\",\"zeroline\":false,\"range\":[-340.0,0.0]},\"template\":{\"data\":{\"barpolar\":[{\"marker\":{\"line\":{\"color\":\"white\",\"width\":0.5},\"pattern\":{\"fillmode\":\"overlay\",\"size\":10,\"solidity\":0.2}},\"type\":\"barpolar\"}],\"bar\":[{\"error_x\":{\"color\":\"#2a3f5f\"},\"error_y\":{\"color\":\"#2a3f5f\"},\"marker\":{\"line\":{\"color\":\"white\",\"width\":0.5},\"pattern\":{\"fillmode\":\"overlay\",\"size\":10,\"solidity\":0.2}},\"type\":\"bar\"}],\"carpet\":[{\"aaxis\":{\"endlinecolor\":\"#2a3f5f\",\"gridcolor\":\"#C8D4E3\",\"linecolor\":\"#C8D4E3\",\"minorgridcolor\":\"#C8D4E3\",\"startlinecolor\":\"#2a3f5f\"},\"baxis\":{\"endlinecolor\":\"#2a3f5f\",\"gridcolor\":\"#C8D4E3\",\"linecolor\":\"#C8D4E3\",\"minorgridcolor\":\"#C8D4E3\",\"startlinecolor\":\"#2a3f5f\"},\"type\":\"carpet\"}],\"choropleth\":[{\"colorbar\":{\"outlinewidth\":0,\"ticks\":\"\"},\"type\":\"choropleth\"}],\"contourcarpet\":[{\"colorbar\":{\"outlinewidth\":0,\"ticks\":\"\"},\"type\":\"contourcarpet\"}],\"contour\":[{\"colorbar\":{\"outlinewidth\":0,\"ticks\":\"\"},\"colorscale\":[[0.0,\"#0d0887\"],[0.1111111111111111,\"#46039f\"],[0.2222222222222222,\"#7201a8\"],[0.3333333333333333,\"#9c179e\"],[0.4444444444444444,\"#bd3786\"],[0.5555555555555556,\"#d8576b\"],[0.6666666666666666,\"#ed7953\"],[0.7777777777777778,\"#fb9f3a\"],[0.8888888888888888,\"#fdca26\"],[1.0,\"#f0f921\"]],\"type\":\"contour\"}],\"heatmapgl\":[{\"colorbar\":{\"outlinewidth\":0,\"ticks\":\"\"},\"colorscale\":[[0.0,\"#0d0887\"],[0.1111111111111111,\"#46039f\"],[0.2222222222222222,\"#7201a8\"],[0.3333333333333333,\"#9c179e\"],[0.4444444444444444,\"#bd3786\"],[0.5555555555555556,\"#d8576b\"],[0.6666666666666666,\"#ed7953\"],[0.7777777777777778,\"#fb9f3a\"],[0.8888888888888888,\"#fdca26\"],[1.0,\"#f0f921\"]],\"type\":\"heatmapgl\"}],\"heatmap\":[{\"colorbar\":{\"outlinewidth\":0,\"ticks\":\"\"},\"colorscale\":[[0.0,\"#0d0887\"],[0.1111111111111111,\"#46039f\"],[0.2222222222222222,\"#7201a8\"],[0.3333333333333333,\"#9c179e\"],[0.4444444444444444,\"#bd3786\"],[0.5555555555555556,\"#d8576b\"],[0.6666666666666666,\"#ed7953\"],[0.7777777777777778,\"#fb9f3a\"],[0.8888888888888888,\"#fdca26\"],[1.0,\"#f0f921\"]],\"type\":\"heatmap\"}],\"histogram2dcontour\":[{\"colorbar\":{\"outlinewidth\":0,\"ticks\":\"\"},\"colorscale\":[[0.0,\"#0d0887\"],[0.1111111111111111,\"#46039f\"],[0.2222222222222222,\"#7201a8\"],[0.3333333333333333,\"#9c179e\"],[0.4444444444444444,\"#bd3786\"],[0.5555555555555556,\"#d8576b\"],[0.6666666666666666,\"#ed7953\"],[0.7777777777777778,\"#fb9f3a\"],[0.8888888888888888,\"#fdca26\"],[1.0,\"#f0f921\"]],\"type\":\"histogram2dcontour\"}],\"histogram2d\":[{\"colorbar\":{\"outlinewidth\":0,\"ticks\":\"\"},\"colorscale\":[[0.0,\"#0d0887\"],[0.1111111111111111,\"#46039f\"],[0.2222222222222222,\"#7201a8\"],[0.3333333333333333,\"#9c179e\"],[0.4444444444444444,\"#bd3786\"],[0.5555555555555556,\"#d8576b\"],[0.6666666666666666,\"#ed7953\"],[0.7777777777777778,\"#fb9f3a\"],[0.8888888888888888,\"#fdca26\"],[1.0,\"#f0f921\"]],\"type\":\"histogram2d\"}],\"histogram\":[{\"marker\":{\"pattern\":{\"fillmode\":\"overlay\",\"size\":10,\"solidity\":0.2}},\"type\":\"histogram\"}],\"mesh3d\":[{\"colorbar\":{\"outlinewidth\":0,\"ticks\":\"\"},\"type\":\"mesh3d\"}],\"parcoords\":[{\"line\":{\"colorbar\":{\"outlinewidth\":0,\"ticks\":\"\"}},\"type\":\"parcoords\"}],\"pie\":[{\"automargin\":true,\"type\":\"pie\"}],\"scatter3d\":[{\"line\":{\"colorbar\":{\"outlinewidth\":0,\"ticks\":\"\"}},\"marker\":{\"colorbar\":{\"outlinewidth\":0,\"ticks\":\"\"}},\"type\":\"scatter3d\"}],\"scattercarpet\":[{\"marker\":{\"colorbar\":{\"outlinewidth\":0,\"ticks\":\"\"}},\"type\":\"scattercarpet\"}],\"scattergeo\":[{\"marker\":{\"colorbar\":{\"outlinewidth\":0,\"ticks\":\"\"}},\"type\":\"scattergeo\"}],\"scattergl\":[{\"marker\":{\"colorbar\":{\"outlinewidth\":0,\"ticks\":\"\"}},\"type\":\"scattergl\"}],\"scattermapbox\":[{\"marker\":{\"colorbar\":{\"outlinewidth\":0,\"ticks\":\"\"}},\"type\":\"scattermapbox\"}],\"scatterpolargl\":[{\"marker\":{\"colorbar\":{\"outlinewidth\":0,\"ticks\":\"\"}},\"type\":\"scatterpolargl\"}],\"scatterpolar\":[{\"marker\":{\"colorbar\":{\"outlinewidth\":0,\"ticks\":\"\"}},\"type\":\"scatterpolar\"}],\"scatter\":[{\"fillpattern\":{\"fillmode\":\"overlay\",\"size\":10,\"solidity\":0.2},\"type\":\"scatter\"}],\"scatterternary\":[{\"marker\":{\"colorbar\":{\"outlinewidth\":0,\"ticks\":\"\"}},\"type\":\"scatterternary\"}],\"surface\":[{\"colorbar\":{\"outlinewidth\":0,\"ticks\":\"\"},\"colorscale\":[[0.0,\"#0d0887\"],[0.1111111111111111,\"#46039f\"],[0.2222222222222222,\"#7201a8\"],[0.3333333333333333,\"#9c179e\"],[0.4444444444444444,\"#bd3786\"],[0.5555555555555556,\"#d8576b\"],[0.6666666666666666,\"#ed7953\"],[0.7777777777777778,\"#fb9f3a\"],[0.8888888888888888,\"#fdca26\"],[1.0,\"#f0f921\"]],\"type\":\"surface\"}],\"table\":[{\"cells\":{\"fill\":{\"color\":\"#EBF0F8\"},\"line\":{\"color\":\"white\"}},\"header\":{\"fill\":{\"color\":\"#C8D4E3\"},\"line\":{\"color\":\"white\"}},\"type\":\"table\"}]},\"layout\":{\"annotationdefaults\":{\"arrowcolor\":\"#2a3f5f\",\"arrowhead\":0,\"arrowwidth\":1},\"autotypenumbers\":\"strict\",\"coloraxis\":{\"colorbar\":{\"outlinewidth\":0,\"ticks\":\"\"}},\"colorscale\":{\"diverging\":[[0,\"#8e0152\"],[0.1,\"#c51b7d\"],[0.2,\"#de77ae\"],[0.3,\"#f1b6da\"],[0.4,\"#fde0ef\"],[0.5,\"#f7f7f7\"],[0.6,\"#e6f5d0\"],[0.7,\"#b8e186\"],[0.8,\"#7fbc41\"],[0.9,\"#4d9221\"],[1,\"#276419\"]],\"sequential\":[[0.0,\"#0d0887\"],[0.1111111111111111,\"#46039f\"],[0.2222222222222222,\"#7201a8\"],[0.3333333333333333,\"#9c179e\"],[0.4444444444444444,\"#bd3786\"],[0.5555555555555556,\"#d8576b\"],[0.6666666666666666,\"#ed7953\"],[0.7777777777777778,\"#fb9f3a\"],[0.8888888888888888,\"#fdca26\"],[1.0,\"#f0f921\"]],\"sequentialminus\":[[0.0,\"#0d0887\"],[0.1111111111111111,\"#46039f\"],[0.2222222222222222,\"#7201a8\"],[0.3333333333333333,\"#9c179e\"],[0.4444444444444444,\"#bd3786\"],[0.5555555555555556,\"#d8576b\"],[0.6666666666666666,\"#ed7953\"],[0.7777777777777778,\"#fb9f3a\"],[0.8888888888888888,\"#fdca26\"],[1.0,\"#f0f921\"]]},\"colorway\":[\"#636efa\",\"#EF553B\",\"#00cc96\",\"#ab63fa\",\"#FFA15A\",\"#19d3f3\",\"#FF6692\",\"#B6E880\",\"#FF97FF\",\"#FECB52\"],\"font\":{\"color\":\"#2a3f5f\"},\"geo\":{\"bgcolor\":\"white\",\"lakecolor\":\"white\",\"landcolor\":\"white\",\"showlakes\":true,\"showland\":true,\"subunitcolor\":\"#C8D4E3\"},\"hoverlabel\":{\"align\":\"left\"},\"hovermode\":\"closest\",\"mapbox\":{\"style\":\"light\"},\"paper_bgcolor\":\"white\",\"plot_bgcolor\":\"white\",\"polar\":{\"angularaxis\":{\"gridcolor\":\"#EBF0F8\",\"linecolor\":\"#EBF0F8\",\"ticks\":\"\"},\"bgcolor\":\"white\",\"radialaxis\":{\"gridcolor\":\"#EBF0F8\",\"linecolor\":\"#EBF0F8\",\"ticks\":\"\"}},\"scene\":{\"xaxis\":{\"backgroundcolor\":\"white\",\"gridcolor\":\"#DFE8F3\",\"gridwidth\":2,\"linecolor\":\"#EBF0F8\",\"showbackground\":true,\"ticks\":\"\",\"zerolinecolor\":\"#EBF0F8\"},\"yaxis\":{\"backgroundcolor\":\"white\",\"gridcolor\":\"#DFE8F3\",\"gridwidth\":2,\"linecolor\":\"#EBF0F8\",\"showbackground\":true,\"ticks\":\"\",\"zerolinecolor\":\"#EBF0F8\"},\"zaxis\":{\"backgroundcolor\":\"white\",\"gridcolor\":\"#DFE8F3\",\"gridwidth\":2,\"linecolor\":\"#EBF0F8\",\"showbackground\":true,\"ticks\":\"\",\"zerolinecolor\":\"#EBF0F8\"}},\"shapedefaults\":{\"line\":{\"color\":\"#2a3f5f\"}},\"ternary\":{\"aaxis\":{\"gridcolor\":\"#DFE8F3\",\"linecolor\":\"#A2B1C6\",\"ticks\":\"\"},\"baxis\":{\"gridcolor\":\"#DFE8F3\",\"linecolor\":\"#A2B1C6\",\"ticks\":\"\"},\"bgcolor\":\"white\",\"caxis\":{\"gridcolor\":\"#DFE8F3\",\"linecolor\":\"#A2B1C6\",\"ticks\":\"\"}},\"title\":{\"x\":0.05},\"xaxis\":{\"automargin\":true,\"gridcolor\":\"#EBF0F8\",\"linecolor\":\"#EBF0F8\",\"ticks\":\"\",\"title\":{\"standoff\":15},\"zerolinecolor\":\"#EBF0F8\",\"zerolinewidth\":2},\"yaxis\":{\"automargin\":true,\"gridcolor\":\"#EBF0F8\",\"linecolor\":\"#EBF0F8\",\"ticks\":\"\",\"title\":{\"standoff\":15},\"zerolinecolor\":\"#EBF0F8\",\"zerolinewidth\":2}}},\"title\":{\"font\":{\"size\":22,\"color\":\"Black\"},\"text\":\"<b>Hierarchical Clustering\",\"x\":0.5,\"xanchor\":\"center\",\"yanchor\":\"top\"},\"hoverlabel\":{\"font\":{\"size\":16,\"family\":\"Rockwell\"},\"bgcolor\":\"white\"},\"plot_bgcolor\":\"#ECEFF1\"},                        {\"responsive\": true}                    ).then(function(){\n",
       "                            \n",
       "var gd = document.getElementById('7e3ae0d3-23e8-4fb7-8782-e9bfd205945f');\n",
       "var x = new MutationObserver(function (mutations, observer) {{\n",
       "        var display = window.getComputedStyle(gd).display;\n",
       "        if (!display || display === 'none') {{\n",
       "            console.log([gd, 'removed!']);\n",
       "            Plotly.purge(gd);\n",
       "            observer.disconnect();\n",
       "        }}\n",
       "}});\n",
       "\n",
       "// Listen for the removal of the full notebook cells\n",
       "var notebookContainer = gd.closest('#notebook-container');\n",
       "if (notebookContainer) {{\n",
       "    x.observe(notebookContainer, {childList: true});\n",
       "}}\n",
       "\n",
       "// Listen for the clearing of the current output cell\n",
       "var outputEl = gd.closest('.output');\n",
       "if (outputEl) {{\n",
       "    x.observe(outputEl, {childList: true});\n",
       "}}\n",
       "\n",
       "                        })                };                });            </script>        </div>"
      ]
     },
     "metadata": {},
     "output_type": "display_data"
    }
   ],
   "source": [
    "topic_model.visualize_hierarchy()"
   ]
  },
  {
   "cell_type": "code",
   "execution_count": 523,
   "id": "ffaa714e",
   "metadata": {},
   "outputs": [],
   "source": [
    "#topic_model.reduce_topics(docs, topics, nr_topics=5)"
   ]
  },
  {
   "cell_type": "code",
   "execution_count": 524,
   "id": "5503bb68",
   "metadata": {
    "collapsed": true
   },
   "outputs": [
    {
     "data": {
      "text/html": [
       "<div>\n",
       "<style scoped>\n",
       "    .dataframe tbody tr th:only-of-type {\n",
       "        vertical-align: middle;\n",
       "    }\n",
       "\n",
       "    .dataframe tbody tr th {\n",
       "        vertical-align: top;\n",
       "    }\n",
       "\n",
       "    .dataframe thead th {\n",
       "        text-align: right;\n",
       "    }\n",
       "</style>\n",
       "<table border=\"1\" class=\"dataframe\">\n",
       "  <thead>\n",
       "    <tr style=\"text-align: right;\">\n",
       "      <th></th>\n",
       "      <th>Topic</th>\n",
       "      <th>Count</th>\n",
       "      <th>Name</th>\n",
       "    </tr>\n",
       "  </thead>\n",
       "  <tbody>\n",
       "    <tr>\n",
       "      <th>0</th>\n",
       "      <td>-1</td>\n",
       "      <td>416</td>\n",
       "      <td>-1_faire_colre_territoire_collgue</td>\n",
       "    </tr>\n",
       "    <tr>\n",
       "      <th>1</th>\n",
       "      <td>0</td>\n",
       "      <td>64</td>\n",
       "      <td>0_ami_vitrine_rveiller_magasin</td>\n",
       "    </tr>\n",
       "    <tr>\n",
       "      <th>2</th>\n",
       "      <td>1</td>\n",
       "      <td>59</td>\n",
       "      <td>1_projet_travail_chef_mail</td>\n",
       "    </tr>\n",
       "    <tr>\n",
       "      <th>3</th>\n",
       "      <td>2</td>\n",
       "      <td>58</td>\n",
       "      <td>2_formation_confiance_portefeuille_ok</td>\n",
       "    </tr>\n",
       "    <tr>\n",
       "      <th>4</th>\n",
       "      <td>3</td>\n",
       "      <td>55</td>\n",
       "      <td>3_tudiant_examen_enseignant_attaque</td>\n",
       "    </tr>\n",
       "    <tr>\n",
       "      <th>5</th>\n",
       "      <td>4</td>\n",
       "      <td>50</td>\n",
       "      <td>4_joie_match_sourire_jean</td>\n",
       "    </tr>\n",
       "    <tr>\n",
       "      <th>6</th>\n",
       "      <td>5</td>\n",
       "      <td>43</td>\n",
       "      <td>5_triste_tristesse_sparer_objet</td>\n",
       "    </tr>\n",
       "    <tr>\n",
       "      <th>7</th>\n",
       "      <td>6</td>\n",
       "      <td>42</td>\n",
       "      <td>6_mre_fille_mari_prnom</td>\n",
       "    </tr>\n",
       "    <tr>\n",
       "      <th>8</th>\n",
       "      <td>7</td>\n",
       "      <td>40</td>\n",
       "      <td>7_prsentation_acteur_mdecin_formation</td>\n",
       "    </tr>\n",
       "    <tr>\n",
       "      <th>9</th>\n",
       "      <td>8</td>\n",
       "      <td>37</td>\n",
       "      <td>8_voiture_vhicule_route_chevreuil</td>\n",
       "    </tr>\n",
       "    <tr>\n",
       "      <th>10</th>\n",
       "      <td>9</td>\n",
       "      <td>36</td>\n",
       "      <td>9_patient_rendezvous_cabinet_ostopathe</td>\n",
       "    </tr>\n",
       "    <tr>\n",
       "      <th>11</th>\n",
       "      <td>10</td>\n",
       "      <td>36</td>\n",
       "      <td>10_peur_train_entrer_ami</td>\n",
       "    </tr>\n",
       "    <tr>\n",
       "      <th>12</th>\n",
       "      <td>11</td>\n",
       "      <td>35</td>\n",
       "      <td>11_sur_pre_week_end</td>\n",
       "    </tr>\n",
       "    <tr>\n",
       "      <th>13</th>\n",
       "      <td>12</td>\n",
       "      <td>34</td>\n",
       "      <td>12_emotion_joie_tristesse_peur</td>\n",
       "    </tr>\n",
       "    <tr>\n",
       "      <th>14</th>\n",
       "      <td>13</td>\n",
       "      <td>33</td>\n",
       "      <td>13_groupe_course_rodolphe_bourges</td>\n",
       "    </tr>\n",
       "    <tr>\n",
       "      <th>15</th>\n",
       "      <td>14</td>\n",
       "      <td>30</td>\n",
       "      <td>14_nan_femme_moult_encre</td>\n",
       "    </tr>\n",
       "    <tr>\n",
       "      <th>16</th>\n",
       "      <td>15</td>\n",
       "      <td>23</td>\n",
       "      <td>15_cl_carte_bernard_cherche</td>\n",
       "    </tr>\n",
       "    <tr>\n",
       "      <th>19</th>\n",
       "      <td>17</td>\n",
       "      <td>19</td>\n",
       "      <td>17_mmoire_froid_prsenter_renvoyer</td>\n",
       "    </tr>\n",
       "    <tr>\n",
       "      <th>17</th>\n",
       "      <td>18</td>\n",
       "      <td>19</td>\n",
       "      <td>18_donne_base_ordinateur_clef</td>\n",
       "    </tr>\n",
       "    <tr>\n",
       "      <th>18</th>\n",
       "      <td>16</td>\n",
       "      <td>19</td>\n",
       "      <td>16_directeur_thse_marc_lire</td>\n",
       "    </tr>\n",
       "    <tr>\n",
       "      <th>20</th>\n",
       "      <td>19</td>\n",
       "      <td>18</td>\n",
       "      <td>19_rvision_croyance_monde_image</td>\n",
       "    </tr>\n",
       "    <tr>\n",
       "      <th>21</th>\n",
       "      <td>20</td>\n",
       "      <td>18</td>\n",
       "      <td>20_secrtaire_photocopie_service_document</td>\n",
       "    </tr>\n",
       "    <tr>\n",
       "      <th>22</th>\n",
       "      <td>21</td>\n",
       "      <td>17</td>\n",
       "      <td>21_runion_photothque_responsable_rfrent</td>\n",
       "    </tr>\n",
       "    <tr>\n",
       "      <th>23</th>\n",
       "      <td>22</td>\n",
       "      <td>17</td>\n",
       "      <td>22_courir_arbre_tailler_jardinier</td>\n",
       "    </tr>\n",
       "    <tr>\n",
       "      <th>24</th>\n",
       "      <td>23</td>\n",
       "      <td>16</td>\n",
       "      <td>23_cours_question_fin_peuttre</td>\n",
       "    </tr>\n",
       "    <tr>\n",
       "      <th>25</th>\n",
       "      <td>24</td>\n",
       "      <td>16</td>\n",
       "      <td>24_phrase_vouloir_grgory_tte</td>\n",
       "    </tr>\n",
       "    <tr>\n",
       "      <th>26</th>\n",
       "      <td>25</td>\n",
       "      <td>16</td>\n",
       "      <td>25_amie_muriel_sminaire_ascenseur</td>\n",
       "    </tr>\n",
       "    <tr>\n",
       "      <th>27</th>\n",
       "      <td>26</td>\n",
       "      <td>15</td>\n",
       "      <td>26_jeune_police_musique_texte</td>\n",
       "    </tr>\n",
       "    <tr>\n",
       "      <th>28</th>\n",
       "      <td>27</td>\n",
       "      <td>15</td>\n",
       "      <td>27_alain_christine_chantal_trot</td>\n",
       "    </tr>\n",
       "    <tr>\n",
       "      <th>29</th>\n",
       "      <td>28</td>\n",
       "      <td>15</td>\n",
       "      <td>28_lve_classe_oral_heure</td>\n",
       "    </tr>\n",
       "    <tr>\n",
       "      <th>30</th>\n",
       "      <td>29</td>\n",
       "      <td>14</td>\n",
       "      <td>29_payer_euro_ticket_pizza</td>\n",
       "    </tr>\n",
       "    <tr>\n",
       "      <th>31</th>\n",
       "      <td>30</td>\n",
       "      <td>13</td>\n",
       "      <td>30_copine_cq_gare_minute</td>\n",
       "    </tr>\n",
       "    <tr>\n",
       "      <th>32</th>\n",
       "      <td>31</td>\n",
       "      <td>12</td>\n",
       "      <td>31_retard_transport_sncf_mal</td>\n",
       "    </tr>\n",
       "    <tr>\n",
       "      <th>33</th>\n",
       "      <td>32</td>\n",
       "      <td>11</td>\n",
       "      <td>32_avion_vol_aroport_tarbes</td>\n",
       "    </tr>\n",
       "    <tr>\n",
       "      <th>34</th>\n",
       "      <td>33</td>\n",
       "      <td>11</td>\n",
       "      <td>33_rsultat_essai_anne_attender</td>\n",
       "    </tr>\n",
       "  </tbody>\n",
       "</table>\n",
       "</div>"
      ],
      "text/plain": [
       "    Topic  Count                                      Name\n",
       "0      -1    416         -1_faire_colre_territoire_collgue\n",
       "1       0     64            0_ami_vitrine_rveiller_magasin\n",
       "2       1     59                1_projet_travail_chef_mail\n",
       "3       2     58     2_formation_confiance_portefeuille_ok\n",
       "4       3     55       3_tudiant_examen_enseignant_attaque\n",
       "5       4     50                 4_joie_match_sourire_jean\n",
       "6       5     43           5_triste_tristesse_sparer_objet\n",
       "7       6     42                    6_mre_fille_mari_prnom\n",
       "8       7     40     7_prsentation_acteur_mdecin_formation\n",
       "9       8     37         8_voiture_vhicule_route_chevreuil\n",
       "10      9     36    9_patient_rendezvous_cabinet_ostopathe\n",
       "11     10     36                  10_peur_train_entrer_ami\n",
       "12     11     35                       11_sur_pre_week_end\n",
       "13     12     34            12_emotion_joie_tristesse_peur\n",
       "14     13     33         13_groupe_course_rodolphe_bourges\n",
       "15     14     30                  14_nan_femme_moult_encre\n",
       "16     15     23               15_cl_carte_bernard_cherche\n",
       "19     17     19         17_mmoire_froid_prsenter_renvoyer\n",
       "17     18     19             18_donne_base_ordinateur_clef\n",
       "18     16     19               16_directeur_thse_marc_lire\n",
       "20     19     18           19_rvision_croyance_monde_image\n",
       "21     20     18  20_secrtaire_photocopie_service_document\n",
       "22     21     17   21_runion_photothque_responsable_rfrent\n",
       "23     22     17         22_courir_arbre_tailler_jardinier\n",
       "24     23     16             23_cours_question_fin_peuttre\n",
       "25     24     16              24_phrase_vouloir_grgory_tte\n",
       "26     25     16         25_amie_muriel_sminaire_ascenseur\n",
       "27     26     15             26_jeune_police_musique_texte\n",
       "28     27     15           27_alain_christine_chantal_trot\n",
       "29     28     15                  28_lve_classe_oral_heure\n",
       "30     29     14                29_payer_euro_ticket_pizza\n",
       "31     30     13                  30_copine_cq_gare_minute\n",
       "32     31     12              31_retard_transport_sncf_mal\n",
       "33     32     11               32_avion_vol_aroport_tarbes\n",
       "34     33     11            33_rsultat_essai_anne_attender"
      ]
     },
     "execution_count": 524,
     "metadata": {},
     "output_type": "execute_result"
    }
   ],
   "source": [
    "topic_model.get_topic_info()"
   ]
  },
  {
   "cell_type": "code",
   "execution_count": 528,
   "id": "c3d720b5",
   "metadata": {
    "collapsed": true
   },
   "outputs": [
    {
     "data": {
      "text/plain": [
       "[('projet', 0.04862699958196307),\n",
       " ('travail', 0.04565899870052888),\n",
       " ('chef', 0.04236858763864747),\n",
       " ('mail', 0.029214883800415852),\n",
       " ('tableau', 0.024152967921554247),\n",
       " ('client', 0.02285909584731468),\n",
       " ('faire', 0.02196752592835937),\n",
       " ('envoyer', 0.021887630529340715),\n",
       " ('vouloir', 0.018411084685622234),\n",
       " ('collgue', 0.018354367842886788)]"
      ]
     },
     "execution_count": 528,
     "metadata": {},
     "output_type": "execute_result"
    }
   ],
   "source": [
    "topic_model.get_topic(1)"
   ]
  },
  {
   "cell_type": "code",
   "execution_count": 526,
   "id": "e19a2905",
   "metadata": {
    "collapsed": true
   },
   "outputs": [
    {
     "data": {
      "application/vnd.plotly.v1+json": {
       "config": {
        "plotlyServerURL": "https://plot.ly"
       },
       "data": [
        {
         "marker": {
          "color": "#D55E00"
         },
         "orientation": "h",
         "type": "bar",
         "x": [
          0.01982334449990082,
          0.020219503128654552,
          0.021055880299570832,
          0.022152013833384814,
          0.05468671342165159
         ],
         "xaxis": "x",
         "y": [
          "sentir  ",
          "magasin  ",
          "rveiller  ",
          "vitrine  ",
          "ami  "
         ],
         "yaxis": "y"
        },
        {
         "marker": {
          "color": "#0072B2"
         },
         "orientation": "h",
         "type": "bar",
         "x": [
          0.024152967921554247,
          0.029214883800415852,
          0.04236858763864747,
          0.04565899870052888,
          0.04862699958196307
         ],
         "xaxis": "x2",
         "y": [
          "tableau  ",
          "mail  ",
          "chef  ",
          "travail  ",
          "projet  "
         ],
         "yaxis": "y2"
        },
        {
         "marker": {
          "color": "#CC79A7"
         },
         "orientation": "h",
         "type": "bar",
         "x": [
          0.048502941449162576,
          0.05504550397958322,
          0.059896508825276785,
          0.06972164068825103,
          0.07351242479588298
         ],
         "xaxis": "x3",
         "y": [
          "formateur  ",
          "ok  ",
          "portefeuille  ",
          "confiance  ",
          "formation  "
         ],
         "yaxis": "y3"
        },
        {
         "marker": {
          "color": "#E69F00"
         },
         "orientation": "h",
         "type": "bar",
         "x": [
          0.015962529039227385,
          0.01618892891374045,
          0.021587410314946605,
          0.03883428150328051,
          0.07301817206900228
         ],
         "xaxis": "x4",
         "y": [
          "cours  ",
          "attaque  ",
          "enseignant  ",
          "examen  ",
          "tudiant  "
         ],
         "yaxis": "y4"
        },
        {
         "marker": {
          "color": "#56B4E9"
         },
         "orientation": "h",
         "type": "bar",
         "x": [
          0.025016858125503978,
          0.026631161262907824,
          0.028006827305877946,
          0.04542240235690252,
          0.13516770305634881
         ],
         "xaxis": "x5",
         "y": [
          "frre  ",
          "jean  ",
          "sourire  ",
          "match  ",
          "joie  "
         ],
         "yaxis": "y5"
        },
        {
         "marker": {
          "color": "#009E73"
         },
         "orientation": "h",
         "type": "bar",
         "x": [
          0.024470907872981198,
          0.028405397666615654,
          0.03058345423535288,
          0.045295100880863165,
          0.04947269417973303
         ],
         "xaxis": "x6",
         "y": [
          "enfant  ",
          "objet  ",
          "sparer  ",
          "tristesse  ",
          "triste  "
         ],
         "yaxis": "y6"
        },
        {
         "marker": {
          "color": "#F0E442"
         },
         "orientation": "h",
         "type": "bar",
         "x": [
          0.019092486480639378,
          0.03176020645258314,
          0.03481163913618601,
          0.05812339457708413,
          0.09458094931349063
         ],
         "xaxis": "x7",
         "y": [
          "grandmre  ",
          "prnom  ",
          "mari  ",
          "fille  ",
          "mre  "
         ],
         "yaxis": "y7"
        },
        {
         "marker": {
          "color": "#D55E00"
         },
         "orientation": "h",
         "type": "bar",
         "x": [
          0.03351228591067305,
          0.03517386507998031,
          0.04569486793825763,
          0.04621697972229979,
          0.05098321619196481
         ],
         "xaxis": "x8",
         "y": [
          "anglais  ",
          "formation  ",
          "mdecin  ",
          "acteur  ",
          "prsentation  "
         ],
         "yaxis": "y8"
        }
       ],
       "layout": {
        "annotations": [
         {
          "font": {
           "size": 16
          },
          "showarrow": false,
          "text": "Topic 0",
          "x": 0.0875,
          "xanchor": "center",
          "xref": "paper",
          "y": 1,
          "yanchor": "bottom",
          "yref": "paper"
         },
         {
          "font": {
           "size": 16
          },
          "showarrow": false,
          "text": "Topic 1",
          "x": 0.36250000000000004,
          "xanchor": "center",
          "xref": "paper",
          "y": 1,
          "yanchor": "bottom",
          "yref": "paper"
         },
         {
          "font": {
           "size": 16
          },
          "showarrow": false,
          "text": "Topic 2",
          "x": 0.6375000000000001,
          "xanchor": "center",
          "xref": "paper",
          "y": 1,
          "yanchor": "bottom",
          "yref": "paper"
         },
         {
          "font": {
           "size": 16
          },
          "showarrow": false,
          "text": "Topic 3",
          "x": 0.9125,
          "xanchor": "center",
          "xref": "paper",
          "y": 1,
          "yanchor": "bottom",
          "yref": "paper"
         },
         {
          "font": {
           "size": 16
          },
          "showarrow": false,
          "text": "Topic 4",
          "x": 0.0875,
          "xanchor": "center",
          "xref": "paper",
          "y": 0.4,
          "yanchor": "bottom",
          "yref": "paper"
         },
         {
          "font": {
           "size": 16
          },
          "showarrow": false,
          "text": "Topic 5",
          "x": 0.36250000000000004,
          "xanchor": "center",
          "xref": "paper",
          "y": 0.4,
          "yanchor": "bottom",
          "yref": "paper"
         },
         {
          "font": {
           "size": 16
          },
          "showarrow": false,
          "text": "Topic 6",
          "x": 0.6375000000000001,
          "xanchor": "center",
          "xref": "paper",
          "y": 0.4,
          "yanchor": "bottom",
          "yref": "paper"
         },
         {
          "font": {
           "size": 16
          },
          "showarrow": false,
          "text": "Topic 7",
          "x": 0.9125,
          "xanchor": "center",
          "xref": "paper",
          "y": 0.4,
          "yanchor": "bottom",
          "yref": "paper"
         }
        ],
        "height": 500,
        "hoverlabel": {
         "bgcolor": "white",
         "font": {
          "family": "Rockwell",
          "size": 16
         }
        },
        "showlegend": false,
        "template": {
         "data": {
          "bar": [
           {
            "error_x": {
             "color": "#2a3f5f"
            },
            "error_y": {
             "color": "#2a3f5f"
            },
            "marker": {
             "line": {
              "color": "white",
              "width": 0.5
             },
             "pattern": {
              "fillmode": "overlay",
              "size": 10,
              "solidity": 0.2
             }
            },
            "type": "bar"
           }
          ],
          "barpolar": [
           {
            "marker": {
             "line": {
              "color": "white",
              "width": 0.5
             },
             "pattern": {
              "fillmode": "overlay",
              "size": 10,
              "solidity": 0.2
             }
            },
            "type": "barpolar"
           }
          ],
          "carpet": [
           {
            "aaxis": {
             "endlinecolor": "#2a3f5f",
             "gridcolor": "#C8D4E3",
             "linecolor": "#C8D4E3",
             "minorgridcolor": "#C8D4E3",
             "startlinecolor": "#2a3f5f"
            },
            "baxis": {
             "endlinecolor": "#2a3f5f",
             "gridcolor": "#C8D4E3",
             "linecolor": "#C8D4E3",
             "minorgridcolor": "#C8D4E3",
             "startlinecolor": "#2a3f5f"
            },
            "type": "carpet"
           }
          ],
          "choropleth": [
           {
            "colorbar": {
             "outlinewidth": 0,
             "ticks": ""
            },
            "type": "choropleth"
           }
          ],
          "contour": [
           {
            "colorbar": {
             "outlinewidth": 0,
             "ticks": ""
            },
            "colorscale": [
             [
              0,
              "#0d0887"
             ],
             [
              0.1111111111111111,
              "#46039f"
             ],
             [
              0.2222222222222222,
              "#7201a8"
             ],
             [
              0.3333333333333333,
              "#9c179e"
             ],
             [
              0.4444444444444444,
              "#bd3786"
             ],
             [
              0.5555555555555556,
              "#d8576b"
             ],
             [
              0.6666666666666666,
              "#ed7953"
             ],
             [
              0.7777777777777778,
              "#fb9f3a"
             ],
             [
              0.8888888888888888,
              "#fdca26"
             ],
             [
              1,
              "#f0f921"
             ]
            ],
            "type": "contour"
           }
          ],
          "contourcarpet": [
           {
            "colorbar": {
             "outlinewidth": 0,
             "ticks": ""
            },
            "type": "contourcarpet"
           }
          ],
          "heatmap": [
           {
            "colorbar": {
             "outlinewidth": 0,
             "ticks": ""
            },
            "colorscale": [
             [
              0,
              "#0d0887"
             ],
             [
              0.1111111111111111,
              "#46039f"
             ],
             [
              0.2222222222222222,
              "#7201a8"
             ],
             [
              0.3333333333333333,
              "#9c179e"
             ],
             [
              0.4444444444444444,
              "#bd3786"
             ],
             [
              0.5555555555555556,
              "#d8576b"
             ],
             [
              0.6666666666666666,
              "#ed7953"
             ],
             [
              0.7777777777777778,
              "#fb9f3a"
             ],
             [
              0.8888888888888888,
              "#fdca26"
             ],
             [
              1,
              "#f0f921"
             ]
            ],
            "type": "heatmap"
           }
          ],
          "heatmapgl": [
           {
            "colorbar": {
             "outlinewidth": 0,
             "ticks": ""
            },
            "colorscale": [
             [
              0,
              "#0d0887"
             ],
             [
              0.1111111111111111,
              "#46039f"
             ],
             [
              0.2222222222222222,
              "#7201a8"
             ],
             [
              0.3333333333333333,
              "#9c179e"
             ],
             [
              0.4444444444444444,
              "#bd3786"
             ],
             [
              0.5555555555555556,
              "#d8576b"
             ],
             [
              0.6666666666666666,
              "#ed7953"
             ],
             [
              0.7777777777777778,
              "#fb9f3a"
             ],
             [
              0.8888888888888888,
              "#fdca26"
             ],
             [
              1,
              "#f0f921"
             ]
            ],
            "type": "heatmapgl"
           }
          ],
          "histogram": [
           {
            "marker": {
             "pattern": {
              "fillmode": "overlay",
              "size": 10,
              "solidity": 0.2
             }
            },
            "type": "histogram"
           }
          ],
          "histogram2d": [
           {
            "colorbar": {
             "outlinewidth": 0,
             "ticks": ""
            },
            "colorscale": [
             [
              0,
              "#0d0887"
             ],
             [
              0.1111111111111111,
              "#46039f"
             ],
             [
              0.2222222222222222,
              "#7201a8"
             ],
             [
              0.3333333333333333,
              "#9c179e"
             ],
             [
              0.4444444444444444,
              "#bd3786"
             ],
             [
              0.5555555555555556,
              "#d8576b"
             ],
             [
              0.6666666666666666,
              "#ed7953"
             ],
             [
              0.7777777777777778,
              "#fb9f3a"
             ],
             [
              0.8888888888888888,
              "#fdca26"
             ],
             [
              1,
              "#f0f921"
             ]
            ],
            "type": "histogram2d"
           }
          ],
          "histogram2dcontour": [
           {
            "colorbar": {
             "outlinewidth": 0,
             "ticks": ""
            },
            "colorscale": [
             [
              0,
              "#0d0887"
             ],
             [
              0.1111111111111111,
              "#46039f"
             ],
             [
              0.2222222222222222,
              "#7201a8"
             ],
             [
              0.3333333333333333,
              "#9c179e"
             ],
             [
              0.4444444444444444,
              "#bd3786"
             ],
             [
              0.5555555555555556,
              "#d8576b"
             ],
             [
              0.6666666666666666,
              "#ed7953"
             ],
             [
              0.7777777777777778,
              "#fb9f3a"
             ],
             [
              0.8888888888888888,
              "#fdca26"
             ],
             [
              1,
              "#f0f921"
             ]
            ],
            "type": "histogram2dcontour"
           }
          ],
          "mesh3d": [
           {
            "colorbar": {
             "outlinewidth": 0,
             "ticks": ""
            },
            "type": "mesh3d"
           }
          ],
          "parcoords": [
           {
            "line": {
             "colorbar": {
              "outlinewidth": 0,
              "ticks": ""
             }
            },
            "type": "parcoords"
           }
          ],
          "pie": [
           {
            "automargin": true,
            "type": "pie"
           }
          ],
          "scatter": [
           {
            "fillpattern": {
             "fillmode": "overlay",
             "size": 10,
             "solidity": 0.2
            },
            "type": "scatter"
           }
          ],
          "scatter3d": [
           {
            "line": {
             "colorbar": {
              "outlinewidth": 0,
              "ticks": ""
             }
            },
            "marker": {
             "colorbar": {
              "outlinewidth": 0,
              "ticks": ""
             }
            },
            "type": "scatter3d"
           }
          ],
          "scattercarpet": [
           {
            "marker": {
             "colorbar": {
              "outlinewidth": 0,
              "ticks": ""
             }
            },
            "type": "scattercarpet"
           }
          ],
          "scattergeo": [
           {
            "marker": {
             "colorbar": {
              "outlinewidth": 0,
              "ticks": ""
             }
            },
            "type": "scattergeo"
           }
          ],
          "scattergl": [
           {
            "marker": {
             "colorbar": {
              "outlinewidth": 0,
              "ticks": ""
             }
            },
            "type": "scattergl"
           }
          ],
          "scattermapbox": [
           {
            "marker": {
             "colorbar": {
              "outlinewidth": 0,
              "ticks": ""
             }
            },
            "type": "scattermapbox"
           }
          ],
          "scatterpolar": [
           {
            "marker": {
             "colorbar": {
              "outlinewidth": 0,
              "ticks": ""
             }
            },
            "type": "scatterpolar"
           }
          ],
          "scatterpolargl": [
           {
            "marker": {
             "colorbar": {
              "outlinewidth": 0,
              "ticks": ""
             }
            },
            "type": "scatterpolargl"
           }
          ],
          "scatterternary": [
           {
            "marker": {
             "colorbar": {
              "outlinewidth": 0,
              "ticks": ""
             }
            },
            "type": "scatterternary"
           }
          ],
          "surface": [
           {
            "colorbar": {
             "outlinewidth": 0,
             "ticks": ""
            },
            "colorscale": [
             [
              0,
              "#0d0887"
             ],
             [
              0.1111111111111111,
              "#46039f"
             ],
             [
              0.2222222222222222,
              "#7201a8"
             ],
             [
              0.3333333333333333,
              "#9c179e"
             ],
             [
              0.4444444444444444,
              "#bd3786"
             ],
             [
              0.5555555555555556,
              "#d8576b"
             ],
             [
              0.6666666666666666,
              "#ed7953"
             ],
             [
              0.7777777777777778,
              "#fb9f3a"
             ],
             [
              0.8888888888888888,
              "#fdca26"
             ],
             [
              1,
              "#f0f921"
             ]
            ],
            "type": "surface"
           }
          ],
          "table": [
           {
            "cells": {
             "fill": {
              "color": "#EBF0F8"
             },
             "line": {
              "color": "white"
             }
            },
            "header": {
             "fill": {
              "color": "#C8D4E3"
             },
             "line": {
              "color": "white"
             }
            },
            "type": "table"
           }
          ]
         },
         "layout": {
          "annotationdefaults": {
           "arrowcolor": "#2a3f5f",
           "arrowhead": 0,
           "arrowwidth": 1
          },
          "autotypenumbers": "strict",
          "coloraxis": {
           "colorbar": {
            "outlinewidth": 0,
            "ticks": ""
           }
          },
          "colorscale": {
           "diverging": [
            [
             0,
             "#8e0152"
            ],
            [
             0.1,
             "#c51b7d"
            ],
            [
             0.2,
             "#de77ae"
            ],
            [
             0.3,
             "#f1b6da"
            ],
            [
             0.4,
             "#fde0ef"
            ],
            [
             0.5,
             "#f7f7f7"
            ],
            [
             0.6,
             "#e6f5d0"
            ],
            [
             0.7,
             "#b8e186"
            ],
            [
             0.8,
             "#7fbc41"
            ],
            [
             0.9,
             "#4d9221"
            ],
            [
             1,
             "#276419"
            ]
           ],
           "sequential": [
            [
             0,
             "#0d0887"
            ],
            [
             0.1111111111111111,
             "#46039f"
            ],
            [
             0.2222222222222222,
             "#7201a8"
            ],
            [
             0.3333333333333333,
             "#9c179e"
            ],
            [
             0.4444444444444444,
             "#bd3786"
            ],
            [
             0.5555555555555556,
             "#d8576b"
            ],
            [
             0.6666666666666666,
             "#ed7953"
            ],
            [
             0.7777777777777778,
             "#fb9f3a"
            ],
            [
             0.8888888888888888,
             "#fdca26"
            ],
            [
             1,
             "#f0f921"
            ]
           ],
           "sequentialminus": [
            [
             0,
             "#0d0887"
            ],
            [
             0.1111111111111111,
             "#46039f"
            ],
            [
             0.2222222222222222,
             "#7201a8"
            ],
            [
             0.3333333333333333,
             "#9c179e"
            ],
            [
             0.4444444444444444,
             "#bd3786"
            ],
            [
             0.5555555555555556,
             "#d8576b"
            ],
            [
             0.6666666666666666,
             "#ed7953"
            ],
            [
             0.7777777777777778,
             "#fb9f3a"
            ],
            [
             0.8888888888888888,
             "#fdca26"
            ],
            [
             1,
             "#f0f921"
            ]
           ]
          },
          "colorway": [
           "#636efa",
           "#EF553B",
           "#00cc96",
           "#ab63fa",
           "#FFA15A",
           "#19d3f3",
           "#FF6692",
           "#B6E880",
           "#FF97FF",
           "#FECB52"
          ],
          "font": {
           "color": "#2a3f5f"
          },
          "geo": {
           "bgcolor": "white",
           "lakecolor": "white",
           "landcolor": "white",
           "showlakes": true,
           "showland": true,
           "subunitcolor": "#C8D4E3"
          },
          "hoverlabel": {
           "align": "left"
          },
          "hovermode": "closest",
          "mapbox": {
           "style": "light"
          },
          "paper_bgcolor": "white",
          "plot_bgcolor": "white",
          "polar": {
           "angularaxis": {
            "gridcolor": "#EBF0F8",
            "linecolor": "#EBF0F8",
            "ticks": ""
           },
           "bgcolor": "white",
           "radialaxis": {
            "gridcolor": "#EBF0F8",
            "linecolor": "#EBF0F8",
            "ticks": ""
           }
          },
          "scene": {
           "xaxis": {
            "backgroundcolor": "white",
            "gridcolor": "#DFE8F3",
            "gridwidth": 2,
            "linecolor": "#EBF0F8",
            "showbackground": true,
            "ticks": "",
            "zerolinecolor": "#EBF0F8"
           },
           "yaxis": {
            "backgroundcolor": "white",
            "gridcolor": "#DFE8F3",
            "gridwidth": 2,
            "linecolor": "#EBF0F8",
            "showbackground": true,
            "ticks": "",
            "zerolinecolor": "#EBF0F8"
           },
           "zaxis": {
            "backgroundcolor": "white",
            "gridcolor": "#DFE8F3",
            "gridwidth": 2,
            "linecolor": "#EBF0F8",
            "showbackground": true,
            "ticks": "",
            "zerolinecolor": "#EBF0F8"
           }
          },
          "shapedefaults": {
           "line": {
            "color": "#2a3f5f"
           }
          },
          "ternary": {
           "aaxis": {
            "gridcolor": "#DFE8F3",
            "linecolor": "#A2B1C6",
            "ticks": ""
           },
           "baxis": {
            "gridcolor": "#DFE8F3",
            "linecolor": "#A2B1C6",
            "ticks": ""
           },
           "bgcolor": "white",
           "caxis": {
            "gridcolor": "#DFE8F3",
            "linecolor": "#A2B1C6",
            "ticks": ""
           }
          },
          "title": {
           "x": 0.05
          },
          "xaxis": {
           "automargin": true,
           "gridcolor": "#EBF0F8",
           "linecolor": "#EBF0F8",
           "ticks": "",
           "title": {
            "standoff": 15
           },
           "zerolinecolor": "#EBF0F8",
           "zerolinewidth": 2
          },
          "yaxis": {
           "automargin": true,
           "gridcolor": "#EBF0F8",
           "linecolor": "#EBF0F8",
           "ticks": "",
           "title": {
            "standoff": 15
           },
           "zerolinecolor": "#EBF0F8",
           "zerolinewidth": 2
          }
         }
        },
        "title": {
         "font": {
          "color": "Black",
          "size": 22
         },
         "text": "<b>Topic Word Scores",
         "x": 0.5,
         "xanchor": "center",
         "yanchor": "top"
        },
        "width": 1000,
        "xaxis": {
         "anchor": "y",
         "domain": [
          0,
          0.175
         ],
         "showgrid": true
        },
        "xaxis2": {
         "anchor": "y2",
         "domain": [
          0.275,
          0.45
         ],
         "showgrid": true
        },
        "xaxis3": {
         "anchor": "y3",
         "domain": [
          0.55,
          0.7250000000000001
         ],
         "showgrid": true
        },
        "xaxis4": {
         "anchor": "y4",
         "domain": [
          0.825,
          1
         ],
         "showgrid": true
        },
        "xaxis5": {
         "anchor": "y5",
         "domain": [
          0,
          0.175
         ],
         "showgrid": true
        },
        "xaxis6": {
         "anchor": "y6",
         "domain": [
          0.275,
          0.45
         ],
         "showgrid": true
        },
        "xaxis7": {
         "anchor": "y7",
         "domain": [
          0.55,
          0.7250000000000001
         ],
         "showgrid": true
        },
        "xaxis8": {
         "anchor": "y8",
         "domain": [
          0.825,
          1
         ],
         "showgrid": true
        },
        "yaxis": {
         "anchor": "x",
         "domain": [
          0.6000000000000001,
          1
         ],
         "showgrid": true
        },
        "yaxis2": {
         "anchor": "x2",
         "domain": [
          0.6000000000000001,
          1
         ],
         "showgrid": true
        },
        "yaxis3": {
         "anchor": "x3",
         "domain": [
          0.6000000000000001,
          1
         ],
         "showgrid": true
        },
        "yaxis4": {
         "anchor": "x4",
         "domain": [
          0.6000000000000001,
          1
         ],
         "showgrid": true
        },
        "yaxis5": {
         "anchor": "x5",
         "domain": [
          0,
          0.4
         ],
         "showgrid": true
        },
        "yaxis6": {
         "anchor": "x6",
         "domain": [
          0,
          0.4
         ],
         "showgrid": true
        },
        "yaxis7": {
         "anchor": "x7",
         "domain": [
          0,
          0.4
         ],
         "showgrid": true
        },
        "yaxis8": {
         "anchor": "x8",
         "domain": [
          0,
          0.4
         ],
         "showgrid": true
        }
       }
      },
      "text/html": [
       "<div>                            <div id=\"446c6259-ac13-4267-8b69-01ab160c2dd7\" class=\"plotly-graph-div\" style=\"height:500px; width:1000px;\"></div>            <script type=\"text/javascript\">                require([\"plotly\"], function(Plotly) {                    window.PLOTLYENV=window.PLOTLYENV || {};                                    if (document.getElementById(\"446c6259-ac13-4267-8b69-01ab160c2dd7\")) {                    Plotly.newPlot(                        \"446c6259-ac13-4267-8b69-01ab160c2dd7\",                        [{\"marker\":{\"color\":\"#D55E00\"},\"orientation\":\"h\",\"x\":[0.01982334449990082,0.020219503128654552,0.021055880299570832,0.022152013833384814,0.05468671342165159],\"y\":[\"sentir  \",\"magasin  \",\"rveiller  \",\"vitrine  \",\"ami  \"],\"type\":\"bar\",\"xaxis\":\"x\",\"yaxis\":\"y\"},{\"marker\":{\"color\":\"#0072B2\"},\"orientation\":\"h\",\"x\":[0.024152967921554247,0.029214883800415852,0.04236858763864747,0.04565899870052888,0.04862699958196307],\"y\":[\"tableau  \",\"mail  \",\"chef  \",\"travail  \",\"projet  \"],\"type\":\"bar\",\"xaxis\":\"x2\",\"yaxis\":\"y2\"},{\"marker\":{\"color\":\"#CC79A7\"},\"orientation\":\"h\",\"x\":[0.048502941449162576,0.05504550397958322,0.059896508825276785,0.06972164068825103,0.07351242479588298],\"y\":[\"formateur  \",\"ok  \",\"portefeuille  \",\"confiance  \",\"formation  \"],\"type\":\"bar\",\"xaxis\":\"x3\",\"yaxis\":\"y3\"},{\"marker\":{\"color\":\"#E69F00\"},\"orientation\":\"h\",\"x\":[0.015962529039227385,0.01618892891374045,0.021587410314946605,0.03883428150328051,0.07301817206900228],\"y\":[\"cours  \",\"attaque  \",\"enseignant  \",\"examen  \",\"tudiant  \"],\"type\":\"bar\",\"xaxis\":\"x4\",\"yaxis\":\"y4\"},{\"marker\":{\"color\":\"#56B4E9\"},\"orientation\":\"h\",\"x\":[0.025016858125503978,0.026631161262907824,0.028006827305877946,0.04542240235690252,0.13516770305634881],\"y\":[\"frre  \",\"jean  \",\"sourire  \",\"match  \",\"joie  \"],\"type\":\"bar\",\"xaxis\":\"x5\",\"yaxis\":\"y5\"},{\"marker\":{\"color\":\"#009E73\"},\"orientation\":\"h\",\"x\":[0.024470907872981198,0.028405397666615654,0.03058345423535288,0.045295100880863165,0.04947269417973303],\"y\":[\"enfant  \",\"objet  \",\"sparer  \",\"tristesse  \",\"triste  \"],\"type\":\"bar\",\"xaxis\":\"x6\",\"yaxis\":\"y6\"},{\"marker\":{\"color\":\"#F0E442\"},\"orientation\":\"h\",\"x\":[0.019092486480639378,0.03176020645258314,0.03481163913618601,0.05812339457708413,0.09458094931349063],\"y\":[\"grandmre  \",\"prnom  \",\"mari  \",\"fille  \",\"mre  \"],\"type\":\"bar\",\"xaxis\":\"x7\",\"yaxis\":\"y7\"},{\"marker\":{\"color\":\"#D55E00\"},\"orientation\":\"h\",\"x\":[0.03351228591067305,0.03517386507998031,0.04569486793825763,0.04621697972229979,0.05098321619196481],\"y\":[\"anglais  \",\"formation  \",\"mdecin  \",\"acteur  \",\"prsentation  \"],\"type\":\"bar\",\"xaxis\":\"x8\",\"yaxis\":\"y8\"}],                        {\"template\":{\"data\":{\"barpolar\":[{\"marker\":{\"line\":{\"color\":\"white\",\"width\":0.5},\"pattern\":{\"fillmode\":\"overlay\",\"size\":10,\"solidity\":0.2}},\"type\":\"barpolar\"}],\"bar\":[{\"error_x\":{\"color\":\"#2a3f5f\"},\"error_y\":{\"color\":\"#2a3f5f\"},\"marker\":{\"line\":{\"color\":\"white\",\"width\":0.5},\"pattern\":{\"fillmode\":\"overlay\",\"size\":10,\"solidity\":0.2}},\"type\":\"bar\"}],\"carpet\":[{\"aaxis\":{\"endlinecolor\":\"#2a3f5f\",\"gridcolor\":\"#C8D4E3\",\"linecolor\":\"#C8D4E3\",\"minorgridcolor\":\"#C8D4E3\",\"startlinecolor\":\"#2a3f5f\"},\"baxis\":{\"endlinecolor\":\"#2a3f5f\",\"gridcolor\":\"#C8D4E3\",\"linecolor\":\"#C8D4E3\",\"minorgridcolor\":\"#C8D4E3\",\"startlinecolor\":\"#2a3f5f\"},\"type\":\"carpet\"}],\"choropleth\":[{\"colorbar\":{\"outlinewidth\":0,\"ticks\":\"\"},\"type\":\"choropleth\"}],\"contourcarpet\":[{\"colorbar\":{\"outlinewidth\":0,\"ticks\":\"\"},\"type\":\"contourcarpet\"}],\"contour\":[{\"colorbar\":{\"outlinewidth\":0,\"ticks\":\"\"},\"colorscale\":[[0.0,\"#0d0887\"],[0.1111111111111111,\"#46039f\"],[0.2222222222222222,\"#7201a8\"],[0.3333333333333333,\"#9c179e\"],[0.4444444444444444,\"#bd3786\"],[0.5555555555555556,\"#d8576b\"],[0.6666666666666666,\"#ed7953\"],[0.7777777777777778,\"#fb9f3a\"],[0.8888888888888888,\"#fdca26\"],[1.0,\"#f0f921\"]],\"type\":\"contour\"}],\"heatmapgl\":[{\"colorbar\":{\"outlinewidth\":0,\"ticks\":\"\"},\"colorscale\":[[0.0,\"#0d0887\"],[0.1111111111111111,\"#46039f\"],[0.2222222222222222,\"#7201a8\"],[0.3333333333333333,\"#9c179e\"],[0.4444444444444444,\"#bd3786\"],[0.5555555555555556,\"#d8576b\"],[0.6666666666666666,\"#ed7953\"],[0.7777777777777778,\"#fb9f3a\"],[0.8888888888888888,\"#fdca26\"],[1.0,\"#f0f921\"]],\"type\":\"heatmapgl\"}],\"heatmap\":[{\"colorbar\":{\"outlinewidth\":0,\"ticks\":\"\"},\"colorscale\":[[0.0,\"#0d0887\"],[0.1111111111111111,\"#46039f\"],[0.2222222222222222,\"#7201a8\"],[0.3333333333333333,\"#9c179e\"],[0.4444444444444444,\"#bd3786\"],[0.5555555555555556,\"#d8576b\"],[0.6666666666666666,\"#ed7953\"],[0.7777777777777778,\"#fb9f3a\"],[0.8888888888888888,\"#fdca26\"],[1.0,\"#f0f921\"]],\"type\":\"heatmap\"}],\"histogram2dcontour\":[{\"colorbar\":{\"outlinewidth\":0,\"ticks\":\"\"},\"colorscale\":[[0.0,\"#0d0887\"],[0.1111111111111111,\"#46039f\"],[0.2222222222222222,\"#7201a8\"],[0.3333333333333333,\"#9c179e\"],[0.4444444444444444,\"#bd3786\"],[0.5555555555555556,\"#d8576b\"],[0.6666666666666666,\"#ed7953\"],[0.7777777777777778,\"#fb9f3a\"],[0.8888888888888888,\"#fdca26\"],[1.0,\"#f0f921\"]],\"type\":\"histogram2dcontour\"}],\"histogram2d\":[{\"colorbar\":{\"outlinewidth\":0,\"ticks\":\"\"},\"colorscale\":[[0.0,\"#0d0887\"],[0.1111111111111111,\"#46039f\"],[0.2222222222222222,\"#7201a8\"],[0.3333333333333333,\"#9c179e\"],[0.4444444444444444,\"#bd3786\"],[0.5555555555555556,\"#d8576b\"],[0.6666666666666666,\"#ed7953\"],[0.7777777777777778,\"#fb9f3a\"],[0.8888888888888888,\"#fdca26\"],[1.0,\"#f0f921\"]],\"type\":\"histogram2d\"}],\"histogram\":[{\"marker\":{\"pattern\":{\"fillmode\":\"overlay\",\"size\":10,\"solidity\":0.2}},\"type\":\"histogram\"}],\"mesh3d\":[{\"colorbar\":{\"outlinewidth\":0,\"ticks\":\"\"},\"type\":\"mesh3d\"}],\"parcoords\":[{\"line\":{\"colorbar\":{\"outlinewidth\":0,\"ticks\":\"\"}},\"type\":\"parcoords\"}],\"pie\":[{\"automargin\":true,\"type\":\"pie\"}],\"scatter3d\":[{\"line\":{\"colorbar\":{\"outlinewidth\":0,\"ticks\":\"\"}},\"marker\":{\"colorbar\":{\"outlinewidth\":0,\"ticks\":\"\"}},\"type\":\"scatter3d\"}],\"scattercarpet\":[{\"marker\":{\"colorbar\":{\"outlinewidth\":0,\"ticks\":\"\"}},\"type\":\"scattercarpet\"}],\"scattergeo\":[{\"marker\":{\"colorbar\":{\"outlinewidth\":0,\"ticks\":\"\"}},\"type\":\"scattergeo\"}],\"scattergl\":[{\"marker\":{\"colorbar\":{\"outlinewidth\":0,\"ticks\":\"\"}},\"type\":\"scattergl\"}],\"scattermapbox\":[{\"marker\":{\"colorbar\":{\"outlinewidth\":0,\"ticks\":\"\"}},\"type\":\"scattermapbox\"}],\"scatterpolargl\":[{\"marker\":{\"colorbar\":{\"outlinewidth\":0,\"ticks\":\"\"}},\"type\":\"scatterpolargl\"}],\"scatterpolar\":[{\"marker\":{\"colorbar\":{\"outlinewidth\":0,\"ticks\":\"\"}},\"type\":\"scatterpolar\"}],\"scatter\":[{\"fillpattern\":{\"fillmode\":\"overlay\",\"size\":10,\"solidity\":0.2},\"type\":\"scatter\"}],\"scatterternary\":[{\"marker\":{\"colorbar\":{\"outlinewidth\":0,\"ticks\":\"\"}},\"type\":\"scatterternary\"}],\"surface\":[{\"colorbar\":{\"outlinewidth\":0,\"ticks\":\"\"},\"colorscale\":[[0.0,\"#0d0887\"],[0.1111111111111111,\"#46039f\"],[0.2222222222222222,\"#7201a8\"],[0.3333333333333333,\"#9c179e\"],[0.4444444444444444,\"#bd3786\"],[0.5555555555555556,\"#d8576b\"],[0.6666666666666666,\"#ed7953\"],[0.7777777777777778,\"#fb9f3a\"],[0.8888888888888888,\"#fdca26\"],[1.0,\"#f0f921\"]],\"type\":\"surface\"}],\"table\":[{\"cells\":{\"fill\":{\"color\":\"#EBF0F8\"},\"line\":{\"color\":\"white\"}},\"header\":{\"fill\":{\"color\":\"#C8D4E3\"},\"line\":{\"color\":\"white\"}},\"type\":\"table\"}]},\"layout\":{\"annotationdefaults\":{\"arrowcolor\":\"#2a3f5f\",\"arrowhead\":0,\"arrowwidth\":1},\"autotypenumbers\":\"strict\",\"coloraxis\":{\"colorbar\":{\"outlinewidth\":0,\"ticks\":\"\"}},\"colorscale\":{\"diverging\":[[0,\"#8e0152\"],[0.1,\"#c51b7d\"],[0.2,\"#de77ae\"],[0.3,\"#f1b6da\"],[0.4,\"#fde0ef\"],[0.5,\"#f7f7f7\"],[0.6,\"#e6f5d0\"],[0.7,\"#b8e186\"],[0.8,\"#7fbc41\"],[0.9,\"#4d9221\"],[1,\"#276419\"]],\"sequential\":[[0.0,\"#0d0887\"],[0.1111111111111111,\"#46039f\"],[0.2222222222222222,\"#7201a8\"],[0.3333333333333333,\"#9c179e\"],[0.4444444444444444,\"#bd3786\"],[0.5555555555555556,\"#d8576b\"],[0.6666666666666666,\"#ed7953\"],[0.7777777777777778,\"#fb9f3a\"],[0.8888888888888888,\"#fdca26\"],[1.0,\"#f0f921\"]],\"sequentialminus\":[[0.0,\"#0d0887\"],[0.1111111111111111,\"#46039f\"],[0.2222222222222222,\"#7201a8\"],[0.3333333333333333,\"#9c179e\"],[0.4444444444444444,\"#bd3786\"],[0.5555555555555556,\"#d8576b\"],[0.6666666666666666,\"#ed7953\"],[0.7777777777777778,\"#fb9f3a\"],[0.8888888888888888,\"#fdca26\"],[1.0,\"#f0f921\"]]},\"colorway\":[\"#636efa\",\"#EF553B\",\"#00cc96\",\"#ab63fa\",\"#FFA15A\",\"#19d3f3\",\"#FF6692\",\"#B6E880\",\"#FF97FF\",\"#FECB52\"],\"font\":{\"color\":\"#2a3f5f\"},\"geo\":{\"bgcolor\":\"white\",\"lakecolor\":\"white\",\"landcolor\":\"white\",\"showlakes\":true,\"showland\":true,\"subunitcolor\":\"#C8D4E3\"},\"hoverlabel\":{\"align\":\"left\"},\"hovermode\":\"closest\",\"mapbox\":{\"style\":\"light\"},\"paper_bgcolor\":\"white\",\"plot_bgcolor\":\"white\",\"polar\":{\"angularaxis\":{\"gridcolor\":\"#EBF0F8\",\"linecolor\":\"#EBF0F8\",\"ticks\":\"\"},\"bgcolor\":\"white\",\"radialaxis\":{\"gridcolor\":\"#EBF0F8\",\"linecolor\":\"#EBF0F8\",\"ticks\":\"\"}},\"scene\":{\"xaxis\":{\"backgroundcolor\":\"white\",\"gridcolor\":\"#DFE8F3\",\"gridwidth\":2,\"linecolor\":\"#EBF0F8\",\"showbackground\":true,\"ticks\":\"\",\"zerolinecolor\":\"#EBF0F8\"},\"yaxis\":{\"backgroundcolor\":\"white\",\"gridcolor\":\"#DFE8F3\",\"gridwidth\":2,\"linecolor\":\"#EBF0F8\",\"showbackground\":true,\"ticks\":\"\",\"zerolinecolor\":\"#EBF0F8\"},\"zaxis\":{\"backgroundcolor\":\"white\",\"gridcolor\":\"#DFE8F3\",\"gridwidth\":2,\"linecolor\":\"#EBF0F8\",\"showbackground\":true,\"ticks\":\"\",\"zerolinecolor\":\"#EBF0F8\"}},\"shapedefaults\":{\"line\":{\"color\":\"#2a3f5f\"}},\"ternary\":{\"aaxis\":{\"gridcolor\":\"#DFE8F3\",\"linecolor\":\"#A2B1C6\",\"ticks\":\"\"},\"baxis\":{\"gridcolor\":\"#DFE8F3\",\"linecolor\":\"#A2B1C6\",\"ticks\":\"\"},\"bgcolor\":\"white\",\"caxis\":{\"gridcolor\":\"#DFE8F3\",\"linecolor\":\"#A2B1C6\",\"ticks\":\"\"}},\"title\":{\"x\":0.05},\"xaxis\":{\"automargin\":true,\"gridcolor\":\"#EBF0F8\",\"linecolor\":\"#EBF0F8\",\"ticks\":\"\",\"title\":{\"standoff\":15},\"zerolinecolor\":\"#EBF0F8\",\"zerolinewidth\":2},\"yaxis\":{\"automargin\":true,\"gridcolor\":\"#EBF0F8\",\"linecolor\":\"#EBF0F8\",\"ticks\":\"\",\"title\":{\"standoff\":15},\"zerolinecolor\":\"#EBF0F8\",\"zerolinewidth\":2}}},\"xaxis\":{\"anchor\":\"y\",\"domain\":[0.0,0.175],\"showgrid\":true},\"yaxis\":{\"anchor\":\"x\",\"domain\":[0.6000000000000001,1.0],\"showgrid\":true},\"xaxis2\":{\"anchor\":\"y2\",\"domain\":[0.275,0.45],\"showgrid\":true},\"yaxis2\":{\"anchor\":\"x2\",\"domain\":[0.6000000000000001,1.0],\"showgrid\":true},\"xaxis3\":{\"anchor\":\"y3\",\"domain\":[0.55,0.7250000000000001],\"showgrid\":true},\"yaxis3\":{\"anchor\":\"x3\",\"domain\":[0.6000000000000001,1.0],\"showgrid\":true},\"xaxis4\":{\"anchor\":\"y4\",\"domain\":[0.825,1.0],\"showgrid\":true},\"yaxis4\":{\"anchor\":\"x4\",\"domain\":[0.6000000000000001,1.0],\"showgrid\":true},\"xaxis5\":{\"anchor\":\"y5\",\"domain\":[0.0,0.175],\"showgrid\":true},\"yaxis5\":{\"anchor\":\"x5\",\"domain\":[0.0,0.4],\"showgrid\":true},\"xaxis6\":{\"anchor\":\"y6\",\"domain\":[0.275,0.45],\"showgrid\":true},\"yaxis6\":{\"anchor\":\"x6\",\"domain\":[0.0,0.4],\"showgrid\":true},\"xaxis7\":{\"anchor\":\"y7\",\"domain\":[0.55,0.7250000000000001],\"showgrid\":true},\"yaxis7\":{\"anchor\":\"x7\",\"domain\":[0.0,0.4],\"showgrid\":true},\"xaxis8\":{\"anchor\":\"y8\",\"domain\":[0.825,1.0],\"showgrid\":true},\"yaxis8\":{\"anchor\":\"x8\",\"domain\":[0.0,0.4],\"showgrid\":true},\"annotations\":[{\"font\":{\"size\":16},\"showarrow\":false,\"text\":\"Topic 0\",\"x\":0.0875,\"xanchor\":\"center\",\"xref\":\"paper\",\"y\":1.0,\"yanchor\":\"bottom\",\"yref\":\"paper\"},{\"font\":{\"size\":16},\"showarrow\":false,\"text\":\"Topic 1\",\"x\":0.36250000000000004,\"xanchor\":\"center\",\"xref\":\"paper\",\"y\":1.0,\"yanchor\":\"bottom\",\"yref\":\"paper\"},{\"font\":{\"size\":16},\"showarrow\":false,\"text\":\"Topic 2\",\"x\":0.6375000000000001,\"xanchor\":\"center\",\"xref\":\"paper\",\"y\":1.0,\"yanchor\":\"bottom\",\"yref\":\"paper\"},{\"font\":{\"size\":16},\"showarrow\":false,\"text\":\"Topic 3\",\"x\":0.9125,\"xanchor\":\"center\",\"xref\":\"paper\",\"y\":1.0,\"yanchor\":\"bottom\",\"yref\":\"paper\"},{\"font\":{\"size\":16},\"showarrow\":false,\"text\":\"Topic 4\",\"x\":0.0875,\"xanchor\":\"center\",\"xref\":\"paper\",\"y\":0.4,\"yanchor\":\"bottom\",\"yref\":\"paper\"},{\"font\":{\"size\":16},\"showarrow\":false,\"text\":\"Topic 5\",\"x\":0.36250000000000004,\"xanchor\":\"center\",\"xref\":\"paper\",\"y\":0.4,\"yanchor\":\"bottom\",\"yref\":\"paper\"},{\"font\":{\"size\":16},\"showarrow\":false,\"text\":\"Topic 6\",\"x\":0.6375000000000001,\"xanchor\":\"center\",\"xref\":\"paper\",\"y\":0.4,\"yanchor\":\"bottom\",\"yref\":\"paper\"},{\"font\":{\"size\":16},\"showarrow\":false,\"text\":\"Topic 7\",\"x\":0.9125,\"xanchor\":\"center\",\"xref\":\"paper\",\"y\":0.4,\"yanchor\":\"bottom\",\"yref\":\"paper\"}],\"title\":{\"font\":{\"size\":22,\"color\":\"Black\"},\"text\":\"<b>Topic Word Scores\",\"x\":0.5,\"xanchor\":\"center\",\"yanchor\":\"top\"},\"hoverlabel\":{\"font\":{\"size\":16,\"family\":\"Rockwell\"},\"bgcolor\":\"white\"},\"showlegend\":false,\"width\":1000,\"height\":500},                        {\"responsive\": true}                    ).then(function(){\n",
       "                            \n",
       "var gd = document.getElementById('446c6259-ac13-4267-8b69-01ab160c2dd7');\n",
       "var x = new MutationObserver(function (mutations, observer) {{\n",
       "        var display = window.getComputedStyle(gd).display;\n",
       "        if (!display || display === 'none') {{\n",
       "            console.log([gd, 'removed!']);\n",
       "            Plotly.purge(gd);\n",
       "            observer.disconnect();\n",
       "        }}\n",
       "}});\n",
       "\n",
       "// Listen for the removal of the full notebook cells\n",
       "var notebookContainer = gd.closest('#notebook-container');\n",
       "if (notebookContainer) {{\n",
       "    x.observe(notebookContainer, {childList: true});\n",
       "}}\n",
       "\n",
       "// Listen for the clearing of the current output cell\n",
       "var outputEl = gd.closest('.output');\n",
       "if (outputEl) {{\n",
       "    x.observe(outputEl, {childList: true});\n",
       "}}\n",
       "\n",
       "                        })                };                });            </script>        </div>"
      ]
     },
     "metadata": {},
     "output_type": "display_data"
    }
   ],
   "source": [
    "topic_model.visualize_barchart()"
   ]
  },
  {
   "cell_type": "code",
   "execution_count": 527,
   "id": "0a28ac9f",
   "metadata": {
    "collapsed": true
   },
   "outputs": [
    {
     "data": {
      "application/vnd.plotly.v1+json": {
       "config": {
        "plotlyServerURL": "https://plot.ly"
       },
       "data": [
        {
         "customdata": [
          [
           1,
           "projet | travail | chef | mail | tableau",
           59
          ],
          [
           2,
           "formation | confiance | portefeuille | ok | formateur",
           58
          ],
          [
           3,
           "tudiant | examen | enseignant | attaque | cours",
           55
          ],
          [
           4,
           "joie | match | sourire | jean | frre",
           50
          ],
          [
           5,
           "triste | tristesse | sparer | objet | enfant",
           43
          ],
          [
           6,
           "mre | fille | mari | prnom | grandmre",
           42
          ],
          [
           7,
           "prsentation | acteur | mdecin | formation | anglais",
           40
          ],
          [
           8,
           "voiture | vhicule | route | chevreuil | vite",
           37
          ],
          [
           9,
           "patient | rendezvous | cabinet | ostopathe | appeler",
           36
          ],
          [
           10,
           "peur | train | entrer | ami | descendre",
           36
          ],
          [
           11,
           "sur | pre | week | end | homme",
           35
          ],
          [
           12,
           "emotion | joie | tristesse | peur | uv",
           34
          ],
          [
           13,
           "groupe | course | rodolphe | bourges | genou",
           33
          ],
          [
           14,
           "nan | femme | moult | encre | cent",
           30
          ],
          [
           15,
           "cl | carte | bernard | cherche | frisson",
           23
          ],
          [
           16,
           "directeur | thse | marc | lire | site",
           19
          ],
          [
           17,
           "mmoire | froid | prsenter | renvoyer | image",
           19
          ],
          [
           18,
           "donne | base | ordinateur | clef | portable",
           19
          ],
          [
           19,
           "rvision | croyance | monde | image | profit",
           18
          ],
          [
           20,
           "secrtaire | photocopie | service | document | demande",
           18
          ],
          [
           21,
           "runion | photothque | responsable | rfrent | collgue",
           17
          ],
          [
           22,
           "courir | arbre | tailler | jardinier | branche",
           17
          ],
          [
           23,
           "cours | question | fin | peuttre | forme",
           16
          ],
          [
           24,
           "phrase | vouloir | grgory | tte | entendre",
           16
          ],
          [
           25,
           "amie | muriel | sminaire | ascenseur | territoire",
           16
          ],
          [
           26,
           "jeune | police | musique | texte | menu",
           15
          ],
          [
           27,
           "alain | christine | chantal | trot | exercice",
           15
          ],
          [
           28,
           "lve | classe | oral | heure | rpondre",
           15
          ],
          [
           29,
           "payer | euro | ticket | pizza | droit",
           14
          ],
          [
           30,
           "copine | cq | gare | minute | pose",
           13
          ],
          [
           31,
           "retard | transport | sncf | mal | monde",
           12
          ],
          [
           32,
           "avion | vol | aroport | tarbes | formation",
           11
          ],
          [
           33,
           "rsultat | essai | anne | attender | objet",
           11
          ]
         ],
         "hovertemplate": "<b>Topic %{customdata[0]}</b><br>Words: %{customdata[1]}<br>Size: %{customdata[2]}",
         "legendgroup": "",
         "marker": {
          "color": "#B0BEC5",
          "line": {
           "color": "DarkSlateGrey",
           "width": 2
          },
          "size": [
           59,
           58,
           55,
           50,
           43,
           42,
           40,
           37,
           36,
           36,
           35,
           34,
           33,
           30,
           23,
           19,
           19,
           19,
           18,
           18,
           17,
           17,
           16,
           16,
           16,
           15,
           15,
           15,
           14,
           13,
           12,
           11,
           11
          ],
          "sizemode": "area",
          "sizeref": 0.036875,
          "symbol": "circle"
         },
         "mode": "markers",
         "name": "",
         "orientation": "v",
         "showlegend": false,
         "type": "scatter",
         "x": [
          13.241985321044922,
          3.8077988624572754,
          13.527630805969238,
          14.57886028289795,
          -0.3478188216686249,
          0.007990311831235886,
          13.392975807189941,
          -3.8719704151153564,
          1.9774144887924194,
          -3.870958089828491,
          3.7188429832458496,
          3.302962064743042,
          -0.5082932710647583,
          0.8950389623641968,
          1.1445473432540894,
          12.918906211853027,
          -0.19710354506969452,
          13.20052719116211,
          3.8133060932159424,
          1.2009787559509277,
          0.22565756738185883,
          3.593597888946533,
          13.302868843078613,
          13.293088912963867,
          3.570589780807495,
          13.485477447509766,
          -0.08449806272983551,
          1.6515899896621704,
          1.808466911315918,
          3.5391745567321777,
          0.3064139783382416,
          2.1979188919067383,
          3.399815797805786
         ],
         "xaxis": "x",
         "y": [
          19.89973258972168,
          3.1898574829101562,
          18.979530334472656,
          2.057408332824707,
          1.1692836284637451,
          1.0647529363632202,
          18.439533233642578,
          -6.8322930335998535,
          2.5854647159576416,
          -6.830723285675049,
          3.890791177749634,
          3.977100133895874,
          1.282468318939209,
          3.1179120540618896,
          3.235419273376465,
          20.02889633178711,
          0.25569772720336914,
          19.976253509521484,
          3.2794888019561768,
          2.2493691444396973,
          1.112131953239441,
          4.097201824188232,
          19.222312927246094,
          18.221012115478516,
          3.522583484649658,
          18.35280418395996,
          0.4435499310493469,
          2.375314235687256,
          2.7612204551696777,
          4.588318824768066,
          0.2316746711730957,
          2.319870710372925,
          4.726728439331055
         ],
         "yaxis": "y"
        }
       ],
       "layout": {
        "annotations": [
         {
          "showarrow": false,
          "text": "D1",
          "x": -4.45276597738266,
          "y": 7.588046896457672,
          "yshift": 10
         },
         {
          "showarrow": false,
          "text": "D2",
          "x": 6.156461673974991,
          "xshift": 10,
          "y": 23.033230781555176
         }
        ],
        "height": 650,
        "hoverlabel": {
         "bgcolor": "white",
         "font": {
          "family": "Rockwell",
          "size": 16
         }
        },
        "legend": {
         "itemsizing": "constant",
         "tracegroupgap": 0
        },
        "margin": {
         "t": 60
        },
        "shapes": [
         {
          "line": {
           "color": "#CFD8DC",
           "width": 2
          },
          "type": "line",
          "x0": 6.156461673974991,
          "x1": 6.156461673974991,
          "y0": -7.857136988639832,
          "y1": 23.033230781555176
         },
         {
          "line": {
           "color": "#9E9E9E",
           "width": 2
          },
          "type": "line",
          "x0": -4.45276597738266,
          "x1": 16.76568932533264,
          "y0": 7.588046896457672,
          "y1": 7.588046896457672
         }
        ],
        "sliders": [
         {
          "active": 0,
          "pad": {
           "t": 50
          },
          "steps": [
           {
            "args": [
             {
              "marker.color": [
               [
                "red",
                "#B0BEC5",
                "#B0BEC5",
                "#B0BEC5",
                "#B0BEC5",
                "#B0BEC5",
                "#B0BEC5",
                "#B0BEC5",
                "#B0BEC5",
                "#B0BEC5",
                "#B0BEC5",
                "#B0BEC5",
                "#B0BEC5",
                "#B0BEC5",
                "#B0BEC5",
                "#B0BEC5",
                "#B0BEC5",
                "#B0BEC5",
                "#B0BEC5",
                "#B0BEC5",
                "#B0BEC5",
                "#B0BEC5",
                "#B0BEC5",
                "#B0BEC5",
                "#B0BEC5",
                "#B0BEC5",
                "#B0BEC5",
                "#B0BEC5",
                "#B0BEC5",
                "#B0BEC5",
                "#B0BEC5",
                "#B0BEC5",
                "#B0BEC5"
               ]
              ]
             }
            ],
            "label": "Topic 1",
            "method": "update"
           },
           {
            "args": [
             {
              "marker.color": [
               [
                "#B0BEC5",
                "red",
                "#B0BEC5",
                "#B0BEC5",
                "#B0BEC5",
                "#B0BEC5",
                "#B0BEC5",
                "#B0BEC5",
                "#B0BEC5",
                "#B0BEC5",
                "#B0BEC5",
                "#B0BEC5",
                "#B0BEC5",
                "#B0BEC5",
                "#B0BEC5",
                "#B0BEC5",
                "#B0BEC5",
                "#B0BEC5",
                "#B0BEC5",
                "#B0BEC5",
                "#B0BEC5",
                "#B0BEC5",
                "#B0BEC5",
                "#B0BEC5",
                "#B0BEC5",
                "#B0BEC5",
                "#B0BEC5",
                "#B0BEC5",
                "#B0BEC5",
                "#B0BEC5",
                "#B0BEC5",
                "#B0BEC5",
                "#B0BEC5"
               ]
              ]
             }
            ],
            "label": "Topic 2",
            "method": "update"
           },
           {
            "args": [
             {
              "marker.color": [
               [
                "#B0BEC5",
                "#B0BEC5",
                "red",
                "#B0BEC5",
                "#B0BEC5",
                "#B0BEC5",
                "#B0BEC5",
                "#B0BEC5",
                "#B0BEC5",
                "#B0BEC5",
                "#B0BEC5",
                "#B0BEC5",
                "#B0BEC5",
                "#B0BEC5",
                "#B0BEC5",
                "#B0BEC5",
                "#B0BEC5",
                "#B0BEC5",
                "#B0BEC5",
                "#B0BEC5",
                "#B0BEC5",
                "#B0BEC5",
                "#B0BEC5",
                "#B0BEC5",
                "#B0BEC5",
                "#B0BEC5",
                "#B0BEC5",
                "#B0BEC5",
                "#B0BEC5",
                "#B0BEC5",
                "#B0BEC5",
                "#B0BEC5",
                "#B0BEC5"
               ]
              ]
             }
            ],
            "label": "Topic 3",
            "method": "update"
           },
           {
            "args": [
             {
              "marker.color": [
               [
                "#B0BEC5",
                "#B0BEC5",
                "#B0BEC5",
                "red",
                "#B0BEC5",
                "#B0BEC5",
                "#B0BEC5",
                "#B0BEC5",
                "#B0BEC5",
                "#B0BEC5",
                "#B0BEC5",
                "#B0BEC5",
                "#B0BEC5",
                "#B0BEC5",
                "#B0BEC5",
                "#B0BEC5",
                "#B0BEC5",
                "#B0BEC5",
                "#B0BEC5",
                "#B0BEC5",
                "#B0BEC5",
                "#B0BEC5",
                "#B0BEC5",
                "#B0BEC5",
                "#B0BEC5",
                "#B0BEC5",
                "#B0BEC5",
                "#B0BEC5",
                "#B0BEC5",
                "#B0BEC5",
                "#B0BEC5",
                "#B0BEC5",
                "#B0BEC5"
               ]
              ]
             }
            ],
            "label": "Topic 4",
            "method": "update"
           },
           {
            "args": [
             {
              "marker.color": [
               [
                "#B0BEC5",
                "#B0BEC5",
                "#B0BEC5",
                "#B0BEC5",
                "red",
                "#B0BEC5",
                "#B0BEC5",
                "#B0BEC5",
                "#B0BEC5",
                "#B0BEC5",
                "#B0BEC5",
                "#B0BEC5",
                "#B0BEC5",
                "#B0BEC5",
                "#B0BEC5",
                "#B0BEC5",
                "#B0BEC5",
                "#B0BEC5",
                "#B0BEC5",
                "#B0BEC5",
                "#B0BEC5",
                "#B0BEC5",
                "#B0BEC5",
                "#B0BEC5",
                "#B0BEC5",
                "#B0BEC5",
                "#B0BEC5",
                "#B0BEC5",
                "#B0BEC5",
                "#B0BEC5",
                "#B0BEC5",
                "#B0BEC5",
                "#B0BEC5"
               ]
              ]
             }
            ],
            "label": "Topic 5",
            "method": "update"
           },
           {
            "args": [
             {
              "marker.color": [
               [
                "#B0BEC5",
                "#B0BEC5",
                "#B0BEC5",
                "#B0BEC5",
                "#B0BEC5",
                "red",
                "#B0BEC5",
                "#B0BEC5",
                "#B0BEC5",
                "#B0BEC5",
                "#B0BEC5",
                "#B0BEC5",
                "#B0BEC5",
                "#B0BEC5",
                "#B0BEC5",
                "#B0BEC5",
                "#B0BEC5",
                "#B0BEC5",
                "#B0BEC5",
                "#B0BEC5",
                "#B0BEC5",
                "#B0BEC5",
                "#B0BEC5",
                "#B0BEC5",
                "#B0BEC5",
                "#B0BEC5",
                "#B0BEC5",
                "#B0BEC5",
                "#B0BEC5",
                "#B0BEC5",
                "#B0BEC5",
                "#B0BEC5",
                "#B0BEC5"
               ]
              ]
             }
            ],
            "label": "Topic 6",
            "method": "update"
           },
           {
            "args": [
             {
              "marker.color": [
               [
                "#B0BEC5",
                "#B0BEC5",
                "#B0BEC5",
                "#B0BEC5",
                "#B0BEC5",
                "#B0BEC5",
                "red",
                "#B0BEC5",
                "#B0BEC5",
                "#B0BEC5",
                "#B0BEC5",
                "#B0BEC5",
                "#B0BEC5",
                "#B0BEC5",
                "#B0BEC5",
                "#B0BEC5",
                "#B0BEC5",
                "#B0BEC5",
                "#B0BEC5",
                "#B0BEC5",
                "#B0BEC5",
                "#B0BEC5",
                "#B0BEC5",
                "#B0BEC5",
                "#B0BEC5",
                "#B0BEC5",
                "#B0BEC5",
                "#B0BEC5",
                "#B0BEC5",
                "#B0BEC5",
                "#B0BEC5",
                "#B0BEC5",
                "#B0BEC5"
               ]
              ]
             }
            ],
            "label": "Topic 7",
            "method": "update"
           },
           {
            "args": [
             {
              "marker.color": [
               [
                "#B0BEC5",
                "#B0BEC5",
                "#B0BEC5",
                "#B0BEC5",
                "#B0BEC5",
                "#B0BEC5",
                "#B0BEC5",
                "red",
                "#B0BEC5",
                "#B0BEC5",
                "#B0BEC5",
                "#B0BEC5",
                "#B0BEC5",
                "#B0BEC5",
                "#B0BEC5",
                "#B0BEC5",
                "#B0BEC5",
                "#B0BEC5",
                "#B0BEC5",
                "#B0BEC5",
                "#B0BEC5",
                "#B0BEC5",
                "#B0BEC5",
                "#B0BEC5",
                "#B0BEC5",
                "#B0BEC5",
                "#B0BEC5",
                "#B0BEC5",
                "#B0BEC5",
                "#B0BEC5",
                "#B0BEC5",
                "#B0BEC5",
                "#B0BEC5"
               ]
              ]
             }
            ],
            "label": "Topic 8",
            "method": "update"
           },
           {
            "args": [
             {
              "marker.color": [
               [
                "#B0BEC5",
                "#B0BEC5",
                "#B0BEC5",
                "#B0BEC5",
                "#B0BEC5",
                "#B0BEC5",
                "#B0BEC5",
                "#B0BEC5",
                "red",
                "#B0BEC5",
                "#B0BEC5",
                "#B0BEC5",
                "#B0BEC5",
                "#B0BEC5",
                "#B0BEC5",
                "#B0BEC5",
                "#B0BEC5",
                "#B0BEC5",
                "#B0BEC5",
                "#B0BEC5",
                "#B0BEC5",
                "#B0BEC5",
                "#B0BEC5",
                "#B0BEC5",
                "#B0BEC5",
                "#B0BEC5",
                "#B0BEC5",
                "#B0BEC5",
                "#B0BEC5",
                "#B0BEC5",
                "#B0BEC5",
                "#B0BEC5",
                "#B0BEC5"
               ]
              ]
             }
            ],
            "label": "Topic 9",
            "method": "update"
           },
           {
            "args": [
             {
              "marker.color": [
               [
                "#B0BEC5",
                "#B0BEC5",
                "#B0BEC5",
                "#B0BEC5",
                "#B0BEC5",
                "#B0BEC5",
                "#B0BEC5",
                "#B0BEC5",
                "#B0BEC5",
                "red",
                "#B0BEC5",
                "#B0BEC5",
                "#B0BEC5",
                "#B0BEC5",
                "#B0BEC5",
                "#B0BEC5",
                "#B0BEC5",
                "#B0BEC5",
                "#B0BEC5",
                "#B0BEC5",
                "#B0BEC5",
                "#B0BEC5",
                "#B0BEC5",
                "#B0BEC5",
                "#B0BEC5",
                "#B0BEC5",
                "#B0BEC5",
                "#B0BEC5",
                "#B0BEC5",
                "#B0BEC5",
                "#B0BEC5",
                "#B0BEC5",
                "#B0BEC5"
               ]
              ]
             }
            ],
            "label": "Topic 10",
            "method": "update"
           },
           {
            "args": [
             {
              "marker.color": [
               [
                "#B0BEC5",
                "#B0BEC5",
                "#B0BEC5",
                "#B0BEC5",
                "#B0BEC5",
                "#B0BEC5",
                "#B0BEC5",
                "#B0BEC5",
                "#B0BEC5",
                "#B0BEC5",
                "red",
                "#B0BEC5",
                "#B0BEC5",
                "#B0BEC5",
                "#B0BEC5",
                "#B0BEC5",
                "#B0BEC5",
                "#B0BEC5",
                "#B0BEC5",
                "#B0BEC5",
                "#B0BEC5",
                "#B0BEC5",
                "#B0BEC5",
                "#B0BEC5",
                "#B0BEC5",
                "#B0BEC5",
                "#B0BEC5",
                "#B0BEC5",
                "#B0BEC5",
                "#B0BEC5",
                "#B0BEC5",
                "#B0BEC5",
                "#B0BEC5"
               ]
              ]
             }
            ],
            "label": "Topic 11",
            "method": "update"
           },
           {
            "args": [
             {
              "marker.color": [
               [
                "#B0BEC5",
                "#B0BEC5",
                "#B0BEC5",
                "#B0BEC5",
                "#B0BEC5",
                "#B0BEC5",
                "#B0BEC5",
                "#B0BEC5",
                "#B0BEC5",
                "#B0BEC5",
                "#B0BEC5",
                "red",
                "#B0BEC5",
                "#B0BEC5",
                "#B0BEC5",
                "#B0BEC5",
                "#B0BEC5",
                "#B0BEC5",
                "#B0BEC5",
                "#B0BEC5",
                "#B0BEC5",
                "#B0BEC5",
                "#B0BEC5",
                "#B0BEC5",
                "#B0BEC5",
                "#B0BEC5",
                "#B0BEC5",
                "#B0BEC5",
                "#B0BEC5",
                "#B0BEC5",
                "#B0BEC5",
                "#B0BEC5",
                "#B0BEC5"
               ]
              ]
             }
            ],
            "label": "Topic 12",
            "method": "update"
           },
           {
            "args": [
             {
              "marker.color": [
               [
                "#B0BEC5",
                "#B0BEC5",
                "#B0BEC5",
                "#B0BEC5",
                "#B0BEC5",
                "#B0BEC5",
                "#B0BEC5",
                "#B0BEC5",
                "#B0BEC5",
                "#B0BEC5",
                "#B0BEC5",
                "#B0BEC5",
                "red",
                "#B0BEC5",
                "#B0BEC5",
                "#B0BEC5",
                "#B0BEC5",
                "#B0BEC5",
                "#B0BEC5",
                "#B0BEC5",
                "#B0BEC5",
                "#B0BEC5",
                "#B0BEC5",
                "#B0BEC5",
                "#B0BEC5",
                "#B0BEC5",
                "#B0BEC5",
                "#B0BEC5",
                "#B0BEC5",
                "#B0BEC5",
                "#B0BEC5",
                "#B0BEC5",
                "#B0BEC5"
               ]
              ]
             }
            ],
            "label": "Topic 13",
            "method": "update"
           },
           {
            "args": [
             {
              "marker.color": [
               [
                "#B0BEC5",
                "#B0BEC5",
                "#B0BEC5",
                "#B0BEC5",
                "#B0BEC5",
                "#B0BEC5",
                "#B0BEC5",
                "#B0BEC5",
                "#B0BEC5",
                "#B0BEC5",
                "#B0BEC5",
                "#B0BEC5",
                "#B0BEC5",
                "red",
                "#B0BEC5",
                "#B0BEC5",
                "#B0BEC5",
                "#B0BEC5",
                "#B0BEC5",
                "#B0BEC5",
                "#B0BEC5",
                "#B0BEC5",
                "#B0BEC5",
                "#B0BEC5",
                "#B0BEC5",
                "#B0BEC5",
                "#B0BEC5",
                "#B0BEC5",
                "#B0BEC5",
                "#B0BEC5",
                "#B0BEC5",
                "#B0BEC5",
                "#B0BEC5"
               ]
              ]
             }
            ],
            "label": "Topic 14",
            "method": "update"
           },
           {
            "args": [
             {
              "marker.color": [
               [
                "#B0BEC5",
                "#B0BEC5",
                "#B0BEC5",
                "#B0BEC5",
                "#B0BEC5",
                "#B0BEC5",
                "#B0BEC5",
                "#B0BEC5",
                "#B0BEC5",
                "#B0BEC5",
                "#B0BEC5",
                "#B0BEC5",
                "#B0BEC5",
                "#B0BEC5",
                "red",
                "#B0BEC5",
                "#B0BEC5",
                "#B0BEC5",
                "#B0BEC5",
                "#B0BEC5",
                "#B0BEC5",
                "#B0BEC5",
                "#B0BEC5",
                "#B0BEC5",
                "#B0BEC5",
                "#B0BEC5",
                "#B0BEC5",
                "#B0BEC5",
                "#B0BEC5",
                "#B0BEC5",
                "#B0BEC5",
                "#B0BEC5",
                "#B0BEC5"
               ]
              ]
             }
            ],
            "label": "Topic 15",
            "method": "update"
           },
           {
            "args": [
             {
              "marker.color": [
               [
                "#B0BEC5",
                "#B0BEC5",
                "#B0BEC5",
                "#B0BEC5",
                "#B0BEC5",
                "#B0BEC5",
                "#B0BEC5",
                "#B0BEC5",
                "#B0BEC5",
                "#B0BEC5",
                "#B0BEC5",
                "#B0BEC5",
                "#B0BEC5",
                "#B0BEC5",
                "#B0BEC5",
                "red",
                "#B0BEC5",
                "#B0BEC5",
                "#B0BEC5",
                "#B0BEC5",
                "#B0BEC5",
                "#B0BEC5",
                "#B0BEC5",
                "#B0BEC5",
                "#B0BEC5",
                "#B0BEC5",
                "#B0BEC5",
                "#B0BEC5",
                "#B0BEC5",
                "#B0BEC5",
                "#B0BEC5",
                "#B0BEC5",
                "#B0BEC5"
               ]
              ]
             }
            ],
            "label": "Topic 16",
            "method": "update"
           },
           {
            "args": [
             {
              "marker.color": [
               [
                "#B0BEC5",
                "#B0BEC5",
                "#B0BEC5",
                "#B0BEC5",
                "#B0BEC5",
                "#B0BEC5",
                "#B0BEC5",
                "#B0BEC5",
                "#B0BEC5",
                "#B0BEC5",
                "#B0BEC5",
                "#B0BEC5",
                "#B0BEC5",
                "#B0BEC5",
                "#B0BEC5",
                "#B0BEC5",
                "red",
                "#B0BEC5",
                "#B0BEC5",
                "#B0BEC5",
                "#B0BEC5",
                "#B0BEC5",
                "#B0BEC5",
                "#B0BEC5",
                "#B0BEC5",
                "#B0BEC5",
                "#B0BEC5",
                "#B0BEC5",
                "#B0BEC5",
                "#B0BEC5",
                "#B0BEC5",
                "#B0BEC5",
                "#B0BEC5"
               ]
              ]
             }
            ],
            "label": "Topic 17",
            "method": "update"
           },
           {
            "args": [
             {
              "marker.color": [
               [
                "#B0BEC5",
                "#B0BEC5",
                "#B0BEC5",
                "#B0BEC5",
                "#B0BEC5",
                "#B0BEC5",
                "#B0BEC5",
                "#B0BEC5",
                "#B0BEC5",
                "#B0BEC5",
                "#B0BEC5",
                "#B0BEC5",
                "#B0BEC5",
                "#B0BEC5",
                "#B0BEC5",
                "#B0BEC5",
                "#B0BEC5",
                "red",
                "#B0BEC5",
                "#B0BEC5",
                "#B0BEC5",
                "#B0BEC5",
                "#B0BEC5",
                "#B0BEC5",
                "#B0BEC5",
                "#B0BEC5",
                "#B0BEC5",
                "#B0BEC5",
                "#B0BEC5",
                "#B0BEC5",
                "#B0BEC5",
                "#B0BEC5",
                "#B0BEC5"
               ]
              ]
             }
            ],
            "label": "Topic 18",
            "method": "update"
           },
           {
            "args": [
             {
              "marker.color": [
               [
                "#B0BEC5",
                "#B0BEC5",
                "#B0BEC5",
                "#B0BEC5",
                "#B0BEC5",
                "#B0BEC5",
                "#B0BEC5",
                "#B0BEC5",
                "#B0BEC5",
                "#B0BEC5",
                "#B0BEC5",
                "#B0BEC5",
                "#B0BEC5",
                "#B0BEC5",
                "#B0BEC5",
                "#B0BEC5",
                "#B0BEC5",
                "#B0BEC5",
                "red",
                "#B0BEC5",
                "#B0BEC5",
                "#B0BEC5",
                "#B0BEC5",
                "#B0BEC5",
                "#B0BEC5",
                "#B0BEC5",
                "#B0BEC5",
                "#B0BEC5",
                "#B0BEC5",
                "#B0BEC5",
                "#B0BEC5",
                "#B0BEC5",
                "#B0BEC5"
               ]
              ]
             }
            ],
            "label": "Topic 19",
            "method": "update"
           },
           {
            "args": [
             {
              "marker.color": [
               [
                "#B0BEC5",
                "#B0BEC5",
                "#B0BEC5",
                "#B0BEC5",
                "#B0BEC5",
                "#B0BEC5",
                "#B0BEC5",
                "#B0BEC5",
                "#B0BEC5",
                "#B0BEC5",
                "#B0BEC5",
                "#B0BEC5",
                "#B0BEC5",
                "#B0BEC5",
                "#B0BEC5",
                "#B0BEC5",
                "#B0BEC5",
                "#B0BEC5",
                "#B0BEC5",
                "red",
                "#B0BEC5",
                "#B0BEC5",
                "#B0BEC5",
                "#B0BEC5",
                "#B0BEC5",
                "#B0BEC5",
                "#B0BEC5",
                "#B0BEC5",
                "#B0BEC5",
                "#B0BEC5",
                "#B0BEC5",
                "#B0BEC5",
                "#B0BEC5"
               ]
              ]
             }
            ],
            "label": "Topic 20",
            "method": "update"
           },
           {
            "args": [
             {
              "marker.color": [
               [
                "#B0BEC5",
                "#B0BEC5",
                "#B0BEC5",
                "#B0BEC5",
                "#B0BEC5",
                "#B0BEC5",
                "#B0BEC5",
                "#B0BEC5",
                "#B0BEC5",
                "#B0BEC5",
                "#B0BEC5",
                "#B0BEC5",
                "#B0BEC5",
                "#B0BEC5",
                "#B0BEC5",
                "#B0BEC5",
                "#B0BEC5",
                "#B0BEC5",
                "#B0BEC5",
                "#B0BEC5",
                "red",
                "#B0BEC5",
                "#B0BEC5",
                "#B0BEC5",
                "#B0BEC5",
                "#B0BEC5",
                "#B0BEC5",
                "#B0BEC5",
                "#B0BEC5",
                "#B0BEC5",
                "#B0BEC5",
                "#B0BEC5",
                "#B0BEC5"
               ]
              ]
             }
            ],
            "label": "Topic 21",
            "method": "update"
           },
           {
            "args": [
             {
              "marker.color": [
               [
                "#B0BEC5",
                "#B0BEC5",
                "#B0BEC5",
                "#B0BEC5",
                "#B0BEC5",
                "#B0BEC5",
                "#B0BEC5",
                "#B0BEC5",
                "#B0BEC5",
                "#B0BEC5",
                "#B0BEC5",
                "#B0BEC5",
                "#B0BEC5",
                "#B0BEC5",
                "#B0BEC5",
                "#B0BEC5",
                "#B0BEC5",
                "#B0BEC5",
                "#B0BEC5",
                "#B0BEC5",
                "#B0BEC5",
                "red",
                "#B0BEC5",
                "#B0BEC5",
                "#B0BEC5",
                "#B0BEC5",
                "#B0BEC5",
                "#B0BEC5",
                "#B0BEC5",
                "#B0BEC5",
                "#B0BEC5",
                "#B0BEC5",
                "#B0BEC5"
               ]
              ]
             }
            ],
            "label": "Topic 22",
            "method": "update"
           },
           {
            "args": [
             {
              "marker.color": [
               [
                "#B0BEC5",
                "#B0BEC5",
                "#B0BEC5",
                "#B0BEC5",
                "#B0BEC5",
                "#B0BEC5",
                "#B0BEC5",
                "#B0BEC5",
                "#B0BEC5",
                "#B0BEC5",
                "#B0BEC5",
                "#B0BEC5",
                "#B0BEC5",
                "#B0BEC5",
                "#B0BEC5",
                "#B0BEC5",
                "#B0BEC5",
                "#B0BEC5",
                "#B0BEC5",
                "#B0BEC5",
                "#B0BEC5",
                "#B0BEC5",
                "red",
                "#B0BEC5",
                "#B0BEC5",
                "#B0BEC5",
                "#B0BEC5",
                "#B0BEC5",
                "#B0BEC5",
                "#B0BEC5",
                "#B0BEC5",
                "#B0BEC5",
                "#B0BEC5"
               ]
              ]
             }
            ],
            "label": "Topic 23",
            "method": "update"
           },
           {
            "args": [
             {
              "marker.color": [
               [
                "#B0BEC5",
                "#B0BEC5",
                "#B0BEC5",
                "#B0BEC5",
                "#B0BEC5",
                "#B0BEC5",
                "#B0BEC5",
                "#B0BEC5",
                "#B0BEC5",
                "#B0BEC5",
                "#B0BEC5",
                "#B0BEC5",
                "#B0BEC5",
                "#B0BEC5",
                "#B0BEC5",
                "#B0BEC5",
                "#B0BEC5",
                "#B0BEC5",
                "#B0BEC5",
                "#B0BEC5",
                "#B0BEC5",
                "#B0BEC5",
                "#B0BEC5",
                "red",
                "#B0BEC5",
                "#B0BEC5",
                "#B0BEC5",
                "#B0BEC5",
                "#B0BEC5",
                "#B0BEC5",
                "#B0BEC5",
                "#B0BEC5",
                "#B0BEC5"
               ]
              ]
             }
            ],
            "label": "Topic 24",
            "method": "update"
           },
           {
            "args": [
             {
              "marker.color": [
               [
                "#B0BEC5",
                "#B0BEC5",
                "#B0BEC5",
                "#B0BEC5",
                "#B0BEC5",
                "#B0BEC5",
                "#B0BEC5",
                "#B0BEC5",
                "#B0BEC5",
                "#B0BEC5",
                "#B0BEC5",
                "#B0BEC5",
                "#B0BEC5",
                "#B0BEC5",
                "#B0BEC5",
                "#B0BEC5",
                "#B0BEC5",
                "#B0BEC5",
                "#B0BEC5",
                "#B0BEC5",
                "#B0BEC5",
                "#B0BEC5",
                "#B0BEC5",
                "#B0BEC5",
                "red",
                "#B0BEC5",
                "#B0BEC5",
                "#B0BEC5",
                "#B0BEC5",
                "#B0BEC5",
                "#B0BEC5",
                "#B0BEC5",
                "#B0BEC5"
               ]
              ]
             }
            ],
            "label": "Topic 25",
            "method": "update"
           },
           {
            "args": [
             {
              "marker.color": [
               [
                "#B0BEC5",
                "#B0BEC5",
                "#B0BEC5",
                "#B0BEC5",
                "#B0BEC5",
                "#B0BEC5",
                "#B0BEC5",
                "#B0BEC5",
                "#B0BEC5",
                "#B0BEC5",
                "#B0BEC5",
                "#B0BEC5",
                "#B0BEC5",
                "#B0BEC5",
                "#B0BEC5",
                "#B0BEC5",
                "#B0BEC5",
                "#B0BEC5",
                "#B0BEC5",
                "#B0BEC5",
                "#B0BEC5",
                "#B0BEC5",
                "#B0BEC5",
                "#B0BEC5",
                "#B0BEC5",
                "red",
                "#B0BEC5",
                "#B0BEC5",
                "#B0BEC5",
                "#B0BEC5",
                "#B0BEC5",
                "#B0BEC5",
                "#B0BEC5"
               ]
              ]
             }
            ],
            "label": "Topic 26",
            "method": "update"
           },
           {
            "args": [
             {
              "marker.color": [
               [
                "#B0BEC5",
                "#B0BEC5",
                "#B0BEC5",
                "#B0BEC5",
                "#B0BEC5",
                "#B0BEC5",
                "#B0BEC5",
                "#B0BEC5",
                "#B0BEC5",
                "#B0BEC5",
                "#B0BEC5",
                "#B0BEC5",
                "#B0BEC5",
                "#B0BEC5",
                "#B0BEC5",
                "#B0BEC5",
                "#B0BEC5",
                "#B0BEC5",
                "#B0BEC5",
                "#B0BEC5",
                "#B0BEC5",
                "#B0BEC5",
                "#B0BEC5",
                "#B0BEC5",
                "#B0BEC5",
                "#B0BEC5",
                "red",
                "#B0BEC5",
                "#B0BEC5",
                "#B0BEC5",
                "#B0BEC5",
                "#B0BEC5",
                "#B0BEC5"
               ]
              ]
             }
            ],
            "label": "Topic 27",
            "method": "update"
           },
           {
            "args": [
             {
              "marker.color": [
               [
                "#B0BEC5",
                "#B0BEC5",
                "#B0BEC5",
                "#B0BEC5",
                "#B0BEC5",
                "#B0BEC5",
                "#B0BEC5",
                "#B0BEC5",
                "#B0BEC5",
                "#B0BEC5",
                "#B0BEC5",
                "#B0BEC5",
                "#B0BEC5",
                "#B0BEC5",
                "#B0BEC5",
                "#B0BEC5",
                "#B0BEC5",
                "#B0BEC5",
                "#B0BEC5",
                "#B0BEC5",
                "#B0BEC5",
                "#B0BEC5",
                "#B0BEC5",
                "#B0BEC5",
                "#B0BEC5",
                "#B0BEC5",
                "#B0BEC5",
                "red",
                "#B0BEC5",
                "#B0BEC5",
                "#B0BEC5",
                "#B0BEC5",
                "#B0BEC5"
               ]
              ]
             }
            ],
            "label": "Topic 28",
            "method": "update"
           },
           {
            "args": [
             {
              "marker.color": [
               [
                "#B0BEC5",
                "#B0BEC5",
                "#B0BEC5",
                "#B0BEC5",
                "#B0BEC5",
                "#B0BEC5",
                "#B0BEC5",
                "#B0BEC5",
                "#B0BEC5",
                "#B0BEC5",
                "#B0BEC5",
                "#B0BEC5",
                "#B0BEC5",
                "#B0BEC5",
                "#B0BEC5",
                "#B0BEC5",
                "#B0BEC5",
                "#B0BEC5",
                "#B0BEC5",
                "#B0BEC5",
                "#B0BEC5",
                "#B0BEC5",
                "#B0BEC5",
                "#B0BEC5",
                "#B0BEC5",
                "#B0BEC5",
                "#B0BEC5",
                "#B0BEC5",
                "red",
                "#B0BEC5",
                "#B0BEC5",
                "#B0BEC5",
                "#B0BEC5"
               ]
              ]
             }
            ],
            "label": "Topic 29",
            "method": "update"
           },
           {
            "args": [
             {
              "marker.color": [
               [
                "#B0BEC5",
                "#B0BEC5",
                "#B0BEC5",
                "#B0BEC5",
                "#B0BEC5",
                "#B0BEC5",
                "#B0BEC5",
                "#B0BEC5",
                "#B0BEC5",
                "#B0BEC5",
                "#B0BEC5",
                "#B0BEC5",
                "#B0BEC5",
                "#B0BEC5",
                "#B0BEC5",
                "#B0BEC5",
                "#B0BEC5",
                "#B0BEC5",
                "#B0BEC5",
                "#B0BEC5",
                "#B0BEC5",
                "#B0BEC5",
                "#B0BEC5",
                "#B0BEC5",
                "#B0BEC5",
                "#B0BEC5",
                "#B0BEC5",
                "#B0BEC5",
                "#B0BEC5",
                "red",
                "#B0BEC5",
                "#B0BEC5",
                "#B0BEC5"
               ]
              ]
             }
            ],
            "label": "Topic 30",
            "method": "update"
           },
           {
            "args": [
             {
              "marker.color": [
               [
                "#B0BEC5",
                "#B0BEC5",
                "#B0BEC5",
                "#B0BEC5",
                "#B0BEC5",
                "#B0BEC5",
                "#B0BEC5",
                "#B0BEC5",
                "#B0BEC5",
                "#B0BEC5",
                "#B0BEC5",
                "#B0BEC5",
                "#B0BEC5",
                "#B0BEC5",
                "#B0BEC5",
                "#B0BEC5",
                "#B0BEC5",
                "#B0BEC5",
                "#B0BEC5",
                "#B0BEC5",
                "#B0BEC5",
                "#B0BEC5",
                "#B0BEC5",
                "#B0BEC5",
                "#B0BEC5",
                "#B0BEC5",
                "#B0BEC5",
                "#B0BEC5",
                "#B0BEC5",
                "#B0BEC5",
                "red",
                "#B0BEC5",
                "#B0BEC5"
               ]
              ]
             }
            ],
            "label": "Topic 31",
            "method": "update"
           },
           {
            "args": [
             {
              "marker.color": [
               [
                "#B0BEC5",
                "#B0BEC5",
                "#B0BEC5",
                "#B0BEC5",
                "#B0BEC5",
                "#B0BEC5",
                "#B0BEC5",
                "#B0BEC5",
                "#B0BEC5",
                "#B0BEC5",
                "#B0BEC5",
                "#B0BEC5",
                "#B0BEC5",
                "#B0BEC5",
                "#B0BEC5",
                "#B0BEC5",
                "#B0BEC5",
                "#B0BEC5",
                "#B0BEC5",
                "#B0BEC5",
                "#B0BEC5",
                "#B0BEC5",
                "#B0BEC5",
                "#B0BEC5",
                "#B0BEC5",
                "#B0BEC5",
                "#B0BEC5",
                "#B0BEC5",
                "#B0BEC5",
                "#B0BEC5",
                "#B0BEC5",
                "red",
                "#B0BEC5"
               ]
              ]
             }
            ],
            "label": "Topic 32",
            "method": "update"
           },
           {
            "args": [
             {
              "marker.color": [
               [
                "#B0BEC5",
                "#B0BEC5",
                "#B0BEC5",
                "#B0BEC5",
                "#B0BEC5",
                "#B0BEC5",
                "#B0BEC5",
                "#B0BEC5",
                "#B0BEC5",
                "#B0BEC5",
                "#B0BEC5",
                "#B0BEC5",
                "#B0BEC5",
                "#B0BEC5",
                "#B0BEC5",
                "#B0BEC5",
                "#B0BEC5",
                "#B0BEC5",
                "#B0BEC5",
                "#B0BEC5",
                "#B0BEC5",
                "#B0BEC5",
                "#B0BEC5",
                "#B0BEC5",
                "#B0BEC5",
                "#B0BEC5",
                "#B0BEC5",
                "#B0BEC5",
                "#B0BEC5",
                "#B0BEC5",
                "#B0BEC5",
                "#B0BEC5",
                "red"
               ]
              ]
             }
            ],
            "label": "Topic 33",
            "method": "update"
           }
          ]
         }
        ],
        "template": {
         "data": {
          "bar": [
           {
            "error_x": {
             "color": "rgb(36,36,36)"
            },
            "error_y": {
             "color": "rgb(36,36,36)"
            },
            "marker": {
             "line": {
              "color": "white",
              "width": 0.5
             },
             "pattern": {
              "fillmode": "overlay",
              "size": 10,
              "solidity": 0.2
             }
            },
            "type": "bar"
           }
          ],
          "barpolar": [
           {
            "marker": {
             "line": {
              "color": "white",
              "width": 0.5
             },
             "pattern": {
              "fillmode": "overlay",
              "size": 10,
              "solidity": 0.2
             }
            },
            "type": "barpolar"
           }
          ],
          "carpet": [
           {
            "aaxis": {
             "endlinecolor": "rgb(36,36,36)",
             "gridcolor": "white",
             "linecolor": "white",
             "minorgridcolor": "white",
             "startlinecolor": "rgb(36,36,36)"
            },
            "baxis": {
             "endlinecolor": "rgb(36,36,36)",
             "gridcolor": "white",
             "linecolor": "white",
             "minorgridcolor": "white",
             "startlinecolor": "rgb(36,36,36)"
            },
            "type": "carpet"
           }
          ],
          "choropleth": [
           {
            "colorbar": {
             "outlinewidth": 1,
             "tickcolor": "rgb(36,36,36)",
             "ticks": "outside"
            },
            "type": "choropleth"
           }
          ],
          "contour": [
           {
            "colorbar": {
             "outlinewidth": 1,
             "tickcolor": "rgb(36,36,36)",
             "ticks": "outside"
            },
            "colorscale": [
             [
              0,
              "#440154"
             ],
             [
              0.1111111111111111,
              "#482878"
             ],
             [
              0.2222222222222222,
              "#3e4989"
             ],
             [
              0.3333333333333333,
              "#31688e"
             ],
             [
              0.4444444444444444,
              "#26828e"
             ],
             [
              0.5555555555555556,
              "#1f9e89"
             ],
             [
              0.6666666666666666,
              "#35b779"
             ],
             [
              0.7777777777777778,
              "#6ece58"
             ],
             [
              0.8888888888888888,
              "#b5de2b"
             ],
             [
              1,
              "#fde725"
             ]
            ],
            "type": "contour"
           }
          ],
          "contourcarpet": [
           {
            "colorbar": {
             "outlinewidth": 1,
             "tickcolor": "rgb(36,36,36)",
             "ticks": "outside"
            },
            "type": "contourcarpet"
           }
          ],
          "heatmap": [
           {
            "colorbar": {
             "outlinewidth": 1,
             "tickcolor": "rgb(36,36,36)",
             "ticks": "outside"
            },
            "colorscale": [
             [
              0,
              "#440154"
             ],
             [
              0.1111111111111111,
              "#482878"
             ],
             [
              0.2222222222222222,
              "#3e4989"
             ],
             [
              0.3333333333333333,
              "#31688e"
             ],
             [
              0.4444444444444444,
              "#26828e"
             ],
             [
              0.5555555555555556,
              "#1f9e89"
             ],
             [
              0.6666666666666666,
              "#35b779"
             ],
             [
              0.7777777777777778,
              "#6ece58"
             ],
             [
              0.8888888888888888,
              "#b5de2b"
             ],
             [
              1,
              "#fde725"
             ]
            ],
            "type": "heatmap"
           }
          ],
          "heatmapgl": [
           {
            "colorbar": {
             "outlinewidth": 1,
             "tickcolor": "rgb(36,36,36)",
             "ticks": "outside"
            },
            "colorscale": [
             [
              0,
              "#440154"
             ],
             [
              0.1111111111111111,
              "#482878"
             ],
             [
              0.2222222222222222,
              "#3e4989"
             ],
             [
              0.3333333333333333,
              "#31688e"
             ],
             [
              0.4444444444444444,
              "#26828e"
             ],
             [
              0.5555555555555556,
              "#1f9e89"
             ],
             [
              0.6666666666666666,
              "#35b779"
             ],
             [
              0.7777777777777778,
              "#6ece58"
             ],
             [
              0.8888888888888888,
              "#b5de2b"
             ],
             [
              1,
              "#fde725"
             ]
            ],
            "type": "heatmapgl"
           }
          ],
          "histogram": [
           {
            "marker": {
             "line": {
              "color": "white",
              "width": 0.6
             }
            },
            "type": "histogram"
           }
          ],
          "histogram2d": [
           {
            "colorbar": {
             "outlinewidth": 1,
             "tickcolor": "rgb(36,36,36)",
             "ticks": "outside"
            },
            "colorscale": [
             [
              0,
              "#440154"
             ],
             [
              0.1111111111111111,
              "#482878"
             ],
             [
              0.2222222222222222,
              "#3e4989"
             ],
             [
              0.3333333333333333,
              "#31688e"
             ],
             [
              0.4444444444444444,
              "#26828e"
             ],
             [
              0.5555555555555556,
              "#1f9e89"
             ],
             [
              0.6666666666666666,
              "#35b779"
             ],
             [
              0.7777777777777778,
              "#6ece58"
             ],
             [
              0.8888888888888888,
              "#b5de2b"
             ],
             [
              1,
              "#fde725"
             ]
            ],
            "type": "histogram2d"
           }
          ],
          "histogram2dcontour": [
           {
            "colorbar": {
             "outlinewidth": 1,
             "tickcolor": "rgb(36,36,36)",
             "ticks": "outside"
            },
            "colorscale": [
             [
              0,
              "#440154"
             ],
             [
              0.1111111111111111,
              "#482878"
             ],
             [
              0.2222222222222222,
              "#3e4989"
             ],
             [
              0.3333333333333333,
              "#31688e"
             ],
             [
              0.4444444444444444,
              "#26828e"
             ],
             [
              0.5555555555555556,
              "#1f9e89"
             ],
             [
              0.6666666666666666,
              "#35b779"
             ],
             [
              0.7777777777777778,
              "#6ece58"
             ],
             [
              0.8888888888888888,
              "#b5de2b"
             ],
             [
              1,
              "#fde725"
             ]
            ],
            "type": "histogram2dcontour"
           }
          ],
          "mesh3d": [
           {
            "colorbar": {
             "outlinewidth": 1,
             "tickcolor": "rgb(36,36,36)",
             "ticks": "outside"
            },
            "type": "mesh3d"
           }
          ],
          "parcoords": [
           {
            "line": {
             "colorbar": {
              "outlinewidth": 1,
              "tickcolor": "rgb(36,36,36)",
              "ticks": "outside"
             }
            },
            "type": "parcoords"
           }
          ],
          "pie": [
           {
            "automargin": true,
            "type": "pie"
           }
          ],
          "scatter": [
           {
            "fillpattern": {
             "fillmode": "overlay",
             "size": 10,
             "solidity": 0.2
            },
            "type": "scatter"
           }
          ],
          "scatter3d": [
           {
            "line": {
             "colorbar": {
              "outlinewidth": 1,
              "tickcolor": "rgb(36,36,36)",
              "ticks": "outside"
             }
            },
            "marker": {
             "colorbar": {
              "outlinewidth": 1,
              "tickcolor": "rgb(36,36,36)",
              "ticks": "outside"
             }
            },
            "type": "scatter3d"
           }
          ],
          "scattercarpet": [
           {
            "marker": {
             "colorbar": {
              "outlinewidth": 1,
              "tickcolor": "rgb(36,36,36)",
              "ticks": "outside"
             }
            },
            "type": "scattercarpet"
           }
          ],
          "scattergeo": [
           {
            "marker": {
             "colorbar": {
              "outlinewidth": 1,
              "tickcolor": "rgb(36,36,36)",
              "ticks": "outside"
             }
            },
            "type": "scattergeo"
           }
          ],
          "scattergl": [
           {
            "marker": {
             "colorbar": {
              "outlinewidth": 1,
              "tickcolor": "rgb(36,36,36)",
              "ticks": "outside"
             }
            },
            "type": "scattergl"
           }
          ],
          "scattermapbox": [
           {
            "marker": {
             "colorbar": {
              "outlinewidth": 1,
              "tickcolor": "rgb(36,36,36)",
              "ticks": "outside"
             }
            },
            "type": "scattermapbox"
           }
          ],
          "scatterpolar": [
           {
            "marker": {
             "colorbar": {
              "outlinewidth": 1,
              "tickcolor": "rgb(36,36,36)",
              "ticks": "outside"
             }
            },
            "type": "scatterpolar"
           }
          ],
          "scatterpolargl": [
           {
            "marker": {
             "colorbar": {
              "outlinewidth": 1,
              "tickcolor": "rgb(36,36,36)",
              "ticks": "outside"
             }
            },
            "type": "scatterpolargl"
           }
          ],
          "scatterternary": [
           {
            "marker": {
             "colorbar": {
              "outlinewidth": 1,
              "tickcolor": "rgb(36,36,36)",
              "ticks": "outside"
             }
            },
            "type": "scatterternary"
           }
          ],
          "surface": [
           {
            "colorbar": {
             "outlinewidth": 1,
             "tickcolor": "rgb(36,36,36)",
             "ticks": "outside"
            },
            "colorscale": [
             [
              0,
              "#440154"
             ],
             [
              0.1111111111111111,
              "#482878"
             ],
             [
              0.2222222222222222,
              "#3e4989"
             ],
             [
              0.3333333333333333,
              "#31688e"
             ],
             [
              0.4444444444444444,
              "#26828e"
             ],
             [
              0.5555555555555556,
              "#1f9e89"
             ],
             [
              0.6666666666666666,
              "#35b779"
             ],
             [
              0.7777777777777778,
              "#6ece58"
             ],
             [
              0.8888888888888888,
              "#b5de2b"
             ],
             [
              1,
              "#fde725"
             ]
            ],
            "type": "surface"
           }
          ],
          "table": [
           {
            "cells": {
             "fill": {
              "color": "rgb(237,237,237)"
             },
             "line": {
              "color": "white"
             }
            },
            "header": {
             "fill": {
              "color": "rgb(217,217,217)"
             },
             "line": {
              "color": "white"
             }
            },
            "type": "table"
           }
          ]
         },
         "layout": {
          "annotationdefaults": {
           "arrowhead": 0,
           "arrowwidth": 1
          },
          "autotypenumbers": "strict",
          "coloraxis": {
           "colorbar": {
            "outlinewidth": 1,
            "tickcolor": "rgb(36,36,36)",
            "ticks": "outside"
           }
          },
          "colorscale": {
           "diverging": [
            [
             0,
             "rgb(103,0,31)"
            ],
            [
             0.1,
             "rgb(178,24,43)"
            ],
            [
             0.2,
             "rgb(214,96,77)"
            ],
            [
             0.3,
             "rgb(244,165,130)"
            ],
            [
             0.4,
             "rgb(253,219,199)"
            ],
            [
             0.5,
             "rgb(247,247,247)"
            ],
            [
             0.6,
             "rgb(209,229,240)"
            ],
            [
             0.7,
             "rgb(146,197,222)"
            ],
            [
             0.8,
             "rgb(67,147,195)"
            ],
            [
             0.9,
             "rgb(33,102,172)"
            ],
            [
             1,
             "rgb(5,48,97)"
            ]
           ],
           "sequential": [
            [
             0,
             "#440154"
            ],
            [
             0.1111111111111111,
             "#482878"
            ],
            [
             0.2222222222222222,
             "#3e4989"
            ],
            [
             0.3333333333333333,
             "#31688e"
            ],
            [
             0.4444444444444444,
             "#26828e"
            ],
            [
             0.5555555555555556,
             "#1f9e89"
            ],
            [
             0.6666666666666666,
             "#35b779"
            ],
            [
             0.7777777777777778,
             "#6ece58"
            ],
            [
             0.8888888888888888,
             "#b5de2b"
            ],
            [
             1,
             "#fde725"
            ]
           ],
           "sequentialminus": [
            [
             0,
             "#440154"
            ],
            [
             0.1111111111111111,
             "#482878"
            ],
            [
             0.2222222222222222,
             "#3e4989"
            ],
            [
             0.3333333333333333,
             "#31688e"
            ],
            [
             0.4444444444444444,
             "#26828e"
            ],
            [
             0.5555555555555556,
             "#1f9e89"
            ],
            [
             0.6666666666666666,
             "#35b779"
            ],
            [
             0.7777777777777778,
             "#6ece58"
            ],
            [
             0.8888888888888888,
             "#b5de2b"
            ],
            [
             1,
             "#fde725"
            ]
           ]
          },
          "colorway": [
           "#1F77B4",
           "#FF7F0E",
           "#2CA02C",
           "#D62728",
           "#9467BD",
           "#8C564B",
           "#E377C2",
           "#7F7F7F",
           "#BCBD22",
           "#17BECF"
          ],
          "font": {
           "color": "rgb(36,36,36)"
          },
          "geo": {
           "bgcolor": "white",
           "lakecolor": "white",
           "landcolor": "white",
           "showlakes": true,
           "showland": true,
           "subunitcolor": "white"
          },
          "hoverlabel": {
           "align": "left"
          },
          "hovermode": "closest",
          "mapbox": {
           "style": "light"
          },
          "paper_bgcolor": "white",
          "plot_bgcolor": "white",
          "polar": {
           "angularaxis": {
            "gridcolor": "rgb(232,232,232)",
            "linecolor": "rgb(36,36,36)",
            "showgrid": false,
            "showline": true,
            "ticks": "outside"
           },
           "bgcolor": "white",
           "radialaxis": {
            "gridcolor": "rgb(232,232,232)",
            "linecolor": "rgb(36,36,36)",
            "showgrid": false,
            "showline": true,
            "ticks": "outside"
           }
          },
          "scene": {
           "xaxis": {
            "backgroundcolor": "white",
            "gridcolor": "rgb(232,232,232)",
            "gridwidth": 2,
            "linecolor": "rgb(36,36,36)",
            "showbackground": true,
            "showgrid": false,
            "showline": true,
            "ticks": "outside",
            "zeroline": false,
            "zerolinecolor": "rgb(36,36,36)"
           },
           "yaxis": {
            "backgroundcolor": "white",
            "gridcolor": "rgb(232,232,232)",
            "gridwidth": 2,
            "linecolor": "rgb(36,36,36)",
            "showbackground": true,
            "showgrid": false,
            "showline": true,
            "ticks": "outside",
            "zeroline": false,
            "zerolinecolor": "rgb(36,36,36)"
           },
           "zaxis": {
            "backgroundcolor": "white",
            "gridcolor": "rgb(232,232,232)",
            "gridwidth": 2,
            "linecolor": "rgb(36,36,36)",
            "showbackground": true,
            "showgrid": false,
            "showline": true,
            "ticks": "outside",
            "zeroline": false,
            "zerolinecolor": "rgb(36,36,36)"
           }
          },
          "shapedefaults": {
           "fillcolor": "black",
           "line": {
            "width": 0
           },
           "opacity": 0.3
          },
          "ternary": {
           "aaxis": {
            "gridcolor": "rgb(232,232,232)",
            "linecolor": "rgb(36,36,36)",
            "showgrid": false,
            "showline": true,
            "ticks": "outside"
           },
           "baxis": {
            "gridcolor": "rgb(232,232,232)",
            "linecolor": "rgb(36,36,36)",
            "showgrid": false,
            "showline": true,
            "ticks": "outside"
           },
           "bgcolor": "white",
           "caxis": {
            "gridcolor": "rgb(232,232,232)",
            "linecolor": "rgb(36,36,36)",
            "showgrid": false,
            "showline": true,
            "ticks": "outside"
           }
          },
          "title": {
           "x": 0.05
          },
          "xaxis": {
           "automargin": true,
           "gridcolor": "rgb(232,232,232)",
           "linecolor": "rgb(36,36,36)",
           "showgrid": false,
           "showline": true,
           "ticks": "outside",
           "title": {
            "standoff": 15
           },
           "zeroline": false,
           "zerolinecolor": "rgb(36,36,36)"
          },
          "yaxis": {
           "automargin": true,
           "gridcolor": "rgb(232,232,232)",
           "linecolor": "rgb(36,36,36)",
           "showgrid": false,
           "showline": true,
           "ticks": "outside",
           "title": {
            "standoff": 15
           },
           "zeroline": false,
           "zerolinecolor": "rgb(36,36,36)"
          }
         }
        },
        "title": {
         "font": {
          "color": "Black",
          "size": 22
         },
         "text": "<b>Intertopic Distance Map",
         "x": 0.5,
         "xanchor": "center",
         "y": 0.95,
         "yanchor": "top"
        },
        "width": 650,
        "xaxis": {
         "anchor": "y",
         "domain": [
          0,
          1
         ],
         "range": [
          -4.45276597738266,
          16.76568932533264
         ],
         "title": {
          "text": ""
         },
         "visible": false
        },
        "yaxis": {
         "anchor": "x",
         "domain": [
          0,
          1
         ],
         "range": [
          -7.857136988639832,
          23.033230781555176
         ],
         "title": {
          "text": ""
         },
         "visible": false
        }
       }
      },
      "text/html": [
       "<div>                            <div id=\"0a24cc46-7b58-4881-9312-cadd1ce230d6\" class=\"plotly-graph-div\" style=\"height:650px; width:650px;\"></div>            <script type=\"text/javascript\">                require([\"plotly\"], function(Plotly) {                    window.PLOTLYENV=window.PLOTLYENV || {};                                    if (document.getElementById(\"0a24cc46-7b58-4881-9312-cadd1ce230d6\")) {                    Plotly.newPlot(                        \"0a24cc46-7b58-4881-9312-cadd1ce230d6\",                        [{\"customdata\":[[1,\"projet | travail | chef | mail | tableau\",59],[2,\"formation | confiance | portefeuille | ok | formateur\",58],[3,\"tudiant | examen | enseignant | attaque | cours\",55],[4,\"joie | match | sourire | jean | frre\",50],[5,\"triste | tristesse | sparer | objet | enfant\",43],[6,\"mre | fille | mari | prnom | grandmre\",42],[7,\"prsentation | acteur | mdecin | formation | anglais\",40],[8,\"voiture | vhicule | route | chevreuil | vite\",37],[9,\"patient | rendezvous | cabinet | ostopathe | appeler\",36],[10,\"peur | train | entrer | ami | descendre\",36],[11,\"sur | pre | week | end | homme\",35],[12,\"emotion | joie | tristesse | peur | uv\",34],[13,\"groupe | course | rodolphe | bourges | genou\",33],[14,\"nan | femme | moult | encre | cent\",30],[15,\"cl | carte | bernard | cherche | frisson\",23],[16,\"directeur | thse | marc | lire | site\",19],[17,\"mmoire | froid | prsenter | renvoyer | image\",19],[18,\"donne | base | ordinateur | clef | portable\",19],[19,\"rvision | croyance | monde | image | profit\",18],[20,\"secrtaire | photocopie | service | document | demande\",18],[21,\"runion | photothque | responsable | rfrent | collgue\",17],[22,\"courir | arbre | tailler | jardinier | branche\",17],[23,\"cours | question | fin | peuttre | forme\",16],[24,\"phrase | vouloir | grgory | tte | entendre\",16],[25,\"amie | muriel | sminaire | ascenseur | territoire\",16],[26,\"jeune | police | musique | texte | menu\",15],[27,\"alain | christine | chantal | trot | exercice\",15],[28,\"lve | classe | oral | heure | rpondre\",15],[29,\"payer | euro | ticket | pizza | droit\",14],[30,\"copine | cq | gare | minute | pose\",13],[31,\"retard | transport | sncf | mal | monde\",12],[32,\"avion | vol | aroport | tarbes | formation\",11],[33,\"rsultat | essai | anne | attender | objet\",11]],\"hovertemplate\":\"<b>Topic %{customdata[0]}</b><br>Words: %{customdata[1]}<br>Size: %{customdata[2]}\",\"legendgroup\":\"\",\"marker\":{\"color\":\"#B0BEC5\",\"size\":[59,58,55,50,43,42,40,37,36,36,35,34,33,30,23,19,19,19,18,18,17,17,16,16,16,15,15,15,14,13,12,11,11],\"sizemode\":\"area\",\"sizeref\":0.036875,\"symbol\":\"circle\",\"line\":{\"color\":\"DarkSlateGrey\",\"width\":2}},\"mode\":\"markers\",\"name\":\"\",\"orientation\":\"v\",\"showlegend\":false,\"x\":[13.241985321044922,3.8077988624572754,13.527630805969238,14.57886028289795,-0.3478188216686249,0.007990311831235886,13.392975807189941,-3.8719704151153564,1.9774144887924194,-3.870958089828491,3.7188429832458496,3.302962064743042,-0.5082932710647583,0.8950389623641968,1.1445473432540894,12.918906211853027,-0.19710354506969452,13.20052719116211,3.8133060932159424,1.2009787559509277,0.22565756738185883,3.593597888946533,13.302868843078613,13.293088912963867,3.570589780807495,13.485477447509766,-0.08449806272983551,1.6515899896621704,1.808466911315918,3.5391745567321777,0.3064139783382416,2.1979188919067383,3.399815797805786],\"xaxis\":\"x\",\"y\":[19.89973258972168,3.1898574829101562,18.979530334472656,2.057408332824707,1.1692836284637451,1.0647529363632202,18.439533233642578,-6.8322930335998535,2.5854647159576416,-6.830723285675049,3.890791177749634,3.977100133895874,1.282468318939209,3.1179120540618896,3.235419273376465,20.02889633178711,0.25569772720336914,19.976253509521484,3.2794888019561768,2.2493691444396973,1.112131953239441,4.097201824188232,19.222312927246094,18.221012115478516,3.522583484649658,18.35280418395996,0.4435499310493469,2.375314235687256,2.7612204551696777,4.588318824768066,0.2316746711730957,2.319870710372925,4.726728439331055],\"yaxis\":\"y\",\"type\":\"scatter\"}],                        {\"template\":{\"data\":{\"barpolar\":[{\"marker\":{\"line\":{\"color\":\"white\",\"width\":0.5},\"pattern\":{\"fillmode\":\"overlay\",\"size\":10,\"solidity\":0.2}},\"type\":\"barpolar\"}],\"bar\":[{\"error_x\":{\"color\":\"rgb(36,36,36)\"},\"error_y\":{\"color\":\"rgb(36,36,36)\"},\"marker\":{\"line\":{\"color\":\"white\",\"width\":0.5},\"pattern\":{\"fillmode\":\"overlay\",\"size\":10,\"solidity\":0.2}},\"type\":\"bar\"}],\"carpet\":[{\"aaxis\":{\"endlinecolor\":\"rgb(36,36,36)\",\"gridcolor\":\"white\",\"linecolor\":\"white\",\"minorgridcolor\":\"white\",\"startlinecolor\":\"rgb(36,36,36)\"},\"baxis\":{\"endlinecolor\":\"rgb(36,36,36)\",\"gridcolor\":\"white\",\"linecolor\":\"white\",\"minorgridcolor\":\"white\",\"startlinecolor\":\"rgb(36,36,36)\"},\"type\":\"carpet\"}],\"choropleth\":[{\"colorbar\":{\"outlinewidth\":1,\"tickcolor\":\"rgb(36,36,36)\",\"ticks\":\"outside\"},\"type\":\"choropleth\"}],\"contourcarpet\":[{\"colorbar\":{\"outlinewidth\":1,\"tickcolor\":\"rgb(36,36,36)\",\"ticks\":\"outside\"},\"type\":\"contourcarpet\"}],\"contour\":[{\"colorbar\":{\"outlinewidth\":1,\"tickcolor\":\"rgb(36,36,36)\",\"ticks\":\"outside\"},\"colorscale\":[[0.0,\"#440154\"],[0.1111111111111111,\"#482878\"],[0.2222222222222222,\"#3e4989\"],[0.3333333333333333,\"#31688e\"],[0.4444444444444444,\"#26828e\"],[0.5555555555555556,\"#1f9e89\"],[0.6666666666666666,\"#35b779\"],[0.7777777777777778,\"#6ece58\"],[0.8888888888888888,\"#b5de2b\"],[1.0,\"#fde725\"]],\"type\":\"contour\"}],\"heatmapgl\":[{\"colorbar\":{\"outlinewidth\":1,\"tickcolor\":\"rgb(36,36,36)\",\"ticks\":\"outside\"},\"colorscale\":[[0.0,\"#440154\"],[0.1111111111111111,\"#482878\"],[0.2222222222222222,\"#3e4989\"],[0.3333333333333333,\"#31688e\"],[0.4444444444444444,\"#26828e\"],[0.5555555555555556,\"#1f9e89\"],[0.6666666666666666,\"#35b779\"],[0.7777777777777778,\"#6ece58\"],[0.8888888888888888,\"#b5de2b\"],[1.0,\"#fde725\"]],\"type\":\"heatmapgl\"}],\"heatmap\":[{\"colorbar\":{\"outlinewidth\":1,\"tickcolor\":\"rgb(36,36,36)\",\"ticks\":\"outside\"},\"colorscale\":[[0.0,\"#440154\"],[0.1111111111111111,\"#482878\"],[0.2222222222222222,\"#3e4989\"],[0.3333333333333333,\"#31688e\"],[0.4444444444444444,\"#26828e\"],[0.5555555555555556,\"#1f9e89\"],[0.6666666666666666,\"#35b779\"],[0.7777777777777778,\"#6ece58\"],[0.8888888888888888,\"#b5de2b\"],[1.0,\"#fde725\"]],\"type\":\"heatmap\"}],\"histogram2dcontour\":[{\"colorbar\":{\"outlinewidth\":1,\"tickcolor\":\"rgb(36,36,36)\",\"ticks\":\"outside\"},\"colorscale\":[[0.0,\"#440154\"],[0.1111111111111111,\"#482878\"],[0.2222222222222222,\"#3e4989\"],[0.3333333333333333,\"#31688e\"],[0.4444444444444444,\"#26828e\"],[0.5555555555555556,\"#1f9e89\"],[0.6666666666666666,\"#35b779\"],[0.7777777777777778,\"#6ece58\"],[0.8888888888888888,\"#b5de2b\"],[1.0,\"#fde725\"]],\"type\":\"histogram2dcontour\"}],\"histogram2d\":[{\"colorbar\":{\"outlinewidth\":1,\"tickcolor\":\"rgb(36,36,36)\",\"ticks\":\"outside\"},\"colorscale\":[[0.0,\"#440154\"],[0.1111111111111111,\"#482878\"],[0.2222222222222222,\"#3e4989\"],[0.3333333333333333,\"#31688e\"],[0.4444444444444444,\"#26828e\"],[0.5555555555555556,\"#1f9e89\"],[0.6666666666666666,\"#35b779\"],[0.7777777777777778,\"#6ece58\"],[0.8888888888888888,\"#b5de2b\"],[1.0,\"#fde725\"]],\"type\":\"histogram2d\"}],\"histogram\":[{\"marker\":{\"line\":{\"color\":\"white\",\"width\":0.6}},\"type\":\"histogram\"}],\"mesh3d\":[{\"colorbar\":{\"outlinewidth\":1,\"tickcolor\":\"rgb(36,36,36)\",\"ticks\":\"outside\"},\"type\":\"mesh3d\"}],\"parcoords\":[{\"line\":{\"colorbar\":{\"outlinewidth\":1,\"tickcolor\":\"rgb(36,36,36)\",\"ticks\":\"outside\"}},\"type\":\"parcoords\"}],\"pie\":[{\"automargin\":true,\"type\":\"pie\"}],\"scatter3d\":[{\"line\":{\"colorbar\":{\"outlinewidth\":1,\"tickcolor\":\"rgb(36,36,36)\",\"ticks\":\"outside\"}},\"marker\":{\"colorbar\":{\"outlinewidth\":1,\"tickcolor\":\"rgb(36,36,36)\",\"ticks\":\"outside\"}},\"type\":\"scatter3d\"}],\"scattercarpet\":[{\"marker\":{\"colorbar\":{\"outlinewidth\":1,\"tickcolor\":\"rgb(36,36,36)\",\"ticks\":\"outside\"}},\"type\":\"scattercarpet\"}],\"scattergeo\":[{\"marker\":{\"colorbar\":{\"outlinewidth\":1,\"tickcolor\":\"rgb(36,36,36)\",\"ticks\":\"outside\"}},\"type\":\"scattergeo\"}],\"scattergl\":[{\"marker\":{\"colorbar\":{\"outlinewidth\":1,\"tickcolor\":\"rgb(36,36,36)\",\"ticks\":\"outside\"}},\"type\":\"scattergl\"}],\"scattermapbox\":[{\"marker\":{\"colorbar\":{\"outlinewidth\":1,\"tickcolor\":\"rgb(36,36,36)\",\"ticks\":\"outside\"}},\"type\":\"scattermapbox\"}],\"scatterpolargl\":[{\"marker\":{\"colorbar\":{\"outlinewidth\":1,\"tickcolor\":\"rgb(36,36,36)\",\"ticks\":\"outside\"}},\"type\":\"scatterpolargl\"}],\"scatterpolar\":[{\"marker\":{\"colorbar\":{\"outlinewidth\":1,\"tickcolor\":\"rgb(36,36,36)\",\"ticks\":\"outside\"}},\"type\":\"scatterpolar\"}],\"scatter\":[{\"fillpattern\":{\"fillmode\":\"overlay\",\"size\":10,\"solidity\":0.2},\"type\":\"scatter\"}],\"scatterternary\":[{\"marker\":{\"colorbar\":{\"outlinewidth\":1,\"tickcolor\":\"rgb(36,36,36)\",\"ticks\":\"outside\"}},\"type\":\"scatterternary\"}],\"surface\":[{\"colorbar\":{\"outlinewidth\":1,\"tickcolor\":\"rgb(36,36,36)\",\"ticks\":\"outside\"},\"colorscale\":[[0.0,\"#440154\"],[0.1111111111111111,\"#482878\"],[0.2222222222222222,\"#3e4989\"],[0.3333333333333333,\"#31688e\"],[0.4444444444444444,\"#26828e\"],[0.5555555555555556,\"#1f9e89\"],[0.6666666666666666,\"#35b779\"],[0.7777777777777778,\"#6ece58\"],[0.8888888888888888,\"#b5de2b\"],[1.0,\"#fde725\"]],\"type\":\"surface\"}],\"table\":[{\"cells\":{\"fill\":{\"color\":\"rgb(237,237,237)\"},\"line\":{\"color\":\"white\"}},\"header\":{\"fill\":{\"color\":\"rgb(217,217,217)\"},\"line\":{\"color\":\"white\"}},\"type\":\"table\"}]},\"layout\":{\"annotationdefaults\":{\"arrowhead\":0,\"arrowwidth\":1},\"autotypenumbers\":\"strict\",\"coloraxis\":{\"colorbar\":{\"outlinewidth\":1,\"tickcolor\":\"rgb(36,36,36)\",\"ticks\":\"outside\"}},\"colorscale\":{\"diverging\":[[0.0,\"rgb(103,0,31)\"],[0.1,\"rgb(178,24,43)\"],[0.2,\"rgb(214,96,77)\"],[0.3,\"rgb(244,165,130)\"],[0.4,\"rgb(253,219,199)\"],[0.5,\"rgb(247,247,247)\"],[0.6,\"rgb(209,229,240)\"],[0.7,\"rgb(146,197,222)\"],[0.8,\"rgb(67,147,195)\"],[0.9,\"rgb(33,102,172)\"],[1.0,\"rgb(5,48,97)\"]],\"sequential\":[[0.0,\"#440154\"],[0.1111111111111111,\"#482878\"],[0.2222222222222222,\"#3e4989\"],[0.3333333333333333,\"#31688e\"],[0.4444444444444444,\"#26828e\"],[0.5555555555555556,\"#1f9e89\"],[0.6666666666666666,\"#35b779\"],[0.7777777777777778,\"#6ece58\"],[0.8888888888888888,\"#b5de2b\"],[1.0,\"#fde725\"]],\"sequentialminus\":[[0.0,\"#440154\"],[0.1111111111111111,\"#482878\"],[0.2222222222222222,\"#3e4989\"],[0.3333333333333333,\"#31688e\"],[0.4444444444444444,\"#26828e\"],[0.5555555555555556,\"#1f9e89\"],[0.6666666666666666,\"#35b779\"],[0.7777777777777778,\"#6ece58\"],[0.8888888888888888,\"#b5de2b\"],[1.0,\"#fde725\"]]},\"colorway\":[\"#1F77B4\",\"#FF7F0E\",\"#2CA02C\",\"#D62728\",\"#9467BD\",\"#8C564B\",\"#E377C2\",\"#7F7F7F\",\"#BCBD22\",\"#17BECF\"],\"font\":{\"color\":\"rgb(36,36,36)\"},\"geo\":{\"bgcolor\":\"white\",\"lakecolor\":\"white\",\"landcolor\":\"white\",\"showlakes\":true,\"showland\":true,\"subunitcolor\":\"white\"},\"hoverlabel\":{\"align\":\"left\"},\"hovermode\":\"closest\",\"mapbox\":{\"style\":\"light\"},\"paper_bgcolor\":\"white\",\"plot_bgcolor\":\"white\",\"polar\":{\"angularaxis\":{\"gridcolor\":\"rgb(232,232,232)\",\"linecolor\":\"rgb(36,36,36)\",\"showgrid\":false,\"showline\":true,\"ticks\":\"outside\"},\"bgcolor\":\"white\",\"radialaxis\":{\"gridcolor\":\"rgb(232,232,232)\",\"linecolor\":\"rgb(36,36,36)\",\"showgrid\":false,\"showline\":true,\"ticks\":\"outside\"}},\"scene\":{\"xaxis\":{\"backgroundcolor\":\"white\",\"gridcolor\":\"rgb(232,232,232)\",\"gridwidth\":2,\"linecolor\":\"rgb(36,36,36)\",\"showbackground\":true,\"showgrid\":false,\"showline\":true,\"ticks\":\"outside\",\"zeroline\":false,\"zerolinecolor\":\"rgb(36,36,36)\"},\"yaxis\":{\"backgroundcolor\":\"white\",\"gridcolor\":\"rgb(232,232,232)\",\"gridwidth\":2,\"linecolor\":\"rgb(36,36,36)\",\"showbackground\":true,\"showgrid\":false,\"showline\":true,\"ticks\":\"outside\",\"zeroline\":false,\"zerolinecolor\":\"rgb(36,36,36)\"},\"zaxis\":{\"backgroundcolor\":\"white\",\"gridcolor\":\"rgb(232,232,232)\",\"gridwidth\":2,\"linecolor\":\"rgb(36,36,36)\",\"showbackground\":true,\"showgrid\":false,\"showline\":true,\"ticks\":\"outside\",\"zeroline\":false,\"zerolinecolor\":\"rgb(36,36,36)\"}},\"shapedefaults\":{\"fillcolor\":\"black\",\"line\":{\"width\":0},\"opacity\":0.3},\"ternary\":{\"aaxis\":{\"gridcolor\":\"rgb(232,232,232)\",\"linecolor\":\"rgb(36,36,36)\",\"showgrid\":false,\"showline\":true,\"ticks\":\"outside\"},\"baxis\":{\"gridcolor\":\"rgb(232,232,232)\",\"linecolor\":\"rgb(36,36,36)\",\"showgrid\":false,\"showline\":true,\"ticks\":\"outside\"},\"bgcolor\":\"white\",\"caxis\":{\"gridcolor\":\"rgb(232,232,232)\",\"linecolor\":\"rgb(36,36,36)\",\"showgrid\":false,\"showline\":true,\"ticks\":\"outside\"}},\"title\":{\"x\":0.05},\"xaxis\":{\"automargin\":true,\"gridcolor\":\"rgb(232,232,232)\",\"linecolor\":\"rgb(36,36,36)\",\"showgrid\":false,\"showline\":true,\"ticks\":\"outside\",\"title\":{\"standoff\":15},\"zeroline\":false,\"zerolinecolor\":\"rgb(36,36,36)\"},\"yaxis\":{\"automargin\":true,\"gridcolor\":\"rgb(232,232,232)\",\"linecolor\":\"rgb(36,36,36)\",\"showgrid\":false,\"showline\":true,\"ticks\":\"outside\",\"title\":{\"standoff\":15},\"zeroline\":false,\"zerolinecolor\":\"rgb(36,36,36)\"}}},\"xaxis\":{\"anchor\":\"y\",\"domain\":[0.0,1.0],\"title\":{\"text\":\"\"},\"visible\":false,\"range\":[-4.45276597738266,16.76568932533264]},\"yaxis\":{\"anchor\":\"x\",\"domain\":[0.0,1.0],\"title\":{\"text\":\"\"},\"visible\":false,\"range\":[-7.857136988639832,23.033230781555176]},\"legend\":{\"tracegroupgap\":0,\"itemsizing\":\"constant\"},\"margin\":{\"t\":60},\"title\":{\"font\":{\"size\":22,\"color\":\"Black\"},\"text\":\"<b>Intertopic Distance Map\",\"y\":0.95,\"x\":0.5,\"xanchor\":\"center\",\"yanchor\":\"top\"},\"hoverlabel\":{\"font\":{\"size\":16,\"family\":\"Rockwell\"},\"bgcolor\":\"white\"},\"width\":650,\"height\":650,\"sliders\":[{\"active\":0,\"pad\":{\"t\":50},\"steps\":[{\"args\":[{\"marker.color\":[[\"red\",\"#B0BEC5\",\"#B0BEC5\",\"#B0BEC5\",\"#B0BEC5\",\"#B0BEC5\",\"#B0BEC5\",\"#B0BEC5\",\"#B0BEC5\",\"#B0BEC5\",\"#B0BEC5\",\"#B0BEC5\",\"#B0BEC5\",\"#B0BEC5\",\"#B0BEC5\",\"#B0BEC5\",\"#B0BEC5\",\"#B0BEC5\",\"#B0BEC5\",\"#B0BEC5\",\"#B0BEC5\",\"#B0BEC5\",\"#B0BEC5\",\"#B0BEC5\",\"#B0BEC5\",\"#B0BEC5\",\"#B0BEC5\",\"#B0BEC5\",\"#B0BEC5\",\"#B0BEC5\",\"#B0BEC5\",\"#B0BEC5\",\"#B0BEC5\"]]}],\"label\":\"Topic 1\",\"method\":\"update\"},{\"args\":[{\"marker.color\":[[\"#B0BEC5\",\"red\",\"#B0BEC5\",\"#B0BEC5\",\"#B0BEC5\",\"#B0BEC5\",\"#B0BEC5\",\"#B0BEC5\",\"#B0BEC5\",\"#B0BEC5\",\"#B0BEC5\",\"#B0BEC5\",\"#B0BEC5\",\"#B0BEC5\",\"#B0BEC5\",\"#B0BEC5\",\"#B0BEC5\",\"#B0BEC5\",\"#B0BEC5\",\"#B0BEC5\",\"#B0BEC5\",\"#B0BEC5\",\"#B0BEC5\",\"#B0BEC5\",\"#B0BEC5\",\"#B0BEC5\",\"#B0BEC5\",\"#B0BEC5\",\"#B0BEC5\",\"#B0BEC5\",\"#B0BEC5\",\"#B0BEC5\",\"#B0BEC5\"]]}],\"label\":\"Topic 2\",\"method\":\"update\"},{\"args\":[{\"marker.color\":[[\"#B0BEC5\",\"#B0BEC5\",\"red\",\"#B0BEC5\",\"#B0BEC5\",\"#B0BEC5\",\"#B0BEC5\",\"#B0BEC5\",\"#B0BEC5\",\"#B0BEC5\",\"#B0BEC5\",\"#B0BEC5\",\"#B0BEC5\",\"#B0BEC5\",\"#B0BEC5\",\"#B0BEC5\",\"#B0BEC5\",\"#B0BEC5\",\"#B0BEC5\",\"#B0BEC5\",\"#B0BEC5\",\"#B0BEC5\",\"#B0BEC5\",\"#B0BEC5\",\"#B0BEC5\",\"#B0BEC5\",\"#B0BEC5\",\"#B0BEC5\",\"#B0BEC5\",\"#B0BEC5\",\"#B0BEC5\",\"#B0BEC5\",\"#B0BEC5\"]]}],\"label\":\"Topic 3\",\"method\":\"update\"},{\"args\":[{\"marker.color\":[[\"#B0BEC5\",\"#B0BEC5\",\"#B0BEC5\",\"red\",\"#B0BEC5\",\"#B0BEC5\",\"#B0BEC5\",\"#B0BEC5\",\"#B0BEC5\",\"#B0BEC5\",\"#B0BEC5\",\"#B0BEC5\",\"#B0BEC5\",\"#B0BEC5\",\"#B0BEC5\",\"#B0BEC5\",\"#B0BEC5\",\"#B0BEC5\",\"#B0BEC5\",\"#B0BEC5\",\"#B0BEC5\",\"#B0BEC5\",\"#B0BEC5\",\"#B0BEC5\",\"#B0BEC5\",\"#B0BEC5\",\"#B0BEC5\",\"#B0BEC5\",\"#B0BEC5\",\"#B0BEC5\",\"#B0BEC5\",\"#B0BEC5\",\"#B0BEC5\"]]}],\"label\":\"Topic 4\",\"method\":\"update\"},{\"args\":[{\"marker.color\":[[\"#B0BEC5\",\"#B0BEC5\",\"#B0BEC5\",\"#B0BEC5\",\"red\",\"#B0BEC5\",\"#B0BEC5\",\"#B0BEC5\",\"#B0BEC5\",\"#B0BEC5\",\"#B0BEC5\",\"#B0BEC5\",\"#B0BEC5\",\"#B0BEC5\",\"#B0BEC5\",\"#B0BEC5\",\"#B0BEC5\",\"#B0BEC5\",\"#B0BEC5\",\"#B0BEC5\",\"#B0BEC5\",\"#B0BEC5\",\"#B0BEC5\",\"#B0BEC5\",\"#B0BEC5\",\"#B0BEC5\",\"#B0BEC5\",\"#B0BEC5\",\"#B0BEC5\",\"#B0BEC5\",\"#B0BEC5\",\"#B0BEC5\",\"#B0BEC5\"]]}],\"label\":\"Topic 5\",\"method\":\"update\"},{\"args\":[{\"marker.color\":[[\"#B0BEC5\",\"#B0BEC5\",\"#B0BEC5\",\"#B0BEC5\",\"#B0BEC5\",\"red\",\"#B0BEC5\",\"#B0BEC5\",\"#B0BEC5\",\"#B0BEC5\",\"#B0BEC5\",\"#B0BEC5\",\"#B0BEC5\",\"#B0BEC5\",\"#B0BEC5\",\"#B0BEC5\",\"#B0BEC5\",\"#B0BEC5\",\"#B0BEC5\",\"#B0BEC5\",\"#B0BEC5\",\"#B0BEC5\",\"#B0BEC5\",\"#B0BEC5\",\"#B0BEC5\",\"#B0BEC5\",\"#B0BEC5\",\"#B0BEC5\",\"#B0BEC5\",\"#B0BEC5\",\"#B0BEC5\",\"#B0BEC5\",\"#B0BEC5\"]]}],\"label\":\"Topic 6\",\"method\":\"update\"},{\"args\":[{\"marker.color\":[[\"#B0BEC5\",\"#B0BEC5\",\"#B0BEC5\",\"#B0BEC5\",\"#B0BEC5\",\"#B0BEC5\",\"red\",\"#B0BEC5\",\"#B0BEC5\",\"#B0BEC5\",\"#B0BEC5\",\"#B0BEC5\",\"#B0BEC5\",\"#B0BEC5\",\"#B0BEC5\",\"#B0BEC5\",\"#B0BEC5\",\"#B0BEC5\",\"#B0BEC5\",\"#B0BEC5\",\"#B0BEC5\",\"#B0BEC5\",\"#B0BEC5\",\"#B0BEC5\",\"#B0BEC5\",\"#B0BEC5\",\"#B0BEC5\",\"#B0BEC5\",\"#B0BEC5\",\"#B0BEC5\",\"#B0BEC5\",\"#B0BEC5\",\"#B0BEC5\"]]}],\"label\":\"Topic 7\",\"method\":\"update\"},{\"args\":[{\"marker.color\":[[\"#B0BEC5\",\"#B0BEC5\",\"#B0BEC5\",\"#B0BEC5\",\"#B0BEC5\",\"#B0BEC5\",\"#B0BEC5\",\"red\",\"#B0BEC5\",\"#B0BEC5\",\"#B0BEC5\",\"#B0BEC5\",\"#B0BEC5\",\"#B0BEC5\",\"#B0BEC5\",\"#B0BEC5\",\"#B0BEC5\",\"#B0BEC5\",\"#B0BEC5\",\"#B0BEC5\",\"#B0BEC5\",\"#B0BEC5\",\"#B0BEC5\",\"#B0BEC5\",\"#B0BEC5\",\"#B0BEC5\",\"#B0BEC5\",\"#B0BEC5\",\"#B0BEC5\",\"#B0BEC5\",\"#B0BEC5\",\"#B0BEC5\",\"#B0BEC5\"]]}],\"label\":\"Topic 8\",\"method\":\"update\"},{\"args\":[{\"marker.color\":[[\"#B0BEC5\",\"#B0BEC5\",\"#B0BEC5\",\"#B0BEC5\",\"#B0BEC5\",\"#B0BEC5\",\"#B0BEC5\",\"#B0BEC5\",\"red\",\"#B0BEC5\",\"#B0BEC5\",\"#B0BEC5\",\"#B0BEC5\",\"#B0BEC5\",\"#B0BEC5\",\"#B0BEC5\",\"#B0BEC5\",\"#B0BEC5\",\"#B0BEC5\",\"#B0BEC5\",\"#B0BEC5\",\"#B0BEC5\",\"#B0BEC5\",\"#B0BEC5\",\"#B0BEC5\",\"#B0BEC5\",\"#B0BEC5\",\"#B0BEC5\",\"#B0BEC5\",\"#B0BEC5\",\"#B0BEC5\",\"#B0BEC5\",\"#B0BEC5\"]]}],\"label\":\"Topic 9\",\"method\":\"update\"},{\"args\":[{\"marker.color\":[[\"#B0BEC5\",\"#B0BEC5\",\"#B0BEC5\",\"#B0BEC5\",\"#B0BEC5\",\"#B0BEC5\",\"#B0BEC5\",\"#B0BEC5\",\"#B0BEC5\",\"red\",\"#B0BEC5\",\"#B0BEC5\",\"#B0BEC5\",\"#B0BEC5\",\"#B0BEC5\",\"#B0BEC5\",\"#B0BEC5\",\"#B0BEC5\",\"#B0BEC5\",\"#B0BEC5\",\"#B0BEC5\",\"#B0BEC5\",\"#B0BEC5\",\"#B0BEC5\",\"#B0BEC5\",\"#B0BEC5\",\"#B0BEC5\",\"#B0BEC5\",\"#B0BEC5\",\"#B0BEC5\",\"#B0BEC5\",\"#B0BEC5\",\"#B0BEC5\"]]}],\"label\":\"Topic 10\",\"method\":\"update\"},{\"args\":[{\"marker.color\":[[\"#B0BEC5\",\"#B0BEC5\",\"#B0BEC5\",\"#B0BEC5\",\"#B0BEC5\",\"#B0BEC5\",\"#B0BEC5\",\"#B0BEC5\",\"#B0BEC5\",\"#B0BEC5\",\"red\",\"#B0BEC5\",\"#B0BEC5\",\"#B0BEC5\",\"#B0BEC5\",\"#B0BEC5\",\"#B0BEC5\",\"#B0BEC5\",\"#B0BEC5\",\"#B0BEC5\",\"#B0BEC5\",\"#B0BEC5\",\"#B0BEC5\",\"#B0BEC5\",\"#B0BEC5\",\"#B0BEC5\",\"#B0BEC5\",\"#B0BEC5\",\"#B0BEC5\",\"#B0BEC5\",\"#B0BEC5\",\"#B0BEC5\",\"#B0BEC5\"]]}],\"label\":\"Topic 11\",\"method\":\"update\"},{\"args\":[{\"marker.color\":[[\"#B0BEC5\",\"#B0BEC5\",\"#B0BEC5\",\"#B0BEC5\",\"#B0BEC5\",\"#B0BEC5\",\"#B0BEC5\",\"#B0BEC5\",\"#B0BEC5\",\"#B0BEC5\",\"#B0BEC5\",\"red\",\"#B0BEC5\",\"#B0BEC5\",\"#B0BEC5\",\"#B0BEC5\",\"#B0BEC5\",\"#B0BEC5\",\"#B0BEC5\",\"#B0BEC5\",\"#B0BEC5\",\"#B0BEC5\",\"#B0BEC5\",\"#B0BEC5\",\"#B0BEC5\",\"#B0BEC5\",\"#B0BEC5\",\"#B0BEC5\",\"#B0BEC5\",\"#B0BEC5\",\"#B0BEC5\",\"#B0BEC5\",\"#B0BEC5\"]]}],\"label\":\"Topic 12\",\"method\":\"update\"},{\"args\":[{\"marker.color\":[[\"#B0BEC5\",\"#B0BEC5\",\"#B0BEC5\",\"#B0BEC5\",\"#B0BEC5\",\"#B0BEC5\",\"#B0BEC5\",\"#B0BEC5\",\"#B0BEC5\",\"#B0BEC5\",\"#B0BEC5\",\"#B0BEC5\",\"red\",\"#B0BEC5\",\"#B0BEC5\",\"#B0BEC5\",\"#B0BEC5\",\"#B0BEC5\",\"#B0BEC5\",\"#B0BEC5\",\"#B0BEC5\",\"#B0BEC5\",\"#B0BEC5\",\"#B0BEC5\",\"#B0BEC5\",\"#B0BEC5\",\"#B0BEC5\",\"#B0BEC5\",\"#B0BEC5\",\"#B0BEC5\",\"#B0BEC5\",\"#B0BEC5\",\"#B0BEC5\"]]}],\"label\":\"Topic 13\",\"method\":\"update\"},{\"args\":[{\"marker.color\":[[\"#B0BEC5\",\"#B0BEC5\",\"#B0BEC5\",\"#B0BEC5\",\"#B0BEC5\",\"#B0BEC5\",\"#B0BEC5\",\"#B0BEC5\",\"#B0BEC5\",\"#B0BEC5\",\"#B0BEC5\",\"#B0BEC5\",\"#B0BEC5\",\"red\",\"#B0BEC5\",\"#B0BEC5\",\"#B0BEC5\",\"#B0BEC5\",\"#B0BEC5\",\"#B0BEC5\",\"#B0BEC5\",\"#B0BEC5\",\"#B0BEC5\",\"#B0BEC5\",\"#B0BEC5\",\"#B0BEC5\",\"#B0BEC5\",\"#B0BEC5\",\"#B0BEC5\",\"#B0BEC5\",\"#B0BEC5\",\"#B0BEC5\",\"#B0BEC5\"]]}],\"label\":\"Topic 14\",\"method\":\"update\"},{\"args\":[{\"marker.color\":[[\"#B0BEC5\",\"#B0BEC5\",\"#B0BEC5\",\"#B0BEC5\",\"#B0BEC5\",\"#B0BEC5\",\"#B0BEC5\",\"#B0BEC5\",\"#B0BEC5\",\"#B0BEC5\",\"#B0BEC5\",\"#B0BEC5\",\"#B0BEC5\",\"#B0BEC5\",\"red\",\"#B0BEC5\",\"#B0BEC5\",\"#B0BEC5\",\"#B0BEC5\",\"#B0BEC5\",\"#B0BEC5\",\"#B0BEC5\",\"#B0BEC5\",\"#B0BEC5\",\"#B0BEC5\",\"#B0BEC5\",\"#B0BEC5\",\"#B0BEC5\",\"#B0BEC5\",\"#B0BEC5\",\"#B0BEC5\",\"#B0BEC5\",\"#B0BEC5\"]]}],\"label\":\"Topic 15\",\"method\":\"update\"},{\"args\":[{\"marker.color\":[[\"#B0BEC5\",\"#B0BEC5\",\"#B0BEC5\",\"#B0BEC5\",\"#B0BEC5\",\"#B0BEC5\",\"#B0BEC5\",\"#B0BEC5\",\"#B0BEC5\",\"#B0BEC5\",\"#B0BEC5\",\"#B0BEC5\",\"#B0BEC5\",\"#B0BEC5\",\"#B0BEC5\",\"red\",\"#B0BEC5\",\"#B0BEC5\",\"#B0BEC5\",\"#B0BEC5\",\"#B0BEC5\",\"#B0BEC5\",\"#B0BEC5\",\"#B0BEC5\",\"#B0BEC5\",\"#B0BEC5\",\"#B0BEC5\",\"#B0BEC5\",\"#B0BEC5\",\"#B0BEC5\",\"#B0BEC5\",\"#B0BEC5\",\"#B0BEC5\"]]}],\"label\":\"Topic 16\",\"method\":\"update\"},{\"args\":[{\"marker.color\":[[\"#B0BEC5\",\"#B0BEC5\",\"#B0BEC5\",\"#B0BEC5\",\"#B0BEC5\",\"#B0BEC5\",\"#B0BEC5\",\"#B0BEC5\",\"#B0BEC5\",\"#B0BEC5\",\"#B0BEC5\",\"#B0BEC5\",\"#B0BEC5\",\"#B0BEC5\",\"#B0BEC5\",\"#B0BEC5\",\"red\",\"#B0BEC5\",\"#B0BEC5\",\"#B0BEC5\",\"#B0BEC5\",\"#B0BEC5\",\"#B0BEC5\",\"#B0BEC5\",\"#B0BEC5\",\"#B0BEC5\",\"#B0BEC5\",\"#B0BEC5\",\"#B0BEC5\",\"#B0BEC5\",\"#B0BEC5\",\"#B0BEC5\",\"#B0BEC5\"]]}],\"label\":\"Topic 17\",\"method\":\"update\"},{\"args\":[{\"marker.color\":[[\"#B0BEC5\",\"#B0BEC5\",\"#B0BEC5\",\"#B0BEC5\",\"#B0BEC5\",\"#B0BEC5\",\"#B0BEC5\",\"#B0BEC5\",\"#B0BEC5\",\"#B0BEC5\",\"#B0BEC5\",\"#B0BEC5\",\"#B0BEC5\",\"#B0BEC5\",\"#B0BEC5\",\"#B0BEC5\",\"#B0BEC5\",\"red\",\"#B0BEC5\",\"#B0BEC5\",\"#B0BEC5\",\"#B0BEC5\",\"#B0BEC5\",\"#B0BEC5\",\"#B0BEC5\",\"#B0BEC5\",\"#B0BEC5\",\"#B0BEC5\",\"#B0BEC5\",\"#B0BEC5\",\"#B0BEC5\",\"#B0BEC5\",\"#B0BEC5\"]]}],\"label\":\"Topic 18\",\"method\":\"update\"},{\"args\":[{\"marker.color\":[[\"#B0BEC5\",\"#B0BEC5\",\"#B0BEC5\",\"#B0BEC5\",\"#B0BEC5\",\"#B0BEC5\",\"#B0BEC5\",\"#B0BEC5\",\"#B0BEC5\",\"#B0BEC5\",\"#B0BEC5\",\"#B0BEC5\",\"#B0BEC5\",\"#B0BEC5\",\"#B0BEC5\",\"#B0BEC5\",\"#B0BEC5\",\"#B0BEC5\",\"red\",\"#B0BEC5\",\"#B0BEC5\",\"#B0BEC5\",\"#B0BEC5\",\"#B0BEC5\",\"#B0BEC5\",\"#B0BEC5\",\"#B0BEC5\",\"#B0BEC5\",\"#B0BEC5\",\"#B0BEC5\",\"#B0BEC5\",\"#B0BEC5\",\"#B0BEC5\"]]}],\"label\":\"Topic 19\",\"method\":\"update\"},{\"args\":[{\"marker.color\":[[\"#B0BEC5\",\"#B0BEC5\",\"#B0BEC5\",\"#B0BEC5\",\"#B0BEC5\",\"#B0BEC5\",\"#B0BEC5\",\"#B0BEC5\",\"#B0BEC5\",\"#B0BEC5\",\"#B0BEC5\",\"#B0BEC5\",\"#B0BEC5\",\"#B0BEC5\",\"#B0BEC5\",\"#B0BEC5\",\"#B0BEC5\",\"#B0BEC5\",\"#B0BEC5\",\"red\",\"#B0BEC5\",\"#B0BEC5\",\"#B0BEC5\",\"#B0BEC5\",\"#B0BEC5\",\"#B0BEC5\",\"#B0BEC5\",\"#B0BEC5\",\"#B0BEC5\",\"#B0BEC5\",\"#B0BEC5\",\"#B0BEC5\",\"#B0BEC5\"]]}],\"label\":\"Topic 20\",\"method\":\"update\"},{\"args\":[{\"marker.color\":[[\"#B0BEC5\",\"#B0BEC5\",\"#B0BEC5\",\"#B0BEC5\",\"#B0BEC5\",\"#B0BEC5\",\"#B0BEC5\",\"#B0BEC5\",\"#B0BEC5\",\"#B0BEC5\",\"#B0BEC5\",\"#B0BEC5\",\"#B0BEC5\",\"#B0BEC5\",\"#B0BEC5\",\"#B0BEC5\",\"#B0BEC5\",\"#B0BEC5\",\"#B0BEC5\",\"#B0BEC5\",\"red\",\"#B0BEC5\",\"#B0BEC5\",\"#B0BEC5\",\"#B0BEC5\",\"#B0BEC5\",\"#B0BEC5\",\"#B0BEC5\",\"#B0BEC5\",\"#B0BEC5\",\"#B0BEC5\",\"#B0BEC5\",\"#B0BEC5\"]]}],\"label\":\"Topic 21\",\"method\":\"update\"},{\"args\":[{\"marker.color\":[[\"#B0BEC5\",\"#B0BEC5\",\"#B0BEC5\",\"#B0BEC5\",\"#B0BEC5\",\"#B0BEC5\",\"#B0BEC5\",\"#B0BEC5\",\"#B0BEC5\",\"#B0BEC5\",\"#B0BEC5\",\"#B0BEC5\",\"#B0BEC5\",\"#B0BEC5\",\"#B0BEC5\",\"#B0BEC5\",\"#B0BEC5\",\"#B0BEC5\",\"#B0BEC5\",\"#B0BEC5\",\"#B0BEC5\",\"red\",\"#B0BEC5\",\"#B0BEC5\",\"#B0BEC5\",\"#B0BEC5\",\"#B0BEC5\",\"#B0BEC5\",\"#B0BEC5\",\"#B0BEC5\",\"#B0BEC5\",\"#B0BEC5\",\"#B0BEC5\"]]}],\"label\":\"Topic 22\",\"method\":\"update\"},{\"args\":[{\"marker.color\":[[\"#B0BEC5\",\"#B0BEC5\",\"#B0BEC5\",\"#B0BEC5\",\"#B0BEC5\",\"#B0BEC5\",\"#B0BEC5\",\"#B0BEC5\",\"#B0BEC5\",\"#B0BEC5\",\"#B0BEC5\",\"#B0BEC5\",\"#B0BEC5\",\"#B0BEC5\",\"#B0BEC5\",\"#B0BEC5\",\"#B0BEC5\",\"#B0BEC5\",\"#B0BEC5\",\"#B0BEC5\",\"#B0BEC5\",\"#B0BEC5\",\"red\",\"#B0BEC5\",\"#B0BEC5\",\"#B0BEC5\",\"#B0BEC5\",\"#B0BEC5\",\"#B0BEC5\",\"#B0BEC5\",\"#B0BEC5\",\"#B0BEC5\",\"#B0BEC5\"]]}],\"label\":\"Topic 23\",\"method\":\"update\"},{\"args\":[{\"marker.color\":[[\"#B0BEC5\",\"#B0BEC5\",\"#B0BEC5\",\"#B0BEC5\",\"#B0BEC5\",\"#B0BEC5\",\"#B0BEC5\",\"#B0BEC5\",\"#B0BEC5\",\"#B0BEC5\",\"#B0BEC5\",\"#B0BEC5\",\"#B0BEC5\",\"#B0BEC5\",\"#B0BEC5\",\"#B0BEC5\",\"#B0BEC5\",\"#B0BEC5\",\"#B0BEC5\",\"#B0BEC5\",\"#B0BEC5\",\"#B0BEC5\",\"#B0BEC5\",\"red\",\"#B0BEC5\",\"#B0BEC5\",\"#B0BEC5\",\"#B0BEC5\",\"#B0BEC5\",\"#B0BEC5\",\"#B0BEC5\",\"#B0BEC5\",\"#B0BEC5\"]]}],\"label\":\"Topic 24\",\"method\":\"update\"},{\"args\":[{\"marker.color\":[[\"#B0BEC5\",\"#B0BEC5\",\"#B0BEC5\",\"#B0BEC5\",\"#B0BEC5\",\"#B0BEC5\",\"#B0BEC5\",\"#B0BEC5\",\"#B0BEC5\",\"#B0BEC5\",\"#B0BEC5\",\"#B0BEC5\",\"#B0BEC5\",\"#B0BEC5\",\"#B0BEC5\",\"#B0BEC5\",\"#B0BEC5\",\"#B0BEC5\",\"#B0BEC5\",\"#B0BEC5\",\"#B0BEC5\",\"#B0BEC5\",\"#B0BEC5\",\"#B0BEC5\",\"red\",\"#B0BEC5\",\"#B0BEC5\",\"#B0BEC5\",\"#B0BEC5\",\"#B0BEC5\",\"#B0BEC5\",\"#B0BEC5\",\"#B0BEC5\"]]}],\"label\":\"Topic 25\",\"method\":\"update\"},{\"args\":[{\"marker.color\":[[\"#B0BEC5\",\"#B0BEC5\",\"#B0BEC5\",\"#B0BEC5\",\"#B0BEC5\",\"#B0BEC5\",\"#B0BEC5\",\"#B0BEC5\",\"#B0BEC5\",\"#B0BEC5\",\"#B0BEC5\",\"#B0BEC5\",\"#B0BEC5\",\"#B0BEC5\",\"#B0BEC5\",\"#B0BEC5\",\"#B0BEC5\",\"#B0BEC5\",\"#B0BEC5\",\"#B0BEC5\",\"#B0BEC5\",\"#B0BEC5\",\"#B0BEC5\",\"#B0BEC5\",\"#B0BEC5\",\"red\",\"#B0BEC5\",\"#B0BEC5\",\"#B0BEC5\",\"#B0BEC5\",\"#B0BEC5\",\"#B0BEC5\",\"#B0BEC5\"]]}],\"label\":\"Topic 26\",\"method\":\"update\"},{\"args\":[{\"marker.color\":[[\"#B0BEC5\",\"#B0BEC5\",\"#B0BEC5\",\"#B0BEC5\",\"#B0BEC5\",\"#B0BEC5\",\"#B0BEC5\",\"#B0BEC5\",\"#B0BEC5\",\"#B0BEC5\",\"#B0BEC5\",\"#B0BEC5\",\"#B0BEC5\",\"#B0BEC5\",\"#B0BEC5\",\"#B0BEC5\",\"#B0BEC5\",\"#B0BEC5\",\"#B0BEC5\",\"#B0BEC5\",\"#B0BEC5\",\"#B0BEC5\",\"#B0BEC5\",\"#B0BEC5\",\"#B0BEC5\",\"#B0BEC5\",\"red\",\"#B0BEC5\",\"#B0BEC5\",\"#B0BEC5\",\"#B0BEC5\",\"#B0BEC5\",\"#B0BEC5\"]]}],\"label\":\"Topic 27\",\"method\":\"update\"},{\"args\":[{\"marker.color\":[[\"#B0BEC5\",\"#B0BEC5\",\"#B0BEC5\",\"#B0BEC5\",\"#B0BEC5\",\"#B0BEC5\",\"#B0BEC5\",\"#B0BEC5\",\"#B0BEC5\",\"#B0BEC5\",\"#B0BEC5\",\"#B0BEC5\",\"#B0BEC5\",\"#B0BEC5\",\"#B0BEC5\",\"#B0BEC5\",\"#B0BEC5\",\"#B0BEC5\",\"#B0BEC5\",\"#B0BEC5\",\"#B0BEC5\",\"#B0BEC5\",\"#B0BEC5\",\"#B0BEC5\",\"#B0BEC5\",\"#B0BEC5\",\"#B0BEC5\",\"red\",\"#B0BEC5\",\"#B0BEC5\",\"#B0BEC5\",\"#B0BEC5\",\"#B0BEC5\"]]}],\"label\":\"Topic 28\",\"method\":\"update\"},{\"args\":[{\"marker.color\":[[\"#B0BEC5\",\"#B0BEC5\",\"#B0BEC5\",\"#B0BEC5\",\"#B0BEC5\",\"#B0BEC5\",\"#B0BEC5\",\"#B0BEC5\",\"#B0BEC5\",\"#B0BEC5\",\"#B0BEC5\",\"#B0BEC5\",\"#B0BEC5\",\"#B0BEC5\",\"#B0BEC5\",\"#B0BEC5\",\"#B0BEC5\",\"#B0BEC5\",\"#B0BEC5\",\"#B0BEC5\",\"#B0BEC5\",\"#B0BEC5\",\"#B0BEC5\",\"#B0BEC5\",\"#B0BEC5\",\"#B0BEC5\",\"#B0BEC5\",\"#B0BEC5\",\"red\",\"#B0BEC5\",\"#B0BEC5\",\"#B0BEC5\",\"#B0BEC5\"]]}],\"label\":\"Topic 29\",\"method\":\"update\"},{\"args\":[{\"marker.color\":[[\"#B0BEC5\",\"#B0BEC5\",\"#B0BEC5\",\"#B0BEC5\",\"#B0BEC5\",\"#B0BEC5\",\"#B0BEC5\",\"#B0BEC5\",\"#B0BEC5\",\"#B0BEC5\",\"#B0BEC5\",\"#B0BEC5\",\"#B0BEC5\",\"#B0BEC5\",\"#B0BEC5\",\"#B0BEC5\",\"#B0BEC5\",\"#B0BEC5\",\"#B0BEC5\",\"#B0BEC5\",\"#B0BEC5\",\"#B0BEC5\",\"#B0BEC5\",\"#B0BEC5\",\"#B0BEC5\",\"#B0BEC5\",\"#B0BEC5\",\"#B0BEC5\",\"#B0BEC5\",\"red\",\"#B0BEC5\",\"#B0BEC5\",\"#B0BEC5\"]]}],\"label\":\"Topic 30\",\"method\":\"update\"},{\"args\":[{\"marker.color\":[[\"#B0BEC5\",\"#B0BEC5\",\"#B0BEC5\",\"#B0BEC5\",\"#B0BEC5\",\"#B0BEC5\",\"#B0BEC5\",\"#B0BEC5\",\"#B0BEC5\",\"#B0BEC5\",\"#B0BEC5\",\"#B0BEC5\",\"#B0BEC5\",\"#B0BEC5\",\"#B0BEC5\",\"#B0BEC5\",\"#B0BEC5\",\"#B0BEC5\",\"#B0BEC5\",\"#B0BEC5\",\"#B0BEC5\",\"#B0BEC5\",\"#B0BEC5\",\"#B0BEC5\",\"#B0BEC5\",\"#B0BEC5\",\"#B0BEC5\",\"#B0BEC5\",\"#B0BEC5\",\"#B0BEC5\",\"red\",\"#B0BEC5\",\"#B0BEC5\"]]}],\"label\":\"Topic 31\",\"method\":\"update\"},{\"args\":[{\"marker.color\":[[\"#B0BEC5\",\"#B0BEC5\",\"#B0BEC5\",\"#B0BEC5\",\"#B0BEC5\",\"#B0BEC5\",\"#B0BEC5\",\"#B0BEC5\",\"#B0BEC5\",\"#B0BEC5\",\"#B0BEC5\",\"#B0BEC5\",\"#B0BEC5\",\"#B0BEC5\",\"#B0BEC5\",\"#B0BEC5\",\"#B0BEC5\",\"#B0BEC5\",\"#B0BEC5\",\"#B0BEC5\",\"#B0BEC5\",\"#B0BEC5\",\"#B0BEC5\",\"#B0BEC5\",\"#B0BEC5\",\"#B0BEC5\",\"#B0BEC5\",\"#B0BEC5\",\"#B0BEC5\",\"#B0BEC5\",\"#B0BEC5\",\"red\",\"#B0BEC5\"]]}],\"label\":\"Topic 32\",\"method\":\"update\"},{\"args\":[{\"marker.color\":[[\"#B0BEC5\",\"#B0BEC5\",\"#B0BEC5\",\"#B0BEC5\",\"#B0BEC5\",\"#B0BEC5\",\"#B0BEC5\",\"#B0BEC5\",\"#B0BEC5\",\"#B0BEC5\",\"#B0BEC5\",\"#B0BEC5\",\"#B0BEC5\",\"#B0BEC5\",\"#B0BEC5\",\"#B0BEC5\",\"#B0BEC5\",\"#B0BEC5\",\"#B0BEC5\",\"#B0BEC5\",\"#B0BEC5\",\"#B0BEC5\",\"#B0BEC5\",\"#B0BEC5\",\"#B0BEC5\",\"#B0BEC5\",\"#B0BEC5\",\"#B0BEC5\",\"#B0BEC5\",\"#B0BEC5\",\"#B0BEC5\",\"#B0BEC5\",\"red\"]]}],\"label\":\"Topic 33\",\"method\":\"update\"}]}],\"shapes\":[{\"line\":{\"color\":\"#CFD8DC\",\"width\":2},\"type\":\"line\",\"x0\":6.156461673974991,\"x1\":6.156461673974991,\"y0\":-7.857136988639832,\"y1\":23.033230781555176},{\"line\":{\"color\":\"#9E9E9E\",\"width\":2},\"type\":\"line\",\"x0\":-4.45276597738266,\"x1\":16.76568932533264,\"y0\":7.588046896457672,\"y1\":7.588046896457672}],\"annotations\":[{\"showarrow\":false,\"text\":\"D1\",\"x\":-4.45276597738266,\"y\":7.588046896457672,\"yshift\":10},{\"showarrow\":false,\"text\":\"D2\",\"x\":6.156461673974991,\"xshift\":10,\"y\":23.033230781555176}]},                        {\"responsive\": true}                    ).then(function(){\n",
       "                            \n",
       "var gd = document.getElementById('0a24cc46-7b58-4881-9312-cadd1ce230d6');\n",
       "var x = new MutationObserver(function (mutations, observer) {{\n",
       "        var display = window.getComputedStyle(gd).display;\n",
       "        if (!display || display === 'none') {{\n",
       "            console.log([gd, 'removed!']);\n",
       "            Plotly.purge(gd);\n",
       "            observer.disconnect();\n",
       "        }}\n",
       "}});\n",
       "\n",
       "// Listen for the removal of the full notebook cells\n",
       "var notebookContainer = gd.closest('#notebook-container');\n",
       "if (notebookContainer) {{\n",
       "    x.observe(notebookContainer, {childList: true});\n",
       "}}\n",
       "\n",
       "// Listen for the clearing of the current output cell\n",
       "var outputEl = gd.closest('.output');\n",
       "if (outputEl) {{\n",
       "    x.observe(outputEl, {childList: true});\n",
       "}}\n",
       "\n",
       "                        })                };                });            </script>        </div>"
      ]
     },
     "metadata": {},
     "output_type": "display_data"
    }
   ],
   "source": [
    "topic_model.visualize_topics()"
   ]
  },
  {
   "cell_type": "code",
   "execution_count": 311,
   "id": "2009d869",
   "metadata": {
    "collapsed": true
   },
   "outputs": [
    {
     "data": {
      "application/vnd.plotly.v1+json": {
       "config": {
        "plotlyServerURL": "https://plot.ly"
       },
       "data": [
        {
         "coloraxis": "coloraxis",
         "hovertemplate": "x: %{x}<br>y: %{y}<br>Similarity Score: %{z}<extra></extra>",
         "name": "0",
         "type": "heatmap",
         "x": [
          "0_de_je_et",
          "1_peur_joie_apprecie",
          "2_vérifier__",
          "3_pas_de_il",
          "4_module_faite_case",
          "5_joie_si_10"
         ],
         "xaxis": "x",
         "y": [
          "0_de_je_et",
          "1_peur_joie_apprecie",
          "2_vérifier__",
          "3_pas_de_il",
          "4_module_faite_case",
          "5_joie_si_10"
         ],
         "yaxis": "y",
         "z": [
          [
           0.9999999999999999,
           0.9950271477973076,
           0.7905873166220112,
           0.6941347789300502,
           0.9978891422421129,
           0.8963137945493682
          ],
          [
           0.9950271477973076,
           0.9999999999999998,
           0.7979434697174932,
           0.6941437564265347,
           0.9945756598037482,
           0.8944942941087999
          ],
          [
           0.7905873166220112,
           0.7979434697174932,
           0.9999999999999993,
           0.5379342043647672,
           0.7936715618113608,
           0.7435667064896742
          ],
          [
           0.6941347789300502,
           0.6941437564265347,
           0.5379342043647672,
           1,
           0.6887265658822609,
           0.6497068680773715
          ],
          [
           0.9978891422421129,
           0.9945756598037482,
           0.7936715618113608,
           0.6887265658822609,
           1,
           0.8950192706239664
          ],
          [
           0.8963137945493682,
           0.8944942941087999,
           0.7435667064896742,
           0.6497068680773715,
           0.8950192706239664,
           1
          ]
         ]
        }
       ],
       "layout": {
        "coloraxis": {
         "colorbar": {
          "title": {
           "text": "Similarity Score"
          }
         },
         "colorscale": [
          [
           0,
           "rgb(247,252,240)"
          ],
          [
           0.125,
           "rgb(224,243,219)"
          ],
          [
           0.25,
           "rgb(204,235,197)"
          ],
          [
           0.375,
           "rgb(168,221,181)"
          ],
          [
           0.5,
           "rgb(123,204,196)"
          ],
          [
           0.625,
           "rgb(78,179,211)"
          ],
          [
           0.75,
           "rgb(43,140,190)"
          ],
          [
           0.875,
           "rgb(8,104,172)"
          ],
          [
           1,
           "rgb(8,64,129)"
          ]
         ]
        },
        "height": 800,
        "hoverlabel": {
         "bgcolor": "white",
         "font": {
          "family": "Rockwell",
          "size": 16
         }
        },
        "legend": {
         "title": {
          "text": "Trend"
         }
        },
        "margin": {
         "t": 60
        },
        "showlegend": true,
        "template": {
         "data": {
          "bar": [
           {
            "error_x": {
             "color": "#2a3f5f"
            },
            "error_y": {
             "color": "#2a3f5f"
            },
            "marker": {
             "line": {
              "color": "#E5ECF6",
              "width": 0.5
             },
             "pattern": {
              "fillmode": "overlay",
              "size": 10,
              "solidity": 0.2
             }
            },
            "type": "bar"
           }
          ],
          "barpolar": [
           {
            "marker": {
             "line": {
              "color": "#E5ECF6",
              "width": 0.5
             },
             "pattern": {
              "fillmode": "overlay",
              "size": 10,
              "solidity": 0.2
             }
            },
            "type": "barpolar"
           }
          ],
          "carpet": [
           {
            "aaxis": {
             "endlinecolor": "#2a3f5f",
             "gridcolor": "white",
             "linecolor": "white",
             "minorgridcolor": "white",
             "startlinecolor": "#2a3f5f"
            },
            "baxis": {
             "endlinecolor": "#2a3f5f",
             "gridcolor": "white",
             "linecolor": "white",
             "minorgridcolor": "white",
             "startlinecolor": "#2a3f5f"
            },
            "type": "carpet"
           }
          ],
          "choropleth": [
           {
            "colorbar": {
             "outlinewidth": 0,
             "ticks": ""
            },
            "type": "choropleth"
           }
          ],
          "contour": [
           {
            "colorbar": {
             "outlinewidth": 0,
             "ticks": ""
            },
            "colorscale": [
             [
              0,
              "#0d0887"
             ],
             [
              0.1111111111111111,
              "#46039f"
             ],
             [
              0.2222222222222222,
              "#7201a8"
             ],
             [
              0.3333333333333333,
              "#9c179e"
             ],
             [
              0.4444444444444444,
              "#bd3786"
             ],
             [
              0.5555555555555556,
              "#d8576b"
             ],
             [
              0.6666666666666666,
              "#ed7953"
             ],
             [
              0.7777777777777778,
              "#fb9f3a"
             ],
             [
              0.8888888888888888,
              "#fdca26"
             ],
             [
              1,
              "#f0f921"
             ]
            ],
            "type": "contour"
           }
          ],
          "contourcarpet": [
           {
            "colorbar": {
             "outlinewidth": 0,
             "ticks": ""
            },
            "type": "contourcarpet"
           }
          ],
          "heatmap": [
           {
            "colorbar": {
             "outlinewidth": 0,
             "ticks": ""
            },
            "colorscale": [
             [
              0,
              "#0d0887"
             ],
             [
              0.1111111111111111,
              "#46039f"
             ],
             [
              0.2222222222222222,
              "#7201a8"
             ],
             [
              0.3333333333333333,
              "#9c179e"
             ],
             [
              0.4444444444444444,
              "#bd3786"
             ],
             [
              0.5555555555555556,
              "#d8576b"
             ],
             [
              0.6666666666666666,
              "#ed7953"
             ],
             [
              0.7777777777777778,
              "#fb9f3a"
             ],
             [
              0.8888888888888888,
              "#fdca26"
             ],
             [
              1,
              "#f0f921"
             ]
            ],
            "type": "heatmap"
           }
          ],
          "heatmapgl": [
           {
            "colorbar": {
             "outlinewidth": 0,
             "ticks": ""
            },
            "colorscale": [
             [
              0,
              "#0d0887"
             ],
             [
              0.1111111111111111,
              "#46039f"
             ],
             [
              0.2222222222222222,
              "#7201a8"
             ],
             [
              0.3333333333333333,
              "#9c179e"
             ],
             [
              0.4444444444444444,
              "#bd3786"
             ],
             [
              0.5555555555555556,
              "#d8576b"
             ],
             [
              0.6666666666666666,
              "#ed7953"
             ],
             [
              0.7777777777777778,
              "#fb9f3a"
             ],
             [
              0.8888888888888888,
              "#fdca26"
             ],
             [
              1,
              "#f0f921"
             ]
            ],
            "type": "heatmapgl"
           }
          ],
          "histogram": [
           {
            "marker": {
             "pattern": {
              "fillmode": "overlay",
              "size": 10,
              "solidity": 0.2
             }
            },
            "type": "histogram"
           }
          ],
          "histogram2d": [
           {
            "colorbar": {
             "outlinewidth": 0,
             "ticks": ""
            },
            "colorscale": [
             [
              0,
              "#0d0887"
             ],
             [
              0.1111111111111111,
              "#46039f"
             ],
             [
              0.2222222222222222,
              "#7201a8"
             ],
             [
              0.3333333333333333,
              "#9c179e"
             ],
             [
              0.4444444444444444,
              "#bd3786"
             ],
             [
              0.5555555555555556,
              "#d8576b"
             ],
             [
              0.6666666666666666,
              "#ed7953"
             ],
             [
              0.7777777777777778,
              "#fb9f3a"
             ],
             [
              0.8888888888888888,
              "#fdca26"
             ],
             [
              1,
              "#f0f921"
             ]
            ],
            "type": "histogram2d"
           }
          ],
          "histogram2dcontour": [
           {
            "colorbar": {
             "outlinewidth": 0,
             "ticks": ""
            },
            "colorscale": [
             [
              0,
              "#0d0887"
             ],
             [
              0.1111111111111111,
              "#46039f"
             ],
             [
              0.2222222222222222,
              "#7201a8"
             ],
             [
              0.3333333333333333,
              "#9c179e"
             ],
             [
              0.4444444444444444,
              "#bd3786"
             ],
             [
              0.5555555555555556,
              "#d8576b"
             ],
             [
              0.6666666666666666,
              "#ed7953"
             ],
             [
              0.7777777777777778,
              "#fb9f3a"
             ],
             [
              0.8888888888888888,
              "#fdca26"
             ],
             [
              1,
              "#f0f921"
             ]
            ],
            "type": "histogram2dcontour"
           }
          ],
          "mesh3d": [
           {
            "colorbar": {
             "outlinewidth": 0,
             "ticks": ""
            },
            "type": "mesh3d"
           }
          ],
          "parcoords": [
           {
            "line": {
             "colorbar": {
              "outlinewidth": 0,
              "ticks": ""
             }
            },
            "type": "parcoords"
           }
          ],
          "pie": [
           {
            "automargin": true,
            "type": "pie"
           }
          ],
          "scatter": [
           {
            "fillpattern": {
             "fillmode": "overlay",
             "size": 10,
             "solidity": 0.2
            },
            "type": "scatter"
           }
          ],
          "scatter3d": [
           {
            "line": {
             "colorbar": {
              "outlinewidth": 0,
              "ticks": ""
             }
            },
            "marker": {
             "colorbar": {
              "outlinewidth": 0,
              "ticks": ""
             }
            },
            "type": "scatter3d"
           }
          ],
          "scattercarpet": [
           {
            "marker": {
             "colorbar": {
              "outlinewidth": 0,
              "ticks": ""
             }
            },
            "type": "scattercarpet"
           }
          ],
          "scattergeo": [
           {
            "marker": {
             "colorbar": {
              "outlinewidth": 0,
              "ticks": ""
             }
            },
            "type": "scattergeo"
           }
          ],
          "scattergl": [
           {
            "marker": {
             "colorbar": {
              "outlinewidth": 0,
              "ticks": ""
             }
            },
            "type": "scattergl"
           }
          ],
          "scattermapbox": [
           {
            "marker": {
             "colorbar": {
              "outlinewidth": 0,
              "ticks": ""
             }
            },
            "type": "scattermapbox"
           }
          ],
          "scatterpolar": [
           {
            "marker": {
             "colorbar": {
              "outlinewidth": 0,
              "ticks": ""
             }
            },
            "type": "scatterpolar"
           }
          ],
          "scatterpolargl": [
           {
            "marker": {
             "colorbar": {
              "outlinewidth": 0,
              "ticks": ""
             }
            },
            "type": "scatterpolargl"
           }
          ],
          "scatterternary": [
           {
            "marker": {
             "colorbar": {
              "outlinewidth": 0,
              "ticks": ""
             }
            },
            "type": "scatterternary"
           }
          ],
          "surface": [
           {
            "colorbar": {
             "outlinewidth": 0,
             "ticks": ""
            },
            "colorscale": [
             [
              0,
              "#0d0887"
             ],
             [
              0.1111111111111111,
              "#46039f"
             ],
             [
              0.2222222222222222,
              "#7201a8"
             ],
             [
              0.3333333333333333,
              "#9c179e"
             ],
             [
              0.4444444444444444,
              "#bd3786"
             ],
             [
              0.5555555555555556,
              "#d8576b"
             ],
             [
              0.6666666666666666,
              "#ed7953"
             ],
             [
              0.7777777777777778,
              "#fb9f3a"
             ],
             [
              0.8888888888888888,
              "#fdca26"
             ],
             [
              1,
              "#f0f921"
             ]
            ],
            "type": "surface"
           }
          ],
          "table": [
           {
            "cells": {
             "fill": {
              "color": "#EBF0F8"
             },
             "line": {
              "color": "white"
             }
            },
            "header": {
             "fill": {
              "color": "#C8D4E3"
             },
             "line": {
              "color": "white"
             }
            },
            "type": "table"
           }
          ]
         },
         "layout": {
          "annotationdefaults": {
           "arrowcolor": "#2a3f5f",
           "arrowhead": 0,
           "arrowwidth": 1
          },
          "autotypenumbers": "strict",
          "coloraxis": {
           "colorbar": {
            "outlinewidth": 0,
            "ticks": ""
           }
          },
          "colorscale": {
           "diverging": [
            [
             0,
             "#8e0152"
            ],
            [
             0.1,
             "#c51b7d"
            ],
            [
             0.2,
             "#de77ae"
            ],
            [
             0.3,
             "#f1b6da"
            ],
            [
             0.4,
             "#fde0ef"
            ],
            [
             0.5,
             "#f7f7f7"
            ],
            [
             0.6,
             "#e6f5d0"
            ],
            [
             0.7,
             "#b8e186"
            ],
            [
             0.8,
             "#7fbc41"
            ],
            [
             0.9,
             "#4d9221"
            ],
            [
             1,
             "#276419"
            ]
           ],
           "sequential": [
            [
             0,
             "#0d0887"
            ],
            [
             0.1111111111111111,
             "#46039f"
            ],
            [
             0.2222222222222222,
             "#7201a8"
            ],
            [
             0.3333333333333333,
             "#9c179e"
            ],
            [
             0.4444444444444444,
             "#bd3786"
            ],
            [
             0.5555555555555556,
             "#d8576b"
            ],
            [
             0.6666666666666666,
             "#ed7953"
            ],
            [
             0.7777777777777778,
             "#fb9f3a"
            ],
            [
             0.8888888888888888,
             "#fdca26"
            ],
            [
             1,
             "#f0f921"
            ]
           ],
           "sequentialminus": [
            [
             0,
             "#0d0887"
            ],
            [
             0.1111111111111111,
             "#46039f"
            ],
            [
             0.2222222222222222,
             "#7201a8"
            ],
            [
             0.3333333333333333,
             "#9c179e"
            ],
            [
             0.4444444444444444,
             "#bd3786"
            ],
            [
             0.5555555555555556,
             "#d8576b"
            ],
            [
             0.6666666666666666,
             "#ed7953"
            ],
            [
             0.7777777777777778,
             "#fb9f3a"
            ],
            [
             0.8888888888888888,
             "#fdca26"
            ],
            [
             1,
             "#f0f921"
            ]
           ]
          },
          "colorway": [
           "#636efa",
           "#EF553B",
           "#00cc96",
           "#ab63fa",
           "#FFA15A",
           "#19d3f3",
           "#FF6692",
           "#B6E880",
           "#FF97FF",
           "#FECB52"
          ],
          "font": {
           "color": "#2a3f5f"
          },
          "geo": {
           "bgcolor": "white",
           "lakecolor": "white",
           "landcolor": "#E5ECF6",
           "showlakes": true,
           "showland": true,
           "subunitcolor": "white"
          },
          "hoverlabel": {
           "align": "left"
          },
          "hovermode": "closest",
          "mapbox": {
           "style": "light"
          },
          "paper_bgcolor": "white",
          "plot_bgcolor": "#E5ECF6",
          "polar": {
           "angularaxis": {
            "gridcolor": "white",
            "linecolor": "white",
            "ticks": ""
           },
           "bgcolor": "#E5ECF6",
           "radialaxis": {
            "gridcolor": "white",
            "linecolor": "white",
            "ticks": ""
           }
          },
          "scene": {
           "xaxis": {
            "backgroundcolor": "#E5ECF6",
            "gridcolor": "white",
            "gridwidth": 2,
            "linecolor": "white",
            "showbackground": true,
            "ticks": "",
            "zerolinecolor": "white"
           },
           "yaxis": {
            "backgroundcolor": "#E5ECF6",
            "gridcolor": "white",
            "gridwidth": 2,
            "linecolor": "white",
            "showbackground": true,
            "ticks": "",
            "zerolinecolor": "white"
           },
           "zaxis": {
            "backgroundcolor": "#E5ECF6",
            "gridcolor": "white",
            "gridwidth": 2,
            "linecolor": "white",
            "showbackground": true,
            "ticks": "",
            "zerolinecolor": "white"
           }
          },
          "shapedefaults": {
           "line": {
            "color": "#2a3f5f"
           }
          },
          "ternary": {
           "aaxis": {
            "gridcolor": "white",
            "linecolor": "white",
            "ticks": ""
           },
           "baxis": {
            "gridcolor": "white",
            "linecolor": "white",
            "ticks": ""
           },
           "bgcolor": "#E5ECF6",
           "caxis": {
            "gridcolor": "white",
            "linecolor": "white",
            "ticks": ""
           }
          },
          "title": {
           "x": 0.05
          },
          "xaxis": {
           "automargin": true,
           "gridcolor": "white",
           "linecolor": "white",
           "ticks": "",
           "title": {
            "standoff": 15
           },
           "zerolinecolor": "white",
           "zerolinewidth": 2
          },
          "yaxis": {
           "automargin": true,
           "gridcolor": "white",
           "linecolor": "white",
           "ticks": "",
           "title": {
            "standoff": 15
           },
           "zerolinecolor": "white",
           "zerolinewidth": 2
          }
         }
        },
        "title": {
         "font": {
          "color": "Black",
          "size": 22
         },
         "text": "<b>Similarity Matrix",
         "x": 0.55,
         "xanchor": "center",
         "y": 0.95,
         "yanchor": "top"
        },
        "width": 800,
        "xaxis": {
         "anchor": "y",
         "constrain": "domain",
         "domain": [
          0,
          1
         ],
         "scaleanchor": "y"
        },
        "yaxis": {
         "anchor": "x",
         "autorange": "reversed",
         "constrain": "domain",
         "domain": [
          0,
          1
         ]
        }
       }
      },
      "text/html": [
       "<div>                            <div id=\"9e03c531-7503-4ab2-bcd4-fe8cbbd093f1\" class=\"plotly-graph-div\" style=\"height:800px; width:800px;\"></div>            <script type=\"text/javascript\">                require([\"plotly\"], function(Plotly) {                    window.PLOTLYENV=window.PLOTLYENV || {};                                    if (document.getElementById(\"9e03c531-7503-4ab2-bcd4-fe8cbbd093f1\")) {                    Plotly.newPlot(                        \"9e03c531-7503-4ab2-bcd4-fe8cbbd093f1\",                        [{\"coloraxis\":\"coloraxis\",\"name\":\"0\",\"x\":[\"0_de_je_et\",\"1_peur_joie_apprecie\",\"2_v\\u00e9rifier__\",\"3_pas_de_il\",\"4_module_faite_case\",\"5_joie_si_10\"],\"y\":[\"0_de_je_et\",\"1_peur_joie_apprecie\",\"2_v\\u00e9rifier__\",\"3_pas_de_il\",\"4_module_faite_case\",\"5_joie_si_10\"],\"z\":[[0.9999999999999999,0.9950271477973076,0.7905873166220112,0.6941347789300502,0.9978891422421129,0.8963137945493682],[0.9950271477973076,0.9999999999999998,0.7979434697174932,0.6941437564265347,0.9945756598037482,0.8944942941087999],[0.7905873166220112,0.7979434697174932,0.9999999999999993,0.5379342043647672,0.7936715618113608,0.7435667064896742],[0.6941347789300502,0.6941437564265347,0.5379342043647672,1.0,0.6887265658822609,0.6497068680773715],[0.9978891422421129,0.9945756598037482,0.7936715618113608,0.6887265658822609,1.0,0.8950192706239664],[0.8963137945493682,0.8944942941087999,0.7435667064896742,0.6497068680773715,0.8950192706239664,1.0]],\"type\":\"heatmap\",\"xaxis\":\"x\",\"yaxis\":\"y\",\"hovertemplate\":\"x: %{x}<br>y: %{y}<br>Similarity Score: %{z}<extra></extra>\"}],                        {\"template\":{\"data\":{\"histogram2dcontour\":[{\"type\":\"histogram2dcontour\",\"colorbar\":{\"outlinewidth\":0,\"ticks\":\"\"},\"colorscale\":[[0.0,\"#0d0887\"],[0.1111111111111111,\"#46039f\"],[0.2222222222222222,\"#7201a8\"],[0.3333333333333333,\"#9c179e\"],[0.4444444444444444,\"#bd3786\"],[0.5555555555555556,\"#d8576b\"],[0.6666666666666666,\"#ed7953\"],[0.7777777777777778,\"#fb9f3a\"],[0.8888888888888888,\"#fdca26\"],[1.0,\"#f0f921\"]]}],\"choropleth\":[{\"type\":\"choropleth\",\"colorbar\":{\"outlinewidth\":0,\"ticks\":\"\"}}],\"histogram2d\":[{\"type\":\"histogram2d\",\"colorbar\":{\"outlinewidth\":0,\"ticks\":\"\"},\"colorscale\":[[0.0,\"#0d0887\"],[0.1111111111111111,\"#46039f\"],[0.2222222222222222,\"#7201a8\"],[0.3333333333333333,\"#9c179e\"],[0.4444444444444444,\"#bd3786\"],[0.5555555555555556,\"#d8576b\"],[0.6666666666666666,\"#ed7953\"],[0.7777777777777778,\"#fb9f3a\"],[0.8888888888888888,\"#fdca26\"],[1.0,\"#f0f921\"]]}],\"heatmap\":[{\"type\":\"heatmap\",\"colorbar\":{\"outlinewidth\":0,\"ticks\":\"\"},\"colorscale\":[[0.0,\"#0d0887\"],[0.1111111111111111,\"#46039f\"],[0.2222222222222222,\"#7201a8\"],[0.3333333333333333,\"#9c179e\"],[0.4444444444444444,\"#bd3786\"],[0.5555555555555556,\"#d8576b\"],[0.6666666666666666,\"#ed7953\"],[0.7777777777777778,\"#fb9f3a\"],[0.8888888888888888,\"#fdca26\"],[1.0,\"#f0f921\"]]}],\"heatmapgl\":[{\"type\":\"heatmapgl\",\"colorbar\":{\"outlinewidth\":0,\"ticks\":\"\"},\"colorscale\":[[0.0,\"#0d0887\"],[0.1111111111111111,\"#46039f\"],[0.2222222222222222,\"#7201a8\"],[0.3333333333333333,\"#9c179e\"],[0.4444444444444444,\"#bd3786\"],[0.5555555555555556,\"#d8576b\"],[0.6666666666666666,\"#ed7953\"],[0.7777777777777778,\"#fb9f3a\"],[0.8888888888888888,\"#fdca26\"],[1.0,\"#f0f921\"]]}],\"contourcarpet\":[{\"type\":\"contourcarpet\",\"colorbar\":{\"outlinewidth\":0,\"ticks\":\"\"}}],\"contour\":[{\"type\":\"contour\",\"colorbar\":{\"outlinewidth\":0,\"ticks\":\"\"},\"colorscale\":[[0.0,\"#0d0887\"],[0.1111111111111111,\"#46039f\"],[0.2222222222222222,\"#7201a8\"],[0.3333333333333333,\"#9c179e\"],[0.4444444444444444,\"#bd3786\"],[0.5555555555555556,\"#d8576b\"],[0.6666666666666666,\"#ed7953\"],[0.7777777777777778,\"#fb9f3a\"],[0.8888888888888888,\"#fdca26\"],[1.0,\"#f0f921\"]]}],\"surface\":[{\"type\":\"surface\",\"colorbar\":{\"outlinewidth\":0,\"ticks\":\"\"},\"colorscale\":[[0.0,\"#0d0887\"],[0.1111111111111111,\"#46039f\"],[0.2222222222222222,\"#7201a8\"],[0.3333333333333333,\"#9c179e\"],[0.4444444444444444,\"#bd3786\"],[0.5555555555555556,\"#d8576b\"],[0.6666666666666666,\"#ed7953\"],[0.7777777777777778,\"#fb9f3a\"],[0.8888888888888888,\"#fdca26\"],[1.0,\"#f0f921\"]]}],\"mesh3d\":[{\"type\":\"mesh3d\",\"colorbar\":{\"outlinewidth\":0,\"ticks\":\"\"}}],\"scatter\":[{\"fillpattern\":{\"fillmode\":\"overlay\",\"size\":10,\"solidity\":0.2},\"type\":\"scatter\"}],\"parcoords\":[{\"type\":\"parcoords\",\"line\":{\"colorbar\":{\"outlinewidth\":0,\"ticks\":\"\"}}}],\"scatterpolargl\":[{\"type\":\"scatterpolargl\",\"marker\":{\"colorbar\":{\"outlinewidth\":0,\"ticks\":\"\"}}}],\"bar\":[{\"error_x\":{\"color\":\"#2a3f5f\"},\"error_y\":{\"color\":\"#2a3f5f\"},\"marker\":{\"line\":{\"color\":\"#E5ECF6\",\"width\":0.5},\"pattern\":{\"fillmode\":\"overlay\",\"size\":10,\"solidity\":0.2}},\"type\":\"bar\"}],\"scattergeo\":[{\"type\":\"scattergeo\",\"marker\":{\"colorbar\":{\"outlinewidth\":0,\"ticks\":\"\"}}}],\"scatterpolar\":[{\"type\":\"scatterpolar\",\"marker\":{\"colorbar\":{\"outlinewidth\":0,\"ticks\":\"\"}}}],\"histogram\":[{\"marker\":{\"pattern\":{\"fillmode\":\"overlay\",\"size\":10,\"solidity\":0.2}},\"type\":\"histogram\"}],\"scattergl\":[{\"type\":\"scattergl\",\"marker\":{\"colorbar\":{\"outlinewidth\":0,\"ticks\":\"\"}}}],\"scatter3d\":[{\"type\":\"scatter3d\",\"line\":{\"colorbar\":{\"outlinewidth\":0,\"ticks\":\"\"}},\"marker\":{\"colorbar\":{\"outlinewidth\":0,\"ticks\":\"\"}}}],\"scattermapbox\":[{\"type\":\"scattermapbox\",\"marker\":{\"colorbar\":{\"outlinewidth\":0,\"ticks\":\"\"}}}],\"scatterternary\":[{\"type\":\"scatterternary\",\"marker\":{\"colorbar\":{\"outlinewidth\":0,\"ticks\":\"\"}}}],\"scattercarpet\":[{\"type\":\"scattercarpet\",\"marker\":{\"colorbar\":{\"outlinewidth\":0,\"ticks\":\"\"}}}],\"carpet\":[{\"aaxis\":{\"endlinecolor\":\"#2a3f5f\",\"gridcolor\":\"white\",\"linecolor\":\"white\",\"minorgridcolor\":\"white\",\"startlinecolor\":\"#2a3f5f\"},\"baxis\":{\"endlinecolor\":\"#2a3f5f\",\"gridcolor\":\"white\",\"linecolor\":\"white\",\"minorgridcolor\":\"white\",\"startlinecolor\":\"#2a3f5f\"},\"type\":\"carpet\"}],\"table\":[{\"cells\":{\"fill\":{\"color\":\"#EBF0F8\"},\"line\":{\"color\":\"white\"}},\"header\":{\"fill\":{\"color\":\"#C8D4E3\"},\"line\":{\"color\":\"white\"}},\"type\":\"table\"}],\"barpolar\":[{\"marker\":{\"line\":{\"color\":\"#E5ECF6\",\"width\":0.5},\"pattern\":{\"fillmode\":\"overlay\",\"size\":10,\"solidity\":0.2}},\"type\":\"barpolar\"}],\"pie\":[{\"automargin\":true,\"type\":\"pie\"}]},\"layout\":{\"autotypenumbers\":\"strict\",\"colorway\":[\"#636efa\",\"#EF553B\",\"#00cc96\",\"#ab63fa\",\"#FFA15A\",\"#19d3f3\",\"#FF6692\",\"#B6E880\",\"#FF97FF\",\"#FECB52\"],\"font\":{\"color\":\"#2a3f5f\"},\"hovermode\":\"closest\",\"hoverlabel\":{\"align\":\"left\"},\"paper_bgcolor\":\"white\",\"plot_bgcolor\":\"#E5ECF6\",\"polar\":{\"bgcolor\":\"#E5ECF6\",\"angularaxis\":{\"gridcolor\":\"white\",\"linecolor\":\"white\",\"ticks\":\"\"},\"radialaxis\":{\"gridcolor\":\"white\",\"linecolor\":\"white\",\"ticks\":\"\"}},\"ternary\":{\"bgcolor\":\"#E5ECF6\",\"aaxis\":{\"gridcolor\":\"white\",\"linecolor\":\"white\",\"ticks\":\"\"},\"baxis\":{\"gridcolor\":\"white\",\"linecolor\":\"white\",\"ticks\":\"\"},\"caxis\":{\"gridcolor\":\"white\",\"linecolor\":\"white\",\"ticks\":\"\"}},\"coloraxis\":{\"colorbar\":{\"outlinewidth\":0,\"ticks\":\"\"}},\"colorscale\":{\"sequential\":[[0.0,\"#0d0887\"],[0.1111111111111111,\"#46039f\"],[0.2222222222222222,\"#7201a8\"],[0.3333333333333333,\"#9c179e\"],[0.4444444444444444,\"#bd3786\"],[0.5555555555555556,\"#d8576b\"],[0.6666666666666666,\"#ed7953\"],[0.7777777777777778,\"#fb9f3a\"],[0.8888888888888888,\"#fdca26\"],[1.0,\"#f0f921\"]],\"sequentialminus\":[[0.0,\"#0d0887\"],[0.1111111111111111,\"#46039f\"],[0.2222222222222222,\"#7201a8\"],[0.3333333333333333,\"#9c179e\"],[0.4444444444444444,\"#bd3786\"],[0.5555555555555556,\"#d8576b\"],[0.6666666666666666,\"#ed7953\"],[0.7777777777777778,\"#fb9f3a\"],[0.8888888888888888,\"#fdca26\"],[1.0,\"#f0f921\"]],\"diverging\":[[0,\"#8e0152\"],[0.1,\"#c51b7d\"],[0.2,\"#de77ae\"],[0.3,\"#f1b6da\"],[0.4,\"#fde0ef\"],[0.5,\"#f7f7f7\"],[0.6,\"#e6f5d0\"],[0.7,\"#b8e186\"],[0.8,\"#7fbc41\"],[0.9,\"#4d9221\"],[1,\"#276419\"]]},\"xaxis\":{\"gridcolor\":\"white\",\"linecolor\":\"white\",\"ticks\":\"\",\"title\":{\"standoff\":15},\"zerolinecolor\":\"white\",\"automargin\":true,\"zerolinewidth\":2},\"yaxis\":{\"gridcolor\":\"white\",\"linecolor\":\"white\",\"ticks\":\"\",\"title\":{\"standoff\":15},\"zerolinecolor\":\"white\",\"automargin\":true,\"zerolinewidth\":2},\"scene\":{\"xaxis\":{\"backgroundcolor\":\"#E5ECF6\",\"gridcolor\":\"white\",\"linecolor\":\"white\",\"showbackground\":true,\"ticks\":\"\",\"zerolinecolor\":\"white\",\"gridwidth\":2},\"yaxis\":{\"backgroundcolor\":\"#E5ECF6\",\"gridcolor\":\"white\",\"linecolor\":\"white\",\"showbackground\":true,\"ticks\":\"\",\"zerolinecolor\":\"white\",\"gridwidth\":2},\"zaxis\":{\"backgroundcolor\":\"#E5ECF6\",\"gridcolor\":\"white\",\"linecolor\":\"white\",\"showbackground\":true,\"ticks\":\"\",\"zerolinecolor\":\"white\",\"gridwidth\":2}},\"shapedefaults\":{\"line\":{\"color\":\"#2a3f5f\"}},\"annotationdefaults\":{\"arrowcolor\":\"#2a3f5f\",\"arrowhead\":0,\"arrowwidth\":1},\"geo\":{\"bgcolor\":\"white\",\"landcolor\":\"#E5ECF6\",\"subunitcolor\":\"white\",\"showland\":true,\"showlakes\":true,\"lakecolor\":\"white\"},\"title\":{\"x\":0.05},\"mapbox\":{\"style\":\"light\"}}},\"xaxis\":{\"anchor\":\"y\",\"domain\":[0.0,1.0],\"scaleanchor\":\"y\",\"constrain\":\"domain\"},\"yaxis\":{\"anchor\":\"x\",\"domain\":[0.0,1.0],\"autorange\":\"reversed\",\"constrain\":\"domain\"},\"coloraxis\":{\"colorbar\":{\"title\":{\"text\":\"Similarity Score\"}},\"colorscale\":[[0.0,\"rgb(247,252,240)\"],[0.125,\"rgb(224,243,219)\"],[0.25,\"rgb(204,235,197)\"],[0.375,\"rgb(168,221,181)\"],[0.5,\"rgb(123,204,196)\"],[0.625,\"rgb(78,179,211)\"],[0.75,\"rgb(43,140,190)\"],[0.875,\"rgb(8,104,172)\"],[1.0,\"rgb(8,64,129)\"]]},\"margin\":{\"t\":60},\"title\":{\"font\":{\"size\":22,\"color\":\"Black\"},\"text\":\"<b>Similarity Matrix\",\"y\":0.95,\"x\":0.55,\"xanchor\":\"center\",\"yanchor\":\"top\"},\"hoverlabel\":{\"font\":{\"size\":16,\"family\":\"Rockwell\"},\"bgcolor\":\"white\"},\"width\":800,\"height\":800,\"showlegend\":true,\"legend\":{\"title\":{\"text\":\"Trend\"}}},                        {\"responsive\": true}                    ).then(function(){\n",
       "                            \n",
       "var gd = document.getElementById('9e03c531-7503-4ab2-bcd4-fe8cbbd093f1');\n",
       "var x = new MutationObserver(function (mutations, observer) {{\n",
       "        var display = window.getComputedStyle(gd).display;\n",
       "        if (!display || display === 'none') {{\n",
       "            console.log([gd, 'removed!']);\n",
       "            Plotly.purge(gd);\n",
       "            observer.disconnect();\n",
       "        }}\n",
       "}});\n",
       "\n",
       "// Listen for the removal of the full notebook cells\n",
       "var notebookContainer = gd.closest('#notebook-container');\n",
       "if (notebookContainer) {{\n",
       "    x.observe(notebookContainer, {childList: true});\n",
       "}}\n",
       "\n",
       "// Listen for the clearing of the current output cell\n",
       "var outputEl = gd.closest('.output');\n",
       "if (outputEl) {{\n",
       "    x.observe(outputEl, {childList: true});\n",
       "}}\n",
       "\n",
       "                        })                };                });            </script>        </div>"
      ]
     },
     "metadata": {},
     "output_type": "display_data"
    }
   ],
   "source": [
    "topic_model.visualize_heatmap()"
   ]
  }
 ],
 "metadata": {
  "kernelspec": {
   "display_name": "Python 3 (ipykernel)",
   "language": "python",
   "name": "python3"
  },
  "language_info": {
   "codemirror_mode": {
    "name": "ipython",
    "version": 3
   },
   "file_extension": ".py",
   "mimetype": "text/x-python",
   "name": "python",
   "nbconvert_exporter": "python",
   "pygments_lexer": "ipython3",
   "version": "3.7.13"
  }
 },
 "nbformat": 4,
 "nbformat_minor": 5
}
